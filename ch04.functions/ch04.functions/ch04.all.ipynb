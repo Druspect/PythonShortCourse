{
 "cells": [
  {
   "cell_type": "markdown",
   "id": "c7c10676",
   "metadata": {
    "slideshow": {
     "slide_type": "slide"
    }
   },
   "source": [
    "# 4. Functions"
   ]
  },
  {
   "cell_type": "markdown",
   "id": "cdc2a0d7",
   "metadata": {
    "slideshow": {
     "slide_type": "slide"
    }
   },
   "source": [
    "### Objectives \n",
    "* Create custom functions.\n",
    "* Import and use Python Standard Library modules, such as `random` and `math`, to reuse code and avoid “reinventing the wheel.”\n",
    "* Pass data between functions.\n",
    "* Generate a range of random numbers. "
   ]
  },
  {
   "cell_type": "markdown",
   "id": "d3f6ad2c",
   "metadata": {
    "slideshow": {
     "slide_type": "slide"
    }
   },
   "source": [
    "### Objectives (cont.)\n",
    "* Learn simulation techniques using random-number generation.\n",
    "* Seed the random number generator to ensure reproducibility.\n",
    "* Pack values into a tuple and unpack values from a tuple.\n",
    "* Return multiple values from a function via a tuple.\n",
    "* Understand how an identifier’s scope determines where in your program you can use it."
   ]
  },
  {
   "cell_type": "markdown",
   "id": "6489f9d3",
   "metadata": {
    "slideshow": {
     "slide_type": "slide"
    }
   },
   "source": [
    "### Objectives (cont.)\n",
    "* Create functions with default parameter values.\n",
    "* Call functions with keyword arguments.\n",
    "* Create functions that can receive any number of arguments.\n",
    "* Use methods of an object."
   ]
  },
  {
   "cell_type": "markdown",
   "id": "2983c4ed",
   "metadata": {
    "slideshow": {
     "slide_type": "slide"
    }
   },
   "source": [
    "### Outline\n",
    "* [4.1   \tIntroduction](04_01.ipynb)\n",
    "* [4.2   \tDefining Functions](04_02.ipynb)\n",
    "* [4.3   \tFunctions with Multiple Parameters](04_03.ipynb)\n",
    "* [4.4   \tRandom-Number Generation](04_04.ipynb)\n",
    "* [4.5   \tCase Study: A Game of Chance](04_05.ipynb)\n",
    "* [4.6   \tPython Standard Library](04_06.ipynb)\n",
    "* [4.7   \t`math` Module Functions](04_07.ipynb)\n",
    "* [4.8   \tUsing IPython Tab Completion for Discovery](04_08.ipynb)\n",
    "* [4.9   \tDefault Parameter Values](04_09.ipynb)\n",
    "* [4.10   \tKeyword Arguments](04_10.ipynb)\n",
    "* [4.11   \tArbitrary Argument Lists](04_11.ipynb)\n",
    "* [4.12   \tMethods: Functions That Belong to Objects](04_12.ipynb)\n",
    "* [4.13   \tScope Rules](04_13.ipynb)\n",
    "* [4.14   \timport: A Deeper Look](04_14.ipynb)\n",
    "* [4.15   \tPassing Arguments to Functions: A Deeper Look](04_15.ipynb)\n",
    "* [4.16   \tFunction-Call Stack](04_16.ipynb)\n",
    "* [4.17   \tFunctional-Style Programming](04_17.ipynb)\n",
    "* [4.18   \tIntro to Data Science: Measures of Dispersion](04_18.ipynb)\n",
    "* 4.19   \tWrap-Up\n",
    "* Exercises\n"
   ]
  },
  {
   "cell_type": "markdown",
   "id": "4d9582ef",
   "metadata": {},
   "source": [
    "# 4.2 Defining Functions\n",
    "* `square` function that calculates the square of its argument."
   ]
  },
  {
   "cell_type": "code",
   "execution_count": 1,
   "id": "3b2197b9",
   "metadata": {},
   "outputs": [],
   "source": [
    "def square(number):\n",
    "    \"\"\"Calculate the square of number.\"\"\"\n",
    "    return number ** 2"
   ]
  },
  {
   "cell_type": "code",
   "execution_count": 2,
   "id": "5498eef2",
   "metadata": {},
   "outputs": [
    {
     "data": {
      "text/plain": [
       "49"
      ]
     },
     "execution_count": 2,
     "metadata": {},
     "output_type": "execute_result"
    }
   ],
   "source": [
    "square(7)"
   ]
  },
  {
   "cell_type": "code",
   "execution_count": 3,
   "id": "c4754422",
   "metadata": {},
   "outputs": [
    {
     "data": {
      "text/plain": [
       "6.25"
      ]
     },
     "execution_count": 3,
     "metadata": {},
     "output_type": "execute_result"
    }
   ],
   "source": [
    "square(2.5)"
   ]
  },
  {
   "cell_type": "markdown",
   "id": "f59f342f",
   "metadata": {},
   "source": [
    "* Calling `square` with a non-numeric argument like `'hello'` causes a `TypeError` because the exponentiation operator (`**`) works only with numeric values"
   ]
  },
  {
   "cell_type": "markdown",
   "id": "856a1a1f",
   "metadata": {},
   "source": [
    "### Defining a Custom Function\n",
    "* Definition begins with the (**`def` keyword**, followed by the function name, a set of parentheses and a colon (`:`). \n",
    "* By convention function names should begin with a lowercase letter and in multiword names underscores should separate each word. \n",
    "* Required parentheses contain the function’s **parameter list**.\n",
    "* Empty parentheses mean no parameters. \n",
    "* The indented lines after the colon (`:`) are the function’s **block**\n",
    "    * Consists of an optional docstring followed by the statements that perform the function’s task."
   ]
  },
  {
   "cell_type": "markdown",
   "id": "cbe70036",
   "metadata": {},
   "source": [
    "### Specifying a Custom Function’s Docstring \n",
    "* _Style Guide for Python Code_: First line in a function’s block should be a docstring that briefly explains the function’s purpose."
   ]
  },
  {
   "cell_type": "markdown",
   "id": "37265705",
   "metadata": {},
   "source": [
    "### Returning a Result to a Function’s Caller\n",
    "* Function calls also can be embedded in expressions:"
   ]
  },
  {
   "cell_type": "code",
   "execution_count": 4,
   "id": "36069c58",
   "metadata": {},
   "outputs": [
    {
     "name": "stdout",
     "output_type": "stream",
     "text": [
      "The square of 7 is 49\n"
     ]
    }
   ],
   "source": [
    "print('The square of 7 is', square(7))"
   ]
  },
  {
   "cell_type": "markdown",
   "id": "c283f053",
   "metadata": {},
   "source": [
    "* Three Ways to Return a Result to a Function’s Caller\n",
    "    * **`return`** followed by an expression.\n",
    "    * **`return`** without an expression implicitly returns **`None`**&mdash;represents the **absence of a value** and **evaluates to `False` in conditions**.\n",
    "    * **No `return` statement implicitly returns `None`**.\n"
   ]
  },
  {
   "cell_type": "markdown",
   "id": "094454e8",
   "metadata": {},
   "source": [
    "### What Happens When You Call a Function\n",
    "* Parameters exist only during the function call. \n",
    "* Created on each call to the function to receive arguments.\n",
    "* Destroyed when the function returns its result to the caller. \n",
    "* A function’s parameters and variables defined in its block are all **local variables**."
   ]
  },
  {
   "cell_type": "markdown",
   "id": "18fd388e",
   "metadata": {},
   "source": [
    "### Accessing a Function’s Docstring Via IPython’s Help Mechanism \n",
    "* Following a function's name with `?` in IPython displays its docstring:"
   ]
  },
  {
   "cell_type": "code",
   "execution_count": 5,
   "id": "8db93a20",
   "metadata": {},
   "outputs": [
    {
     "data": {
      "text/plain": [
       "\u001b[0;31mSignature:\u001b[0m \u001b[0msquare\u001b[0m\u001b[0;34m(\u001b[0m\u001b[0mnumber\u001b[0m\u001b[0;34m)\u001b[0m\u001b[0;34m\u001b[0m\u001b[0;34m\u001b[0m\u001b[0m\n",
       "\u001b[0;31mDocstring:\u001b[0m Calculate the square of number.\n",
       "\u001b[0;31mFile:\u001b[0m      ~/Dropbox/books/2019/Python/PyCDS_JupyterSlides/ch04/<ipython-input-1-7d5dc51751d0>\n",
       "\u001b[0;31mType:\u001b[0m      function\n"
      ]
     },
     "metadata": {},
     "output_type": "display_data"
    }
   ],
   "source": [
    "square?"
   ]
  },
  {
   "cell_type": "markdown",
   "id": "6256ae3d",
   "metadata": {},
   "source": [
    "* If the function’s source code is accessible from IPython, `??` displays the function’s docstring and full source-code definition:"
   ]
  },
  {
   "cell_type": "code",
   "execution_count": 6,
   "id": "687f5f3b",
   "metadata": {},
   "outputs": [
    {
     "data": {
      "text/plain": [
       "\u001b[0;31mSignature:\u001b[0m \u001b[0msquare\u001b[0m\u001b[0;34m(\u001b[0m\u001b[0mnumber\u001b[0m\u001b[0;34m)\u001b[0m\u001b[0;34m\u001b[0m\u001b[0;34m\u001b[0m\u001b[0m\n",
       "\u001b[0;31mSource:\u001b[0m   \n",
       "\u001b[0;32mdef\u001b[0m \u001b[0msquare\u001b[0m\u001b[0;34m(\u001b[0m\u001b[0mnumber\u001b[0m\u001b[0;34m)\u001b[0m\u001b[0;34m:\u001b[0m\u001b[0;34m\u001b[0m\n",
       "\u001b[0;34m\u001b[0m    \u001b[0;34m\"\"\"Calculate the square of number.\"\"\"\u001b[0m\u001b[0;34m\u001b[0m\n",
       "\u001b[0;34m\u001b[0m    \u001b[0;32mreturn\u001b[0m \u001b[0mnumber\u001b[0m \u001b[0;34m**\u001b[0m \u001b[0;36m2\u001b[0m\u001b[0;34m\u001b[0m\u001b[0;34m\u001b[0m\u001b[0m\n",
       "\u001b[0;31mFile:\u001b[0m      ~/Dropbox/books/2019/Python/PyCDS_JupyterSlides/ch04/<ipython-input-1-7d5dc51751d0>\n",
       "\u001b[0;31mType:\u001b[0m      function\n"
      ]
     },
     "metadata": {},
     "output_type": "display_data"
    }
   ],
   "source": [
    "square??"
   ]
  },
  {
   "cell_type": "markdown",
   "id": "0eace2f4",
   "metadata": {},
   "source": [
    "# 4.3 Functions with Multiple Parameters\n",
    "* `maximum` function that determines and returns the largest of three values."
   ]
  },
  {
   "cell_type": "code",
   "execution_count": 1,
   "id": "bd9c414e",
   "metadata": {},
   "outputs": [],
   "source": [
    "def maximum(value1, value2, value3):\n",
    "    \"\"\"Return the maximum of three values.\"\"\"\n",
    "    max_value = value1\n",
    "    if value2 > max_value:\n",
    "        max_value = value2\n",
    "    if value3 > max_value:\n",
    "        max_value = value3\n",
    "    return max_value"
   ]
  },
  {
   "cell_type": "code",
   "execution_count": 2,
   "id": "66631e08",
   "metadata": {},
   "outputs": [
    {
     "data": {
      "text/plain": [
       "36"
      ]
     },
     "execution_count": 2,
     "metadata": {},
     "output_type": "execute_result"
    }
   ],
   "source": [
    "maximum(12, 27, 36)"
   ]
  },
  {
   "cell_type": "code",
   "execution_count": 3,
   "id": "d5cef6eb",
   "metadata": {},
   "outputs": [
    {
     "data": {
      "text/plain": [
       "45.6"
      ]
     },
     "execution_count": 3,
     "metadata": {},
     "output_type": "execute_result"
    }
   ],
   "source": [
    "maximum(12.3, 45.6, 9.7)"
   ]
  },
  {
   "cell_type": "code",
   "execution_count": 4,
   "id": "ac192ca8",
   "metadata": {},
   "outputs": [
    {
     "data": {
      "text/plain": [
       "'yellow'"
      ]
     },
     "execution_count": 4,
     "metadata": {},
     "output_type": "execute_result"
    }
   ],
   "source": [
    "maximum('yellow', 'red', 'orange')"
   ]
  },
  {
   "cell_type": "markdown",
   "id": "87218eea",
   "metadata": {},
   "source": [
    "* We did not place blank lines above and below the `if` statements, because pressing return on a blank line in interactive mode completes the function’s definition.\n",
    "* May call maximum with mixed types, such as `int`s and `float`s."
   ]
  },
  {
   "cell_type": "code",
   "execution_count": 5,
   "id": "941ad173",
   "metadata": {},
   "outputs": [
    {
     "data": {
      "text/plain": [
       "13.5"
      ]
     },
     "execution_count": 5,
     "metadata": {},
     "output_type": "execute_result"
    }
   ],
   "source": [
    "maximum(13.5, -3, 7)"
   ]
  },
  {
   "cell_type": "markdown",
   "id": "542b74ea",
   "metadata": {},
   "source": [
    "### Function maximum’s Definition\n",
    "* Specify multiple parameters in a comma-separated list.\n",
    "* To determine the largest value:\n",
    "    * Assume that `value1` contains the largest value. \n",
    "    * The first `if` statement then tests `value2 > max_value`, and if this condition is `True` assigns `value2` to `max_value`. \n",
    "    * The second `if` statement then tests `value3 > max_value`, and if this condition is `True` assigns `value3` to `max_value`. \n",
    "* Now, `max_value` contains the largest value."
   ]
  },
  {
   "cell_type": "markdown",
   "id": "666e5604",
   "metadata": {},
   "source": [
    "### Python’s Built-In max and min Functions\n",
    "* For many common tasks, the capabilities you need already exist in Python. \n",
    "* Built-in `max` and `min` functions know how to determine the largest and smallest of their two or more arguments:"
   ]
  },
  {
   "cell_type": "code",
   "execution_count": 6,
   "id": "6cd8b4ea",
   "metadata": {},
   "outputs": [
    {
     "data": {
      "text/plain": [
       "'yellow'"
      ]
     },
     "execution_count": 6,
     "metadata": {},
     "output_type": "execute_result"
    }
   ],
   "source": [
    "max('yellow', 'red', 'orange', 'blue', 'green')"
   ]
  },
  {
   "cell_type": "code",
   "execution_count": 7,
   "id": "7a1f83ff",
   "metadata": {},
   "outputs": [
    {
     "data": {
      "text/plain": [
       "9"
      ]
     },
     "execution_count": 7,
     "metadata": {},
     "output_type": "execute_result"
    }
   ],
   "source": [
    "min(15, 9, 27, 14)"
   ]
  },
  {
   "cell_type": "markdown",
   "id": "d5cde68c",
   "metadata": {},
   "source": [
    "* Each also can receive an iterable argument, such as a list or a string. \n",
    "* Using built-in functions or functions from the Python Standard Library’s modules rather than writing your own can reduce development time and increase program reliability, portability and performance. \n",
    "* [Python’s built-in functions and modules](https://docs.python.org/3/library/index.html)"
   ]
  },
  {
   "cell_type": "markdown",
   "id": "b9c1f67c",
   "metadata": {},
   "source": [
    "# 4.4 Random-Number Generation\n",
    "* Can introduce the element of chance via the Python Standard Library’s `random` module. "
   ]
  },
  {
   "cell_type": "markdown",
   "id": "9ac07864",
   "metadata": {},
   "source": [
    "### Rolling a Six-Sided Die\n",
    "* Product 10 random integers in the range 1–6 to simulate rolling a six-sided die:"
   ]
  },
  {
   "cell_type": "code",
   "execution_count": 1,
   "id": "bac840e4",
   "metadata": {},
   "outputs": [],
   "source": [
    "import random"
   ]
  },
  {
   "cell_type": "code",
   "execution_count": 2,
   "id": "0a7908f0",
   "metadata": {},
   "outputs": [
    {
     "name": "stdout",
     "output_type": "stream",
     "text": [
      "2 4 1 5 1 4 3 6 4 5 "
     ]
    }
   ],
   "source": [
    "for roll in range(10):\n",
    "    print(random.randrange(1, 7), end=' ')"
   ]
  },
  {
   "cell_type": "markdown",
   "id": "c6d63250",
   "metadata": {},
   "source": [
    "* `randrange` function generates an integer from the first argument value up to, but not including, the second argument value.\n",
    "* Different values are displayed if you re-execute the loop."
   ]
  },
  {
   "cell_type": "code",
   "execution_count": 3,
   "id": "62c71b55",
   "metadata": {},
   "outputs": [
    {
     "name": "stdout",
     "output_type": "stream",
     "text": [
      "6 5 5 1 3 4 1 5 5 2 "
     ]
    }
   ],
   "source": [
    "for roll in range(10):\n",
    "    print(random.randrange(1, 7), end=' ')"
   ]
  },
  {
   "cell_type": "markdown",
   "id": "4bf62da2",
   "metadata": {},
   "source": [
    "* Can guarantee **reproducibility** of a random sequence with the `random` module’s `seed` function.  "
   ]
  },
  {
   "cell_type": "markdown",
   "id": "39b02bca",
   "metadata": {},
   "source": [
    "### Rolling a Six-Sided Die 6,000,000 Times\n",
    "* If `randrange` truly produces integers at random, every number in its range has an equal probability (or chance or likelihood) of being returned each time we call it. \n",
    "* Roll a die 6,000,000 times.\n",
    "* Each die face should occur approximately 1,000,000 times.\n",
    "* We used Python’s underscore (_) digit separator to make the value 6000000 more readable. "
   ]
  },
  {
   "cell_type": "markdown",
   "id": "aba75807",
   "metadata": {},
   "source": [
    "```python\n",
    "### Rolling a Six-Sided Die 6,000,000 Times\n",
    "\n",
    "# fig04_01.py\n",
    "\"\"\"Roll a six-sided die 6,000,000 times.\"\"\"\n",
    "import random\n",
    "\n",
    "# face frequency counters\n",
    "frequency1 = 0\n",
    "frequency2 = 0\n",
    "frequency3 = 0\n",
    "frequency4 = 0\n",
    "frequency5 = 0\n",
    "frequency6 = 0\n",
    "\n",
    "# 6,000,000 die rolls\n",
    "for roll in range(6_000_000):  # note underscore separators\n",
    "    face = random.randrange(1, 7)\n",
    "\n",
    "    # increment appropriate face counter\n",
    "    if face == 1:\n",
    "        frequency1 += 1\n",
    "    elif face == 2:\n",
    "        frequency2 += 1\n",
    "    elif face == 3:\n",
    "        frequency3 += 1\n",
    "    elif face == 4:\n",
    "        frequency4 += 1\n",
    "    elif face == 5:\n",
    "        frequency5 += 1\n",
    "    elif face == 6:\n",
    "        frequency6 += 1\n",
    "\n",
    "print(f'Face{\"Frequency\":>13}')\n",
    "print(f'{1:>4}{frequency1:>13}')\n",
    "print(f'{2:>4}{frequency2:>13}')\n",
    "print(f'{3:>4}{frequency3:>13}')\n",
    "print(f'{4:>4}{frequency4:>13}')\n",
    "print(f'{5:>4}{frequency5:>13}')\n",
    "print(f'{6:>4}{frequency6:>13}')\n",
    "```"
   ]
  },
  {
   "cell_type": "code",
   "execution_count": 4,
   "id": "06a000d4",
   "metadata": {
    "scrolled": true
   },
   "outputs": [
    {
     "name": "stdout",
     "output_type": "stream",
     "text": [
      "Face    Frequency\n",
      "   1       999952\n",
      "   2       999497\n",
      "   3      1001044\n",
      "   4      1000356\n",
      "   5      1000563\n",
      "   6       998588\n"
     ]
    }
   ],
   "source": [
    "run fig04_01.py"
   ]
  },
  {
   "cell_type": "markdown",
   "id": "a821aa91",
   "metadata": {},
   "source": [
    "### Seeding the Random-Number Generator for Reproducibility\n",
    "* Function `randrange` generates pseudorandom numbers. \n",
    "* Numbers appear to be random, because each time you start a new interactive session or execute a script that uses the random module’s functions, Python internally uses a different seed value. \n",
    "* When you’re debugging logic errors in programs that use randomly generated data, it can be helpful to use the same sequence of random numbers. \n",
    "* To do this, use the random module’s `seed` function to seed the random-number generator:"
   ]
  },
  {
   "cell_type": "code",
   "execution_count": 5,
   "id": "a5902082",
   "metadata": {},
   "outputs": [],
   "source": [
    "random.seed(32)"
   ]
  },
  {
   "cell_type": "code",
   "execution_count": 6,
   "id": "a3f87589",
   "metadata": {},
   "outputs": [
    {
     "name": "stdout",
     "output_type": "stream",
     "text": [
      "1 2 2 3 6 2 4 1 6 1 "
     ]
    }
   ],
   "source": [
    "for roll in range(10):\n",
    "    print(random.randrange(1, 7), end=' ')"
   ]
  },
  {
   "cell_type": "code",
   "execution_count": 7,
   "id": "f4c3503a",
   "metadata": {},
   "outputs": [
    {
     "name": "stdout",
     "output_type": "stream",
     "text": [
      "1 3 5 3 1 5 6 4 3 5 "
     ]
    }
   ],
   "source": [
    "for roll in range(10):\n",
    "    print(random.randrange(1, 7), end=' ')"
   ]
  },
  {
   "cell_type": "code",
   "execution_count": 8,
   "id": "89e49f20",
   "metadata": {},
   "outputs": [],
   "source": [
    "random.seed(32)"
   ]
  },
  {
   "cell_type": "code",
   "execution_count": 9,
   "id": "86b3c9d6",
   "metadata": {},
   "outputs": [
    {
     "name": "stdout",
     "output_type": "stream",
     "text": [
      "1 2 2 3 6 2 4 1 6 1 "
     ]
    }
   ],
   "source": [
    "for roll in range(10):\n",
    "    print(random.randrange(1, 7), end=' ')"
   ]
  },
  {
   "cell_type": "markdown",
   "id": "e5941110",
   "metadata": {},
   "source": [
    "# 4.5 Case Study: A Game of Chance\n",
    "* Requirements statement:\n",
    ">You roll two six-sided dice, each with faces containing one, two, three, four, five and six spots, respectively. When the dice come to rest, the sum of the spots on the two upward faces is calculated. If the sum is 7 or 11 on the first roll, you win. If the sum is 2, 3 or 12 on the first roll (called “craps”), you lose (i.e., the “house” wins). If the sum is 4, 5, 6, 8, 9 or 10 on the first roll, that sum becomes your “point.” To win, you must continue rolling the dice until you “make your point” (i.e., roll that same point value). You lose by rolling a 7 before making your point.\n",
    "* Script that simulates the game:"
   ]
  },
  {
   "cell_type": "markdown",
   "id": "fcb8a40e",
   "metadata": {},
   "source": [
    "```python\n",
    "# fig04_02.py\n",
    "\"\"\"Simulating the dice game Craps.\"\"\"\n",
    "import random\n",
    "\n",
    "def roll_dice():\n",
    "    \"\"\"Roll two dice and return their face values as a tuple.\"\"\"\n",
    "    die1 = random.randrange(1, 7)\n",
    "    die2 = random.randrange(1, 7)\n",
    "    return (die1, die2)  # pack die face values into a tuple\n",
    "\n",
    "def display_dice(dice):\n",
    "    \"\"\"Display one roll of the two dice.\"\"\"\n",
    "    die1, die2 = dice  # unpack the tuple into variables die1 and die2\n",
    "    print(f'Player rolled {die1} + {die2} = {sum(dice)}')\n",
    "\n",
    "die_values = roll_dice()  # first roll\n",
    "display_dice(die_values)\n",
    "\n",
    "# determine game status and point, based on first roll\n",
    "sum_of_dice = sum(die_values)\n",
    "\n",
    "if sum_of_dice in (7, 11):  # win\n",
    "    game_status = 'WON'\n",
    "elif sum_of_dice in (2, 3, 12):  # lose\n",
    "    game_status = 'LOST'\n",
    "else:  # remember point\n",
    "    game_status = 'CONTINUE'\n",
    "    my_point = sum_of_dice\n",
    "    print('Point is', my_point)\n",
    "\n",
    "# continue rolling until player wins or loses\n",
    "while game_status == 'CONTINUE':\n",
    "    die_values = roll_dice()\n",
    "    display_dice(die_values)\n",
    "    sum_of_dice = sum(die_values)\n",
    "\n",
    "    if sum_of_dice == my_point:  # win by making point\n",
    "        game_status = 'WON'\n",
    "    elif sum_of_dice == 7:  # lose by rolling 7\n",
    "        game_status = 'LOST'\n",
    "\n",
    "# display \"wins\" or \"loses\" message\n",
    "if game_status == 'WON':\n",
    "    print('Player wins')\n",
    "else:\n",
    "    print('Player loses')\n",
    "```"
   ]
  },
  {
   "cell_type": "code",
   "execution_count": 1,
   "id": "dfef39af",
   "metadata": {},
   "outputs": [
    {
     "name": "stdout",
     "output_type": "stream",
     "text": [
      "Player rolled 5 + 4 = 9\n",
      "Point is 9\n",
      "Player rolled 6 + 3 = 9\n",
      "Player wins\n"
     ]
    }
   ],
   "source": [
    "run fig04_02.py"
   ]
  },
  {
   "cell_type": "code",
   "execution_count": 2,
   "id": "3f7132df",
   "metadata": {},
   "outputs": [
    {
     "name": "stdout",
     "output_type": "stream",
     "text": [
      "Player rolled 6 + 6 = 12\n",
      "Player loses\n"
     ]
    }
   ],
   "source": [
    "run fig04_02.py"
   ]
  },
  {
   "cell_type": "code",
   "execution_count": 3,
   "id": "2f36e059",
   "metadata": {},
   "outputs": [
    {
     "name": "stdout",
     "output_type": "stream",
     "text": [
      "Player rolled 4 + 3 = 7\n",
      "Player wins\n"
     ]
    }
   ],
   "source": [
    "run fig04_02.py"
   ]
  },
  {
   "cell_type": "code",
   "execution_count": 5,
   "id": "10c28ee2",
   "metadata": {},
   "outputs": [
    {
     "name": "stdout",
     "output_type": "stream",
     "text": [
      "Player rolled 1 + 5 = 6\n",
      "Point is 6\n",
      "Player rolled 5 + 4 = 9\n",
      "Player rolled 6 + 3 = 9\n",
      "Player rolled 1 + 6 = 7\n",
      "Player loses\n"
     ]
    }
   ],
   "source": [
    "run fig04_02.py"
   ]
  },
  {
   "cell_type": "markdown",
   "id": "d0864496",
   "metadata": {},
   "source": [
    "### Function `roll_dice`—Returning Multiple Values Via a Tuple\n",
    "* Simulates rolling two dice on each roll. \n",
    "* Sometimes it’s useful to return more than one value, as in `roll_dice`, which returns both die values as a **tuple**—an immutable sequences of values. \n",
    "* To create a tuple, separate its values with commas&mdash;known as **packing a tuple**. \n",
    "* Parentheses are optional, but we recommend using them for clarity. "
   ]
  },
  {
   "cell_type": "markdown",
   "id": "3bdbd080",
   "metadata": {},
   "source": [
    "### Function `display_dice`\n",
    "* Assigning a tuple to a comma-separated list of variables **unpacks the tuple**. \n",
    "* Number of variables to the left of `=` must match the number of elements in the tuple; otherwise, a `ValueError occurs`."
   ]
  },
  {
   "cell_type": "markdown",
   "id": "e503fe43",
   "metadata": {},
   "source": [
    "### First Roll\n",
    "* When the script begins executing, we roll the dice and display the results. \n",
    "* You can win or lose on the first roll or any subsequent roll&mdash;`game_status` keeps track of the win/loss status.\n",
    "* The `in` operator in the following expression tests whether the tuple `(7, 11)` contains `sum_of_dice`’s value\n",
    "```python\n",
    "sum_of_dice in (7, 11)\n",
    "```\n",
    "* The operator’s right operand can be any iterable. \n",
    "* The preceding concise condition is equivalent to\n",
    "```python\n",
    "(sum_of_dice == 7) or (sum_of_dice == 11) \n",
    "```"
   ]
  },
  {
   "cell_type": "markdown",
   "id": "369912da",
   "metadata": {},
   "source": [
    "### Subsequent Rolls \n"
   ]
  },
  {
   "cell_type": "markdown",
   "id": "d6348b7e",
   "metadata": {},
   "source": [
    "### Displaying the Final Results \n"
   ]
  },
  {
   "cell_type": "markdown",
   "id": "94b3db68",
   "metadata": {},
   "source": [
    "# 4.7 `math` Module Functions\n",
    "* The **`math` module** defines functions for performing various common mathematical calculations. "
   ]
  },
  {
   "cell_type": "code",
   "execution_count": null,
   "id": "e82900f7",
   "metadata": {},
   "outputs": [],
   "source": [
    "import math"
   ]
  },
  {
   "cell_type": "code",
   "execution_count": null,
   "id": "506b6fe6",
   "metadata": {},
   "outputs": [],
   "source": [
    "math.sqrt(900)"
   ]
  },
  {
   "cell_type": "code",
   "execution_count": null,
   "id": "c3884e3a",
   "metadata": {},
   "outputs": [],
   "source": [
    "math.fabs(-10)"
   ]
  },
  {
   "cell_type": "markdown",
   "id": "f3feb639",
   "metadata": {},
   "source": [
    "* Some `math` module functions are summarized below\n",
    "* [View the complete list](https://docs.python.org/3/library/math.html)"
   ]
  },
  {
   "cell_type": "markdown",
   "id": "d5a70cb5",
   "metadata": {},
   "source": [
    "Function&nbsp;&nbsp;&nbsp;&nbsp;&nbsp;&nbsp;&nbsp;&nbsp;&nbsp;&nbsp;| Description | Example &nbsp;&nbsp;&nbsp;&nbsp;&nbsp;&nbsp;&nbsp;&nbsp;&nbsp;&nbsp;&nbsp;&nbsp;&nbsp;&nbsp;&nbsp;&nbsp;&nbsp;&nbsp;&nbsp;&nbsp;&nbsp;&nbsp;\n",
    ":------- | :------- | :--------\n",
    "`ceil(`x`)`\t| Rounds x to the smallest integer not less than x\t| `ceil(9.2) is 10.0`, `ceil(-9.8) is -9.0`\n",
    "`floor(`x`)`\t| Rounds x to the largest integer not greater than x\t| `floor(9.2) is 9.0`, `floor(-9.8) is -10.0`\n",
    "`sin(`x`)`\t| Trigonometric sine of x (x in radians)\t| `sin(0.0) is 0.0`\n",
    "`cos(`x`)`\t| Trigonometric cosine of x (x in radians)\t| `cos(0.0) is 1.0`\n",
    "`tan(`x`)` \t| Trigonometric tangent of x (x in radians)\t| `tan(0.0) is 0.0`\n",
    "`exp(`x`)`\t| Exponential function e<sup>x</sup>\t| `exp(1.0) is 2.718282`, `exp(2.0) is 7.389056`\n",
    "`log(`x`)`\t| Natural logarithm of x (base e)\t| `log(2.718282) is 1.0`, `log(7.389056) is 2.0`\n",
    "`log10(`x`)`\t| Logarithm of x (base 10)\t| `log10(10.0) is 1.0`, `log10(100.0) is 2.0`\n",
    "`pow(`x, y`)`\t| x raised to power y (x<sup>y</sup>)\t| `pow(2.0, 7.0) is 128.0`, `pow(9.0, .5) is 3.0`\n",
    "`sqrt(`x`)`\t| square root of x\t| `sqrt(900.0) is 30.0`, `sqrt(9.0) is 3.0`\n",
    "`fabs(`x`)`\t| Absolute value of x—always returns a float. Python also has the built-in function `abs`, which returns an `int` or a `float`, based on its argument.\t| `fabs(5.1) is 5.1`, `fabs(-5.1) is 5.1` \n",
    "`fmod(`x, y`)`\t| Remainder of x/y as a floating-point number\t| `fmod(9.8, 4.0) is 1.8`"
   ]
  },
  {
   "cell_type": "markdown",
   "id": "10a52c2a",
   "metadata": {},
   "source": [
    "# 4.9 Default Parameter Values\n",
    "* You can specify that a parameter has a **default parameter value**. \n",
    "* When calling the function, if you omit the argument for a parameter with a default parameter value, the default value for that parameter is automatically passed. "
   ]
  },
  {
   "cell_type": "code",
   "execution_count": null,
   "id": "5691c5dc",
   "metadata": {},
   "outputs": [],
   "source": [
    "def rectangle_area(length=2, width=3):\n",
    "    \"\"\"Return a rectangle's area.\"\"\"\n",
    "    return length * width"
   ]
  },
  {
   "cell_type": "markdown",
   "id": "ca6ba360",
   "metadata": {},
   "source": [
    "* Specify a default parameter value by following a parameter’s name with an `=` and a value. \n",
    "* Any parameters with default parameter values must appear in the parameter list to the _right_ of parameters that do not have defaults. "
   ]
  },
  {
   "cell_type": "code",
   "execution_count": null,
   "id": "b90bf299",
   "metadata": {},
   "outputs": [],
   "source": [
    "rectangle_area()"
   ]
  },
  {
   "cell_type": "code",
   "execution_count": null,
   "id": "53a0323a",
   "metadata": {},
   "outputs": [],
   "source": [
    "rectangle_area(10)"
   ]
  },
  {
   "cell_type": "code",
   "execution_count": null,
   "id": "68978d6f",
   "metadata": {},
   "outputs": [],
   "source": [
    "rectangle_area(10, 5)"
   ]
  },
  {
   "cell_type": "markdown",
   "id": "0eb125c2",
   "metadata": {},
   "source": [
    "# 4.10 Keyword Arguments\n",
    "* When calling functions, you can use **keyword arguments** to pass arguments in `any` order."
   ]
  },
  {
   "cell_type": "code",
   "execution_count": null,
   "id": "029cbcfc",
   "metadata": {},
   "outputs": [],
   "source": [
    "def rectangle_area(length, width):\n",
    "    \"\"\"Return a rectangle's area.\"\"\"\n",
    "    return length * width"
   ]
  },
  {
   "cell_type": "markdown",
   "id": "e499e77b",
   "metadata": {},
   "source": [
    "* Each keyword _argument in a call_ has the form _parametername=value_. \n",
    "* Order of keyword arguments does not matter."
   ]
  },
  {
   "cell_type": "code",
   "execution_count": null,
   "id": "83c51e2f",
   "metadata": {},
   "outputs": [],
   "source": [
    "rectangle_area(width=5, length=10)"
   ]
  },
  {
   "cell_type": "markdown",
   "id": "939b4b45",
   "metadata": {},
   "source": [
    "# 4.11 Arbitrary Argument Lists\n",
    "* Functions with **arbitrary argument lists**, such as built-in functions `min` and `max`, can receive _any_ number of arguments. \n",
    "* Function `min`'s documentation states that `min` has two _required_ parameters (named `arg1` and `arg2`) and an optional third parameter of the form **`*args`**, indicating that the function can receive any number of additional arguments. \n",
    "* The `*` before the parameter name tells Python to pack any remaining arguments into a tuple that’s passed to the `args` parameter."
   ]
  },
  {
   "cell_type": "markdown",
   "id": "b326beb5",
   "metadata": {},
   "source": [
    "### Defining a Function with an Arbitrary Argument List\n",
    "* `average` function that can receive any number of arguments."
   ]
  },
  {
   "cell_type": "code",
   "execution_count": null,
   "id": "8ba8a71f",
   "metadata": {},
   "outputs": [],
   "source": [
    "def average(*args):\n",
    "    return sum(args) / len(args)"
   ]
  },
  {
   "cell_type": "markdown",
   "id": "67ddfa46",
   "metadata": {},
   "source": [
    "* The `*args` parameter must be the _rightmost_ parameter. "
   ]
  },
  {
   "cell_type": "code",
   "execution_count": null,
   "id": "894b7366",
   "metadata": {},
   "outputs": [],
   "source": [
    "average(5, 10)"
   ]
  },
  {
   "cell_type": "code",
   "execution_count": null,
   "id": "418dabc2",
   "metadata": {},
   "outputs": [],
   "source": [
    "average(5, 10, 15)"
   ]
  },
  {
   "cell_type": "code",
   "execution_count": null,
   "id": "37528ade",
   "metadata": {},
   "outputs": [],
   "source": [
    "average(5, 10, 15, 20)"
   ]
  },
  {
   "cell_type": "markdown",
   "id": "104c376f",
   "metadata": {},
   "source": [
    "### Passing an Iterable’s Individual Elements as Function Arguments \n",
    "* Can unpack a tuple’s, list’s or other iterable’s elements to pass them as individual function arguments. \n",
    "* The **`*` operator**, when applied to an iterable argument in a function call, unpacks its elements. "
   ]
  },
  {
   "cell_type": "code",
   "execution_count": null,
   "id": "cae7d611",
   "metadata": {},
   "outputs": [],
   "source": [
    "grades = [88, 75, 96, 55, 83]"
   ]
  },
  {
   "cell_type": "code",
   "execution_count": null,
   "id": "4ef3482c",
   "metadata": {},
   "outputs": [],
   "source": [
    "average(*grades)"
   ]
  },
  {
   "cell_type": "markdown",
   "id": "8999e54e",
   "metadata": {},
   "source": [
    "* Equivalent to `average(88, 75, 96, 55, 83)`."
   ]
  },
  {
   "cell_type": "markdown",
   "id": "45446afe",
   "metadata": {},
   "source": [
    "# 4.12 Methods: Functions That Belong to Objects\n",
    "* A **method** is simply a function that you call on an object using the form \n",
    "```\n",
    "object_name.method_name(arguments)\n",
    "```"
   ]
  },
  {
   "cell_type": "code",
   "execution_count": null,
   "id": "33f83d4b",
   "metadata": {},
   "outputs": [],
   "source": [
    "s = 'Hello'"
   ]
  },
  {
   "cell_type": "code",
   "execution_count": null,
   "id": "62efc389",
   "metadata": {},
   "outputs": [],
   "source": [
    "s.lower()  # call lower method on string object s"
   ]
  },
  {
   "cell_type": "code",
   "execution_count": null,
   "id": "4fc1b1b0",
   "metadata": {},
   "outputs": [],
   "source": [
    "s.upper()"
   ]
  },
  {
   "cell_type": "code",
   "execution_count": null,
   "id": "ff044eb6",
   "metadata": {},
   "outputs": [],
   "source": [
    "s"
   ]
  },
  {
   "cell_type": "markdown",
   "id": "e8414481",
   "metadata": {},
   "source": [
    "# 4.13 Scope Rules\n",
    "* Each identifier has a `scope` that determines where you can use it in your program.\n",
    "* [Complete scope details](https://docs.python.org/3/tutorial/classes.html#python-scopes-and-namespaces)."
   ]
  },
  {
   "cell_type": "markdown",
   "id": "93f2c173",
   "metadata": {},
   "source": [
    "### Local Scope\n",
    "* A local variable’s identifier has **local scope**. "
   ]
  },
  {
   "cell_type": "markdown",
   "id": "6b845d82",
   "metadata": {},
   "source": [
    "### Global Scope\n",
    "* Identifiers defined outside any function (or class) have **global scope**—these may include functions, variables and classes."
   ]
  },
  {
   "cell_type": "markdown",
   "id": "713188ae",
   "metadata": {},
   "source": [
    "### Accessing a Global Variable from a Function "
   ]
  },
  {
   "cell_type": "code",
   "execution_count": null,
   "id": "9c9922a0",
   "metadata": {},
   "outputs": [],
   "source": [
    "x = 7"
   ]
  },
  {
   "cell_type": "code",
   "execution_count": null,
   "id": "7fa9fc27",
   "metadata": {},
   "outputs": [],
   "source": [
    "def access_global():\n",
    "    print('x printed from access_global:', x)"
   ]
  },
  {
   "cell_type": "code",
   "execution_count": null,
   "id": "6ecec697",
   "metadata": {},
   "outputs": [],
   "source": [
    "access_global()"
   ]
  },
  {
   "cell_type": "markdown",
   "id": "6cc5617e",
   "metadata": {},
   "source": [
    "* By default, you cannot _modify_ a global variable in a function\n",
    "* Python creates a **new local variable** when you first assign a value to a variable in a function’s block.\n",
    "* In function `try_to_modify_global`’s block, the local `x` **shadows** the global `x`, making it inaccessible in the scope of the function’s block. "
   ]
  },
  {
   "cell_type": "code",
   "execution_count": null,
   "id": "f7c0ba9a",
   "metadata": {},
   "outputs": [],
   "source": [
    "def try_to_modify_global():\n",
    "    x = 3.5\n",
    "    print('x printed from try_to_modify_global:', x)"
   ]
  },
  {
   "cell_type": "code",
   "execution_count": null,
   "id": "a3ba4669",
   "metadata": {},
   "outputs": [],
   "source": [
    "try_to_modify_global()"
   ]
  },
  {
   "cell_type": "code",
   "execution_count": null,
   "id": "6339400d",
   "metadata": {},
   "outputs": [],
   "source": [
    "x"
   ]
  },
  {
   "cell_type": "markdown",
   "id": "03ba0dad",
   "metadata": {},
   "source": [
    "* To modify a global variable in a function’s block, you must use a **`global`** statement to declare that the variable is defined in the global scope:"
   ]
  },
  {
   "cell_type": "code",
   "execution_count": null,
   "id": "acf9579b",
   "metadata": {},
   "outputs": [],
   "source": [
    "def modify_global():\n",
    "    global x;\n",
    "    x = 'hello'\n",
    "    print('x printed from modify_global:', x)\n",
    "    "
   ]
  },
  {
   "cell_type": "code",
   "execution_count": null,
   "id": "27d9793b",
   "metadata": {},
   "outputs": [],
   "source": [
    "modify_global()"
   ]
  },
  {
   "cell_type": "code",
   "execution_count": null,
   "id": "fe1027c5",
   "metadata": {},
   "outputs": [],
   "source": [
    "x"
   ]
  },
  {
   "cell_type": "markdown",
   "id": "991e3f03",
   "metadata": {},
   "source": [
    "### Blocks vs. Suites \n",
    "* When you create a variable in a block, it’s _local_ to that block.\n",
    "* When you create a variable in a control statement’s suite, the variable’s scope depends on where the control statement is defined:\n",
    "    * If it's in the global scope, any variables defined in the control statement have **global scope**.\n",
    "    * If it's in a function’s block, any variables defined in the control statement have **local scope**."
   ]
  },
  {
   "cell_type": "markdown",
   "id": "b98afce0",
   "metadata": {},
   "source": [
    "### Shadowing Functions\n",
    "* In the preceding chapters, when summing values, we stored the sum in a variable named `total`. \n",
    "* If you define a variable named `sum`, it _shadows_ the built-in function `sum`, making it inaccessible in your code. "
   ]
  },
  {
   "cell_type": "code",
   "execution_count": null,
   "id": "d0e92058",
   "metadata": {},
   "outputs": [],
   "source": [
    "sum = 10 + 5"
   ]
  },
  {
   "cell_type": "code",
   "execution_count": null,
   "id": "cbbb7b5e",
   "metadata": {},
   "outputs": [],
   "source": [
    "sum"
   ]
  },
  {
   "cell_type": "code",
   "execution_count": null,
   "id": "9eac9ea2",
   "metadata": {},
   "outputs": [],
   "source": [
    "sum([10, 5])"
   ]
  },
  {
   "cell_type": "markdown",
   "id": "aec8012f",
   "metadata": {},
   "source": [
    "### Statements at Global Scope \n",
    "* Script statements at global scope execute as soon as they’re encountered by the interpreter, whereas statements in a block execute only when the function is called. "
   ]
  },
  {
   "cell_type": "markdown",
   "id": "23ff9f66",
   "metadata": {},
   "source": [
    "# 4.14 `import`: A Deeper Look"
   ]
  },
  {
   "cell_type": "markdown",
   "id": "681259ef",
   "metadata": {},
   "source": [
    "### Importing Multiple Identifiers from a Module\n",
    "* Use `from…import` to import a comma-separated list of identifiers from a module then use them without having to precede them with the module name and a dot (`.`):"
   ]
  },
  {
   "cell_type": "code",
   "execution_count": null,
   "id": "a8fe43e1",
   "metadata": {},
   "outputs": [],
   "source": [
    "from math import ceil, floor"
   ]
  },
  {
   "cell_type": "code",
   "execution_count": null,
   "id": "87877c5e",
   "metadata": {},
   "outputs": [],
   "source": [
    "ceil(10.3)"
   ]
  },
  {
   "cell_type": "code",
   "execution_count": null,
   "id": "927fdea8",
   "metadata": {},
   "outputs": [],
   "source": [
    "floor(10.7)"
   ]
  },
  {
   "cell_type": "markdown",
   "id": "d079fb32",
   "metadata": {},
   "source": [
    "### Caution: Avoid Wildcard Imports \n",
    "* Import _all_ identifiers defined in a module with a **wildcard** **`import`**.\n",
    "* Makes all of the module’s identifiers available. \n",
    "* Can lead to subtle errors.\n",
    "* Considered a dangerous practice. "
   ]
  },
  {
   "cell_type": "code",
   "execution_count": null,
   "id": "f7400039",
   "metadata": {},
   "outputs": [],
   "source": [
    "e = 'hello'"
   ]
  },
  {
   "cell_type": "code",
   "execution_count": null,
   "id": "27561938",
   "metadata": {},
   "outputs": [],
   "source": [
    "from math import *"
   ]
  },
  {
   "cell_type": "code",
   "execution_count": null,
   "id": "99a6c4ff",
   "metadata": {},
   "outputs": [],
   "source": [
    "e"
   ]
  },
  {
   "cell_type": "markdown",
   "id": "4d754c90",
   "metadata": {},
   "source": [
    "* After executing the import, variable `e` is replaced, possibly by accident, with the `math` module’s constant `e`."
   ]
  },
  {
   "cell_type": "markdown",
   "id": "8eb83c3a",
   "metadata": {},
   "source": [
    "### Binding Names for Modules and Module Identifiers\n",
    "* Sometimes it’s helpful to import a module and use an abbreviation for it to simplify your code. \n",
    "* The `import` statement’s **`as`** clause allows you to specify the name used to reference the module’s identifiers. \n"
   ]
  },
  {
   "cell_type": "code",
   "execution_count": null,
   "id": "11d80dd0",
   "metadata": {},
   "outputs": [],
   "source": [
    "import statistics as stats"
   ]
  },
  {
   "cell_type": "code",
   "execution_count": null,
   "id": "9a7ab964",
   "metadata": {},
   "outputs": [],
   "source": [
    "grades = [85, 93, 45, 87, 93]"
   ]
  },
  {
   "cell_type": "code",
   "execution_count": null,
   "id": "68426ac2",
   "metadata": {},
   "outputs": [],
   "source": [
    "stats.mean(grades)"
   ]
  },
  {
   "cell_type": "markdown",
   "id": "e445be39",
   "metadata": {},
   "source": [
    "# 4.15 Passing Arguments to Functions: A Deeper Look \n",
    "* **Python arguments are always passed by reference**. \n",
    "* Some people call this **pass-by-object-reference**, because “everything in Python is an object.” \n",
    "* When a function call provides an argument, Python copies the argument object’s _reference_—not the object itself—into the corresponding parameter."
   ]
  },
  {
   "cell_type": "markdown",
   "id": "bbc9bb7f",
   "metadata": {},
   "source": [
    "### Memory Addresses, References and “Pointers”\n",
    "* After an assignment like the following, the variable `x` contains a reference to an _object_ containing `7` stored _elsewhere_ in memory."
   ]
  },
  {
   "cell_type": "markdown",
   "id": "41884b24",
   "metadata": {},
   "source": [
    "![Variable referring to an object](ch04images/AAEMYQU0a.png \"Variable referring to an object\")"
   ]
  },
  {
   "cell_type": "markdown",
   "id": "a9e77736",
   "metadata": {},
   "source": [
    "### Built-In Function id and Object Identities \n",
    "* Every object has a **unique** **identity**&mdash;an `int` value which **identifies only that object** while it remains in memory.\n",
    "* **Built-in `id` function** to obtain an object's identity.\n"
   ]
  },
  {
   "cell_type": "code",
   "execution_count": 1,
   "id": "561fdcec",
   "metadata": {},
   "outputs": [],
   "source": [
    "x = 7"
   ]
  },
  {
   "cell_type": "code",
   "execution_count": 2,
   "id": "c3a94c34",
   "metadata": {},
   "outputs": [
    {
     "data": {
      "text/plain": [
       "140704917108704"
      ]
     },
     "execution_count": 2,
     "metadata": {},
     "output_type": "execute_result"
    }
   ],
   "source": [
    "id(x)"
   ]
  },
  {
   "cell_type": "markdown",
   "id": "1c3b7138",
   "metadata": {},
   "source": [
    "### Passing an Object to a Function "
   ]
  },
  {
   "cell_type": "code",
   "execution_count": 3,
   "id": "086b8baa",
   "metadata": {},
   "outputs": [],
   "source": [
    "def cube(number):\n",
    "    print('id(number):', id(number))\n",
    "    return number ** 3"
   ]
  },
  {
   "cell_type": "code",
   "execution_count": 4,
   "id": "c6536fd5",
   "metadata": {},
   "outputs": [
    {
     "name": "stdout",
     "output_type": "stream",
     "text": [
      "id(number): 140704917108704\n"
     ]
    },
    {
     "data": {
      "text/plain": [
       "343"
      ]
     },
     "execution_count": 4,
     "metadata": {},
     "output_type": "execute_result"
    }
   ],
   "source": [
    "cube(x)"
   ]
  },
  {
   "cell_type": "markdown",
   "id": "1eddee5a",
   "metadata": {},
   "source": [
    "* The identity displayed for `cube`’s parameter `number` is the _same_ as that displayed for `x` previously. \n",
    "* The _argument_ `x` and the _parameter_ `number` refer to the _same object_ while `cube` executes. "
   ]
  },
  {
   "cell_type": "markdown",
   "id": "cac8d743",
   "metadata": {},
   "source": [
    "### Testing Object Identities with the is Operator \n",
    "* The **`is`** **operator** returns `True` if its two operands have the _same identity_:"
   ]
  },
  {
   "cell_type": "code",
   "execution_count": 5,
   "id": "f71cc307",
   "metadata": {},
   "outputs": [],
   "source": [
    "def cube(number):\n",
    "    print('number is x:', number is x)  # x is a global variable\n",
    "    return number ** 3"
   ]
  },
  {
   "cell_type": "code",
   "execution_count": 6,
   "id": "f3330093",
   "metadata": {},
   "outputs": [
    {
     "name": "stdout",
     "output_type": "stream",
     "text": [
      "number is x: True\n"
     ]
    },
    {
     "data": {
      "text/plain": [
       "343"
      ]
     },
     "execution_count": 6,
     "metadata": {},
     "output_type": "execute_result"
    }
   ],
   "source": [
    "cube(x)"
   ]
  },
  {
   "cell_type": "markdown",
   "id": "d691bacf",
   "metadata": {},
   "source": [
    "### Immutable Objects as Arguments\n",
    "* When a function receives as an argument a reference to an _immutable_ (unmodifiable) object, even though you have direct access to the original object in the caller, you cannot modify the original immutable object’s value.\n",
    "* Note: when you pass a global var to a function, the function is not able to modify that variable, therefore that variaible is immutable. What looks like a modification, is actually a local change for new variable."
   ]
  },
  {
   "cell_type": "code",
   "execution_count": 7,
   "id": "37cbf6e4",
   "metadata": {},
   "outputs": [],
   "source": [
    "def cube(number):\n",
    "    print('id(number) before modifying number:', id(number))\n",
    "    number **= 3\n",
    "    print('id(number) after modifying number:', id(number))\n",
    "    return number"
   ]
  },
  {
   "cell_type": "code",
   "execution_count": 8,
   "id": "a3001b09",
   "metadata": {},
   "outputs": [
    {
     "name": "stdout",
     "output_type": "stream",
     "text": [
      "id(number) before modifying number: 140704917108704\n",
      "id(number) after modifying number: 1730314759440\n"
     ]
    },
    {
     "data": {
      "text/plain": [
       "343"
      ]
     },
     "execution_count": 8,
     "metadata": {},
     "output_type": "execute_result"
    }
   ],
   "source": [
    "cube(x)"
   ]
  },
  {
   "cell_type": "code",
   "execution_count": 9,
   "id": "52a11f52",
   "metadata": {},
   "outputs": [
    {
     "name": "stdout",
     "output_type": "stream",
     "text": [
      "x = 7; id(x) = 140704917108704\n"
     ]
    }
   ],
   "source": [
    "print(f'x = {x}; id(x) = {id(x)}')"
   ]
  },
  {
   "cell_type": "markdown",
   "id": "aa82b490",
   "metadata": {},
   "source": [
    "### Mutable Objects as Arguments\n",
    "* We’ll show that when a reference to a _mutable_ object like a list is passed to a function, the function _can_ modify the original object in the caller. "
   ]
  },
  {
   "cell_type": "markdown",
   "id": "0f7667f1",
   "metadata": {},
   "source": [
    "# 4.16 Function-Call Stack\n",
    "* A stack is like a pile of dishes. \n",
    "* When you add a dish to the pile, you place it on the top. \n",
    "* When you remove a dish from the pile, you take it from the top. \n",
    "* Stacks are last-in, first-out (LIFO) data structures."
   ]
  },
  {
   "cell_type": "markdown",
   "id": "654db861",
   "metadata": {},
   "source": [
    "### Stacks and Your Web Browser’s Back Button\n",
    "* A stack of webpage addresses supports a browser’s back button. \n",
    "* For each new web page you visit, the browser pushes the address of the page you were viewing onto the back button’s stack. \n",
    "* When you press the browser’s back button, the browser pops the top stack element to get the prior web page’s address, then displays that web page."
   ]
  },
  {
   "cell_type": "markdown",
   "id": "0c0e30ce",
   "metadata": {},
   "source": [
    "### Stack Frames\n",
    "* Function-call stack supports the function call/return mechanism. \n",
    "* Eventually, each function must return program control to the point at which it was called. \n",
    "* For each function call, the interpreter pushes an entry called a stack frame (or an activation record) onto the stack. \n",
    "* Contains the return location that the called function needs so it can return control to its caller. \n",
    "* When the function finishes executing, the interpreter pops the function’s stack frame, and control transfers to the return location that was popped.\n",
    "* The top stack frame always contains the information the currently executing function needs to return control to its caller. "
   ]
  },
  {
   "cell_type": "markdown",
   "id": "013bd893",
   "metadata": {},
   "source": [
    "### Local Variables and Stack Frames\n",
    "* Most functions have one or more parameters and possibly local variables that need to:\n",
    "    * exist while the function is executing,\n",
    "    * remain active if the function makes calls to other functions, and\n",
    "    * “go away” when the function returns to its caller.\n",
    "* A stack frame stores the function’s local variables. "
   ]
  },
  {
   "cell_type": "markdown",
   "id": "92372fe2",
   "metadata": {},
   "source": [
    "### Stack Overflow\n",
    "* The amount of memory in a computer is finite, so only a certain amount of memory can be used to store stack frames on the function-call stack. \n",
    "* If the function-call stack runs out of memory as a result of too many function calls, a fatal error known as stack overflow occurs."
   ]
  },
  {
   "cell_type": "markdown",
   "id": "93581ac6",
   "metadata": {},
   "source": [
    "### Principle of Least Privilege\n",
    "* States that code should be granted only the amount of privilege and access that it needs to accomplish its designated task, but no more. \n",
    "* An example of this is the scope of a local variable, which should not be visible when it’s not needed. \n",
    "* This is why a function’s local variables are placed in stack frames on the function-call stack, so they can be used by that function while it executes and go away when it returns. \n",
    "* The principle of least privilege  your programs more robust by preventing code from accidentally (or maliciously) modifying variable values that should not be accessible to it."
   ]
  },
  {
   "cell_type": "markdown",
   "id": "48def93e",
   "metadata": {},
   "source": [
    "# 4.17 Functional-Style Programming\n",
    "* Python offers “functional-style” features that help you write code which is less likely to contain errors, more concise and easier to read, debug and modify. \n",
    "* The chart below lists most of Python’s key functional-style programming capabilities and shows in parentheses the chapters in which we initially cover many of them."
   ]
  },
  {
   "cell_type": "markdown",
   "id": "3e098318",
   "metadata": {},
   "source": [
    "| Functional-style programming topics\n",
    "| -----------------------\n",
    "| avoiding side effects (4)\n",
    "| closures \n",
    "| declarative programming (4)\n",
    "| decorators (10)\n",
    "| dictionary comprehensions (6)\n",
    "| `filter`/`map`/`reduce` (5)\n",
    "| `functools` module \n",
    "| generator expressions (5)\n",
    "| generator functions\n",
    "| higher-order functions (5)\n",
    "| immutability (4)\n",
    "| internal iteration (4)\n",
    "| iterators (3)\n",
    "| `itertools` module (16)\n",
    "| `lambda` expressions (5)\n",
    "| lazy evaluation (5)\n",
    "| list comprehensions (5)\n",
    "| operator module (5, 11, 16)\n",
    "| pure functions (4)\n",
    "| range function (3, 4)\n",
    "| reductions (3, 5)\n",
    "| set comprehensions (6)"
   ]
  },
  {
   "cell_type": "markdown",
   "id": "47f92d2a",
   "metadata": {},
   "source": [
    "### What vs. How\n",
    "* Functional-style programming lets you simply say _what_ you want to do. \n",
    "* Typically, library code handles the _how_ for you. \n",
    "* Can eliminate many errors. \n",
    "* Functional-style programming emphasizes **immutability**. \n",
    "* Python’s `for` statement and `range` function _hide_ most counter-controlled iteration details. \n",
    "    * You specify _what_ values `range` should produce and the variable that should receive each value as it’s produced. \n",
    "    * Function `range` _knows how_ to produce those values. \n",
    "    * The `for` statement _knows how_ to get each value from `range` and _how_ to stop iterating when there are no more values. \n",
    "* Specifying _what_, but not _how_, is an important aspect of **internal iteration**—a key functional-style programming concept. \n",
    "* Stating what you _want_ done rather than programming _how_ to do it is known as **declarative programming**. "
   ]
  },
  {
   "cell_type": "markdown",
   "id": "66311185",
   "metadata": {},
   "source": [
    "### Pure Functions\n",
    "* A **pure function’s** result depends only on the argument(s) you pass to it. \n",
    "* Given a particular argument (or arguments), a pure function always produces the same result. \n",
    "* A pure function does not have _side effects_. "
   ]
  },
  {
   "cell_type": "code",
   "execution_count": null,
   "id": "64e454c9",
   "metadata": {},
   "outputs": [],
   "source": [
    "values = [1, 2, 3]"
   ]
  },
  {
   "cell_type": "code",
   "execution_count": null,
   "id": "16e730b3",
   "metadata": {},
   "outputs": [],
   "source": [
    "sum(values)"
   ]
  },
  {
   "cell_type": "code",
   "execution_count": null,
   "id": "b3d2a13e",
   "metadata": {},
   "outputs": [],
   "source": [
    "sum(values)  # same call always returns same result"
   ]
  },
  {
   "cell_type": "code",
   "execution_count": null,
   "id": "ae0c44e7",
   "metadata": {},
   "outputs": [],
   "source": [
    "values"
   ]
  },
  {
   "cell_type": "markdown",
   "id": "bb8b0dfd",
   "metadata": {},
   "source": [
    "# 4.18 Intro to Data Science: Measures of Dispersion\n",
    "* Considered the measures of central tendency—mean, median and mode. \n",
    "* Help us categorize typical values in a group.\n",
    "* An entire group is called a **population**. \n",
    "* Sometimes a population is quite large, such as the people likely to vote in the next U.S. presidential election, which is a number in excess of 100,000,000 people. \n",
    "* For practical reasons, the polling organizations trying to predict who will become the next president work with carefully selected small subsets of the population known as **samples**. \n",
    "* Hear we introduce **measures of dispersio**n (also called **measures of variability**) that help you understand how **spread out** the values are. \n",
    "* We’ll calculate each measure of dispersion both by hand and with functions from the module `statistics`, using the following population of 10 six-sided die rolls:\n",
    "> 1, 3, 4, 2, 6, 5, 3, 4, 5, 2"
   ]
  },
  {
   "cell_type": "markdown",
   "id": "8c2c31ab",
   "metadata": {},
   "source": [
    "### Variance\n",
    "* To determine variance, begin with the mean of these values—3.5. \n",
    "* Next, subtract the mean from every die value:\n",
    "> -2.5, -0.5, 0.5, -1.5, 2.5, 1.5, -0.5, 0.5, 1.5, -1.5\n",
    "* Then, square each of these results (yielding only positives):\n",
    "> 6.25, 0.25, 0.25, 2.25, 6.25, 2.25, 0.25, 0.25, 2.25, 2.25\n",
    "* Finally, calculate the mean of these squares, which is 2.25 (22.5 / 10)—this is the **population\n",
    "variance**. \n",
    "* Squaring the difference between each die value and the mean of all die values emphasizes **outliers**—the values that are farthest from the mean—which can be important in data analysis.\n",
    "* The following code uses the `statistics` module’s `pvariance` function to confirm our manual result:"
   ]
  },
  {
   "cell_type": "code",
   "execution_count": null,
   "id": "941382b2",
   "metadata": {},
   "outputs": [],
   "source": [
    "import statistics"
   ]
  },
  {
   "cell_type": "code",
   "execution_count": null,
   "id": "972f1f01",
   "metadata": {},
   "outputs": [],
   "source": [
    "statistics.pvariance([1, 3, 4, 2, 6, 5, 3, 4, 5, 2])"
   ]
  },
  {
   "cell_type": "markdown",
   "id": "98e1d6d1",
   "metadata": {},
   "source": [
    "### Standard Deviation\n",
    "* The standard deviation is the square root of the variance (in this case, 1.5), which tones\n",
    "down the effect of the outliers. \n",
    "* The smaller the variance and standard deviation are, the closer the data values are to the mean and the less overall dispersion (that is, spread) there is between the values and the mean. \n",
    "* The following code calculates the population standard deviation with the `statistics` module’s `pstdev` function, confirming our manual\n",
    "result:"
   ]
  },
  {
   "cell_type": "code",
   "execution_count": null,
   "id": "6737befe",
   "metadata": {},
   "outputs": [],
   "source": [
    "statistics.pstdev([1, 3, 4, 2, 6, 5, 3, 4, 5, 2])"
   ]
  },
  {
   "cell_type": "code",
   "execution_count": null,
   "id": "fec10d8a",
   "metadata": {},
   "outputs": [],
   "source": [
    "import math"
   ]
  },
  {
   "cell_type": "code",
   "execution_count": null,
   "id": "5a5732b0",
   "metadata": {},
   "outputs": [],
   "source": [
    "math.sqrt(statistics.pvariance([1, 3, 4, 2, 6, 5, 3, 4, 5, 2]))\n"
   ]
  },
  {
   "cell_type": "markdown",
   "id": "e13b5218",
   "metadata": {},
   "source": [
    "### Advantage of Population Standard Deviation vs. Population Variance\n",
    "* Suppose you’ve recorded the March Fahrenheit temperatures in your area. \n",
    "* You might have 31 numbers such as 19, 32, 28 and 35. \n",
    "* The units for these numbers are degrees.\n",
    "* When you square your temperatures to calculate the population variance, the units of the population variance become **“degrees squared.”**\n",
    "* When you take the square root of the population variance to calculate the population standard deviation, the units once again become **degrees**, which are the same units as your temperatures."
   ]
  }
 ],
 "metadata": {
  "celltoolbar": "Slideshow",
  "kernelspec": {
   "display_name": "Python 3",
   "language": "python",
   "name": "python3"
  },
  "language_info": {
   "codemirror_mode": {
    "name": "ipython",
    "version": 3
   },
   "file_extension": ".py",
   "mimetype": "text/x-python",
   "name": "python",
   "nbconvert_exporter": "python",
   "pygments_lexer": "ipython3",
   "version": "3.8.3"
  }
 },
 "nbformat": 4,
 "nbformat_minor": 5
}
