{
 "cells": [
  {
   "cell_type": "code",
   "execution_count": 1,
   "id": "3d4a8917",
   "metadata": {},
   "outputs": [
    {
     "data": {
      "text/plain": [
       "dict"
      ]
     },
     "execution_count": 1,
     "metadata": {},
     "output_type": "execute_result"
    }
   ],
   "source": [
    "d1 = {'name': 'bobo'}\n",
    "type(d1)"
   ]
  },
  {
   "cell_type": "code",
   "execution_count": 2,
   "id": "ead4e05d",
   "metadata": {},
   "outputs": [
    {
     "data": {
      "text/plain": [
       "('name', 'bobo')"
      ]
     },
     "execution_count": 2,
     "metadata": {},
     "output_type": "execute_result"
    }
   ],
   "source": [
    "d1.popitem()"
   ]
  },
  {
   "cell_type": "code",
   "execution_count": 3,
   "id": "ed0e88c6",
   "metadata": {},
   "outputs": [],
   "source": [
    "class Vehicle:\n",
    "    \"\"\"Vehicle class.\"\"\"\n",
    "\n",
    "    def __init__(self, weight, color):\n",
    "\n",
    "        self.weight = weight\n",
    "        self.color = color\n",
    "\n",
    "        self.speed = 0\n",
    "\n",
    "    def speed_up(self, amount):\n",
    "        self.speed += amount\n",
    "\n",
    "    def slow_down(self, amount):\n",
    "        self.speed -= amount"
   ]
  },
  {
   "cell_type": "code",
   "execution_count": 4,
   "id": "8d98d829",
   "metadata": {},
   "outputs": [],
   "source": [
    "# create instance of class Vehicle\n",
    "my_car = Vehicle(200, 'red')"
   ]
  },
  {
   "cell_type": "code",
   "execution_count": 5,
   "id": "0597ef6a",
   "metadata": {},
   "outputs": [
    {
     "data": {
      "text/plain": [
       "'red'"
      ]
     },
     "execution_count": 5,
     "metadata": {},
     "output_type": "execute_result"
    }
   ],
   "source": [
    "my_car.color"
   ]
  },
  {
   "cell_type": "code",
   "execution_count": 6,
   "id": "4fbbcfec",
   "metadata": {},
   "outputs": [],
   "source": [
    "my_car.speed_up(10)"
   ]
  },
  {
   "cell_type": "code",
   "execution_count": 7,
   "id": "bb140168",
   "metadata": {},
   "outputs": [
    {
     "data": {
      "text/plain": [
       "10"
      ]
     },
     "execution_count": 7,
     "metadata": {},
     "output_type": "execute_result"
    }
   ],
   "source": [
    "my_car.speed"
   ]
  },
  {
   "cell_type": "code",
   "execution_count": 8,
   "id": "a76ae773",
   "metadata": {},
   "outputs": [],
   "source": [
    "my_car.slow_down(100)"
   ]
  },
  {
   "cell_type": "code",
   "execution_count": 10,
   "id": "6dade6c2",
   "metadata": {},
   "outputs": [
    {
     "data": {
      "text/plain": [
       "-90"
      ]
     },
     "execution_count": 10,
     "metadata": {},
     "output_type": "execute_result"
    }
   ],
   "source": [
    "my_car.speed"
   ]
  },
  {
   "cell_type": "code",
   "execution_count": 11,
   "id": "24acffc3",
   "metadata": {},
   "outputs": [],
   "source": [
    "my_car.speed = 1200"
   ]
  },
  {
   "cell_type": "code",
   "execution_count": 18,
   "id": "5cc908e8",
   "metadata": {},
   "outputs": [],
   "source": [
    "class Vehicle2:\n",
    "    \"\"\"Vehicle class.\"\"\"\n",
    "\n",
    "    def __init__(self, weight, color):\n",
    "\n",
    "        self.weight = weight\n",
    "        self.color = color\n",
    "\n",
    "        self.speed = 0\n",
    "        self.__vin = 12345\n",
    "\n",
    "    def speed_up(self, amount):\n",
    "        self.speed += amount\n",
    "\n",
    "    def slow_down(self, amount):\n",
    "        self.speed -= amount"
   ]
  },
  {
   "cell_type": "code",
   "execution_count": 22,
   "id": "40cd88b3",
   "metadata": {},
   "outputs": [],
   "source": [
    "car2 = Vehicle2(3000, 'blue')"
   ]
  },
  {
   "cell_type": "code",
   "execution_count": 23,
   "id": "f04ebe4d",
   "metadata": {},
   "outputs": [
    {
     "ename": "AttributeError",
     "evalue": "'Vehicle2' object has no attribute '__vin'",
     "output_type": "error",
     "traceback": [
      "\u001b[1;31m---------------------------------------------------------------------------\u001b[0m",
      "\u001b[1;31mAttributeError\u001b[0m                            Traceback (most recent call last)",
      "\u001b[1;32m<ipython-input-23-42535224241d>\u001b[0m in \u001b[0;36m<module>\u001b[1;34m\u001b[0m\n\u001b[1;32m----> 1\u001b[1;33m \u001b[0mcar2\u001b[0m\u001b[1;33m.\u001b[0m\u001b[0m__vin\u001b[0m\u001b[1;33m\u001b[0m\u001b[1;33m\u001b[0m\u001b[0m\n\u001b[0m",
      "\u001b[1;31mAttributeError\u001b[0m: 'Vehicle2' object has no attribute '__vin'"
     ]
    }
   ],
   "source": [
    "car2.__vin"
   ]
  },
  {
   "cell_type": "code",
   "execution_count": null,
   "id": "0a94073c",
   "metadata": {},
   "outputs": [],
   "source": []
  },
  {
   "cell_type": "code",
   "execution_count": 26,
   "id": "d70cfd88",
   "metadata": {},
   "outputs": [
    {
     "data": {
      "text/plain": [
       "12345"
      ]
     },
     "execution_count": 26,
     "metadata": {},
     "output_type": "execute_result"
    }
   ],
   "source": [
    "car2._Vehicle2__vin"
   ]
  },
  {
   "cell_type": "code",
   "execution_count": 27,
   "id": "2c6e94c7",
   "metadata": {},
   "outputs": [],
   "source": [
    "car2._Vehicle2__vin = 99999"
   ]
  },
  {
   "cell_type": "code",
   "execution_count": 28,
   "id": "cbb142b4",
   "metadata": {},
   "outputs": [
    {
     "data": {
      "text/plain": [
       "99999"
      ]
     },
     "execution_count": 28,
     "metadata": {},
     "output_type": "execute_result"
    }
   ],
   "source": [
    "car2._Vehicle2__vin\n"
   ]
  },
  {
   "cell_type": "code",
   "execution_count": 32,
   "id": "d24e07d2",
   "metadata": {},
   "outputs": [],
   "source": [
    "# Inheritance Example"
   ]
  },
  {
   "cell_type": "code",
   "execution_count": 35,
   "id": "80bb1e27",
   "metadata": {},
   "outputs": [
    {
     "name": "stdout",
     "output_type": "stream",
     "text": [
      "I can eat\n",
      "My name is  Rohu\n"
     ]
    }
   ],
   "source": [
    "class Animal:\n",
    "\n",
    "    # attribute and method of the parent class\n",
    "    name = \"\"\n",
    "    \n",
    "    def eat(self):\n",
    "        print(\"I can eat\")\n",
    "\n",
    "# inherit from Animal\n",
    "class Dog(Animal):\n",
    "\n",
    "    # new method in subclass\n",
    "    def display(self):\n",
    "        # access name attribute of superclass using self\n",
    "        print(\"My name is \", self.name)\n",
    "\n",
    "# create an object of the subclass\n",
    "labrador = Dog()\n",
    "\n",
    "# access superclass attribute and method \n",
    "labrador.name = \"Rohu\"\n",
    "labrador.eat()\n",
    "\n",
    "# call subclass method \n",
    "labrador.display()"
   ]
  },
  {
   "cell_type": "markdown",
   "id": "d36a25c0",
   "metadata": {},
   "source": [
    "## is-a\n",
    "In Python, inheritance is an is-a relationship. That is, we use inheritance only if there exists an is-a relationship between two classes. For example,\n",
    "\n",
    "    Car is a Vehicle\n",
    "    Apple is a Fruit\n",
    "    Cat is an Animal\n",
    "\n"
   ]
  },
  {
   "cell_type": "code",
   "execution_count": 36,
   "id": "97eb9293",
   "metadata": {},
   "outputs": [
    {
     "name": "stdout",
     "output_type": "stream",
     "text": [
      "I like to eat bones\n"
     ]
    }
   ],
   "source": [
    "# method Overriding\n",
    "class Animal:\n",
    "\n",
    "    # attributes and method of the parent class\n",
    "    name = \"\"\n",
    "    \n",
    "    def eat(self):\n",
    "        print(\"I can eat\")\n",
    "\n",
    "# inherit from Animal\n",
    "class Dog(Animal):\n",
    "\n",
    "    # override eat() method\n",
    "    def eat(self):\n",
    "        print(\"I like to eat bones\")\n",
    "\n",
    "# create an object of the subclass\n",
    "labrador = Dog()\n",
    "\n",
    "# call the eat() method on the labrador object\n",
    "labrador.eat()"
   ]
  },
  {
   "cell_type": "markdown",
   "id": "a2e6e9e0",
   "metadata": {},
   "source": [
    "## The super() Method in Python Inheritance\n",
    "\n",
    "- Previously we saw that the same method in the subclass overrides the method in the superclass.\n",
    "\n",
    "- However, if we need to access the superclass method from the subclass, we use the super() method."
   ]
  },
  {
   "cell_type": "code",
   "execution_count": 37,
   "id": "91840d5e",
   "metadata": {},
   "outputs": [
    {
     "name": "stdout",
     "output_type": "stream",
     "text": [
      "I can eat\n",
      "I like to eat bones\n"
     ]
    }
   ],
   "source": [
    "class Animal:\n",
    "\n",
    "    name = \"\"\n",
    "    \n",
    "    def eat(self):\n",
    "        print(\"I can eat\")\n",
    "\n",
    "# inherit from Animal\n",
    "class Dog(Animal):\n",
    "    \n",
    "    # override eat() method\n",
    "    def eat(self):\n",
    "        \n",
    "        # call the eat() method of the superclass using super()\n",
    "        super().eat()\n",
    "        \n",
    "        print(\"I like to eat bones\")\n",
    "\n",
    "# create an object of the subclass\n",
    "labrador = Dog()\n",
    "\n",
    "labrador.eat()"
   ]
  },
  {
   "cell_type": "code",
   "execution_count": null,
   "id": "b9d312da",
   "metadata": {},
   "outputs": [],
   "source": []
  }
 ],
 "metadata": {
  "kernelspec": {
   "display_name": "Python 3",
   "language": "python",
   "name": "python3"
  },
  "language_info": {
   "codemirror_mode": {
    "name": "ipython",
    "version": 3
   },
   "file_extension": ".py",
   "mimetype": "text/x-python",
   "name": "python",
   "nbconvert_exporter": "python",
   "pygments_lexer": "ipython3",
   "version": "3.8.3"
  }
 },
 "nbformat": 4,
 "nbformat_minor": 5
}
