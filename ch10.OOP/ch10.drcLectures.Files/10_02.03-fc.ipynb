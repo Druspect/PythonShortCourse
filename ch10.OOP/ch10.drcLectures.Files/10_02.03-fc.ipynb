{
 "cells": [
  {
   "cell_type": "markdown",
   "metadata": {},
   "source": [
    "## 10.2.3 Composition: Object References as Members of Classes\n",
    "* An Account _has a_ `name`, and an `Account` _has a_ `balance`\n",
    "* An object’s attributes are references to objects of other classes\n",
    "* Embedding references to objects of other types is a form of software reusability known as **composition** and is sometimes referred to as the **“has a” relationship**"
   ]
  }
 ],
 "metadata": {
  "kernelspec": {
   "display_name": "Python 3",
   "language": "python",
   "name": "python3"
  },
  "language_info": {
   "codemirror_mode": {
    "name": "ipython",
    "version": 3
   },
   "file_extension": ".py",
   "mimetype": "text/x-python",
   "name": "python",
   "nbconvert_exporter": "python",
   "pygments_lexer": "ipython3",
   "version": "3.8.3"
  }
 },
 "nbformat": 4,
 "nbformat_minor": 2
}
