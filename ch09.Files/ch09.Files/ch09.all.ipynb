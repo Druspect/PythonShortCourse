{
 "cells": [
  {
   "cell_type": "markdown",
   "id": "b3fe534b",
   "metadata": {},
   "source": [
    "# 9. Files and Exceptions\n",
    "\n",
    "# Objectives\n",
    "* Understand the notions of files and persistent data. \n",
    "* Read, write and update files.\n",
    "* Read and write CSV files, a common format for machine-learning datasets.\n",
    "* Serialize objects into the JSON data-interchange format—commonly used to transmit over the Internet—and deserialize JSON into objects.\n",
    "* Use the `with` statement to ensure that resources are properly released, avoiding “resource leaks.”\n",
    "* Use the `try` statement to delimit code in which exceptions may occur and handle those exceptions with associated `except` clauses."
   ]
  },
  {
   "cell_type": "markdown",
   "id": "32a597c4",
   "metadata": {},
   "source": [
    "# Objectives (cont.)\n",
    "* Use the `try` statement’s `else` clause to execute code when no exceptions occur in the `try` suite.\n",
    "* Use the `try` statement’s `finally` clause to execute code regardless of whether an exception occurs in the `try`. \n",
    "* `raise` exceptions to indicate runtime problems.\n",
    "* Understand the traceback of functions and methods that led to an exception.\n",
    "* Use pandas to load into a `DataFrame` and process the Titanic Disaster CSV dataset."
   ]
  },
  {
   "cell_type": "markdown",
   "id": "13f6af6f",
   "metadata": {},
   "source": [
    "------\n",
    "&copy;1992&ndash;2020 by Pearson Education, Inc. All Rights Reserved. This content is based on Chapter 5 of the book [**Intro to Python for Computer Science and Data Science: Learning to Program with AI, Big Data and the Cloud**](https://amzn.to/2VvdnxE).\n",
    "\n",
    "DISCLAIMER: The authors and publisher of this book have used their \n",
    "best efforts in preparing the book. These efforts include the \n",
    "development, research, and testing of the theories and programs \n",
    "to determine their effectiveness. The authors and publisher make \n",
    "no warranty of any kind, expressed or implied, with regard to these \n",
    "programs or to the documentation contained in these books. The authors \n",
    "and publisher shall not be liable in any event for incidental or \n",
    "consequential damages in connection with, or arising out of, the \n",
    "furnishing, performance, or use of these programs.                  "
   ]
  },
  {
   "cell_type": "markdown",
   "id": "97faa5f6",
   "metadata": {},
   "source": [
    "# 9.1 Introduction\n",
    "* Variables, lists, tuples, dictionaries, sets, arrays, pandas `Series` and pandas `DataFrame`s offer only _temporary_ data storage\n",
    "    * lost when a local variable “goes out of scope” or when the program terminates\n",
    "* Data maintained in **files** is persistent\n",
    "* Computers store files on secondary storage devices\n",
    "    * solid-state drives, hard disks and more"
   ]
  },
  {
   "cell_type": "markdown",
   "id": "b19d2ac4",
   "metadata": {},
   "source": [
    "# 9.1 Introduction (cont.)\n",
    "* We consider text files in several popular formats\n",
    "    * plain text\n",
    "    * JSON (JavaScript Object Notation)\n",
    "    * CSV (comma-separated values)\n",
    "* Use JSON to serialize and deserialize objects for saving to secondary storage and transmitting them over the Internet\n",
    "* Intro to Data Science section shows loading and manipulating CSV data with\n",
    "    * Python Standard Library’s `csv` module \n",
    "    * pandas Library"
   ]
  },
  {
   "cell_type": "markdown",
   "id": "a26ad858",
   "metadata": {},
   "source": [
    "# 9.1 Introduction (cont.)\n",
    "* Python security&mdash;we’ll discuss the security vulnerabilities of serializing and deserializing data with the Python Standard Library’s `pickle` module\n",
    "    * We recommend JSON serialization in preference to `pickle`\n",
    "* **exception handling**\n",
    "    * An exception indicates an execution-time problem\n",
    "    * E.g., `ZeroDivisionError`, `NameError`, `ValueError`, `StatisticsError`, `TypeError`, `IndexError`, `KeyError` and `RuntimeError`\n",
    "    * Deal with exceptions as they occur by using `try` statements and `except` clauses \n",
    "    * Help you write _robust_, _fault-tolerant_ programs that can deal with problems and continue executing or _terminate gracefully_"
   ]
  },
  {
   "cell_type": "markdown",
   "id": "7a830093",
   "metadata": {},
   "source": [
    "# 9.1 Introduction (cont.)\n",
    "* Programs typically request and release resources (such as files) during program execution\n",
    "* Often, these are in limited supply or can be used only by one program at a time\n",
    "* You'll see how to guarantee that after a program uses a resource, it’s released for use by other programs, even if an exception has occurred\n",
    "* Use the `with` statement for this purpose"
   ]
  },
  {
   "cell_type": "markdown",
   "id": "5e1e09f9",
   "metadata": {},
   "source": [
    "# 9.2 Files \n",
    "* A **text file** is a sequence of characters \n",
    "* A **binary file** (for images, videos and more) is a sequence of bytes\n",
    "* First character in a text file or byte in a binary file is located at position 0\n",
    "    * In a file of **_n_** characters or bytes, the highest position number is **_n_ – 1**\n",
    "* For each file you **open**, Python creates a **file object** that you’ll use to interact with the file"
   ]
  },
  {
   "cell_type": "markdown",
   "id": "36ee9825",
   "metadata": {},
   "source": [
    "![Conceptual view of a file](ch09images/AAEMYSR0.png \"Conceptual view of a file\")"
   ]
  },
  {
   "cell_type": "markdown",
   "id": "85858c01",
   "metadata": {},
   "source": [
    "### End of File\n",
    "* Every operating system provides a mechanism to denote the end of a file\n",
    "    * Some use an **end-of-file marker**\n",
    "    * Others maintain a count of the total characters or bytes in the file\n",
    "    * Programming languages hide these operating-system details from you "
   ]
  },
  {
   "cell_type": "markdown",
   "id": "9b58705d",
   "metadata": {},
   "source": [
    "### Standard File Objects\n",
    "* When a Python program begins execution, it creates three **standard file objects**:\n",
    "    * **`sys.stdin`**—the **standard input file object**\n",
    "    * **`sys.stdout`**—the **standard output file object**, and \n",
    "    * **`sys.stderr`**—the **standard error file object**. \n",
    "* Though considered file objects, they do not read from or write to files by default\n",
    "    * The `input` function implicitly uses `sys.stdin` to get user input from the keyboard\n",
    "    * Function `print` implicitly outputs to `sys.stdout`, which appears in the command line\n",
    "    * Python implicitly outputs program errors and tracebacks to `sys.stderr`, which also appears in the command line\n",
    "* Import the `sys` module if you need to refer to these objects explicitly in your code&mdash;this is rare "
   ]
  },
  {
   "cell_type": "markdown",
   "id": "83bfef30",
   "metadata": {},
   "source": [
    "# 9.3 Text-File Processing\n",
    "* Here, we'll create a simple text file that might be used by an accounts-receivable system to track the money owed by a company’s clients\n",
    "* We’ll then read that text file to confirm that it contains the data\n",
    "* For each client, we’ll store \n",
    "    * client’s account number\n",
    "    * last name \n",
    "    * account balance owed to the company\n",
    "* These data fields represent a client **record**\n",
    "* Programmers must structure files to meet their applications’ requirements"
   ]
  },
  {
   "cell_type": "markdown",
   "id": "1499cc7d",
   "metadata": {},
   "source": [
    "## 9.3.1 Writing to a Text File: Introducing the `with` Statement \n",
    "* Many applications _acquire_ resources\n",
    "    * files, network connections, database connections and more\n",
    "* Should _release_ resources as soon as they’re no longer needed\n",
    "* Ensures that other applications can use the resources\n",
    "* `with` statement \n",
    "    * Acquires a resource and assigns its corresponding object to a variable\n",
    "    * Allows the application to use the resource via that variable\n",
    "    * Calls the resource object’s **`close` method** to release the resource"
   ]
  },
  {
   "cell_type": "code",
   "execution_count": null,
   "id": "a9ae2e02",
   "metadata": {},
   "outputs": [],
   "source": [
    "with open('accounts.txt', mode='w') as accounts:\n",
    "    accounts.write('100 Jones 24.98\\n')\n",
    "    accounts.write('200 Doe 345.67\\n')\n",
    "    accounts.write('300 White 0.00\\n')\n",
    "    accounts.write('400 Stone -42.16\\n')\n",
    "    accounts.write('500 Rich 224.62\\n')"
   ]
  },
  {
   "cell_type": "markdown",
   "id": "1b9a1c05",
   "metadata": {},
   "source": [
    "* Can also **write to a file with `print`**, which **automatically outputs a `\\n`**, as in\n",
    ">```python\n",
    "print('100 Jones 24.98', file=accounts)\n",
    "```"
   ]
  },
  {
   "cell_type": "code",
   "execution_count": null,
   "id": "fc001774",
   "metadata": {},
   "outputs": [],
   "source": [
    "# macOS/Linux Users: View file contents\n",
    "!cat accounts.txt"
   ]
  },
  {
   "cell_type": "code",
   "execution_count": null,
   "id": "3bc2186c",
   "metadata": {},
   "outputs": [],
   "source": [
    "# Windows Users: View file contents\n",
    "!more accounts.txt"
   ]
  },
  {
   "cell_type": "markdown",
   "id": "68a8274d",
   "metadata": {},
   "source": [
    "### Built-In Function `open` \n",
    "* Opens the file `accounts.txt` and associates it with a file object\n",
    "* `mode` argument specifies the **file-open mode**\n",
    "    * whether to open a file for reading from the file, for writing to the file or both. \n",
    "* Mode `'w'` opens the file for _writing_, creating the file if it does not exist\n",
    "* If you do not specify a path to the file, Python creates it in the current folder \n",
    "* **Be careful**—opening a file for writing _deletes_ all the existing data in the file\n",
    "* By convention, the **`.txt` file extension** indicates a plain text file"
   ]
  },
  {
   "cell_type": "markdown",
   "id": "26138e88",
   "metadata": {},
   "source": [
    "### Writing to the File \n",
    "* `with` statement assigns the object returned by `open` to the variable `accounts` in the **`as` clause**\n",
    "* `with` statement’s suite uses `accounts` to interact with the file\n",
    "    * file object’s **`write` method** writes one record at a time to the file\n",
    "* At the end of the `with` statement’s suite, the `with` statement _implicitly_ calls the file object’s **`close`** method to close the file "
   ]
  },
  {
   "cell_type": "markdown",
   "id": "61a51701",
   "metadata": {},
   "source": [
    "## 9.3.2 Reading Data from a Text File\n",
    "* Let's read `accounts.txt` sequentially from beginning to end"
   ]
  },
  {
   "cell_type": "code",
   "execution_count": null,
   "id": "0c6d9889",
   "metadata": {},
   "outputs": [],
   "source": [
    "with open('accounts.txt', mode='r') as accounts:\n",
    "    print(f'{\"Account\":<10}{\"Name\":<10}{\"Balance\":>10}')\n",
    "    for record in accounts:\n",
    "        account, name, balance = record.split()\n",
    "        print(f'{account:<10}{name:<10}{balance:>10}')"
   ]
  },
  {
   "cell_type": "markdown",
   "id": "990467c7",
   "metadata": {},
   "source": [
    "## 9.3.2 Reading Data from a Text File (cont.)\n",
    "* If the contents of a file should not be modified, open the file for reading only\n",
    "    * Prevents program from accidentally modifying the file\n",
    "* Iterating through a file object, reads one line at a time from the file and returns it as a string\n",
    "* For each `record` (that is, line) in the file, string method `split` returns tokens in the line as a list\n",
    "    * We unpack into the variables `account`, `name` and `balance`"
   ]
  },
  {
   "cell_type": "markdown",
   "id": "530eaafa",
   "metadata": {},
   "source": [
    "### File Method `readlines`\n",
    "* File object’s **`readlines`** method also can be used to read an _entire_ text file\n",
    "* Returns each line as a string in a list of strings\n",
    "* For small files, this works well, but iterating over the lines in a file object, as shown above, can be more efficient\n",
    "    * Enables your program to process each text line as it’s read, rather than waiting to load the entire file"
   ]
  },
  {
   "cell_type": "markdown",
   "id": "712f43d9",
   "metadata": {},
   "source": [
    "# 9.4 Updating Text Files\n",
    "* Formatted data written to a text file cannot be modified without the risk of destroying other data\n",
    "* If the name `'White'` needs to be changed to `'Williams'` in `accounts.txt`, the old name cannot simply be overwritten\n",
    "* The original record for `White` is stored as\n",
    ">```python\n",
    "300 White 0.00\n",
    "```\n",
    "* If you overwrite the name `'White'` with the name `'Williams'`, the record becomes\n",
    ">```python\n",
    "300 Williams00\n",
    "```\n",
    "* The characters beyond the second “`i`” in `'Williams'` overwrite other characters in the line\n",
    "* The problem is that records and their fields can vary in size"
   ]
  },
  {
   "cell_type": "markdown",
   "id": "772dc04b",
   "metadata": {},
   "source": [
    "# 9.4 Updating Text Files (cont.)\n",
    "* To make the preceding name change, we can: \n",
    "    * copy the records before `300 White 0.00` into a temporary file, \n",
    "    * write the updated and correctly formatted record for account 300 to this file, \n",
    "    * copy the records after `300 White 0.00` to the temporary file, \n",
    "    * delete the old file and \n",
    "    * rename the temporary file to use the original file’s name.\n",
    "* Requires processing _every_ record in the file, even if you need to update only one record\n",
    "    * More efficient when an application needs to update many records in one pass of the file"
   ]
  },
  {
   "cell_type": "markdown",
   "id": "f7e2b870",
   "metadata": {},
   "source": [
    "### Updating accounts`.txt` \n",
    "* Update the `accounts.txt` file to change account 300’s name from `'White'` to `'Williams'` as described above: "
   ]
  },
  {
   "cell_type": "code",
   "execution_count": null,
   "id": "5349c1fc",
   "metadata": {},
   "outputs": [],
   "source": [
    "accounts = open('accounts.txt', 'r')"
   ]
  },
  {
   "cell_type": "code",
   "execution_count": null,
   "id": "eb12effb",
   "metadata": {},
   "outputs": [],
   "source": [
    "temp_file = open('temp_file.txt', 'w')"
   ]
  },
  {
   "cell_type": "code",
   "execution_count": null,
   "id": "06ae6f05",
   "metadata": {},
   "outputs": [],
   "source": [
    "with accounts, temp_file:\n",
    "    for record in accounts:\n",
    "        account, name, balance = record.split()\n",
    "        if account != '300':\n",
    "            temp_file.write(record)\n",
    "        else:\n",
    "            new_record = ' '.join([account, 'Williams', balance])\n",
    "            temp_file.write(new_record + '\\n')"
   ]
  },
  {
   "cell_type": "markdown",
   "id": "4bc6600a",
   "metadata": {},
   "source": [
    "### Updating accounts`.txt` (cont.)\n",
    "* This `with` statement manages two resource objects, specified in a comma-separated list after `with`\n",
    "    * If the account is not `'300'`, we write `record` (which contains a newline) to `temp_file`\n",
    "    * Otherwise, we assemble the new record containing `'Williams'` in place of  `'White'` and write it to the file"
   ]
  },
  {
   "cell_type": "code",
   "execution_count": null,
   "id": "a2cbe874",
   "metadata": {},
   "outputs": [],
   "source": [
    "# macOS/Linux Users: View file contents\n",
    "!cat temp_file.txt"
   ]
  },
  {
   "cell_type": "code",
   "execution_count": null,
   "id": "36706692",
   "metadata": {},
   "outputs": [],
   "source": [
    "# Windows Users: View file contents\n",
    "!more temp_file.txt"
   ]
  },
  {
   "cell_type": "markdown",
   "id": "80580413",
   "metadata": {},
   "source": [
    "### `os` Module File-Processing Functions\n",
    "* To complete the update, delete the old `accounts.txt` file, then rename `temp_file.txt` as `accounts.txt`"
   ]
  },
  {
   "cell_type": "code",
   "execution_count": null,
   "id": "9f9bebd8",
   "metadata": {},
   "outputs": [],
   "source": [
    "import os"
   ]
  },
  {
   "cell_type": "code",
   "execution_count": null,
   "id": "b148f28a",
   "metadata": {},
   "outputs": [],
   "source": [
    "os.remove('accounts.txt')"
   ]
  },
  {
   "cell_type": "markdown",
   "id": "ebb2411f",
   "metadata": {},
   "source": [
    "* Use the **`rename` function** to rename the temporary file as `'accounts.txt'`"
   ]
  },
  {
   "cell_type": "code",
   "execution_count": null,
   "id": "e7a2e7b7",
   "metadata": {},
   "outputs": [],
   "source": [
    "os.rename('temp_file.txt', 'accounts.txt')"
   ]
  },
  {
   "cell_type": "code",
   "execution_count": null,
   "id": "cbcdaf7a",
   "metadata": {},
   "outputs": [],
   "source": [
    "# macOS/Linux Users: View file contents\n",
    "!cat accounts.txt"
   ]
  },
  {
   "cell_type": "code",
   "execution_count": null,
   "id": "be21b39d",
   "metadata": {},
   "outputs": [],
   "source": [
    "# Windows Users: View file contents\n",
    "!more accounts.txt"
   ]
  },
  {
   "cell_type": "markdown",
   "id": "4926c72d",
   "metadata": {},
   "source": [
    "# 9.5 Serialization with JSON \n",
    "* **JSON (JavaScript Object Notation)** is a text-based, human-and-computer-readable, data-interchange format used to represent objects as collections of name–value pairs. \n",
    "* Preferred data format for transmitting objects across platforms. "
   ]
  },
  {
   "cell_type": "markdown",
   "id": "abc4a094",
   "metadata": {},
   "source": [
    "### JSON Data Format \n",
    "* Similar to Python dictionaries\n",
    "* Each JSON object contains a comma-separated list of **property names** and **values**, in curly braces. \n",
    "> ```python\n",
    "{\"account\": 100, \"name\": \"Jones\", \"balance\": 24.98}\n",
    "```\n",
    "* JSON arrays, like Python lists, are comma-separated values in square brackets. \n",
    "> ```python\n",
    "[100, 200, 300]\n",
    "```\n",
    "\n",
    "* Values in JSON objects and arrays can be:\n",
    "    * **strings** in **double quotes**\n",
    "    * **numbers**\n",
    "    * JSON Boolean values **`true`** or **`false`** \n",
    "    * **`null`** (like `None` in Python)\n",
    "    * **arrays**  \n",
    "    * **other JSON objects**"
   ]
  },
  {
   "cell_type": "markdown",
   "id": "6a792ce9",
   "metadata": {},
   "source": [
    "### Python Standard Library Module `json` \n",
    "* **`json` module** enables you to convert objects to JSON (JavaScript Object Notation) text format\n",
    "* Known as **serializing** the data\n",
    "* Following dictionary, which contains one key–value pair consisting of the key `'accounts'` with its associated value being a list of dictionaries representing two accounts"
   ]
  },
  {
   "cell_type": "code",
   "execution_count": null,
   "id": "56b5fd13",
   "metadata": {},
   "outputs": [],
   "source": [
    "accounts_dict = {'accounts': [\n",
    "    {'account': 100, 'name': 'Jones', 'balance': 24.98},\n",
    "    {'account': 200, 'name': 'Doe', 'balance': 345.67}]}"
   ]
  },
  {
   "cell_type": "markdown",
   "id": "fdf20ba1",
   "metadata": {},
   "source": [
    "### Serializing an Object to JSON\n",
    "* Write JSON to a file\n",
    "* `json` module’s **`dump` function** serializes the dictionary `accounts_dict` into the file"
   ]
  },
  {
   "cell_type": "code",
   "execution_count": null,
   "id": "0089277f",
   "metadata": {},
   "outputs": [],
   "source": [
    "import json"
   ]
  },
  {
   "cell_type": "code",
   "execution_count": null,
   "id": "9d3b0401",
   "metadata": {},
   "outputs": [],
   "source": [
    "with open('accounts.json', 'w') as accounts:\n",
    "    json.dump(accounts_dict, accounts)"
   ]
  },
  {
   "cell_type": "markdown",
   "id": "6ebb3fe2",
   "metadata": {},
   "source": [
    "* Resulting file contains the following text&mdash;reformatted slightly for readability:\n",
    "```python\n",
    "{\"accounts\": \n",
    "  [{\"account\": 100, \"name\": \"Jones\", \"balance\": 24.98}, \n",
    "   {\"account\": 200, \"name\": \"Doe\", \"balance\": 345.67}]}\n",
    "```\n",
    "* JSON delimits strings with _double-quote characters_. "
   ]
  },
  {
   "cell_type": "markdown",
   "id": "833c45d2",
   "metadata": {},
   "source": [
    "### Deserializing the JSON Text\n",
    "* `json` module’s **`load` function** reads entire JSON contents of its file object argument and converts the JSON into a Python object\n",
    "* Known as **deserializing** the data"
   ]
  },
  {
   "cell_type": "code",
   "execution_count": null,
   "id": "9f31a902",
   "metadata": {},
   "outputs": [],
   "source": [
    "with open('accounts.json', 'r') as accounts:\n",
    "    accounts_json = json.load(accounts)"
   ]
  },
  {
   "cell_type": "code",
   "execution_count": null,
   "id": "12829e9c",
   "metadata": {},
   "outputs": [],
   "source": [
    "accounts_json"
   ]
  },
  {
   "cell_type": "code",
   "execution_count": null,
   "id": "b25b42bf",
   "metadata": {},
   "outputs": [],
   "source": [
    "accounts_json['accounts']"
   ]
  },
  {
   "cell_type": "code",
   "execution_count": null,
   "id": "cba1e016",
   "metadata": {},
   "outputs": [],
   "source": [
    "accounts_json['accounts'][0]"
   ]
  },
  {
   "cell_type": "code",
   "execution_count": null,
   "id": "50baecf8",
   "metadata": {},
   "outputs": [],
   "source": [
    "accounts_json['accounts'][1]"
   ]
  },
  {
   "cell_type": "markdown",
   "id": "91c792c1",
   "metadata": {},
   "source": [
    "### Displaying the JSON Text\n",
    "* `json` module’s **`dumps` function** (`dumps` is short for “dump string”) returns a Python string representation of an object in JSON format\n",
    "* Canbe used to display JSON in a nicely indented format\n",
    "    * sometimes called “pretty printing” \n",
    "* When call includes the `indent` keyword argument, the string contains newline characters and indentation for pretty printing\n",
    "    * Also can use `indent` with the `dump` function when writing to a file"
   ]
  },
  {
   "cell_type": "code",
   "execution_count": null,
   "id": "9b3bae83",
   "metadata": {},
   "outputs": [],
   "source": [
    "with open('accounts.json', 'r') as accounts:\n",
    "    print(json.dumps(json.load(accounts), indent=4))\n",
    "    "
   ]
  },
  {
   "cell_type": "markdown",
   "id": "23b16dc8",
   "metadata": {},
   "source": [
    "# 9.6 Focus on Security: `pickle` Serialization and Deserialization  \n",
    "* Python Standard Library’s **`pickle` module** can serialize objects into in a **Python-specific data format**\n",
    "* **Caution: The Python documentation provides the following warnings about `pickle`**:\n",
    "\n",
    "> “**Pickle files can be hacked**. If you receive a raw pickle file over the network, don’t trust it! It could have malicious code in it, that would run arbitrary Python when you try to de-pickle it. However, if you are doing your own pickle writing and reading, you’re safe (provided no one else has access to the pickle file, of course.)”\n",
    "\n",
    ">“Pickle is a protocol which allows the serialization of arbitrarily complex Python objects. As such, it is specific to Python and **cannot be used to communicate with applications written in other languages**. It is also **insecure by default**: deserializing pickle data coming from an untrusted source can execute arbitrary code, if the data was crafted by a skilled attacker.”"
   ]
  },
  {
   "cell_type": "markdown",
   "id": "d649f222",
   "metadata": {},
   "source": [
    "* We do not recommend using `pickle`, but it’s been used for many years, so you’re likely to encounter it in **legacy code**—old code that’s often no longer supported. "
   ]
  },
  {
   "cell_type": "code",
   "execution_count": 3,
   "id": "efc30688",
   "metadata": {},
   "outputs": [],
   "source": [
    "# Pickle Example - for your own use\n",
    "import pickle\n",
    "\n",
    "# create some data\n",
    "data = {'zorro': 99, 'musk':-11, 'dylan':2001}\n",
    "\n"
   ]
  },
  {
   "cell_type": "code",
   "execution_count": 4,
   "id": "d1a72e26",
   "metadata": {},
   "outputs": [],
   "source": [
    "# open a file, where you want to store the data - we want to wb - write bytes\n",
    "file = open('mydat.pkl', 'wb')\n",
    "\n",
    "# dump information to that file\n",
    "pickle.dump(data, file)\n",
    "\n",
    "# close the file\n",
    "file.close()"
   ]
  },
  {
   "cell_type": "code",
   "execution_count": 5,
   "id": "bc51dd74",
   "metadata": {},
   "outputs": [
    {
     "data": {
      "text/plain": [
       "{'zorro': 99, 'musk': -11, 'dylan': 2001}"
      ]
     },
     "execution_count": 5,
     "metadata": {},
     "output_type": "execute_result"
    }
   ],
   "source": [
    "# we can now go off - our data is pickled in our file\n",
    "\n",
    "# let's return and open a file, where we stored the pickled data  rb - read bytes\n",
    "file = open('mydat.pkl', 'rb')\n",
    "\n",
    "# dump information to that file\n",
    "data = pickle.load(file)\n",
    "\n",
    "# close the file\n",
    "file.close()\n",
    "\n",
    "# get our data back!\n",
    "data"
   ]
  },
  {
   "cell_type": "code",
   "execution_count": null,
   "id": "52649622",
   "metadata": {},
   "outputs": [],
   "source": []
  },
  {
   "cell_type": "markdown",
   "id": "ef05d7d5",
   "metadata": {},
   "source": [
    "# 9.7 Additional Notes Regarding Files\n",
    "* Table of file-open modes for text files\n",
    "    * _Reading_ modes raise a `FileNotFoundError` if the file does not exist\n",
    "    * Each text-file mode has a corresponding binary-file mode specified with `b`, as in `'rb'` or `'wb+'`"
   ]
  },
  {
   "cell_type": "markdown",
   "id": "021d0c05",
   "metadata": {},
   "source": [
    "| Mode | Description\n",
    "| ------ | ------\n",
    "| `'r'` | Open a text file for reading. This is the default if you do not specify the file-open mode when you call open. \n",
    "| `'w'` | Open a text file for writing. Existing file contents are _deleted_. \n",
    "| **`'a'`** | Open a text file for appending at the end, creating the file if it does not exist. New data is written at the end of the file. \n",
    "| **`'r+'`** | Open a text file reading and writing. \n",
    "| **`'w+'`** | Open a text file reading and writing. Existing file contents are _deleted_.\n",
    "| **`'a+'`** | Open a text file reading and appending at the end. New data is written at the end of the file. If the file does not exist, it is created. "
   ]
  },
  {
   "cell_type": "markdown",
   "id": "8a974f92",
   "metadata": {},
   "source": [
    "### Other File Object Methods\n",
    "* **`read`** \n",
    "    * For a text file, returns a string containing the number of characters specified by the method’s integer argument\n",
    "    * For a binary file, returns the specified number of bytes\n",
    "    * If no argument is specified, the method returns the entire contents of the file\n",
    "* **`readline`** \n",
    "    * Returns one line of text as a string, including the newline character if there is one\n",
    "    * Returns an empty string when it encounters the end of the file \n",
    "* **`writelines`** \n",
    "    * Receives a list of strings and writes its contents to a file\n",
    "* Classes that Python uses to create file objects are defined in the Python Standard Library’s [**`io` module**](https://docs.python.org/3/library/io.html)"
   ]
  },
  {
   "cell_type": "markdown",
   "id": "9ec24cba",
   "metadata": {},
   "source": [
    "# 9.8 Handling Exceptions\n",
    "* Various types of exceptions can occur when you work with files\n",
    "* **`FileNotFoundError`** \n",
    "    * Attempt to open a non-existent file for reading with the `'r'` or `'r+'` modes\n",
    "* **`PermissionsError`** \n",
    "    * Attempt an operation for which you do not have permission\n",
    "    * Try to open a file that your account is not allowed to access \n",
    "    * Create a file in a folder where your account does not have permission to write\n",
    "* `ValueError` \n",
    "    * Attempt to write to a file that has already been closed"
   ]
  },
  {
   "cell_type": "markdown",
   "id": "0c0d87b7",
   "metadata": {},
   "source": [
    "## 9.8.1 Division by Zero and Invalid Input"
   ]
  },
  {
   "cell_type": "markdown",
   "id": "7879bf6b",
   "metadata": {},
   "source": [
    "### Division By Zero  \n",
    "Recall that attempting to divide by `0` results in a `ZeroDivisionError`: "
   ]
  },
  {
   "cell_type": "code",
   "execution_count": null,
   "id": "d3ac8f15",
   "metadata": {},
   "outputs": [],
   "source": [
    "10 / 0 "
   ]
  },
  {
   "cell_type": "markdown",
   "id": "14a5a198",
   "metadata": {},
   "source": [
    "* Interpreter **raises an exception** of type `ZeroDivisionError`\n",
    "* Exception in IPython\n",
    "    * terminates the snippet, \n",
    "    * displays the exception’s traceback, then \n",
    "    * shows the next `In []` prompt so you can input the next snippet\n",
    "* Exception in a script terminates it and IPython displays the traceback"
   ]
  },
  {
   "cell_type": "markdown",
   "id": "9e37279f",
   "metadata": {},
   "source": [
    "### Invalid Input \n",
    "* `int` raises a `ValueError` if you attempt to convert to an integer a string (like `'hello'`) that does not represent a number"
   ]
  },
  {
   "cell_type": "code",
   "execution_count": null,
   "id": "903e696e",
   "metadata": {},
   "outputs": [],
   "source": [
    "value = int(input('Enter an integer: '))"
   ]
  },
  {
   "cell_type": "markdown",
   "id": "d7e9c6dd",
   "metadata": {},
   "source": [
    "## 9.8.2 `try` Statements\n",
    "* Can _handle_ exceptions so code can continue processing\n",
    "* Following code uses exception handling to catch and handle (i.e., deal with) any `ZeroDivisionError`s and `ValueError`s that arise—in this case, allowing the user to re-enter the input"
   ]
  },
  {
   "cell_type": "code",
   "execution_count": null,
   "id": "af5cbc0b",
   "metadata": {},
   "outputs": [],
   "source": [
    "# dividebyzero.py\n",
    "\"\"\"Simple exception handling example.\"\"\"\n",
    "\n",
    "while True:\n",
    "    # attempt to convert and divide values\n",
    "    try:\n",
    "        number1 = int(input('Enter numerator: '))\n",
    "        number2 = int(input('Enter denominator: '))\n",
    "        result = number1 / number2\n",
    "    except ValueError:  # tried to convert non-numeric value to int\n",
    "        print('You must enter two integers\\n')\n",
    "    except ZeroDivisionError:  # denominator was 0\n",
    "        print('Attempted to divide by zero\\n')\n",
    "    else:  # executes only if no exceptions occur\n",
    "        print(f'{number1:.3f} / {number2:.3f} = {result:.3f}')\n",
    "        break  # terminate the loop"
   ]
  },
  {
   "cell_type": "markdown",
   "id": "36dc8a8a",
   "metadata": {},
   "source": [
    "### `try` Clause\n",
    "* **`try` statements** enable exception handling\n",
    "* **`try` clause** followed by a suite of statements that _might_ raise exceptions"
   ]
  },
  {
   "cell_type": "markdown",
   "id": "a29ab377",
   "metadata": {},
   "source": [
    "### `except` Clause\n",
    "* `try` clause’s suite may be followed by one or more **`except` clauses** \n",
    "* Known as _exception handlers_\n",
    "* Each specifies the type of exception it handles"
   ]
  },
  {
   "cell_type": "markdown",
   "id": "c2e903b4",
   "metadata": {},
   "source": [
    "### `else` Clause\n",
    "* After the last `except` clause, an optional **`else` clause** specifies code that should execute only if the code in the `try` suite **did not raise exceptions**\n"
   ]
  },
  {
   "cell_type": "markdown",
   "id": "4299852f",
   "metadata": {},
   "source": [
    "### Flow of Control for a `ZeroDivisionError` \n",
    "* The point in the program at which an exception occurs is often referred to as the **raise point**\n",
    "* When an exception occurs in a `try` suite, it terminates immediately\n",
    "* If there are any `except` handlers following the `try` suite, program control transfers to the first one\n",
    "* If there are no `except` handlers, a process called _stack unwinding_ occurs (discussed later)\n",
    "* When an `except` clause successfully handles the exception, program execution resumes with the `finally` clause (if there is one), then with the next statement after the `try` statement."
   ]
  },
  {
   "cell_type": "markdown",
   "id": "fb22aeda",
   "metadata": {},
   "source": [
    "### Flow of Control for a `ValueError` \n"
   ]
  },
  {
   "cell_type": "markdown",
   "id": "2dfd972b",
   "metadata": {},
   "source": [
    "### Flow of Control for a Successful Division \n",
    "* When no exceptions occur in the `try` suite, program execution resumes with the `else` clause (if there is one); otherwise, program execution resumes with the next statement after the try statement"
   ]
  },
  {
   "cell_type": "markdown",
   "id": "545f727c",
   "metadata": {},
   "source": [
    "# 9.9 finally Clause\n"
   ]
  },
  {
   "cell_type": "markdown",
   "id": "86685a0e",
   "metadata": {},
   "source": [
    "### The `finally` Clause of the `try` Statement\n",
    "* `try` statement may have a `finally` clause after any `except` clauses or the `else` clause\n",
    "* **`finally`** clause is guaranteed to execute\n",
    "    * In other languages, this makes the `finally` suite ideal for resource-deallocation code\n",
    "    * In Python, we prefer the `with` statement for this purpose"
   ]
  },
  {
   "cell_type": "markdown",
   "id": "5e9b24a1",
   "metadata": {},
   "source": [
    "### Example"
   ]
  },
  {
   "cell_type": "code",
   "execution_count": null,
   "id": "a7c4db65",
   "metadata": {},
   "outputs": [],
   "source": [
    "try:\n",
    "    print('try suite with no exceptions raised')\n",
    "except:\n",
    "    print('this will not execute')\n",
    "else:\n",
    "    print('else executes because no exceptions in the try suite')\n",
    "finally:  \n",
    "    print('finally always executes')\n",
    "    "
   ]
  },
  {
   "cell_type": "code",
   "execution_count": null,
   "id": "31737442",
   "metadata": {},
   "outputs": [],
   "source": [
    "try:\n",
    "    print('try suite that raises an exception')\n",
    "    int('hello')\n",
    "    print('this will not execute')\n",
    "except ValueError:\n",
    "    print('a ValueError occurred')\n",
    "else:\n",
    "    print('else will not execute because an exception occurred')\n",
    "finally:  \n",
    "    print('finally always executes')\n",
    "    "
   ]
  },
  {
   "cell_type": "markdown",
   "id": "e3687cf7",
   "metadata": {},
   "source": [
    "### Combining `with` Statements and `try…except` Statements \n",
    "* Most resources that require explicit release, such as files, network connections and database connections, have potential exceptions associated with processing those resources\n",
    "* _Robust_ file-processing code normally appears in a `try` suite containing a `with` statement to guarantee that the resource gets released"
   ]
  },
  {
   "cell_type": "code",
   "execution_count": null,
   "id": "583be06f",
   "metadata": {},
   "outputs": [],
   "source": [
    "open('gradez.txt')  # non-existent file"
   ]
  },
  {
   "cell_type": "code",
   "execution_count": null,
   "id": "2fcc7349",
   "metadata": {},
   "outputs": [],
   "source": [
    "try:\n",
    "    with open('gradez.txt', 'r') as accounts:\n",
    "        print(f'{\"ID\":<3}{\"Name\":<7}{\"Grade\"}')\n",
    "        for record in accounts:  \n",
    "            student_id, name, grade = record.split()\n",
    "            print(f'{student_id:<3}{name:<7}{grade}')\n",
    "except FileNotFoundError:\n",
    "    print('The file name you specified does not exist')\n",
    "    "
   ]
  },
  {
   "cell_type": "markdown",
   "id": "a166964e",
   "metadata": {},
   "source": [
    "# 9.10 Explicitly Raising an Exception\n",
    "* Sometimes you might need to write functions that raise exceptions to inform callers of errors that occur\n",
    "* **`raise`** statement explicitly raises an exception\n",
    "> ```python\n",
    "raise ExceptionClassName\n",
    "```\n",
    "* Creates an object of the specified exception class\n",
    "* Exception class name may be followed by parentheses containing arguments to initialize the exception object—typically a custom error message string\n",
    "* Code that raises an exception first should release any resources acquired before the exception occurred\n",
    "* It’s recommended that you use one of Python’s many [built-in exception types](https://docs.python.org/3/library/exceptions.html)"
   ]
  },
  {
   "cell_type": "markdown",
   "id": "2410267e",
   "metadata": {},
   "source": [
    "## 9.12.1 Python Standard Library Module `csv` \n",
    "* **`csv` module** provides functions for working with CSV files"
   ]
  },
  {
   "cell_type": "markdown",
   "id": "712e9af3",
   "metadata": {},
   "source": [
    "### Writing to a CSV File\n",
    "* `csv` module’s documentation recommends opening CSV files with the additional keyword argument `newline=''` to ensure that newlines are processed properly "
   ]
  },
  {
   "cell_type": "code",
   "execution_count": 1,
   "id": "29b0dae6",
   "metadata": {},
   "outputs": [],
   "source": [
    "import csv"
   ]
  },
  {
   "cell_type": "code",
   "execution_count": 2,
   "id": "b0a9cd86",
   "metadata": {},
   "outputs": [],
   "source": [
    "with open('accounts.csv', mode='w', newline='') as accounts:\n",
    "    writer = csv.writer(accounts)\n",
    "    writer.writerow([100, 'Jones', 24.98])\n",
    "    writer.writerow([200, 'Doe', 345.67])\n",
    "    writer.writerow([300, 'White', 0.00])\n",
    "    writer.writerow([400, 'Stone', -42.16])\n",
    "    writer.writerow([500, 'Rich', 224.62])"
   ]
  },
  {
   "cell_type": "markdown",
   "id": "30b40467",
   "metadata": {},
   "source": [
    "* **`.csv` file extension** indicates a CSV-format file\n",
    "* **`writer` function** returns an object that writes CSV data to the specified file object\n",
    "* `writer`’s **`writerow` method** receives an iterable to store in the file\n",
    "* By default, `writerow` delimits values with commas, but you can specify custom delimiters"
   ]
  },
  {
   "cell_type": "code",
   "execution_count": 3,
   "id": "8dcac56d",
   "metadata": {},
   "outputs": [
    {
     "name": "stdout",
     "output_type": "stream",
     "text": [
      "100,Jones,24.98\n",
      "200,Doe,345.67\n",
      "300,White,0.0\n",
      "400,Stone,-42.16\n",
      "500,Rich,224.62\n"
     ]
    }
   ],
   "source": [
    "!cat accounts.csv"
   ]
  },
  {
   "cell_type": "markdown",
   "id": "b86114cf",
   "metadata": {},
   "source": [
    "* `writerow` calls above can be replaced with one **`writerows`** call that outputs a comma-separated list of iterables representing the records\n",
    "* If you write data that contains commas in a given string, `writerow` encloses that string in double quotes to indicate a _single_ value"
   ]
  },
  {
   "cell_type": "markdown",
   "id": "5040dd84",
   "metadata": {},
   "source": [
    "### Reading from a CSV File\n",
    "* Read records from the file `accounts.csv` and display the contents of each record"
   ]
  },
  {
   "cell_type": "code",
   "execution_count": null,
   "id": "b57aae6c",
   "metadata": {},
   "outputs": [],
   "source": [
    "with open('accounts.csv', 'r', newline='') as accounts:\n",
    "    print(f'{\"Account\":<10}{\"Name\":<10}{\"Balance\":>10}')\n",
    "    reader = csv.reader(accounts)\n",
    "    for record in reader:  \n",
    "        account, name, balance = record\n",
    "        print(f'{account:<10}{name:<10}{balance:>10}')"
   ]
  },
  {
   "cell_type": "markdown",
   "id": "b640f1a1",
   "metadata": {},
   "source": [
    "* `csv` module’s **`reader` function** returns an object that reads CSV-format data from the specified file object\n",
    "* Can iterate through the `reader` object one record of comma-delimited values at a time"
   ]
  },
  {
   "cell_type": "markdown",
   "id": "de5d5b08",
   "metadata": {},
   "source": [
    "## 9.12.2 Reading CSV Files into Pandas `DataFrames` \n",
    "* Here, we demonstrate pandas’ ability to load files in CSV format, then perform some basic data-analysis tasks"
   ]
  },
  {
   "cell_type": "markdown",
   "id": "a4e5c182",
   "metadata": {},
   "source": [
    "### Datasets\n",
    "* Enormous variety of free datasets available online\n",
    "* **Rdatasets repository** provides links to over 1100 free datasets in comma-separated values (CSV) format\n",
    "> https://vincentarelbundock.github.io/Rdatasets/datasets.html\n",
    "* **`pydataset` module** specifically for accessing Rdatasets\n",
    "> https://github.com/iamaziz/PyDataset\n",
    "* Another large source of datasets is\n",
    "> https://github.com/awesomedata/awesome-public-datasets\n",
    "* A commonly used machine-learning dataset for beginners is the **Titanic disaster dataset**"
   ]
  },
  {
   "cell_type": "markdown",
   "id": "ec7ee7e3",
   "metadata": {},
   "source": [
    "### Working with Locally Stored CSV Files \n",
    "* File we'll process in this example"
   ]
  },
  {
   "cell_type": "code",
   "execution_count": null,
   "id": "4e8d3aba",
   "metadata": {},
   "outputs": [],
   "source": [
    "!cat accounts.csv"
   ]
  },
  {
   "cell_type": "markdown",
   "id": "28e29678",
   "metadata": {},
   "source": [
    "* Load a CSV dataset into a `DataFrame` with the pandas function **`read_csv`**\n",
    "* `names` argument specifies the `DataFrame`’s column names\n",
    "    * Without this argument, `read_csv` assumes that the CSV file’s first row is a comma-delimited list of column names"
   ]
  },
  {
   "cell_type": "code",
   "execution_count": null,
   "id": "e4ac0f5e",
   "metadata": {},
   "outputs": [],
   "source": [
    "import pandas as pd"
   ]
  },
  {
   "cell_type": "code",
   "execution_count": null,
   "id": "5c19e043",
   "metadata": {},
   "outputs": [],
   "source": [
    "df = pd.read_csv('accounts.csv', \n",
    "                 names=['account', 'name', 'balance'])"
   ]
  },
  {
   "cell_type": "code",
   "execution_count": null,
   "id": "f2a3b402",
   "metadata": {},
   "outputs": [],
   "source": [
    "df"
   ]
  },
  {
   "cell_type": "markdown",
   "id": "6a785cb4",
   "metadata": {},
   "source": [
    "* To save a `DataFrame` to a file using CSV format, call `DataFrame` method **`to_csv`**\n",
    "* `index=False` indicates that the row names (`0`–`4` at the left of the `DataFrame`’s output above are not written to the file\n",
    "* Resulting file contains the column names as the first row"
   ]
  },
  {
   "cell_type": "code",
   "execution_count": null,
   "id": "a9ef267e",
   "metadata": {},
   "outputs": [],
   "source": [
    "df.to_csv('accounts_from_dataframe.csv', index=False)"
   ]
  },
  {
   "cell_type": "code",
   "execution_count": null,
   "id": "6c4b3e23",
   "metadata": {},
   "outputs": [],
   "source": [
    "!cat accounts_from_dataframe.csv"
   ]
  },
  {
   "cell_type": "markdown",
   "id": "d76cdb59",
   "metadata": {},
   "source": [
    "## 9.12.3 Reading the Titanic Disaster Dataset \n",
    "* Titanic disaster dataset is one of the most popular machine-learning datasets"
   ]
  },
  {
   "cell_type": "markdown",
   "id": "5633b39f",
   "metadata": {},
   "source": [
    "### Loading the Titanic Dataset via a URL\n",
    "* Load the Titanic Disaster dataset directly from GitHub:"
   ]
  },
  {
   "cell_type": "code",
   "execution_count": 1,
   "id": "1011ead7",
   "metadata": {},
   "outputs": [],
   "source": [
    "import pandas as pd"
   ]
  },
  {
   "cell_type": "code",
   "execution_count": 2,
   "id": "577ac5e3",
   "metadata": {},
   "outputs": [],
   "source": [
    "titanic = pd.read_csv('https://vincentarelbundock.github.io/Rdatasets/csv/carData/TitanicSurvival.csv')"
   ]
  },
  {
   "cell_type": "markdown",
   "id": "e76ce33e",
   "metadata": {},
   "source": [
    "### Viewing Some of the Rows in the Titanic Dataset\n",
    "* Dataset contains over 1300 rows, each representing one passenger\n",
    "* For large datasets, displaying a `DataFrame` shows only the first 30 rows, followed by “…” and the last 30 rows\n",
    "* View the first five and last five rows with `DataFrame` methods **`head`** and **`tail`**\n",
    "    * Both return five rows by default"
   ]
  },
  {
   "cell_type": "code",
   "execution_count": 3,
   "id": "559346d2",
   "metadata": {},
   "outputs": [],
   "source": [
    "pd.set_option('precision', 2)  # format for floating-point values"
   ]
  },
  {
   "cell_type": "code",
   "execution_count": 4,
   "id": "204db473",
   "metadata": {},
   "outputs": [
    {
     "data": {
      "text/html": [
       "<div>\n",
       "<style scoped>\n",
       "    .dataframe tbody tr th:only-of-type {\n",
       "        vertical-align: middle;\n",
       "    }\n",
       "\n",
       "    .dataframe tbody tr th {\n",
       "        vertical-align: top;\n",
       "    }\n",
       "\n",
       "    .dataframe thead th {\n",
       "        text-align: right;\n",
       "    }\n",
       "</style>\n",
       "<table border=\"1\" class=\"dataframe\">\n",
       "  <thead>\n",
       "    <tr style=\"text-align: right;\">\n",
       "      <th></th>\n",
       "      <th>Unnamed: 0</th>\n",
       "      <th>survived</th>\n",
       "      <th>sex</th>\n",
       "      <th>age</th>\n",
       "      <th>passengerClass</th>\n",
       "    </tr>\n",
       "  </thead>\n",
       "  <tbody>\n",
       "    <tr>\n",
       "      <th>0</th>\n",
       "      <td>Allen, Miss. Elisabeth Walton</td>\n",
       "      <td>yes</td>\n",
       "      <td>female</td>\n",
       "      <td>29.00</td>\n",
       "      <td>1st</td>\n",
       "    </tr>\n",
       "    <tr>\n",
       "      <th>1</th>\n",
       "      <td>Allison, Master. Hudson Trevor</td>\n",
       "      <td>yes</td>\n",
       "      <td>male</td>\n",
       "      <td>0.92</td>\n",
       "      <td>1st</td>\n",
       "    </tr>\n",
       "    <tr>\n",
       "      <th>2</th>\n",
       "      <td>Allison, Miss. Helen Loraine</td>\n",
       "      <td>no</td>\n",
       "      <td>female</td>\n",
       "      <td>2.00</td>\n",
       "      <td>1st</td>\n",
       "    </tr>\n",
       "    <tr>\n",
       "      <th>3</th>\n",
       "      <td>Allison, Mr. Hudson Joshua Crei</td>\n",
       "      <td>no</td>\n",
       "      <td>male</td>\n",
       "      <td>30.00</td>\n",
       "      <td>1st</td>\n",
       "    </tr>\n",
       "    <tr>\n",
       "      <th>4</th>\n",
       "      <td>Allison, Mrs. Hudson J C (Bessi</td>\n",
       "      <td>no</td>\n",
       "      <td>female</td>\n",
       "      <td>25.00</td>\n",
       "      <td>1st</td>\n",
       "    </tr>\n",
       "  </tbody>\n",
       "</table>\n",
       "</div>"
      ],
      "text/plain": [
       "                        Unnamed: 0 survived     sex    age passengerClass\n",
       "0    Allen, Miss. Elisabeth Walton      yes  female  29.00            1st\n",
       "1   Allison, Master. Hudson Trevor      yes    male   0.92            1st\n",
       "2     Allison, Miss. Helen Loraine       no  female   2.00            1st\n",
       "3  Allison, Mr. Hudson Joshua Crei       no    male  30.00            1st\n",
       "4  Allison, Mrs. Hudson J C (Bessi       no  female  25.00            1st"
      ]
     },
     "execution_count": 4,
     "metadata": {},
     "output_type": "execute_result"
    }
   ],
   "source": [
    "titanic.head()"
   ]
  },
  {
   "cell_type": "code",
   "execution_count": null,
   "id": "aeb1007b",
   "metadata": {},
   "outputs": [],
   "source": [
    "titanic.tail()"
   ]
  },
  {
   "cell_type": "markdown",
   "id": "ae8733ca",
   "metadata": {},
   "source": [
    "* pandas adjusts each column’s width, based on the widest value in the column or based on the column name, whichever is wider\n",
    "* The value in the age column of row `1305` is `NaN` (not a number), indicating a missing value in the dataset"
   ]
  },
  {
   "cell_type": "markdown",
   "id": "7bf86d0f",
   "metadata": {},
   "source": [
    "### Customizing the Column Names\n",
    "* First column has a strange name (`'Unnamed: 0'`)\n",
    "* Can clean that up by setting the column names"
   ]
  },
  {
   "cell_type": "code",
   "execution_count": null,
   "id": "670686ab",
   "metadata": {},
   "outputs": [],
   "source": [
    "titanic.columns = ['name', 'survived', 'sex', 'age', 'class']"
   ]
  },
  {
   "cell_type": "code",
   "execution_count": null,
   "id": "028089ce",
   "metadata": {},
   "outputs": [],
   "source": [
    "titanic.head()"
   ]
  },
  {
   "cell_type": "markdown",
   "id": "0cc8d5cd",
   "metadata": {},
   "source": [
    "## 9.12.4 Simple Data Analysis with the Titanic Disaster Dataset \n",
    "* Can use pandas to perform some simple analysis.\n",
    "* Calling `describe` on a `DataFrame` containing both numeric and non-numeric columns produces descriptive statistics _only for the numeric columns_\n",
    "    * in this case, just the `age` column"
   ]
  },
  {
   "cell_type": "code",
   "execution_count": null,
   "id": "7a26d31a",
   "metadata": {},
   "outputs": [],
   "source": [
    "titanic.describe()"
   ]
  },
  {
   "cell_type": "markdown",
   "id": "f5745dcc",
   "metadata": {},
   "source": [
    "## 9.12.4 Simple Data Analysis with the Titanic Disaster Dataset (cont.)\n",
    "* Discrepancy in the `count` (`1046`) vs. the dataset’s number of rows (1309—the last row’s index was `1308` when we called `tail`)\n",
    "    * Only `1046` (the `count` above) of the records contained an age\n",
    "    * Rest were _missing_ and marked as `NaN`\n",
    "* When performing calculations, Pandas _ignores missing data (`NaN`) by default_\n",
    "* For the `1046` people with valid ages\n",
    "    * average (`mean`) age was `29.88` years old\n",
    "    * youngest passenger (`min`) was just over two months old (`0.17 * 12` is `2.04`)\n",
    "    *  oldest (`max`) was 80\n",
    "    * Median age was `28` (indicated by the `50%` quartile)\n",
    "    * `25%` quartile is the median age in the first half of the passengers (sorted by age)\n",
    "    * `75%` quartile is the median of the second half of passengers"
   ]
  },
  {
   "cell_type": "markdown",
   "id": "8d9229d3",
   "metadata": {},
   "source": [
    "## 9.12.4 Simple Data Analysis with the Titanic Disaster Dataset (cont.)\n",
    "* Let’s say you want to determine some statistics about people who survived\n",
    "* Can compare the `survived` column to `'yes'` to get a new `Series` containing `True/False` values, then use `describe` to summarize the results"
   ]
  },
  {
   "cell_type": "code",
   "execution_count": null,
   "id": "3a0772a5",
   "metadata": {},
   "outputs": [],
   "source": [
    "(titanic.survived == 'yes').describe()"
   ]
  },
  {
   "cell_type": "markdown",
   "id": "b6a6655f",
   "metadata": {},
   "source": [
    "* For non-numeric data, `describe` displays different descriptive statistics:\n",
    "    * `count` is the total number of items in the result\n",
    "    * `unique` is the number of unique values (`2`) in the result—`True` (survived) and `False` (died)\n",
    "    * `top` is the most frequently occurring value in the result\n",
    "    * `freq` is the number of occurrences of the `top` value"
   ]
  },
  {
   "cell_type": "markdown",
   "id": "a48c8bd6",
   "metadata": {},
   "source": [
    "## 9.12.5 Passenger Age Histogram\n",
    "* Visualization helps you get to know your data\n",
    "* Pandas has many built-in visualization capabilities that are implemented with Matplotlib\n",
    "* To use them in Jupyter, first enable Matplotlib support \n",
    "    * \"inline\" used only in Jupyter, not IPython interactive mode"
   ]
  },
  {
   "cell_type": "code",
   "execution_count": null,
   "id": "cfa897da",
   "metadata": {},
   "outputs": [],
   "source": [
    "%matplotlib inline "
   ]
  },
  {
   "cell_type": "markdown",
   "id": "8698441f",
   "metadata": {},
   "source": [
    "* A histogram visualizes the distribution of numerical data over a range of values\n",
    "* A `DataFrame`’s **`hist`** method analyzes each numerical column’s data and produces a separate histogram for each numerical column"
   ]
  },
  {
   "cell_type": "code",
   "execution_count": null,
   "id": "028d74d5",
   "metadata": {},
   "outputs": [],
   "source": [
    "histogram = titanic.hist()"
   ]
  }
 ],
 "metadata": {
  "celltoolbar": "Slideshow",
  "kernelspec": {
   "display_name": "Python 3",
   "language": "python",
   "name": "python3"
  },
  "language_info": {
   "codemirror_mode": {
    "name": "ipython",
    "version": 3
   },
   "file_extension": ".py",
   "mimetype": "text/x-python",
   "name": "python",
   "nbconvert_exporter": "python",
   "pygments_lexer": "ipython3",
   "version": "3.8.3"
  }
 },
 "nbformat": 4,
 "nbformat_minor": 5
}
