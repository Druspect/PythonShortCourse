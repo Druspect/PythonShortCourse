{
 "cells": [
  {
   "cell_type": "markdown",
   "id": "831c5a75",
   "metadata": {},
   "source": [
    "# Threads in Python"
   ]
  },
  {
   "cell_type": "code",
   "execution_count": 1,
   "id": "4551fbb8",
   "metadata": {},
   "outputs": [
    {
     "name": "stdout",
     "output_type": "stream",
     "text": [
      "Final value of x: 0\n"
     ]
    }
   ],
   "source": [
    "# Start with a simple application - no threading\n",
    "\n",
    "x = 0  # global\n",
    "\n",
    "def increment():\n",
    "    global x\n",
    "    for i in range(1_000_000):\n",
    "        x += 1\n",
    "\n",
    "def decrement():\n",
    "    global x\n",
    "    for i in range(1_000_000):\n",
    "        x -= 1\n",
    "\n",
    "# Let's increment\n",
    "increment()\n",
    "\n",
    "# and now decrement\n",
    "decrement()\n",
    "\n",
    "# Guess the final value of x  (duh!)\n",
    "print(\"Final value of x:\", x)\n"
   ]
  },
  {
   "cell_type": "code",
   "execution_count": null,
   "id": "878c0be9",
   "metadata": {},
   "outputs": [],
   "source": [
    "\n"
   ]
  },
  {
   "cell_type": "code",
   "execution_count": 4,
   "id": "e10c886b",
   "metadata": {},
   "outputs": [
    {
     "name": "stdout",
     "output_type": "stream",
     "text": [
      "Final value of x: -450447\n"
     ]
    }
   ],
   "source": [
    "import threading\n",
    "\n",
    "x = 0\n",
    "\n",
    "def increment():\n",
    "    global x\n",
    "    for i in range(1_000_000):\n",
    "        x += 1\n",
    "\n",
    "def decrement():\n",
    "    global x\n",
    "    for i in range(1_000_000):\n",
    "        x -= 1\n",
    "\n",
    "# Create 2 threads- one to increment the other to decrement \n",
    "t1 = threading.Thread(target=increment)\n",
    "t2 = threading.Thread(target=decrement)\n",
    "\n",
    "# Launch the threads\n",
    "t1.start()\n",
    "t2.start()\n",
    "\n",
    "# The MAIN thread now waits for the other threads to finish\n",
    "t1.join()\n",
    "t2.join()\n",
    "\n",
    "print(\"Final value of x:\", x)"
   ]
  },
  {
   "cell_type": "code",
   "execution_count": null,
   "id": "e62b6eeb",
   "metadata": {},
   "outputs": [],
   "source": []
  },
  {
   "cell_type": "code",
   "execution_count": 5,
   "id": "bd39852e",
   "metadata": {},
   "outputs": [
    {
     "name": "stdout",
     "output_type": "stream",
     "text": [
      "Final value of x: 0\n"
     ]
    }
   ],
   "source": [
    "import threading\n",
    "\n",
    "x = 0\n",
    "\n",
    "lock = threading.Lock()\n",
    "\n",
    "def increment():\n",
    "    global x\n",
    "    for i in range(1_000_000):\n",
    "        with lock:\n",
    "            x += 1\n",
    "\n",
    "def decrement():\n",
    "    global x\n",
    "    for i in range(1_000_000):\n",
    "        with lock:\n",
    "            x -= 1\n",
    "\n",
    "# Create and start the threads\n",
    "t1 = threading.Thread(target=increment)\n",
    "t2 = threading.Thread(target=decrement)\n",
    "t1.start()\n",
    "t2.start()\n",
    "\n",
    "# Wait for the threads to finish\n",
    "t1.join()\n",
    "t2.join()\n",
    "\n",
    "print(\"Final value of x:\", x)"
   ]
  },
  {
   "cell_type": "markdown",
   "id": "40d08545",
   "metadata": {},
   "source": [
    "# Deadlock"
   ]
  },
  {
   "cell_type": "code",
   "execution_count": 6,
   "id": "6481a325",
   "metadata": {},
   "outputs": [
    {
     "name": "stdout",
     "output_type": "stream",
     "text": [
      "Final value of x: 0\n"
     ]
    }
   ],
   "source": [
    "# this code does not have deadlock\n",
    "\n",
    "import threading\n",
    "\n",
    "x = 0\n",
    "lock1 = threading.Lock()\n",
    "lock2 = threading.Lock()\n",
    "\n",
    "def increment():\n",
    "    global x\n",
    "    for i in range(1_000_000):\n",
    "        with lock1:\n",
    "            with lock2:\n",
    "                x += 1\n",
    "\n",
    "def decrement():\n",
    "    global x\n",
    "    for i in range(1_000_000):\n",
    "        with lock1:\n",
    "            with lock2:\n",
    "                x -= 1\n",
    "\n",
    "# Start the threads\n",
    "t1 = threading.Thread(target=increment)\n",
    "t2 = threading.Thread(target=decrement)\n",
    "t1.start()\n",
    "t2.start()\n",
    "\n",
    "# Wait for the threads to finish\n",
    "t1.join()\n",
    "t2.join()\n",
    "\n",
    "print(\"Final value of x:\", x)\n",
    "\n"
   ]
  },
  {
   "cell_type": "code",
   "execution_count": null,
   "id": "69efc328",
   "metadata": {},
   "outputs": [],
   "source": [
    "# this code WILL deadlock\n",
    "\n",
    "import threading\n",
    "\n",
    "x = 0\n",
    "lock1 = threading.Lock()\n",
    "lock2 = threading.Lock()\n",
    "\n",
    "def increment():  # note the order of locks has been changed!\n",
    "    global x\n",
    "    for i in range(1_000_000):\n",
    "        with lock2:\n",
    "            with lock1:\n",
    "                x += 1\n",
    "\n",
    "def decrement():\n",
    "    global x\n",
    "    for i in range(1_000_000):\n",
    "        with lock1:\n",
    "            with lock2:\n",
    "                x -= 1\n",
    "\n",
    "# Start the threads\n",
    "t1 = threading.Thread(target=increment)\n",
    "t2 = threading.Thread(target=decrement)\n",
    "t1.start()\n",
    "t2.start()\n",
    "\n",
    "# Wait for the threads to finish\n",
    "t1.join()\n",
    "t2.join()\n",
    "\n",
    "print(\"Final value of x:\", x)\n",
    "\n"
   ]
  },
  {
   "cell_type": "code",
   "execution_count": null,
   "id": "62a33402",
   "metadata": {},
   "outputs": [],
   "source": []
  }
 ],
 "metadata": {
  "kernelspec": {
   "display_name": "Python 3",
   "language": "python",
   "name": "python3"
  },
  "language_info": {
   "codemirror_mode": {
    "name": "ipython",
    "version": 3
   },
   "file_extension": ".py",
   "mimetype": "text/x-python",
   "name": "python",
   "nbconvert_exporter": "python",
   "pygments_lexer": "ipython3",
   "version": "3.8.3"
  }
 },
 "nbformat": 4,
 "nbformat_minor": 5
}
