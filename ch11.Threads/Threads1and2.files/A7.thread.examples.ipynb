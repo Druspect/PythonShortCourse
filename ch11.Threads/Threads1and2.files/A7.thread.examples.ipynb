{
 "cells": [
  {
   "cell_type": "markdown",
   "id": "831c5a75",
   "metadata": {},
   "source": [
    "# Threads in Python"
   ]
  },
  {
   "cell_type": "code",
   "execution_count": 1,
   "id": "878c0be9",
   "metadata": {},
   "outputs": [
    {
     "name": "stdout",
     "output_type": "stream",
     "text": [
      "I am some function\n"
     ]
    }
   ],
   "source": [
    "# Simple example\n",
    "\n",
    "# import the Thread class\n",
    "from threading import Thread\n",
    "\n",
    "def some_function():\n",
    "    print (\"I am some function\")\n",
    "        \n",
    "# create a thread object that executes a function and then terminates\n",
    "t1 = Thread(target=some_function)\n",
    "\n",
    "# launch the thread\n",
    "t1.start()\n"
   ]
  },
  {
   "cell_type": "code",
   "execution_count": 2,
   "id": "e10c886b",
   "metadata": {},
   "outputs": [
    {
     "name": "stdout",
     "output_type": "stream",
     "text": [
      "I am boris \n",
      "I am boris \n",
      "I am boris \n",
      "I am boris \n",
      "I am boris \n",
      "I am boris \n",
      "I am natasha \n",
      "I am natasha \n",
      "I am natasha \n",
      "I am natasha \n",
      "I am natasha \n",
      "I am natasha \n",
      "I am zorkon I am the MAIN Thread - every Python program has one!\n",
      "I am the MAIN Thread - every Python program has one!\n",
      "I am the MAIN Thread - every Python program has one!\n",
      "I am the MAIN Thread - every Python program has one!\n",
      "I am zorkon \n",
      "I am zorkon \n",
      "I am zorkon \n",
      "I am zorkon \n",
      "I am zorkon \n",
      "\n",
      "I am the MAIN Thread - every Python program has one!\n",
      "I am the MAIN Thread - every Python program has one!\n"
     ]
    }
   ],
   "source": [
    "from threading import *\n",
    "\n",
    "class Demo:\n",
    "    def __init__(self, name):\n",
    "        self.name = name\n",
    "\n",
    "    def display(self):\n",
    "       for i in range(6):\n",
    "           print(f\"I am {self.name} \")\n",
    "\n",
    "\n",
    "boris   =  Demo('boris')\n",
    "natasha =  Demo('natasha')\n",
    "zorkon  =  Demo('zorkon')\n",
    "\n",
    "# create thread objects that execute a function and then terminate\n",
    "t1 = Thread(target=boris.display)\n",
    "t2 = Thread(target=natasha.display)\n",
    "t3 = Thread(target=zorkon.display)\n",
    "\n",
    "# launch the threads\n",
    "t1.start()\n",
    "t2.start()\n",
    "t3.start()\n",
    "\n",
    "# Main Program thread also prints...\n",
    "for i in range(6):\n",
    "   print(\"I am the MAIN Thread - every Python program has one!\")"
   ]
  },
  {
   "cell_type": "code",
   "execution_count": 4,
   "id": "e62b6eeb",
   "metadata": {},
   "outputs": [
    {
     "name": "stdout",
     "output_type": "stream",
     "text": [
      "I am boris \n",
      "I am boris \n",
      "I am boris \n",
      "I am boris \n",
      "I am boris \n",
      "I am boris \n",
      "I am natasha \n",
      "I am zorkon \n",
      "I am natasha I am the MAIN Thread - every Python program has one!\n",
      "I am the MAIN Thread - every Python program has one!\n",
      "I am the MAIN Thread - every Python program has one!\n",
      "I am the MAIN Thread - every Python program has one!\n",
      "I am the MAIN Thread - every Python program has one!\n",
      "I am the MAIN Thread - every Python program has one!\n",
      "I am zorkon \n",
      "I am zorkon \n",
      "I am zorkon \n",
      "I am zorkon \n",
      "I am zorkon \n",
      "\n",
      "I am natasha \n",
      "I am natasha \n",
      "I am natasha \n",
      "I am natasha \n"
     ]
    }
   ],
   "source": [
    "# repeat experiment - notice the output is different\n",
    "# we cannot predict when threads will execute !!\n",
    "\n",
    "boris   =  Demo('boris')\n",
    "natasha =  Demo('natasha')\n",
    "zorkon  =  Demo('zorkon')\n",
    "\n",
    "# create thread objects that execute a function and then terminate\n",
    "t1 = Thread(target=boris.display)\n",
    "t2 = Thread(target=natasha.display)\n",
    "t3 = Thread(target=zorkon.display)\n",
    "\n",
    "# launch the threads\n",
    "t1.start()\n",
    "t2.start()\n",
    "t3.start()\n",
    "\n",
    "# Main Program thread also prints...\n",
    "for i in range(6):\n",
    "   print(\"I am the MAIN Thread - every Python program has one!\")"
   ]
  },
  {
   "cell_type": "code",
   "execution_count": null,
   "id": "bd39852e",
   "metadata": {},
   "outputs": [],
   "source": []
  }
 ],
 "metadata": {
  "kernelspec": {
   "display_name": "Python 3",
   "language": "python",
   "name": "python3"
  },
  "language_info": {
   "codemirror_mode": {
    "name": "ipython",
    "version": 3
   },
   "file_extension": ".py",
   "mimetype": "text/x-python",
   "name": "python",
   "nbconvert_exporter": "python",
   "pygments_lexer": "ipython3",
   "version": "3.8.3"
  }
 },
 "nbformat": 4,
 "nbformat_minor": 5
}
