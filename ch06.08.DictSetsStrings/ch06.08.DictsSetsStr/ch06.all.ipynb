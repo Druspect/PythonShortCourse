{
 "cells": [
  {
   "cell_type": "markdown",
   "id": "09b66222",
   "metadata": {
    "slideshow": {
     "slide_type": "slide"
    }
   },
   "source": [
    "# 6. Dictionaries and Sets"
   ]
  },
  {
   "cell_type": "markdown",
   "id": "a3b96ba7",
   "metadata": {
    "slideshow": {
     "slide_type": "slide"
    }
   },
   "source": [
    "### Objectives \n",
    "In this chapter, you’ll:\n",
    "* Use dictionaries to represent unordered collections of key–value pairs.\n",
    "* Use sets to represent unordered collections of unique values.\n",
    "* Create, initialize and refer to elements of dictionaries and sets. \n",
    "* Iterate through a dictionary’s keys, values and key–value pairs.\n",
    "* Add, remove and update a dictionary’s key–value pairs. "
   ]
  },
  {
   "cell_type": "markdown",
   "id": "148eb4f9",
   "metadata": {
    "slideshow": {
     "slide_type": "slide"
    }
   },
   "source": [
    "### Objectives (cont.)\n",
    "* Use dictionary and set comparison operators.\n",
    "* Combine sets with set operators and methods. \n",
    "* Use operators `in` and `not` `in` to determine if a dictionary contains a key or a set contains a value.\n",
    "* Use the mutable set operations to modify a set’s contents.\n",
    "* Use comprehensions to create dictionaries and sets quickly and conveniently.\n",
    "* Learn how to build dynamic visualizations and implement more of your own in the exercises.\n",
    "* Enhance your understanding of mutability and immutability."
   ]
  },
  {
   "cell_type": "markdown",
   "id": "d64756d6",
   "metadata": {},
   "source": [
    "# 6.1 Introduction\n",
    "* A **dictionary** is an _unordered_ collection which stores **key–value pairs** that map immutable keys to values, just as a conventional dictionary maps words to definitions. \n",
    "* A **set** is an unordered collection of unique immutable elements."
   ]
  },
  {
   "cell_type": "markdown",
   "id": "65916acf",
   "metadata": {},
   "source": [
    "# 6.2 Dictionaries\n",
    "* A dictionary _associates_ keys with values. \n",
    "* Each key _maps_ to a specific value. \n",
    "* Sample dictionary keys and values:"
   ]
  },
  {
   "cell_type": "markdown",
   "id": "911555ab",
   "metadata": {},
   "source": [
    "| Keys | Key type | Values | Value type\n",
    "| :-------- | :-------- | :-------- | :--------\n",
    "| Country names | `str` | Internet country codes | `str` \n",
    "| Decimal numbers | `int` | Roman numerals | `str` \n",
    "| States | `str` | Agricultural products | list of `str` \n",
    "| Hospital patients | `str`  | Vital signs | tuple of `int`s and `float`s \n",
    "| Baseball players | `str`  | Batting averages | `float` \n",
    "| Metric measurements | `str`  | Abbreviations | `str` \n",
    "| Inventory codes | `str`  | Quantity in stock | `int` "
   ]
  },
  {
   "cell_type": "markdown",
   "id": "0030498a",
   "metadata": {},
   "source": [
    "### Unique Keys\n",
    "* Keys must be _immutable_ and _unique_.\n",
    "* Multiple keys can have the same value. "
   ]
  },
  {
   "cell_type": "markdown",
   "id": "d53f4b09",
   "metadata": {},
   "source": [
    "## 6.2.1 Creating a Dictionary\n",
    "* Create a dictionary by enclosing in curly braces, `{}`, a comma-separated list of key–value pairs, each of the form _key_: _value_. \n",
    "* Create an empty dictionary with `{}`. "
   ]
  },
  {
   "cell_type": "code",
   "execution_count": null,
   "id": "5de12967",
   "metadata": {},
   "outputs": [],
   "source": [
    "country_codes = {'Finland': 'fi', 'South Africa': 'za', \n",
    "                  'Nepal': 'np'}\n",
    "                 "
   ]
  },
  {
   "cell_type": "code",
   "execution_count": null,
   "id": "a3af958e",
   "metadata": {},
   "outputs": [],
   "source": [
    "country_codes"
   ]
  },
  {
   "cell_type": "markdown",
   "id": "276ecbc3",
   "metadata": {},
   "source": [
    "* Dictionaries are _unordered_ collections.\n",
    "* Do _not_ write code that depends on the order of the key–value pairs. "
   ]
  },
  {
   "cell_type": "markdown",
   "id": "9cbc8464",
   "metadata": {},
   "source": [
    "### Determining if a Dictionary Is Empty "
   ]
  },
  {
   "cell_type": "code",
   "execution_count": null,
   "id": "6739b799",
   "metadata": {},
   "outputs": [],
   "source": [
    "len(country_codes)"
   ]
  },
  {
   "cell_type": "markdown",
   "id": "6a53d135",
   "metadata": {},
   "source": [
    "* Can use a dictionary as a condition to determine if it’s empty—non-empty is `True` and empty is `False`"
   ]
  },
  {
   "cell_type": "code",
   "execution_count": null,
   "id": "839c28fa",
   "metadata": {},
   "outputs": [],
   "source": [
    "if country_codes:\n",
    "    print('country_codes is not empty')\n",
    "else:\n",
    "    print('country_codes is empty')\n",
    "    "
   ]
  },
  {
   "cell_type": "code",
   "execution_count": null,
   "id": "069d4c63",
   "metadata": {},
   "outputs": [],
   "source": [
    "country_codes.clear()"
   ]
  },
  {
   "cell_type": "code",
   "execution_count": null,
   "id": "7d33d52d",
   "metadata": {},
   "outputs": [],
   "source": [
    "if country_codes:\n",
    "    print('country_codes is not empty')\n",
    "else:\n",
    "    print('country_codes is empty')\n",
    "    "
   ]
  },
  {
   "cell_type": "markdown",
   "id": "dbdc0f3d",
   "metadata": {},
   "source": [
    "## 6.2.2 Iterating through a Dictionary "
   ]
  },
  {
   "cell_type": "code",
   "execution_count": null,
   "id": "4ac118f6",
   "metadata": {},
   "outputs": [],
   "source": [
    "days_per_month = {'January': 31, 'February': 28, 'March': 31}"
   ]
  },
  {
   "cell_type": "code",
   "execution_count": null,
   "id": "39fb4668",
   "metadata": {},
   "outputs": [],
   "source": [
    "days_per_month"
   ]
  },
  {
   "cell_type": "markdown",
   "id": "45ea93a8",
   "metadata": {},
   "source": [
    "* Dictionary method **`items`** returns each key–value pair as a tuple: "
   ]
  },
  {
   "cell_type": "code",
   "execution_count": null,
   "id": "0d7de8b1",
   "metadata": {},
   "outputs": [],
   "source": [
    "for month, days in days_per_month.items():\n",
    "    print(f'{month} has {days} days')\n",
    "    "
   ]
  },
  {
   "cell_type": "markdown",
   "id": "f045aae3",
   "metadata": {},
   "source": [
    "## 6.2.3 Basic Dictionary Operations"
   ]
  },
  {
   "cell_type": "markdown",
   "id": "01e46fd2",
   "metadata": {},
   "source": [
    "* Intentionally provided the incorrect value `100` for the key `'X'`:"
   ]
  },
  {
   "cell_type": "code",
   "execution_count": null,
   "id": "6bad7e10",
   "metadata": {},
   "outputs": [],
   "source": [
    "roman_numerals = {'I': 1, 'II': 2, 'III': 3, 'V': 5, 'X': 100}"
   ]
  },
  {
   "cell_type": "code",
   "execution_count": null,
   "id": "1f881cc9",
   "metadata": {},
   "outputs": [],
   "source": [
    "roman_numerals"
   ]
  },
  {
   "cell_type": "markdown",
   "id": "43d9cfc6",
   "metadata": {},
   "source": [
    "### Accessing the Value Associated with a Key"
   ]
  },
  {
   "cell_type": "code",
   "execution_count": null,
   "id": "5f42c2a9",
   "metadata": {},
   "outputs": [],
   "source": [
    "roman_numerals['V']"
   ]
  },
  {
   "cell_type": "markdown",
   "id": "7fc14cec",
   "metadata": {},
   "source": [
    "### Updating the Value of an Existing Key–Value Pair"
   ]
  },
  {
   "cell_type": "code",
   "execution_count": null,
   "id": "35551fb3",
   "metadata": {},
   "outputs": [],
   "source": [
    "roman_numerals['X'] = 10"
   ]
  },
  {
   "cell_type": "code",
   "execution_count": null,
   "id": "25869120",
   "metadata": {},
   "outputs": [],
   "source": [
    "roman_numerals"
   ]
  },
  {
   "cell_type": "markdown",
   "id": "8c252899",
   "metadata": {},
   "source": [
    "### Adding a New Key–Value Pair"
   ]
  },
  {
   "cell_type": "code",
   "execution_count": null,
   "id": "8f2e272c",
   "metadata": {},
   "outputs": [],
   "source": [
    "roman_numerals['L'] = 50"
   ]
  },
  {
   "cell_type": "code",
   "execution_count": null,
   "id": "95b03094",
   "metadata": {},
   "outputs": [],
   "source": [
    "roman_numerals"
   ]
  },
  {
   "cell_type": "markdown",
   "id": "cc3f2277",
   "metadata": {},
   "source": [
    "* String keys are case sensitive. \n",
    "* Assigning to a nonexistent key inserts a new key–value pair. "
   ]
  },
  {
   "cell_type": "markdown",
   "id": "8a00f6cf",
   "metadata": {},
   "source": [
    "### Removing a Key–Value Pair"
   ]
  },
  {
   "cell_type": "code",
   "execution_count": null,
   "id": "cfdd9576",
   "metadata": {},
   "outputs": [],
   "source": [
    "del roman_numerals['III']"
   ]
  },
  {
   "cell_type": "code",
   "execution_count": null,
   "id": "57b00bce",
   "metadata": {},
   "outputs": [],
   "source": [
    "roman_numerals"
   ]
  },
  {
   "cell_type": "markdown",
   "id": "dd6fd529",
   "metadata": {},
   "source": [
    "### Attempting to Access a Nonexistent Key"
   ]
  },
  {
   "cell_type": "code",
   "execution_count": null,
   "id": "0a3d838e",
   "metadata": {},
   "outputs": [],
   "source": [
    "roman_numerals['III']"
   ]
  },
  {
   "cell_type": "markdown",
   "id": "79075518",
   "metadata": {},
   "source": [
    "* Method **`get`** returns its argument’s corresponding value or `None` if the key is not found. \n",
    "* IPython does not display anything for `None`. \n",
    "* `get` with a second argument returns teh second argument if the key is not found."
   ]
  },
  {
   "cell_type": "code",
   "execution_count": null,
   "id": "1f4f777e",
   "metadata": {},
   "outputs": [],
   "source": [
    "roman_numerals.get('III')"
   ]
  },
  {
   "cell_type": "code",
   "execution_count": null,
   "id": "9f5f847b",
   "metadata": {},
   "outputs": [],
   "source": [
    "roman_numerals.get('III', 'III not in dictionary')"
   ]
  },
  {
   "cell_type": "code",
   "execution_count": null,
   "id": "571ad678",
   "metadata": {},
   "outputs": [],
   "source": [
    "roman_numerals.get('V')"
   ]
  },
  {
   "cell_type": "markdown",
   "id": "edcaf40a",
   "metadata": {},
   "source": [
    "### Testing Whether a Dictionary Contains a Specified Key"
   ]
  },
  {
   "cell_type": "code",
   "execution_count": null,
   "id": "c662b9b5",
   "metadata": {},
   "outputs": [],
   "source": [
    "'V' in roman_numerals"
   ]
  },
  {
   "cell_type": "code",
   "execution_count": null,
   "id": "ee5138fd",
   "metadata": {},
   "outputs": [],
   "source": [
    "'III' in roman_numerals"
   ]
  },
  {
   "cell_type": "code",
   "execution_count": null,
   "id": "4d3ba0c8",
   "metadata": {},
   "outputs": [],
   "source": [
    "'III' not in roman_numerals"
   ]
  },
  {
   "cell_type": "markdown",
   "id": "4637cfa3",
   "metadata": {},
   "source": [
    "## 6.2.4 Dictionary Methods `keys` and `values` "
   ]
  },
  {
   "cell_type": "code",
   "execution_count": null,
   "id": "8171c10e",
   "metadata": {},
   "outputs": [],
   "source": [
    "months = {'January': 1, 'February': 2, 'March': 3}"
   ]
  },
  {
   "cell_type": "code",
   "execution_count": null,
   "id": "49088822",
   "metadata": {},
   "outputs": [],
   "source": [
    "for month_name in months.keys():\n",
    "    print(month_name, end='  ')\n",
    "   "
   ]
  },
  {
   "cell_type": "code",
   "execution_count": null,
   "id": "ce1cec6c",
   "metadata": {},
   "outputs": [],
   "source": [
    "for month_number in months.values():\n",
    "    print(month_number, end='  ')"
   ]
  },
  {
   "cell_type": "markdown",
   "id": "d240c15f",
   "metadata": {},
   "source": [
    "### Dictionary Views\n",
    "* Methods `items`, `keys` and `values` each return a **view** of a dictionary’s data. \n",
    "* When you iterate over a **`view`**, it “sees” the dictionary’s **current contents**—it does **not** have its own copy of the data."
   ]
  },
  {
   "cell_type": "code",
   "execution_count": null,
   "id": "892521ac",
   "metadata": {},
   "outputs": [],
   "source": [
    "months_view = months.keys()"
   ]
  },
  {
   "cell_type": "code",
   "execution_count": null,
   "id": "3bd1544a",
   "metadata": {},
   "outputs": [],
   "source": [
    "for key in months_view:\n",
    "    print(key, end='  ')\n",
    "    "
   ]
  },
  {
   "cell_type": "code",
   "execution_count": null,
   "id": "acf0e0f6",
   "metadata": {},
   "outputs": [],
   "source": [
    "months['December'] = 12"
   ]
  },
  {
   "cell_type": "code",
   "execution_count": null,
   "id": "54f9f776",
   "metadata": {},
   "outputs": [],
   "source": [
    "months"
   ]
  },
  {
   "cell_type": "code",
   "execution_count": null,
   "id": "76e81a15",
   "metadata": {},
   "outputs": [],
   "source": [
    "for key in months_view:\n",
    "    print(key, end='  ')\n",
    "    "
   ]
  },
  {
   "cell_type": "markdown",
   "id": "ca4ad84d",
   "metadata": {},
   "source": [
    "### Converting Dictionary Keys, Values and Key–Value Pairs to Lists"
   ]
  },
  {
   "cell_type": "code",
   "execution_count": null,
   "id": "5f094d73",
   "metadata": {},
   "outputs": [],
   "source": [
    "print (months.keys() )\n",
    "list(months.keys())"
   ]
  },
  {
   "cell_type": "code",
   "execution_count": null,
   "id": "30706bde",
   "metadata": {},
   "outputs": [],
   "source": [
    "list(months.values())"
   ]
  },
  {
   "cell_type": "code",
   "execution_count": null,
   "id": "0c644eb7",
   "metadata": {},
   "outputs": [],
   "source": [
    "list(months.items())"
   ]
  },
  {
   "cell_type": "markdown",
   "id": "6c235ba6",
   "metadata": {},
   "source": [
    "### Processing Keys in Sorted Order "
   ]
  },
  {
   "cell_type": "code",
   "execution_count": null,
   "id": "03acd242",
   "metadata": {},
   "outputs": [],
   "source": [
    "for month_name in sorted(months.keys()):\n",
    "     print(month_name, end='  ')"
   ]
  },
  {
   "cell_type": "markdown",
   "id": "dd0ec3ca",
   "metadata": {},
   "source": [
    "## 6.2.5 Dictionary Comparisons\n",
    "* `==` is `True` if both dictionaries have the same key–value pairs, **_regardless_ of the order in which those key–value pairs were added to each dictionary**."
   ]
  },
  {
   "cell_type": "code",
   "execution_count": null,
   "id": "3d602135",
   "metadata": {},
   "outputs": [],
   "source": [
    "country_capitals1 = {'Belgium': 'Brussels',\n",
    "                     'Haiti': 'Port-au-Prince'}\n",
    "                        "
   ]
  },
  {
   "cell_type": "code",
   "execution_count": null,
   "id": "12b7179e",
   "metadata": {},
   "outputs": [],
   "source": [
    "country_capitals2 = {'Nepal': 'Kathmandu',\n",
    "                     'Uruguay': 'Montevideo'}\n",
    "                        "
   ]
  },
  {
   "cell_type": "code",
   "execution_count": null,
   "id": "a61eb3c7",
   "metadata": {},
   "outputs": [],
   "source": [
    "country_capitals3 = {'Haiti': 'Port-au-Prince',\n",
    "                     'Belgium': 'Brussels'}\n",
    "                        "
   ]
  },
  {
   "cell_type": "code",
   "execution_count": null,
   "id": "6369c9ef",
   "metadata": {},
   "outputs": [],
   "source": [
    "country_capitals1 == country_capitals2"
   ]
  },
  {
   "cell_type": "code",
   "execution_count": null,
   "id": "9556859f",
   "metadata": {},
   "outputs": [],
   "source": [
    "country_capitals1 == country_capitals3"
   ]
  },
  {
   "cell_type": "code",
   "execution_count": null,
   "id": "0943c2a1",
   "metadata": {},
   "outputs": [],
   "source": [
    "country_capitals1 != country_capitals2"
   ]
  },
  {
   "cell_type": "markdown",
   "id": "1b2e0d0f",
   "metadata": {},
   "source": [
    "## 6.2.6 Example: Dictionary of Student Grades\n",
    "* Script with a dictionary that represents an instructor’s grade book. \n",
    "* Maps each student’s name (a string) to a list of integers containing that student’s grades on three exams.  "
   ]
  },
  {
   "cell_type": "code",
   "execution_count": null,
   "id": "24241f1d",
   "metadata": {},
   "outputs": [],
   "source": [
    "\n",
    "# fig06_01.py\n",
    "\"\"\"Using a dictionary to represent an instructor's grade book.\"\"\"\n",
    "grade_book = {            \n",
    "    'Susan': [92, 85, 100], \n",
    "    'Eduardo': [83, 95, 79],\n",
    "    'Azizi': [91, 89, 82],  \n",
    "    'Pantipa': [97, 91, 92] \n",
    "}\n",
    "\n",
    "all_grades_total = 0\n",
    "all_grades_count = 0\n",
    "\n",
    "for name, grades in grade_book.items():\n",
    "    total = sum(grades)\n",
    "    print(f'Average for {name} is {total/len(grades):.2f}')\n",
    "    all_grades_total += total\n",
    "    all_grades_count += len(grades)\n",
    "    \n",
    "print(f\"Class's average is: {all_grades_total / all_grades_count:.2f}\")\n",
    "\n"
   ]
  },
  {
   "cell_type": "markdown",
   "id": "ef510de0",
   "metadata": {},
   "source": [
    "## 6.2.7 Example: Word Counts \n",
    "* Script that builds a dictionary to count the number of occurrences of each word in a **tokenized** string. \n",
    "* Python automatically concatenates strings separated by whitespace in parentheses. "
   ]
  },
  {
   "cell_type": "markdown",
   "id": "769f81d1",
   "metadata": {},
   "source": [
    "```python\n",
    "# fig06_02.py\n",
    "\"\"\"Tokenizing a string and counting unique words.\"\"\"\n",
    "\n",
    "text = ('this is sample text with several words '\n",
    "        'this is more sample text with some different words')\n",
    "\n",
    "word_counts = {}\n",
    "\n",
    "# count occurrences of each unique word\n",
    "for word in text.split():\n",
    "    if word in word_counts: \n",
    "        word_counts[word] += 1  # update existing key-value pair\n",
    "    else:\n",
    "        word_counts[word] = 1  # insert new key-value pair\n",
    "\n",
    "print(f'{\"WORD\":<12}COUNT')\n",
    "\n",
    "for word, count in sorted(word_counts.items()):\n",
    "    print(f'{word:<12}{count}')\n",
    "\n",
    "print('\\nNumber of unique words:', len(word_counts))\n",
    "```"
   ]
  },
  {
   "cell_type": "markdown",
   "id": "8dbbf354",
   "metadata": {},
   "source": [
    "### Python Standard Library Module `collections` \n",
    "* The Python Standard Library already contains the counting functionality shown above. \n",
    "* A **`Counter`** is a customized dictionary that receives an iterable and summarizes its elements. "
   ]
  },
  {
   "cell_type": "code",
   "execution_count": null,
   "id": "028eef67",
   "metadata": {},
   "outputs": [],
   "source": [
    "from collections import Counter"
   ]
  },
  {
   "cell_type": "code",
   "execution_count": null,
   "id": "aa6fcbbc",
   "metadata": {},
   "outputs": [],
   "source": [
    "text = ('this is sample text with several words '\n",
    "        'this is more sample text with some different words')"
   ]
  },
  {
   "cell_type": "code",
   "execution_count": null,
   "id": "4ae2b2a3",
   "metadata": {},
   "outputs": [],
   "source": [
    "counter = Counter(text.split())"
   ]
  },
  {
   "cell_type": "code",
   "execution_count": null,
   "id": "cf06ff85",
   "metadata": {},
   "outputs": [],
   "source": [
    "for word, count in sorted(counter.items()):\n",
    "    print(f'{word:<12}{count}')\n",
    "    "
   ]
  },
  {
   "cell_type": "code",
   "execution_count": null,
   "id": "31823ceb",
   "metadata": {},
   "outputs": [],
   "source": [
    "print('Number of unique keys:', len(counter.keys()))"
   ]
  },
  {
   "cell_type": "markdown",
   "id": "4e5f0c26",
   "metadata": {},
   "source": [
    "# 6.3 Sets\n",
    "* A set is an unordered collection of **unique values**. \n",
    "* May contain **only immutable objects**, like strings, `int`s, `float`s and tuples that contain only immutable elements. \n",
    "* Sets do not support indexing and slicing. "
   ]
  },
  {
   "cell_type": "markdown",
   "id": "777b0b71",
   "metadata": {},
   "source": [
    "### Creating a Set with Curly Braces\n",
    "* Duplicates are ignored, making sets great for **duplicate elimination**."
   ]
  },
  {
   "cell_type": "code",
   "execution_count": null,
   "id": "fecc0728",
   "metadata": {},
   "outputs": [],
   "source": [
    "colors = {'red', 'orange', 'yellow', 'green', 'red', 'blue'}"
   ]
  },
  {
   "cell_type": "markdown",
   "id": "8523b86d",
   "metadata": {},
   "source": [
    "* Though the output below is sorted, sets are **unordered**&mdash;do not write order-dependent code. "
   ]
  },
  {
   "cell_type": "code",
   "execution_count": null,
   "id": "bcace1b3",
   "metadata": {},
   "outputs": [],
   "source": [
    "colors"
   ]
  },
  {
   "cell_type": "markdown",
   "id": "9f2aae6c",
   "metadata": {},
   "source": [
    "### Determining a Set’s Length"
   ]
  },
  {
   "cell_type": "code",
   "execution_count": null,
   "id": "57a3a34c",
   "metadata": {},
   "outputs": [],
   "source": [
    "len(colors)"
   ]
  },
  {
   "cell_type": "markdown",
   "id": "cb90db83",
   "metadata": {},
   "source": [
    "### Checking Whether a Value Is in a Set"
   ]
  },
  {
   "cell_type": "code",
   "execution_count": null,
   "id": "8fc58f7f",
   "metadata": {},
   "outputs": [],
   "source": [
    "'red' in colors"
   ]
  },
  {
   "cell_type": "code",
   "execution_count": null,
   "id": "5f2d5c30",
   "metadata": {},
   "outputs": [],
   "source": [
    "'purple' in colors"
   ]
  },
  {
   "cell_type": "code",
   "execution_count": null,
   "id": "b7afcb1a",
   "metadata": {},
   "outputs": [],
   "source": [
    "'purple' not in colors"
   ]
  },
  {
   "cell_type": "markdown",
   "id": "af56b94b",
   "metadata": {},
   "source": [
    "### Iterating Through a Set\n",
    "* There’s no significance to the iteration order."
   ]
  },
  {
   "cell_type": "code",
   "execution_count": null,
   "id": "0e5aa148",
   "metadata": {},
   "outputs": [],
   "source": [
    "for color in colors:\n",
    "    print(color.upper(), end=' ')\n",
    "    "
   ]
  },
  {
   "cell_type": "markdown",
   "id": "18133b19",
   "metadata": {},
   "source": [
    "### Creating a Set with the Built-In `set` Function"
   ]
  },
  {
   "cell_type": "code",
   "execution_count": null,
   "id": "4b6e1d61",
   "metadata": {},
   "outputs": [],
   "source": [
    "numbers = list(range(10)) + list(range(5))"
   ]
  },
  {
   "cell_type": "code",
   "execution_count": null,
   "id": "b6c7a282",
   "metadata": {},
   "outputs": [],
   "source": [
    "numbers"
   ]
  },
  {
   "cell_type": "code",
   "execution_count": null,
   "id": "75582dd4",
   "metadata": {},
   "outputs": [],
   "source": [
    "set(numbers)"
   ]
  },
  {
   "cell_type": "markdown",
   "id": "c6e2826f",
   "metadata": {},
   "source": [
    "* To create an empty set, must use the **`set()`**, because **`{}` represents an empty dictionary**.\n",
    "* Python displays an empty set as `set()` to avoid confusion with an empty dictionary (`{}`)."
   ]
  },
  {
   "cell_type": "code",
   "execution_count": null,
   "id": "2ba6f5d1",
   "metadata": {},
   "outputs": [],
   "source": [
    "myset = set()\n",
    "myset"
   ]
  },
  {
   "cell_type": "markdown",
   "id": "68bf77ae",
   "metadata": {},
   "source": [
    "### Frozenset: An Immutable Set Type\n",
    "* **Sets are _mutable_**.\n",
    "* **Set _elements_ must be _immutable_**; therefore, a set cannot have other sets as elements.\n",
    "* A **frozenset** is an _immutable_ set—it cannot be modified after you create it, so a set _can_ contain frozensets as elements. \n",
    "* The built-in function **`frozenset`** creates a frozenset from any iterable. "
   ]
  },
  {
   "cell_type": "code",
   "execution_count": null,
   "id": "1e13361c",
   "metadata": {},
   "outputs": [],
   "source": [
    "s1 = {2,3,4}\n",
    "s1.remove(2)\n",
    "s1\n",
    "list1 = [9,8,7]\n",
    "frozz = frozenset(list1)\n",
    "frozz.remove(7)\n"
   ]
  },
  {
   "cell_type": "markdown",
   "id": "8eecec99",
   "metadata": {},
   "source": [
    "## 6.3.1 Comparing Sets"
   ]
  },
  {
   "cell_type": "code",
   "execution_count": null,
   "id": "dcdca53e",
   "metadata": {},
   "outputs": [],
   "source": [
    "{1, 3, 5} == {3, 5, 1}"
   ]
  },
  {
   "cell_type": "code",
   "execution_count": null,
   "id": "a00c6663",
   "metadata": {},
   "outputs": [],
   "source": [
    "{1, 3, 5} != {3, 5, 1}"
   ]
  },
  {
   "cell_type": "markdown",
   "id": "f86f210f",
   "metadata": {},
   "source": [
    "* `<` tests whether the set to its left is a **proper subset** of the one to its right—all the elements in the left operand are in the right operand, and **the sets are not equal**."
   ]
  },
  {
   "cell_type": "code",
   "execution_count": null,
   "id": "32a08d38",
   "metadata": {},
   "outputs": [],
   "source": [
    "{1, 3, 5} < {3, 5, 1}"
   ]
  },
  {
   "cell_type": "code",
   "execution_count": null,
   "id": "51e9b0d1",
   "metadata": {},
   "outputs": [],
   "source": [
    "{1, 3, 5} < {7, 3, 5, 1}"
   ]
  },
  {
   "cell_type": "markdown",
   "id": "cbedd80b",
   "metadata": {},
   "source": [
    "* The `<=` operator tests whether the set to its left is an **improper subset** of the one to its right—that is, all the elements in the left operand are in the right operand, and **the sets might be equal**:"
   ]
  },
  {
   "cell_type": "code",
   "execution_count": null,
   "id": "8d5957ea",
   "metadata": {},
   "outputs": [],
   "source": [
    "{1, 3, 5} <= {3, 5, 1}"
   ]
  },
  {
   "cell_type": "code",
   "execution_count": null,
   "id": "4f2ed03d",
   "metadata": {},
   "outputs": [],
   "source": [
    "{1, 3} <= {3, 5, 1}"
   ]
  },
  {
   "cell_type": "markdown",
   "id": "d9e0806e",
   "metadata": {},
   "source": [
    "* You may also check for an improper subset with the set method **`issubset`**:"
   ]
  },
  {
   "cell_type": "code",
   "execution_count": null,
   "id": "ed7eaec3",
   "metadata": {},
   "outputs": [],
   "source": [
    "{1, 3, 5}.issubset({3, 5, 1})"
   ]
  },
  {
   "cell_type": "code",
   "execution_count": null,
   "id": "2ba7804e",
   "metadata": {},
   "outputs": [],
   "source": [
    "{1, 2}.issubset({3, 5, 1})"
   ]
  },
  {
   "cell_type": "markdown",
   "id": "de712eef",
   "metadata": {},
   "source": [
    "## 6.3.2 Mathematical Set Operations"
   ]
  },
  {
   "cell_type": "markdown",
   "id": "db5a732f",
   "metadata": {},
   "source": [
    "### Union\n",
    "* The **union** of two sets is a set consisting of all the unique elements from both sets.\n",
    "* The union operator requires two sets, but method `union` may receive any iterable as its argument (this is true for subsequent methods in this section as well)."
   ]
  },
  {
   "cell_type": "code",
   "execution_count": null,
   "id": "b7e966ba",
   "metadata": {},
   "outputs": [],
   "source": [
    "{1, 3, 5} | {2, 3, 4}"
   ]
  },
  {
   "cell_type": "code",
   "execution_count": null,
   "id": "45892e20",
   "metadata": {},
   "outputs": [],
   "source": [
    "{1, 3, 5}.union([20, 20, 3, 40, 40])"
   ]
  },
  {
   "cell_type": "markdown",
   "id": "2de4e375",
   "metadata": {},
   "source": [
    "### Intersection \n",
    "The **intersection** of two sets is a set consisting of all the unique elements that the two sets have in common. "
   ]
  },
  {
   "cell_type": "code",
   "execution_count": null,
   "id": "e71d4f96",
   "metadata": {},
   "outputs": [],
   "source": [
    "{2,4,5,7 } & {2,5,6,8}"
   ]
  },
  {
   "cell_type": "code",
   "execution_count": null,
   "id": "3b15f904",
   "metadata": {},
   "outputs": [],
   "source": [
    "{1, 3, 5} & {2, 3, 4}"
   ]
  },
  {
   "cell_type": "code",
   "execution_count": null,
   "id": "5c764e4f",
   "metadata": {},
   "outputs": [],
   "source": [
    "{1, 3, 5}.intersection([1, 2, 2, 3, 3, 4, 4])"
   ]
  },
  {
   "cell_type": "markdown",
   "id": "7c938efc",
   "metadata": {},
   "source": [
    "### Difference \n",
    "The **difference** between two sets is a set consisting of the elements in the left operand that are not in the right operand. "
   ]
  },
  {
   "cell_type": "code",
   "execution_count": null,
   "id": "9ceb8f22",
   "metadata": {},
   "outputs": [],
   "source": [
    "{1, 3, 5} - {2, 3, 4}"
   ]
  },
  {
   "cell_type": "code",
   "execution_count": null,
   "id": "be13ec49",
   "metadata": {},
   "outputs": [],
   "source": [
    "{1, 3, 5, 7}.difference([2, 2, 3, 3, 4, 4])"
   ]
  },
  {
   "cell_type": "markdown",
   "id": "950b452c",
   "metadata": {},
   "source": [
    "### Symmetric Difference \n",
    "The **symmetric difference** between two sets is a set consisting of the elements of both sets that are not in common with one another. "
   ]
  },
  {
   "cell_type": "code",
   "execution_count": null,
   "id": "efeddf20",
   "metadata": {},
   "outputs": [],
   "source": [
    "{1, 3, 5} ^ {2, 3, 4}"
   ]
  },
  {
   "cell_type": "code",
   "execution_count": null,
   "id": "4a633129",
   "metadata": {},
   "outputs": [],
   "source": [
    "{1, 3, 5, 7}.symmetric_difference([2, 2, 3, 3, 4, 4])"
   ]
  },
  {
   "cell_type": "markdown",
   "id": "fba20fac",
   "metadata": {},
   "source": [
    "### Disjoint\n",
    "Two sets are **disjoint** if they do not have any common elements. "
   ]
  },
  {
   "cell_type": "code",
   "execution_count": null,
   "id": "f1a463d8",
   "metadata": {},
   "outputs": [],
   "source": [
    "{1, 3, 5}.isdisjoint({2, 4, 6})"
   ]
  },
  {
   "cell_type": "code",
   "execution_count": null,
   "id": "ee1f1278",
   "metadata": {},
   "outputs": [],
   "source": [
    "{1, 3, 5}.isdisjoint({4, 6, 1})"
   ]
  },
  {
   "cell_type": "markdown",
   "id": "7d73985f",
   "metadata": {},
   "source": [
    "## 6.3.3 Mutable Set Operators and Methods\n",
    "\n",
    "### Mutable Mathematical Set Operations -\n",
    "- the set is updated with new values -- not frozen"
   ]
  },
  {
   "cell_type": "code",
   "execution_count": null,
   "id": "ba9d7391",
   "metadata": {},
   "outputs": [],
   "source": [
    "numbers = {1, 3, 5}\n"
   ]
  },
  {
   "cell_type": "code",
   "execution_count": null,
   "id": "6896dfc6",
   "metadata": {},
   "outputs": [],
   "source": [
    "numbers |= {2, 3, 4}"
   ]
  },
  {
   "cell_type": "code",
   "execution_count": null,
   "id": "fe00cdc5",
   "metadata": {},
   "outputs": [],
   "source": [
    "numbers"
   ]
  },
  {
   "cell_type": "code",
   "execution_count": null,
   "id": "a3560e8a",
   "metadata": {},
   "outputs": [],
   "source": [
    "numbers.update(range(10))"
   ]
  },
  {
   "cell_type": "code",
   "execution_count": null,
   "id": "0b7d6fb7",
   "metadata": {},
   "outputs": [],
   "source": [
    "numbers\n"
   ]
  },
  {
   "cell_type": "markdown",
   "id": "94952ba2",
   "metadata": {},
   "source": [
    "Other mutable set methods:\n",
    "* intersection augmented assignment `&=` \n",
    "* difference augmented assignment `-=` \n",
    "* symmetric difference augmented assignment `^=` \n",
    "\n",
    "Corresponding methods with iterable arguments:\n",
    "* `intersection_update` \n",
    "* `difference_update` \n",
    "* `symmetric_difference_update` "
   ]
  },
  {
   "cell_type": "markdown",
   "id": "48122d58",
   "metadata": {},
   "source": [
    "### Methods for Adding and Removing Elements\n",
    "* Set method **`add`** inserts its argument if the argument is _not_ already in the set; otherwise, the set remains unchanged."
   ]
  },
  {
   "cell_type": "code",
   "execution_count": null,
   "id": "445c1ac8",
   "metadata": {},
   "outputs": [],
   "source": [
    "numbers.add(17)"
   ]
  },
  {
   "cell_type": "code",
   "execution_count": null,
   "id": "7f127393",
   "metadata": {},
   "outputs": [],
   "source": [
    "numbers.add(3)"
   ]
  },
  {
   "cell_type": "code",
   "execution_count": null,
   "id": "78e06cd5",
   "metadata": {},
   "outputs": [],
   "source": [
    "numbers"
   ]
  },
  {
   "cell_type": "markdown",
   "id": "878a2988",
   "metadata": {},
   "source": [
    "* Method **`remove`** removes its argument from the set&mdash;raises a **`KeyError`** if the value is not in the set.\n"
   ]
  },
  {
   "cell_type": "code",
   "execution_count": null,
   "id": "a9bbdddb",
   "metadata": {},
   "outputs": [],
   "source": [
    "numbers.remove(3)"
   ]
  },
  {
   "cell_type": "code",
   "execution_count": null,
   "id": "df45b854",
   "metadata": {},
   "outputs": [],
   "source": [
    "numbers"
   ]
  },
  {
   "cell_type": "markdown",
   "id": "a9dc6eb8",
   "metadata": {},
   "source": [
    "## 6.3.4 Set Comprehensions\n",
    "* Define set comprehensions in curly braces."
   ]
  },
  {
   "cell_type": "code",
   "execution_count": null,
   "id": "ba543fa2",
   "metadata": {},
   "outputs": [],
   "source": [
    "numbers = [1, 2, 2, 3, 4, 5, 6, 6, 7, 8, 9, 10, 10]"
   ]
  },
  {
   "cell_type": "code",
   "execution_count": null,
   "id": "716c3bdd",
   "metadata": {},
   "outputs": [],
   "source": [
    "evens = {item for item in numbers if item % 2 == 0}"
   ]
  },
  {
   "cell_type": "code",
   "execution_count": null,
   "id": "577c8a4d",
   "metadata": {},
   "outputs": [],
   "source": [
    "evens"
   ]
  },
  {
   "cell_type": "code",
   "execution_count": null,
   "id": "201a5f58",
   "metadata": {},
   "outputs": [],
   "source": []
  }
 ],
 "metadata": {
  "celltoolbar": "Slideshow",
  "kernelspec": {
   "display_name": "Python 3",
   "language": "python",
   "name": "python3"
  },
  "language_info": {
   "codemirror_mode": {
    "name": "ipython",
    "version": 3
   },
   "file_extension": ".py",
   "mimetype": "text/x-python",
   "name": "python",
   "nbconvert_exporter": "python",
   "pygments_lexer": "ipython3",
   "version": "3.8.3"
  }
 },
 "nbformat": 4,
 "nbformat_minor": 5
}
