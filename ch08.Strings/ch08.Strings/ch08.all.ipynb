{
 "cells": [
  {
   "cell_type": "markdown",
   "id": "6e0fed9b",
   "metadata": {},
   "source": [
    "# 8. Strings: A Deeper Look "
   ]
  },
  {
   "cell_type": "markdown",
   "id": "a767f4d5",
   "metadata": {},
   "source": [
    "# Objectives\n",
    "In this chapter, you’ll:\n",
    "* Understand text processing.\n",
    "* Use string methods.\n",
    "* Format string content.\n",
    "* Concatenate and repeat strings.\n",
    "* Strip whitespace from the ends of strings.\n",
    "* Change characters from lowercase to uppercase and vice versa."
   ]
  },
  {
   "cell_type": "markdown",
   "id": "57dedd1b",
   "metadata": {},
   "source": [
    "# Objectives (cont.)\n",
    "* Compare strings with the comparison operators.\n",
    "* Search strings for substrings and replace substrings.\n",
    "* Split strings into tokens.\n",
    "* Concatenate strings into a single string with a specified separator between items.\n",
    "* Create and use regular expressions to match patterns in strings, replace substrings and validate data."
   ]
  },
  {
   "cell_type": "markdown",
   "id": "809d23f1",
   "metadata": {},
   "source": [
    "# Objectives (cont.)\n",
    "* Use regular expression metacharacters, quantifiers, character classes and grouping.\n",
    "* Understand how critical string manipulations are to natural language processing.\n",
    "* Understand the data science terms data munging, data wrangling and data cleaning, and use regular expressions to munge data into preferred formats. "
   ]
  },
  {
   "cell_type": "markdown",
   "id": "89906c3f",
   "metadata": {},
   "source": [
    "## 8.2.1 Presentation Types\n"
   ]
  },
  {
   "cell_type": "code",
   "execution_count": null,
   "id": "a80bb661",
   "metadata": {},
   "outputs": [],
   "source": [
    "f'{17.489:.2f}'"
   ]
  },
  {
   "cell_type": "markdown",
   "id": "8d50700b",
   "metadata": {},
   "source": [
    "* Can also use the **`e` presentation type** for exponential (scientific) notation."
   ]
  },
  {
   "cell_type": "markdown",
   "id": "32711a67",
   "metadata": {},
   "source": [
    "# 8.4 Stripping Whitespace from Strings\n",
    "* Methods for removing whitespace from the ends of a string each return a new string"
   ]
  },
  {
   "cell_type": "markdown",
   "id": "247b8e5e",
   "metadata": {},
   "source": [
    "### Removing Leading and Trailing Whitespace\n",
    "* **`strip`** removes leading and trailing whitespace"
   ]
  },
  {
   "cell_type": "code",
   "execution_count": null,
   "id": "396a0a56",
   "metadata": {},
   "outputs": [],
   "source": [
    "sentence = '\\t  \\n  This is a test string. \\t\\t \\n'"
   ]
  },
  {
   "cell_type": "code",
   "execution_count": null,
   "id": "dfc82098",
   "metadata": {},
   "outputs": [],
   "source": [
    "sentence.strip()"
   ]
  },
  {
   "cell_type": "markdown",
   "id": "dc159c74",
   "metadata": {},
   "source": [
    "### Removing Leading Whitespace\n",
    "* **`lstrip`** removes only leading whitespace"
   ]
  },
  {
   "cell_type": "code",
   "execution_count": null,
   "id": "f68c396a",
   "metadata": {},
   "outputs": [],
   "source": [
    "sentence.lstrip()"
   ]
  },
  {
   "cell_type": "markdown",
   "id": "bd427b7e",
   "metadata": {},
   "source": [
    "### Removing Trailing Whitespace\n",
    "* **`rstrip`** removes only trailing whitespace "
   ]
  },
  {
   "cell_type": "code",
   "execution_count": null,
   "id": "02bad287",
   "metadata": {},
   "outputs": [],
   "source": [
    "sentence.rstrip()"
   ]
  },
  {
   "cell_type": "markdown",
   "id": "cdf4820e",
   "metadata": {},
   "source": [
    "# 8.7 Searching for Substrings\n",
    "* Can search a string for a **substring to \n",
    "    * count number of occurrences\n",
    "    * determine whether a string contains a substring\n",
    "    * determine the index at which a substring resides in a string\n",
    "* Each method shown in this section compares characters lexicographically using their underlying numeric values"
   ]
  },
  {
   "cell_type": "markdown",
   "id": "eba0b531",
   "metadata": {},
   "source": [
    "### Counting Occurrences\n",
    "* **`count`** returns the number of times its argument occurs in a string"
   ]
  },
  {
   "cell_type": "code",
   "execution_count": null,
   "id": "0a04ec60",
   "metadata": {},
   "outputs": [],
   "source": [
    "sentence = 'to be or not to be that is the question'"
   ]
  },
  {
   "cell_type": "code",
   "execution_count": null,
   "id": "c07696a8",
   "metadata": {},
   "outputs": [],
   "source": [
    "sentence.count('to')"
   ]
  },
  {
   "cell_type": "markdown",
   "id": "894abc4d",
   "metadata": {},
   "source": [
    "* If you specify as the second argument a **start index**, `count` searches only the slice **_string_`[`*start_index*`:]`**"
   ]
  },
  {
   "cell_type": "code",
   "execution_count": null,
   "id": "8e3d482f",
   "metadata": {},
   "outputs": [],
   "source": [
    "sentence.count('to', 12)"
   ]
  },
  {
   "cell_type": "markdown",
   "id": "ec3a851d",
   "metadata": {},
   "source": [
    "* If you specify as the second and third arguments the **start index** and **end index**,`count` searches only the slice **_string_`[`*start_index*`:`*end_index*`]`**"
   ]
  },
  {
   "cell_type": "code",
   "execution_count": null,
   "id": "df08d528",
   "metadata": {},
   "outputs": [],
   "source": [
    "sentence.count('that', 12, 25)"
   ]
  },
  {
   "cell_type": "markdown",
   "id": "df263555",
   "metadata": {},
   "source": [
    "* Like `count`, the other string methods presented in this section each have **start index** and **end index** arguments "
   ]
  },
  {
   "cell_type": "markdown",
   "id": "d35e32a9",
   "metadata": {},
   "source": [
    "### Locating a Substring in a String\n",
    "* **`index`** searches for a substring within a string and returns the first index at which the substring is found; otherwise, a `ValueError` occurs:"
   ]
  },
  {
   "cell_type": "code",
   "execution_count": null,
   "id": "5c9bc86f",
   "metadata": {},
   "outputs": [],
   "source": [
    "sentence.index('be')"
   ]
  },
  {
   "cell_type": "markdown",
   "id": "c955b98a",
   "metadata": {},
   "source": [
    "* **`rindex`** performs the same operation as `index`, but searches from the end of the string"
   ]
  },
  {
   "cell_type": "code",
   "execution_count": null,
   "id": "f8efbad6",
   "metadata": {},
   "outputs": [],
   "source": [
    "sentence.rindex('be')"
   ]
  },
  {
   "cell_type": "markdown",
   "id": "ae0c636e",
   "metadata": {},
   "source": [
    "* **`find`** and **`rfind`** perform the same tasks as `index` and `rindex` but return `-1` if the substring is not found"
   ]
  },
  {
   "cell_type": "markdown",
   "id": "62fa271b",
   "metadata": {},
   "source": [
    "### Determining Whether a String Contains a Substring \n",
    "* To check whether a string contains a substring, use operator `in` or `not in`"
   ]
  },
  {
   "cell_type": "code",
   "execution_count": null,
   "id": "ec8e0abb",
   "metadata": {},
   "outputs": [],
   "source": [
    "'that' in sentence"
   ]
  },
  {
   "cell_type": "code",
   "execution_count": null,
   "id": "2783b40b",
   "metadata": {},
   "outputs": [],
   "source": [
    "'THAT' in sentence"
   ]
  },
  {
   "cell_type": "code",
   "execution_count": null,
   "id": "46602497",
   "metadata": {},
   "outputs": [],
   "source": [
    "'THAT' not in sentence"
   ]
  },
  {
   "cell_type": "markdown",
   "id": "1ef6bae8",
   "metadata": {},
   "source": [
    "### Locating a Substring at the Beginning or End of a String\n",
    "* **`startswith`** and **`endswith`** return `True` if the string starts with or ends with a specified substring"
   ]
  },
  {
   "cell_type": "code",
   "execution_count": null,
   "id": "d988d4ca",
   "metadata": {},
   "outputs": [],
   "source": [
    "sentence.startswith('to')"
   ]
  },
  {
   "cell_type": "code",
   "execution_count": null,
   "id": "d9d99ac1",
   "metadata": {},
   "outputs": [],
   "source": [
    "sentence.startswith('be')"
   ]
  },
  {
   "cell_type": "code",
   "execution_count": null,
   "id": "70965cda",
   "metadata": {},
   "outputs": [],
   "source": [
    "sentence.endswith('question')"
   ]
  },
  {
   "cell_type": "code",
   "execution_count": null,
   "id": "07f5a0d8",
   "metadata": {},
   "outputs": [],
   "source": [
    "sentence.endswith('quest')"
   ]
  },
  {
   "cell_type": "markdown",
   "id": "bd8a8c88",
   "metadata": {},
   "source": [
    "# 8.8 Replacing Substrings\n",
    "* A common text manipulation is to locate a substring and replace its value\n",
    "* **`replace`** searches a string for the substring in its first argument and replaces _each_ occurrence with the substring in its second argument\n",
    "* Can receive an optional third argument specifying the maximum number of replacements "
   ]
  },
  {
   "cell_type": "code",
   "execution_count": null,
   "id": "bf495b23",
   "metadata": {},
   "outputs": [],
   "source": [
    "values = '1\\t2\\t3\\t4\\t5'"
   ]
  },
  {
   "cell_type": "code",
   "execution_count": null,
   "id": "b7138740",
   "metadata": {},
   "outputs": [],
   "source": [
    "values.replace('\\t', ',')"
   ]
  },
  {
   "cell_type": "markdown",
   "id": "dec50101",
   "metadata": {},
   "source": [
    "# 8.9 Splitting and Joining Strings\n",
    "* Tokens typically are separated by whitespace characters such as blank, tab and newline, though other characters may be used—the separators are known as **delimiters**"
   ]
  },
  {
   "cell_type": "markdown",
   "id": "fbf0f0cf",
   "metadata": {},
   "source": [
    "### Splitting Strings\n",
    "* To tokenize a string at a custom delimiter, specify the delimiter string that `split` uses to tokenize the string"
   ]
  },
  {
   "cell_type": "code",
   "execution_count": null,
   "id": "caac258a",
   "metadata": {},
   "outputs": [],
   "source": [
    "letters = 'A, B, C, D'"
   ]
  },
  {
   "cell_type": "code",
   "execution_count": null,
   "id": "4421a1fb",
   "metadata": {},
   "outputs": [],
   "source": [
    "letters.split(', ')"
   ]
  },
  {
   "cell_type": "markdown",
   "id": "293ac142",
   "metadata": {},
   "source": [
    "* Specify the maximum number of splits with an integer as the second argument\n",
    "* Last token is the remainder of the string"
   ]
  },
  {
   "cell_type": "code",
   "execution_count": null,
   "id": "1e1a10ca",
   "metadata": {},
   "outputs": [],
   "source": [
    "letters.split(', ', 2)"
   ]
  },
  {
   "cell_type": "markdown",
   "id": "1371acbb",
   "metadata": {},
   "source": [
    "* **`rsplit`** performs the same task as `split` but processes the maximum number of splits from the end of the string toward the beginning"
   ]
  },
  {
   "cell_type": "markdown",
   "id": "5e3b49f9",
   "metadata": {},
   "source": [
    "### Joining Strings\n",
    "* **`join`** concatenates the strings in its argument, which must be an iterable containing only string values\n",
    "* The separator between the concatenated items is the string on which you call `join`"
   ]
  },
  {
   "cell_type": "code",
   "execution_count": null,
   "id": "8f90df59",
   "metadata": {},
   "outputs": [],
   "source": [
    "letters_list = ['A', 'B', 'C', 'D']"
   ]
  },
  {
   "cell_type": "code",
   "execution_count": null,
   "id": "fc360aa2",
   "metadata": {},
   "outputs": [],
   "source": [
    "','.join(letters_list)"
   ]
  },
  {
   "cell_type": "markdown",
   "id": "1c8f7987",
   "metadata": {},
   "source": [
    "* Join the results of a list comprehension that creates a list of strings"
   ]
  },
  {
   "cell_type": "code",
   "execution_count": null,
   "id": "fd61466e",
   "metadata": {},
   "outputs": [],
   "source": [
    "','.join([str(i) for i in range(10)])"
   ]
  },
  {
   "cell_type": "markdown",
   "id": "8329eb09",
   "metadata": {},
   "source": [
    "### String Methods `partition` and `rpartition` \n",
    "String method **`partition`** splits a string into a tuple of three strings based on the method’s _separator_ argument\n",
    "* the part of the original string before the separator\n",
    "* the separator itself\n",
    "* the part of the string after the separator"
   ]
  },
  {
   "cell_type": "code",
   "execution_count": null,
   "id": "276754b7",
   "metadata": {},
   "outputs": [],
   "source": [
    "'Amanda: 89, 97, 92'.partition(': ')"
   ]
  },
  {
   "cell_type": "markdown",
   "id": "50c2a8c6",
   "metadata": {},
   "source": [
    "* To search for the separator from the end of the string, use method **`rpartition`** "
   ]
  },
  {
   "cell_type": "code",
   "execution_count": null,
   "id": "2a5a29ed",
   "metadata": {},
   "outputs": [],
   "source": [
    "url = 'http://www.deitel.com/books/PyCDS/table_of_contents.html'"
   ]
  },
  {
   "cell_type": "code",
   "execution_count": null,
   "id": "999549c8",
   "metadata": {},
   "outputs": [],
   "source": [
    "rest_of_url, separator, document = url.rpartition('/')"
   ]
  },
  {
   "cell_type": "code",
   "execution_count": null,
   "id": "9ca32ca6",
   "metadata": {},
   "outputs": [],
   "source": [
    "document"
   ]
  },
  {
   "cell_type": "code",
   "execution_count": null,
   "id": "1582f6fc",
   "metadata": {},
   "outputs": [],
   "source": [
    "rest_of_url"
   ]
  },
  {
   "cell_type": "markdown",
   "id": "e4e4f483",
   "metadata": {},
   "source": [
    "### String Method `splitlines` \n",
    "* **`splitlines`** returns a list of new strings representing lines of text split at each newline character in the original string"
   ]
  },
  {
   "cell_type": "code",
   "execution_count": null,
   "id": "22f49c90",
   "metadata": {},
   "outputs": [],
   "source": [
    "lines = \"\"\"This is line 1\n",
    "This is line2\n",
    "This is line3\"\"\""
   ]
  },
  {
   "cell_type": "code",
   "execution_count": null,
   "id": "7c373f01",
   "metadata": {},
   "outputs": [],
   "source": [
    "lines"
   ]
  },
  {
   "cell_type": "code",
   "execution_count": null,
   "id": "6bbaf677",
   "metadata": {},
   "outputs": [],
   "source": [
    "lines.splitlines()"
   ]
  },
  {
   "cell_type": "markdown",
   "id": "d9ae5ec0",
   "metadata": {},
   "source": [
    "* Passing `True` to `splitlines` keeps the newlines"
   ]
  },
  {
   "cell_type": "code",
   "execution_count": null,
   "id": "1c561474",
   "metadata": {},
   "outputs": [],
   "source": [
    "lines.splitlines(True)"
   ]
  },
  {
   "cell_type": "markdown",
   "id": "1df85d7b",
   "metadata": {},
   "source": [
    "# 8.10 Characters and Character-Testing Methods\n",
    "* In Python, a character is simply a one-character string\n",
    "* Python provides string methods for testing whether a string matches certain characteristics\n",
    "* **`isdigit`** returns `True` if the string on which you call the method contains only the digit characters (`0`–`9`)\n",
    "    * Useful for validating data"
   ]
  },
  {
   "cell_type": "code",
   "execution_count": null,
   "id": "a1165d2a",
   "metadata": {},
   "outputs": [],
   "source": [
    "'-27'.isdigit()\n"
   ]
  },
  {
   "cell_type": "code",
   "execution_count": null,
   "id": "05c4bdc0",
   "metadata": {},
   "outputs": [],
   "source": [
    "'27'.isdigit()"
   ]
  },
  {
   "cell_type": "markdown",
   "id": "0b6380a8",
   "metadata": {},
   "source": [
    "# 8.10 Characters and Character-Testing Methods (cont.)\n",
    "* `isalnum` returns `True` if the string on which you call the method is alphanumeric (only digits and letters)"
   ]
  },
  {
   "cell_type": "code",
   "execution_count": null,
   "id": "54d23118",
   "metadata": {},
   "outputs": [],
   "source": [
    "'A9876'.isalnum()"
   ]
  },
  {
   "cell_type": "code",
   "execution_count": null,
   "id": "537027ab",
   "metadata": {},
   "outputs": [],
   "source": [
    "'123 Main Street'.isalnum()"
   ]
  },
  {
   "cell_type": "markdown",
   "id": "6f944590",
   "metadata": {},
   "source": [
    "# 8.10 Characters and Character-Testing Methods (cont.)\n",
    "* Table of many character-testing methods"
   ]
  },
  {
   "cell_type": "markdown",
   "id": "cbd6df5b",
   "metadata": {},
   "source": [
    "| String Method | Description\n",
    "| -------- | --------\n",
    "| `isalnum()` | Returns `True` if the string contains only _alphanumeric_ characters (i.e., digits and letters).\n",
    "| `isalpha()`  | Returns `True` if the string contains only _alphabetic_ characters (i.e., letters).\n",
    "| `isdecimal()`  | Returns `True` if the string contains only _decimal integer_ characters (that is, base 10 integers) and does not contain a + or - sign.\n",
    "| `isdigit()`  | Returns `True` if the string contains only digits (e.g., '0', '1', '2').\n",
    "| `isidentifier()`  | Returns `True` if the string represents a valid _identifier_. \n",
    "| `islower()`  | Returns `True` if all alphabetic characters in the string are _lowercase_ characters (e.g., `'a'`, `'b'`, `'c'`).\n",
    "| `isnumeric()`  | Returns `True` if the characters in the string represent a _numeric value_ without a + or - sign and without a decimal point.\n",
    "| `isspace()`  | Returns `True` if the string contains only _whitespace_ characters.\n",
    "| `istitle()`  | Returns `True` if the first character of each word in the string is the only _uppercase_ character in the word. \n",
    "| `isupper()`  | Returns `True` if all alphabetic characters in the string are _uppercase_ characters (e.g., `'A'`, `'B'`, `'C'`)."
   ]
  },
  {
   "cell_type": "markdown",
   "id": "482e2095",
   "metadata": {},
   "source": [
    "------\n",
    "&copy;1992&ndash;2020 by Pearson Education, Inc. All Rights Reserved. This content is based on Chapter 5 of the book [**Intro to Python for Computer Science and Data Science: Learning to Program with AI, Big Data and the Cloud**](https://amzn.to/2VvdnxE).\n",
    "\n",
    "DISCLAIMER: The authors and publisher of this book have used their \n",
    "best efforts in preparing the book. These efforts include the \n",
    "development, research, and testing of the theories and programs \n",
    "to determine their effectiveness. The authors and publisher make \n",
    "no warranty of any kind, expressed or implied, with regard to these \n",
    "programs or to the documentation contained in these books. The authors \n",
    "and publisher shall not be liable in any event for incidental or \n",
    "consequential damages in connection with, or arising out of, the \n",
    "furnishing, performance, or use of these programs.                  "
   ]
  },
  {
   "cell_type": "markdown",
   "id": "c3269c31",
   "metadata": {},
   "source": [
    "# 8.11 Raw Strings\n",
    "* Backslash characters in strings introduce _escape sequences_—like `\\n` for newline and `\\t` for tab\n",
    "* To include a backslash in a string, use two backslash characters `\\\\`\n",
    "* Makes some strings difficult to read\n",
    "* Consider a Microsoft Windows file location:"
   ]
  },
  {
   "cell_type": "code",
   "execution_count": null,
   "id": "105ea33e",
   "metadata": {},
   "outputs": [],
   "source": [
    "file_path = 'C:\\\\MyFolder\\\\MySubFolder\\\\MyFile.txt'"
   ]
  },
  {
   "cell_type": "code",
   "execution_count": null,
   "id": "33ae67e6",
   "metadata": {},
   "outputs": [],
   "source": [
    "file_path"
   ]
  },
  {
   "cell_type": "markdown",
   "id": "091cbf50",
   "metadata": {},
   "source": [
    "# 8.11 Raw Strings (cont.)\n",
    "* **raw strings**—preceded by the character `r`—are more convenient\n",
    "* They treat each backslash as a regular character, rather than the beginning of an escape sequence\n",
    "* We will see this when we create regular expression strings that make use of \\"
   ]
  },
  {
   "cell_type": "code",
   "execution_count": null,
   "id": "5cc45761",
   "metadata": {},
   "outputs": [],
   "source": [
    "file_path = r'C:\\MyFolder\\MySubFolder\\MyFile.txt'"
   ]
  },
  {
   "cell_type": "code",
   "execution_count": null,
   "id": "554042d4",
   "metadata": {},
   "outputs": [],
   "source": [
    "file_path"
   ]
  },
  {
   "cell_type": "code",
   "execution_count": null,
   "id": "66f15723",
   "metadata": {},
   "outputs": [],
   "source": []
  },
  {
   "cell_type": "markdown",
   "id": "35b5e3f3",
   "metadata": {},
   "source": [
    "## 8.12.1 re Module and Function fullmatch \n",
    "* **`fullmatch`** checks whether the **entire** string in its second argument matches the pattern in its first argument"
   ]
  },
  {
   "cell_type": "code",
   "execution_count": null,
   "id": "e21b7396",
   "metadata": {},
   "outputs": [],
   "source": [
    "import re"
   ]
  },
  {
   "cell_type": "markdown",
   "id": "696671a2",
   "metadata": {},
   "source": [
    "### Matching Literal Characters"
   ]
  },
  {
   "cell_type": "code",
   "execution_count": null,
   "id": "1072beeb",
   "metadata": {},
   "outputs": [],
   "source": [
    "pattern = '02215'"
   ]
  },
  {
   "cell_type": "code",
   "execution_count": null,
   "id": "117ca58f",
   "metadata": {},
   "outputs": [],
   "source": [
    "'Match' if re.fullmatch(pattern, '02215') else 'No match'"
   ]
  },
  {
   "cell_type": "code",
   "execution_count": null,
   "id": "3b2a8087",
   "metadata": {},
   "outputs": [],
   "source": [
    "'Match' if re.fullmatch(pattern, '51220') else 'No match'"
   ]
  },
  {
   "cell_type": "markdown",
   "id": "edfdd1fe",
   "metadata": {},
   "source": [
    "* First argument is the regular expression pattern to match\n",
    "    * Any string can be a regular expression\n",
    "    * **literal characters** match **themselves** in the specified order\n",
    "* Second argument is the string that should entirely match the pattern. \n",
    "* If the second argument matches the pattern in the first argument, `fullmatch` returns an object containing the matching text, which evaluates to `True`\n",
    "* For no match, `fullmatch` returns `None`, which evaluates to `False`"
   ]
  },
  {
   "cell_type": "markdown",
   "id": "2aa3d5cb",
   "metadata": {},
   "source": [
    "### Metacharacters, Character Classes and Quantifiers\n",
    "* Regular expressions typically contain various special symbols called **metacharacters**:"
   ]
  },
  {
   "cell_type": "markdown",
   "id": "965a57b8",
   "metadata": {},
   "source": [
    "| Regular expression metacharacters\n",
    "| --------\n",
    "| `[]  `  `{}  `  `()  `  `\\  `  `*  `  `+  `  `^  `  `$  `  `?  `  `.  `  `\\|`"
   ]
  },
  {
   "cell_type": "markdown",
   "id": "3c731b15",
   "metadata": {},
   "source": [
    "* **`\\` metacharacter** begins each predefined **character class**\n",
    "* Each matches a specific set of characters"
   ]
  },
  {
   "cell_type": "code",
   "execution_count": null,
   "id": "0d7e9959",
   "metadata": {},
   "outputs": [],
   "source": [
    "'Valid' if re.fullmatch(r'\\d{5}', '02215') else 'Invalid'"
   ]
  },
  {
   "cell_type": "code",
   "execution_count": null,
   "id": "afcacb8c",
   "metadata": {},
   "outputs": [],
   "source": [
    "'Valid' if re.fullmatch(r'\\d{5}', '9876') else 'Invalid'"
   ]
  },
  {
   "cell_type": "markdown",
   "id": "358e3b9b",
   "metadata": {},
   "source": [
    "* In `\\d{5}`, **`\\d`** is a character class representing a digit (0–9)\n",
    "* A character class is a **regular expression escape sequence** that matches **one** character\n",
    "* To match more than one, follow the character class with a **quantifier**\n",
    "* `{5}` repeats `\\d` five times to match five consecutive digits"
   ]
  },
  {
   "cell_type": "markdown",
   "id": "8563f272",
   "metadata": {},
   "source": [
    "### Other Predefined Character Classes\n",
    "* To match any metacharacter as its **literal** value, precede it by a backslash (`\\`)\n",
    "    * For example, `\\\\` matches a backslash (`\\`) and `\\$` matches a dollar sign (`$`)"
   ]
  },
  {
   "cell_type": "markdown",
   "id": "4e6f4954",
   "metadata": {},
   "source": [
    "| Character class\t| Matches\n",
    "| ------------\t| ------------\n",
    "| `\\d`\t| Any digit (0–9).\n",
    "| `\\D`\t| Any character that is _not_ a digit.\n",
    "| `\\s`\t| Any whitespace character (such as spaces, tabs and newlines).\n",
    "| `\\S`\t| Any character that is _not_ a whitespace character.\n",
    "| `\\w`\t| Any **word character** (also called an **alphanumeric character**)—that is, any uppercase or lowercase letter, any digit or an underscore\n",
    "| `\\W`\t| Any character that is _not_ a word character."
   ]
  },
  {
   "cell_type": "markdown",
   "id": "305ce41c",
   "metadata": {},
   "source": [
    "### Custom Character Classes\n",
    "* Square brackets, `[]`, define a **custom character class** that matches a **single** character\n",
    "* `[aeiou]` matches a lowercase vowel\n",
    "* `[A-Z]` matches an uppercase letter\n",
    "* `[a-z]` matches a lowercase letter \n",
    "* `[a-zA-Z]` matches any lowercase or uppercase letter"
   ]
  },
  {
   "cell_type": "code",
   "execution_count": null,
   "id": "3f3aac57",
   "metadata": {},
   "outputs": [],
   "source": [
    "'Valid' if re.fullmatch('[A-Z][a-z]*', 'Wally') else 'Invalid'"
   ]
  },
  {
   "cell_type": "code",
   "execution_count": null,
   "id": "616c93b6",
   "metadata": {},
   "outputs": [],
   "source": [
    "'Valid' if re.fullmatch('[A-Z][a-z]*', 'eva') else 'Invalid'"
   ]
  },
  {
   "cell_type": "code",
   "execution_count": null,
   "id": "33ac7a67",
   "metadata": {},
   "outputs": [],
   "source": [
    "'Match' if re.fullmatch('[^a-z]', 'A') else 'No match'"
   ]
  },
  {
   "cell_type": "code",
   "execution_count": null,
   "id": "30645712",
   "metadata": {},
   "outputs": [],
   "source": [
    "'Match' if re.fullmatch('[^a-z]', 'a') else 'No match'"
   ]
  },
  {
   "cell_type": "code",
   "execution_count": null,
   "id": "57d16680",
   "metadata": {},
   "outputs": [],
   "source": [
    "'Match' if re.fullmatch('[*+$]', '*') else 'No match'"
   ]
  },
  {
   "cell_type": "code",
   "execution_count": null,
   "id": "e53b3021",
   "metadata": {},
   "outputs": [],
   "source": [
    "'Match' if re.fullmatch('[*+$]', '!') else 'No match'"
   ]
  },
  {
   "cell_type": "markdown",
   "id": "2eff8b4d",
   "metadata": {},
   "source": [
    "### `*` vs. `+` Quantifier\n",
    "* `+` matches **at least one occurrence** of a subexpression\n",
    "* `*` and `+` are **greedy**—they match as many characters as possible"
   ]
  },
  {
   "cell_type": "code",
   "execution_count": null,
   "id": "f839d949",
   "metadata": {},
   "outputs": [],
   "source": [
    "'Valid' if re.fullmatch('[A-Z][a-z]+', 'Wally') else 'Invalid'"
   ]
  },
  {
   "cell_type": "code",
   "execution_count": null,
   "id": "30407ad3",
   "metadata": {},
   "outputs": [],
   "source": [
    "'Valid' if re.fullmatch('[A-Z][a-z]+', 'E') else 'Invalid'"
   ]
  },
  {
   "cell_type": "markdown",
   "id": "d99bebca",
   "metadata": {},
   "source": [
    "### Other Quantifiers\n",
    "* **`?` quantifier** matches **zero or one occurrences** of a subexpression"
   ]
  },
  {
   "cell_type": "code",
   "execution_count": null,
   "id": "86f8489e",
   "metadata": {},
   "outputs": [],
   "source": [
    "'Match' if re.fullmatch('labell?ed', 'labelled') else 'No match'"
   ]
  },
  {
   "cell_type": "code",
   "execution_count": null,
   "id": "767e00b9",
   "metadata": {},
   "outputs": [],
   "source": [
    "'Match' if re.fullmatch('labell?ed', 'labeled') else 'No match'"
   ]
  },
  {
   "cell_type": "code",
   "execution_count": null,
   "id": "ea2a6e2a",
   "metadata": {},
   "outputs": [],
   "source": [
    "'Match' if re.fullmatch('labell?ed', 'labellled') else 'No match'"
   ]
  },
  {
   "cell_type": "markdown",
   "id": "5eb9f041",
   "metadata": {},
   "source": [
    "* `labell?ed` matches `labelled` (the U.K. English spelling) and `labeled` (the U.S. English spelling), but not the misspelled word `labellled`\n",
    "* `l?` indicates that there can be **zero or one more** `l` characters before the remaining literal `ed` characters"
   ]
  },
  {
   "cell_type": "markdown",
   "id": "e7af8001",
   "metadata": {},
   "source": [
    "### Other Quantifiers (cont.)\n",
    "* Can match **at least _n_ occurrences** of a subexpression with the **`{n,}` quantifier**"
   ]
  },
  {
   "cell_type": "code",
   "execution_count": null,
   "id": "dcb7cffe",
   "metadata": {},
   "outputs": [],
   "source": [
    "'Match' if re.fullmatch(r'\\d{3,}', '123') else 'No match'"
   ]
  },
  {
   "cell_type": "code",
   "execution_count": null,
   "id": "c4a19f0c",
   "metadata": {},
   "outputs": [],
   "source": [
    "'Match' if re.fullmatch(r'\\d{3,}', '1234567890') else 'No match'"
   ]
  },
  {
   "cell_type": "code",
   "execution_count": null,
   "id": "b6d764a7",
   "metadata": {},
   "outputs": [],
   "source": [
    "'Match' if re.fullmatch(r'\\d{3,}', '12') else 'No match'"
   ]
  },
  {
   "cell_type": "markdown",
   "id": "d2c12982",
   "metadata": {},
   "source": [
    "### Other Quantifiers (cont.)\n",
    "* Can match **between _n_ and _m_ (inclusive) occurrences** of a subexpression with the **`{n,m}` quantifier**"
   ]
  },
  {
   "cell_type": "code",
   "execution_count": null,
   "id": "5025c13c",
   "metadata": {},
   "outputs": [],
   "source": [
    "'Match' if re.fullmatch(r'\\d{3,6}', '123') else 'No match'"
   ]
  },
  {
   "cell_type": "code",
   "execution_count": null,
   "id": "b9a399c5",
   "metadata": {},
   "outputs": [],
   "source": [
    "'Match' if re.fullmatch(r'\\d{3,6}', '123456') else 'No match'"
   ]
  },
  {
   "cell_type": "code",
   "execution_count": null,
   "id": "92933ce3",
   "metadata": {},
   "outputs": [],
   "source": [
    "'Match' if re.fullmatch(r'\\d{3,6}', '1234567') else 'No match'"
   ]
  },
  {
   "cell_type": "code",
   "execution_count": null,
   "id": "19291bb2",
   "metadata": {},
   "outputs": [],
   "source": [
    "'Match' if re.fullmatch(r'\\d{3,6}', '12') else 'No match'"
   ]
  },
  {
   "cell_type": "markdown",
   "id": "4c172184",
   "metadata": {},
   "source": [
    "## 8.12.2 Replacing Substrings and Splitting Strings\n",
    "* `sub` function replaces patterns in a string\n",
    "* `split` function breaks a string into pieces, based on patterns"
   ]
  },
  {
   "cell_type": "markdown",
   "id": "c650d609",
   "metadata": {},
   "source": [
    "### Function `sub`—Replacing Patterns \n",
    "* **`sub` function** replaces **all** occurrences of a pattern with the replacement text you specify"
   ]
  },
  {
   "cell_type": "code",
   "execution_count": null,
   "id": "ee8cecf1",
   "metadata": {},
   "outputs": [],
   "source": [
    "import re"
   ]
  },
  {
   "cell_type": "code",
   "execution_count": null,
   "id": "ced135de",
   "metadata": {},
   "outputs": [],
   "source": [
    "re.sub(r'\\t', ', ', '1\\t2\\t3\\t4')"
   ]
  },
  {
   "cell_type": "markdown",
   "id": "72fba6ad",
   "metadata": {},
   "source": [
    "* Three required arguments:\n",
    "    * the _pattern to match_ (the tab character `'\\t'`)\n",
    "    * the _replacement text_ (`', '`) and \n",
    "    * the _string to be searched_ (`'1\\t2\\t3\\t4'`)\n",
    "* Keyword argument `count` can be used to specify the maximum number of replacements"
   ]
  },
  {
   "cell_type": "code",
   "execution_count": null,
   "id": "83d5c69f",
   "metadata": {},
   "outputs": [],
   "source": [
    "re.sub(r'\\t', ', ', '1\\t2\\t3\\t4', count=2)"
   ]
  },
  {
   "cell_type": "markdown",
   "id": "ea4fcfca",
   "metadata": {},
   "source": [
    "### Function `split` \n",
    "* **`split` function** _tokenizes_ a string, using a regular expression to specify the _delimiter_\n",
    "* Returns a list of strings"
   ]
  },
  {
   "cell_type": "code",
   "execution_count": null,
   "id": "7c96183b",
   "metadata": {},
   "outputs": [],
   "source": [
    "re.split(r',\\s*', '1,  2,  3,4,    5,6,7,8')"
   ]
  },
  {
   "cell_type": "markdown",
   "id": "fd896a62",
   "metadata": {},
   "source": [
    "* Keyword argument `maxsplit` specifies maximum number of splits"
   ]
  },
  {
   "cell_type": "code",
   "execution_count": null,
   "id": "e31e61eb",
   "metadata": {},
   "outputs": [],
   "source": [
    "re.split(r',\\s*', '1,  2,  3,4,    5,6,7,8', maxsplit=3)"
   ]
  },
  {
   "cell_type": "markdown",
   "id": "eb3b3110",
   "metadata": {},
   "source": [
    "## 8.12.3 Other Search Functions; Accessing Matches"
   ]
  },
  {
   "cell_type": "markdown",
   "id": "293cb75c",
   "metadata": {},
   "source": [
    "### Function `search`—Finding the First Match Anywhere in a String\n",
    "* **`search`** looks in a string for the _first_ occurrence of a substring that matches a regular expression and returns a **match object** (of type **`SRE_Match`**) that contains the matching substring\n",
    "* Match object’s **`group`** method returns that substring"
   ]
  },
  {
   "cell_type": "code",
   "execution_count": null,
   "id": "89b6c9ec",
   "metadata": {},
   "outputs": [],
   "source": [
    "import re"
   ]
  },
  {
   "cell_type": "code",
   "execution_count": null,
   "id": "f3e2aff2",
   "metadata": {},
   "outputs": [],
   "source": [
    "result = re.search('Python', 'Python is fun')"
   ]
  },
  {
   "cell_type": "code",
   "execution_count": null,
   "id": "a6579967",
   "metadata": {},
   "outputs": [],
   "source": [
    "result.group() if result else 'not found'"
   ]
  },
  {
   "cell_type": "markdown",
   "id": "41f35b53",
   "metadata": {},
   "source": [
    "* `search` returns `None` if the string does _not_ contain the pattern"
   ]
  },
  {
   "cell_type": "code",
   "execution_count": null,
   "id": "775bb4e8",
   "metadata": {},
   "outputs": [],
   "source": [
    "result2 = re.search('fun!', 'Python is fun')"
   ]
  },
  {
   "cell_type": "code",
   "execution_count": null,
   "id": "a5f79abd",
   "metadata": {},
   "outputs": [],
   "source": [
    "result2.group() if result2 else 'not found'"
   ]
  },
  {
   "cell_type": "markdown",
   "id": "4f42e285",
   "metadata": {},
   "source": [
    "* Can search for a match only at the _beginning_ of a string with function **`match`**"
   ]
  },
  {
   "cell_type": "markdown",
   "id": "1386c8f1",
   "metadata": {},
   "source": [
    "### Ignoring Case with the Optional `flags` Keyword Argument\n",
    "* Many `re` module functions receive an optional `flags` keyword argument\n",
    "* Changes how regular expressions are matched"
   ]
  },
  {
   "cell_type": "code",
   "execution_count": null,
   "id": "de9ed37e",
   "metadata": {},
   "outputs": [],
   "source": [
    "result3 = re.search('Sam', 'SAM WHITE', flags=re.IGNORECASE)"
   ]
  },
  {
   "cell_type": "code",
   "execution_count": null,
   "id": "59750beb",
   "metadata": {},
   "outputs": [],
   "source": [
    "result3.group() if result3 else 'not found'"
   ]
  },
  {
   "cell_type": "markdown",
   "id": "33821c27",
   "metadata": {},
   "source": [
    "### Metacharacters That Restrict Matches to the Beginning or End of a String\n",
    "* **`^` metacharacter** at the beginning of a regular expression (and not inside square brackets) is an anchor\n",
    "* Indicaties that the expression matches only the _beginning_ of a string "
   ]
  },
  {
   "cell_type": "code",
   "execution_count": null,
   "id": "93b27e4c",
   "metadata": {},
   "outputs": [],
   "source": [
    "result = re.search('^Python', 'Python is fun')"
   ]
  },
  {
   "cell_type": "code",
   "execution_count": null,
   "id": "acc5c984",
   "metadata": {},
   "outputs": [],
   "source": [
    "result.group() if result else 'not found'"
   ]
  },
  {
   "cell_type": "code",
   "execution_count": null,
   "id": "1e1179d9",
   "metadata": {},
   "outputs": [],
   "source": [
    "result = re.search('^fun', 'Python is fun')"
   ]
  },
  {
   "cell_type": "code",
   "execution_count": null,
   "id": "b3d07d1e",
   "metadata": {},
   "outputs": [],
   "source": [
    "result.group() if result else 'not found'"
   ]
  },
  {
   "cell_type": "markdown",
   "id": "954abeb0",
   "metadata": {},
   "source": [
    "* **`$` metacharacter** at the end of a regular expression is an anchor indicating that the expression matches only the _end_ of a string"
   ]
  },
  {
   "cell_type": "code",
   "execution_count": null,
   "id": "57ee9818",
   "metadata": {},
   "outputs": [],
   "source": [
    "result = re.search('Python$', 'Python is fun')"
   ]
  },
  {
   "cell_type": "code",
   "execution_count": null,
   "id": "f6f715d2",
   "metadata": {},
   "outputs": [],
   "source": [
    "result.group() if result else 'not found'"
   ]
  },
  {
   "cell_type": "code",
   "execution_count": null,
   "id": "b1ea4013",
   "metadata": {},
   "outputs": [],
   "source": [
    "result = re.search('fun$', 'Python is fun')"
   ]
  },
  {
   "cell_type": "code",
   "execution_count": null,
   "id": "c618e43e",
   "metadata": {},
   "outputs": [],
   "source": [
    "result.group() if result else 'not found'"
   ]
  },
  {
   "cell_type": "markdown",
   "id": "88a72902",
   "metadata": {},
   "source": [
    "### Function `findall` and `finditer`—Finding All Matches in a String\n",
    "* **`findall`** finds _every_ matching substring in a string\n",
    "* Returns a list of the matching substrings"
   ]
  },
  {
   "cell_type": "code",
   "execution_count": null,
   "id": "758b7856",
   "metadata": {},
   "outputs": [],
   "source": [
    "contact = 'Wally White, Home: 555-555-1234, Work: 555-555-4321'"
   ]
  },
  {
   "cell_type": "code",
   "execution_count": null,
   "id": "8d23b327",
   "metadata": {},
   "outputs": [],
   "source": [
    "re.findall(r'\\d{3}-\\d{3}-\\d{4}', contact)"
   ]
  },
  {
   "cell_type": "markdown",
   "id": "d9af3c2a",
   "metadata": {},
   "source": [
    "* **`finditer`** works like `findall`, but returns a lazy _iterable_ of match objects"
   ]
  },
  {
   "cell_type": "code",
   "execution_count": null,
   "id": "6a0a5a19",
   "metadata": {},
   "outputs": [],
   "source": [
    "for phone in re.finditer(r'\\d{3}-\\d{3}-\\d{4}', contact):\n",
    "    print(phone.group())"
   ]
  },
  {
   "cell_type": "markdown",
   "id": "5cd0f2b4",
   "metadata": {},
   "source": [
    "### Capturing Substrings in a Match\n",
    "* Use **parentheses metacharacters**—**`(`** and **`)`**—to capture substrings in a match"
   ]
  },
  {
   "cell_type": "code",
   "execution_count": null,
   "id": "45fae27e",
   "metadata": {},
   "outputs": [],
   "source": [
    "text = 'Charlie Cyan, e-mail: demo1@deitel.com'"
   ]
  },
  {
   "cell_type": "code",
   "execution_count": null,
   "id": "291bd9fa",
   "metadata": {},
   "outputs": [],
   "source": [
    "pattern = r'([A-Z][a-z]+ [A-Z][a-z]+), e-mail: (\\w+@\\w+\\.\\w{3})'"
   ]
  },
  {
   "cell_type": "code",
   "execution_count": null,
   "id": "9389cf2d",
   "metadata": {},
   "outputs": [],
   "source": [
    "result = re.search(pattern, text)"
   ]
  },
  {
   "cell_type": "markdown",
   "id": "46494b9f",
   "metadata": {},
   "source": [
    "* The regular expression specifies two substrings to capture, each denoted by the metacharacters `(` and `)`\n",
    "* `(` and `)` do _not_ affect whether the `pattern` is found in the string `text`\n",
    "* `match` function returns a match object _only_ if the _entire_ `pattern` is found in the string `text`\n",
    "* `match` object’s **`groups`** method returns a tuple of the captured substrings"
   ]
  },
  {
   "cell_type": "code",
   "execution_count": null,
   "id": "3cea9417",
   "metadata": {},
   "outputs": [],
   "source": [
    "result.groups()"
   ]
  },
  {
   "cell_type": "markdown",
   "id": "6b9d5570",
   "metadata": {},
   "source": [
    "* `match` object’s `group` method returns the _entire_ match as a single string"
   ]
  },
  {
   "cell_type": "code",
   "execution_count": null,
   "id": "202577ff",
   "metadata": {},
   "outputs": [],
   "source": [
    "result.group()"
   ]
  },
  {
   "cell_type": "markdown",
   "id": "60c92679",
   "metadata": {},
   "source": [
    "* Access each captured substring by passing an integer to the `group` method"
   ]
  },
  {
   "cell_type": "code",
   "execution_count": null,
   "id": "e22a8ef5",
   "metadata": {},
   "outputs": [],
   "source": [
    "result.group(1)"
   ]
  },
  {
   "cell_type": "code",
   "execution_count": null,
   "id": "01fc4ffd",
   "metadata": {},
   "outputs": [],
   "source": [
    "result.group(2) "
   ]
  },
  {
   "cell_type": "markdown",
   "id": "c2ff6a52",
   "metadata": {},
   "source": [
    "# 8.13 Intro to Data Science: Pandas, Regular Expressions and Data Munging \n",
    "* Data does not always come in forms ready for analysis\n",
    "* Data could be\n",
    "    * wrong format\n",
    "    * incorrect \n",
    "    * missing\n",
    "* Data scientists can spend as much as 75% of their time preparing data before they begin their studies\n",
    "* Called **data munging** or **data wrangling**"
   ]
  },
  {
   "cell_type": "markdown",
   "id": "f3e48936",
   "metadata": {},
   "source": [
    "# 8.13 Intro to Data Science: Pandas, Regular Expressions and Data Munging (cont.)\n",
    "* Two of the most important steps in data munging are _data cleaning_ and _transforming data_ into optimal formats for database systems and analytics software\n",
    "* Common data cleaning examples include: \n",
    "    * deleting observations with missing values,\n",
    "    * substituting reasonable values for missing values,\n",
    "    * deleting observations with bad values,\n",
    "    * substituting reasonable values for bad values,\n",
    "    * tossing outliers (although sometimes you’ll want to keep them),\n",
    "    * duplicate elimination (although sometimes duplicates are valid),\n",
    "    * dealing with inconsistent data,\n",
    "    * and more. "
   ]
  },
  {
   "cell_type": "markdown",
   "id": "c114eb0a",
   "metadata": {},
   "source": [
    "# 8.13 Intro to Data Science: Pandas, Regular Expressions and Data Munging (cont.)\n",
    "* Data cleaning is a difficult and messy process where you could easily make bad decisions that would negatively impact your results\n",
    "* The actions data scientists take can vary per project, be based on the quality and nature of the data and be affected by evolving organization and professional standards\n",
    "* Common data transformations include:\n",
    "    * removing unnecessary data and _features_ (we’ll say more about features in the data science case studies),\n",
    "    * combining related features,\n",
    "    * sampling data to obtain a representative subset (we’ll see in the data science case studies that _random sampling_ is particularly effective for this and we’ll say why),\n",
    "    * standardizing data formats,\n",
    "    * grouping data,\n",
    "    * and more."
   ]
  },
  {
   "cell_type": "markdown",
   "id": "656fa614",
   "metadata": {},
   "source": [
    "### Cleaning Your Data \n",
    "* Bad data values and missing values can significantly impact data analysis\n",
    "* Some data scientists advise against any attempts to insert “reasonable values” \n",
    "    * Instead, they advocate clearly marking missing data and leaving it up to the data analytics package to handle the issue"
   ]
  },
  {
   "cell_type": "markdown",
   "id": "80fd613c",
   "metadata": {},
   "source": [
    "### Cleaning Your Data (cont.)\n",
    "* Consider a hospital that records patients’ temperatures (and probably other vital signs) four times per day\n",
    "* Assume that the data consists of a name and four `float` values, such as\n",
    "```python\n",
    "['Brown, Sue', 98.6, 98.4, 98.7, 0.0]\n",
    "```\n",
    "* Patient’s first three recorded temperatures are 99.7, 98.4 and 98.7\n",
    "* Last temperature was missing and recorded as 0.0, perhaps because the sensor malfunctioned\n",
    "* Average of the first three values is 98.57, which is close to normal\n",
    "* If you calculate the average temperature _including_ the missing value for which 0.0 was substituted, the average is only 73.93, clearly a questionable result\n",
    "* Crucial to “get the data right.” \n",
    "* One way to clean the data is to substitute a _reasonable_ value for the missing temperature, such as the average of the patient’s other readings"
   ]
  },
  {
   "cell_type": "markdown",
   "id": "5f4f5a03",
   "metadata": {},
   "source": [
    "### Data Validation\n",
    "* `Series` of five-digit ZIP Codes from a dictionary of city-name/five-digit-ZIP-Code key–value pairs\n",
    "* Intentionally entered an invalid ZIP Code for Miami"
   ]
  },
  {
   "cell_type": "code",
   "execution_count": 1,
   "id": "73996278",
   "metadata": {},
   "outputs": [],
   "source": [
    "import pandas as pd"
   ]
  },
  {
   "cell_type": "code",
   "execution_count": 2,
   "id": "34e34d7c",
   "metadata": {},
   "outputs": [],
   "source": [
    "zips = pd.Series({'Boston': '02215', 'Miami': '3310'})"
   ]
  },
  {
   "cell_type": "code",
   "execution_count": 3,
   "id": "0b8d5c0a",
   "metadata": {},
   "outputs": [
    {
     "data": {
      "text/plain": [
       "Boston    02215\n",
       "Miami      3310\n",
       "dtype: object"
      ]
     },
     "execution_count": 3,
     "metadata": {},
     "output_type": "execute_result"
    }
   ],
   "source": [
    "zips"
   ]
  },
  {
   "cell_type": "markdown",
   "id": "3ce4fe42",
   "metadata": {},
   "source": [
    "### Data Validation (cont.)\n",
    "* The “second column” represents the `Series`’ ZIP Code _values_ (from the dictionary’s values)\n",
    "* The “first column” represents their _indices_ (from the dictionary’s keys)\n",
    "* Can use regular expressions with Pandas to validate data\n",
    "* The **`str` attribute** of a `Series` provides string-processing and various regular expression methods\n",
    "* Use the `str` attribute’s **`match` method** to check whether each ZIP Code is valid: "
   ]
  },
  {
   "cell_type": "code",
   "execution_count": 4,
   "id": "78171c82",
   "metadata": {},
   "outputs": [
    {
     "data": {
      "text/plain": [
       "Boston     True\n",
       "Miami     False\n",
       "dtype: bool"
      ]
     },
     "execution_count": 4,
     "metadata": {},
     "output_type": "execute_result"
    }
   ],
   "source": [
    "zips.str.match(r'\\d{5}')"
   ]
  },
  {
   "cell_type": "markdown",
   "id": "5036a6c1",
   "metadata": {},
   "source": [
    "* `match` applies the regular expression `\\d{5}` to _each_ `Series` element\n",
    "* Returns a new `Series` containing `True` for each valid element"
   ]
  },
  {
   "cell_type": "markdown",
   "id": "5bacc96f",
   "metadata": {},
   "source": [
    "### Data Validation (cont.)\n",
    "* Several ways to deal with invalid data\n",
    "* One is to catch it at its source and interact with the source to correct the value\n",
    "    * Not always possible\n",
    "* In the case of the bad Miami ZIP Code of `3310`, we might look for Miami ZIP Codes beginning with 3310\n",
    "    * There are two—`33101` and `33109`\n",
    "    * We could pick one of those"
   ]
  },
  {
   "cell_type": "markdown",
   "id": "c90ec3aa",
   "metadata": {},
   "source": [
    "### Data Validation (cont.)\n",
    "* Sometimes, rather than matching an _entire_ value to a pattern, you’ll want to know whether a value contains a _substring_ that matches the pattern\n",
    "* Use method **`contains`** instead of `match`"
   ]
  },
  {
   "cell_type": "code",
   "execution_count": 5,
   "id": "83c997a4",
   "metadata": {},
   "outputs": [],
   "source": [
    "cities = pd.Series(['Boston, MA 02215', 'Miami, FL 33101'])"
   ]
  },
  {
   "cell_type": "code",
   "execution_count": 6,
   "id": "25b171c5",
   "metadata": {},
   "outputs": [
    {
     "data": {
      "text/plain": [
       "0    Boston, MA 02215\n",
       "1     Miami, FL 33101\n",
       "dtype: object"
      ]
     },
     "execution_count": 6,
     "metadata": {},
     "output_type": "execute_result"
    }
   ],
   "source": [
    "cities"
   ]
  },
  {
   "cell_type": "code",
   "execution_count": 7,
   "id": "4e56ffe0",
   "metadata": {},
   "outputs": [
    {
     "data": {
      "text/plain": [
       "0    True\n",
       "1    True\n",
       "dtype: bool"
      ]
     },
     "execution_count": 7,
     "metadata": {},
     "output_type": "execute_result"
    }
   ],
   "source": [
    "cities.str.contains(r' [A-Z]{2} ')"
   ]
  },
  {
   "cell_type": "code",
   "execution_count": 8,
   "id": "d28999d4",
   "metadata": {},
   "outputs": [
    {
     "data": {
      "text/plain": [
       "0    False\n",
       "1    False\n",
       "dtype: bool"
      ]
     },
     "execution_count": 8,
     "metadata": {},
     "output_type": "execute_result"
    }
   ],
   "source": [
    "cities.str.match(r' [A-Z]{2} ')"
   ]
  },
  {
   "cell_type": "markdown",
   "id": "81fa0a21",
   "metadata": {},
   "source": [
    "### Reformatting Your Data\n",
    "* Consider munging data into a different format\n",
    "* Assume that an application requires U.S. phone numbers in the format ###-###-####\n",
    "* The phone numbers have been provided to us as 10-digit strings without hyphens"
   ]
  },
  {
   "cell_type": "code",
   "execution_count": 9,
   "id": "8d7b4264",
   "metadata": {},
   "outputs": [],
   "source": [
    "contacts = [['Mike Green', 'demo1@deitel.com', '5555555555'],\n",
    "            ['Sue Brown', 'demo2@deitel.com', '5555551234']]   "
   ]
  },
  {
   "cell_type": "code",
   "execution_count": 10,
   "id": "10840735",
   "metadata": {},
   "outputs": [],
   "source": [
    "contactsdf = pd.DataFrame(contacts, \n",
    "                          columns=['Name', 'Email', 'Phone'])"
   ]
  },
  {
   "cell_type": "code",
   "execution_count": 11,
   "id": "336dc5e2",
   "metadata": {},
   "outputs": [
    {
     "data": {
      "text/html": [
       "<div>\n",
       "<style scoped>\n",
       "    .dataframe tbody tr th:only-of-type {\n",
       "        vertical-align: middle;\n",
       "    }\n",
       "\n",
       "    .dataframe tbody tr th {\n",
       "        vertical-align: top;\n",
       "    }\n",
       "\n",
       "    .dataframe thead th {\n",
       "        text-align: right;\n",
       "    }\n",
       "</style>\n",
       "<table border=\"1\" class=\"dataframe\">\n",
       "  <thead>\n",
       "    <tr style=\"text-align: right;\">\n",
       "      <th></th>\n",
       "      <th>Name</th>\n",
       "      <th>Email</th>\n",
       "      <th>Phone</th>\n",
       "    </tr>\n",
       "  </thead>\n",
       "  <tbody>\n",
       "    <tr>\n",
       "      <th>0</th>\n",
       "      <td>Mike Green</td>\n",
       "      <td>demo1@deitel.com</td>\n",
       "      <td>5555555555</td>\n",
       "    </tr>\n",
       "    <tr>\n",
       "      <th>1</th>\n",
       "      <td>Sue Brown</td>\n",
       "      <td>demo2@deitel.com</td>\n",
       "      <td>5555551234</td>\n",
       "    </tr>\n",
       "  </tbody>\n",
       "</table>\n",
       "</div>"
      ],
      "text/plain": [
       "         Name             Email       Phone\n",
       "0  Mike Green  demo1@deitel.com  5555555555\n",
       "1   Sue Brown  demo2@deitel.com  5555551234"
      ]
     },
     "execution_count": 11,
     "metadata": {},
     "output_type": "execute_result"
    }
   ],
   "source": [
    "contactsdf"
   ]
  },
  {
   "cell_type": "markdown",
   "id": "edee8a70",
   "metadata": {},
   "source": [
    "### Reformatting Your Data (cont.)\n",
    "* Munge the data with functional-style programming\n",
    "* Can _map_ the phone numbers to the proper format by calling the `Series` method **`map`** on the `DataFrame`’s `'Phone'` column\n",
    "* `map`’s argument is a _function_ that receives a value and returns the _mapped_ value\n",
    "* Our function `get_formatted_phone` maps 10 consecutive digits into the format ###-###-####"
   ]
  },
  {
   "cell_type": "code",
   "execution_count": 12,
   "id": "e9c03eb4",
   "metadata": {},
   "outputs": [],
   "source": [
    "import re"
   ]
  },
  {
   "cell_type": "code",
   "execution_count": 13,
   "id": "a36506f8",
   "metadata": {},
   "outputs": [],
   "source": [
    "def get_formatted_phone(value):\n",
    "    result = re.fullmatch(r'(\\d{3})(\\d{3})(\\d{4})', value)\n",
    "    return '-'.join(result.groups()) if result else value"
   ]
  },
  {
   "cell_type": "markdown",
   "id": "26f27d41",
   "metadata": {},
   "source": [
    "### Reformatting Your Data (cont.)\n",
    "* Regular expression in the block’s first statement matches _only_ 10 consecutive digits\n",
    "* Captures substrings containing the first three digits, the next three digits and the last four digits\n",
    "* `return` statement:\n",
    "    * If `result` is `None`, returns `value` unmodified\n",
    "    * Otherwise, calls `result.groups()` to get a tuple containing the captured substrings and pass that tuple to string method `join` to concatenate the elements, separating each from the next with `'-'` to form the mapped phone number"
   ]
  },
  {
   "cell_type": "markdown",
   "id": "d4701a5d",
   "metadata": {},
   "source": [
    "### Reformatting Your Data (cont.)\n",
    "* `Series` method `map` returns a new `Series` containing the results of calling its function argument for each value in the column"
   ]
  },
  {
   "cell_type": "code",
   "execution_count": 14,
   "id": "9b3d2914",
   "metadata": {},
   "outputs": [],
   "source": [
    "formatted_phone = contactsdf['Phone'].map(get_formatted_phone)"
   ]
  },
  {
   "cell_type": "code",
   "execution_count": 15,
   "id": "dde2b3ff",
   "metadata": {},
   "outputs": [
    {
     "data": {
      "text/plain": [
       "0    555-555-5555\n",
       "1    555-555-1234\n",
       "Name: Phone, dtype: object"
      ]
     },
     "execution_count": 15,
     "metadata": {},
     "output_type": "execute_result"
    }
   ],
   "source": [
    "formatted_phone"
   ]
  },
  {
   "cell_type": "markdown",
   "id": "f144ef92",
   "metadata": {},
   "source": [
    "* Once you’ve confirmed that the data is in the correct format, you can update it in the original `DataFrame` "
   ]
  },
  {
   "cell_type": "code",
   "execution_count": 16,
   "id": "7f8d33e1",
   "metadata": {},
   "outputs": [],
   "source": [
    "contactsdf['Phone'] = formatted_phone"
   ]
  },
  {
   "cell_type": "code",
   "execution_count": 17,
   "id": "a51d7504",
   "metadata": {},
   "outputs": [
    {
     "data": {
      "text/html": [
       "<div>\n",
       "<style scoped>\n",
       "    .dataframe tbody tr th:only-of-type {\n",
       "        vertical-align: middle;\n",
       "    }\n",
       "\n",
       "    .dataframe tbody tr th {\n",
       "        vertical-align: top;\n",
       "    }\n",
       "\n",
       "    .dataframe thead th {\n",
       "        text-align: right;\n",
       "    }\n",
       "</style>\n",
       "<table border=\"1\" class=\"dataframe\">\n",
       "  <thead>\n",
       "    <tr style=\"text-align: right;\">\n",
       "      <th></th>\n",
       "      <th>Name</th>\n",
       "      <th>Email</th>\n",
       "      <th>Phone</th>\n",
       "    </tr>\n",
       "  </thead>\n",
       "  <tbody>\n",
       "    <tr>\n",
       "      <th>0</th>\n",
       "      <td>Mike Green</td>\n",
       "      <td>demo1@deitel.com</td>\n",
       "      <td>555-555-5555</td>\n",
       "    </tr>\n",
       "    <tr>\n",
       "      <th>1</th>\n",
       "      <td>Sue Brown</td>\n",
       "      <td>demo2@deitel.com</td>\n",
       "      <td>555-555-1234</td>\n",
       "    </tr>\n",
       "  </tbody>\n",
       "</table>\n",
       "</div>"
      ],
      "text/plain": [
       "         Name             Email         Phone\n",
       "0  Mike Green  demo1@deitel.com  555-555-5555\n",
       "1   Sue Brown  demo2@deitel.com  555-555-1234"
      ]
     },
     "execution_count": 17,
     "metadata": {},
     "output_type": "execute_result"
    }
   ],
   "source": [
    "contactsdf"
   ]
  }
 ],
 "metadata": {
  "celltoolbar": "Slideshow",
  "kernelspec": {
   "display_name": "Python 3",
   "language": "python",
   "name": "python3"
  },
  "language_info": {
   "codemirror_mode": {
    "name": "ipython",
    "version": 3
   },
   "file_extension": ".py",
   "mimetype": "text/x-python",
   "name": "python",
   "nbconvert_exporter": "python",
   "pygments_lexer": "ipython3",
   "version": "3.8.3"
  }
 },
 "nbformat": 4,
 "nbformat_minor": 5
}
