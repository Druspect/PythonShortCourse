{
 "cells": [
  {
   "cell_type": "markdown",
   "id": "46662e81",
   "metadata": {
    "pycharm": {
     "name": "#%% md\n"
    }
   },
   "source": [
    "## "
   ]
  },
  {
   "cell_type": "markdown",
   "id": "0b7ff7d9",
   "metadata": {
    "pycharm": {
     "name": "#%% md\n"
    }
   },
   "source": [
    "# Assignment 1  (version 2)\n",
    "\n",
    "## Pyton Coding Guidelines (https://peps.python.org/pep-0008)\n",
    "\n",
    "One of Guido Rossum's key insights is that code is read much more often than it is written. The guidelines provided here are intended to improve the readability of code and make it consistent across the wide spectrum of Python code. As PEP 20 says, “Readability counts”. Be sure to review the document: PythonCodingGuidelines.docx available on Canvas and follow the recommendations in your code.\n",
    "\n",
    "\n",
    "\n",
    "## For each problem you need to write code for a function based on the requirements. \n",
    "- The function initally only contains the code 'pass' which does nothing\n",
    "- Your task is to write correct code that follows the coding guidelines.\n",
    "- In the cell following the code cell, the\n",
    "re are assertion statements that will test your code.\n",
    "- If there is an error, the assertion will throw an Error.\n",
    "- If you pass all the assertions, you will see the print statement display 'Passed'\n",
    "\n",
    "## Submit your notebook to Canvas in a zip file named as: a1.lastname.zip\n",
    "### be sure to name it with YOUR last name"
   ]
  },
  {
   "cell_type": "markdown",
   "id": "4fca42e3",
   "metadata": {
    "pycharm": {
     "name": "#%% md\n"
    }
   },
   "source": [
    "## Problem 1\n",
    "\n",
    "- Write two functions, is_odd() and is_even(), with a single numeric\n",
    "parameter n. The is_odd() function returns True if n is odd and\n",
    "False if n is even. The is_even() function returns the True if n\n",
    "is even and False if n is odd.\n",
    "- Both functions return False for numbers with fractional parts, such as 3.14 or -4.5.\n",
    "- Zero is considered an even number.\n",
    "- Floating-point numbers such as 3.1415 are neither odd nor even, so both isOdd() and isEven() should return False for them.\n",
    "\n",
    "- Keep in mind that the isOdd() and isEven() function you write must return a Boolean True or False value, not an integer 0 or 1. You need to use a == or != comparison operator to produce a Boolean value: 7 % 2 == 1 evaluates to 1 == 1, which in turn evaluates to True."
   ]
  },
  {
   "cell_type": "markdown",
   "id": "33645752",
   "metadata": {
    "pycharm": {
     "name": "#%% md\n"
    }
   },
   "source": [
    "## Name and SMU ID"
   ]
  },
  {
   "cell_type": "code",
   "execution_count": null,
   "id": "8b486736",
   "metadata": {
    "pycharm": {
     "name": "#%%\n"
    }
   },
   "outputs": [],
   "source": [
    "# Name: Matthew Fuller\n",
    "# SMU ID:"
   ]
  },
  {
   "cell_type": "code",
   "execution_count": 3,
   "id": "64ccd39d",
   "metadata": {
    "is_executing": true,
    "pycharm": {
     "name": "#%%\n"
    }
   },
   "outputs": [
    {
     "ename": "SyntaxError",
     "evalue": "invalid syntax (1804269322.py, line 2)",
     "output_type": "error",
     "traceback": [
      "\u001b[0;36m  File \u001b[0;32m\"/tmp/ipykernel_20595/1804269322.py\"\u001b[0;36m, line \u001b[0;32m2\u001b[0m\n\u001b[0;31m    if n%2=get_ipython().getoutput('0')\u001b[0m\n\u001b[0m          ^\u001b[0m\n\u001b[0;31mSyntaxError\u001b[0m\u001b[0;31m:\u001b[0m invalid syntax\n"
     ]
    }
   ],
   "source": [
    "\n",
    "def is_odd(n):\n",
    "   if n%2!=0\n",
    "    return True\n",
    "    else\n",
    "        return False\n",
    "def is_even(n):\n",
    "    if n%2 ==0\n",
    "        return True\n",
    "    else\n",
    "        return False"
   ]
  },
  {
   "cell_type": "code",
   "execution_count": null,
   "id": "1f745e52",
   "metadata": {
    "is_executing": true,
    "pycharm": {
     "name": "#%%\n"
    }
   },
   "outputs": [],
   "source": [
    "# Assertions for is_odd() and is_even() \n",
    "# Execute this cell after completing the is_odd() and is_even() functions.\n",
    "\n",
    "assert is_odd(42) == False\n",
    "assert is_odd(9999) == True\n",
    "assert is_odd(-10) == False\n",
    "assert is_odd(-11) == True\n",
    "assert is_odd(3.1415) == False\n",
    "assert is_even(42) == True\n",
    "assert is_even(9999) == False\n",
    "assert is_even(-10) == True\n",
    "assert is_even(-11) == False\n",
    "assert is_even(3.1415) == False\n",
    "print (\"Passed\")"
   ]
  },
  {
   "cell_type": "markdown",
   "id": "a3e29161",
   "metadata": {
    "pycharm": {
     "name": "#%% md\n"
    }
   },
   "source": [
    "## Problem 2: "
   ]
  },
  {
   "cell_type": "code",
   "execution_count": null,
   "id": "e2e65ab2",
   "metadata": {
    "pycharm": {
     "name": "#%%\n"
    }
   },
   "outputs": [],
   "source": [
    "#  Write code for a function that returns True if n is a multiple of m, False otherwise\n",
    "\n",
    "def is_multiple_of(n, m):\n",
    "    pass\n",
    "\n"
   ]
  },
  {
   "cell_type": "code",
   "execution_count": null,
   "id": "bcca014a",
   "metadata": {
    "pycharm": {
     "name": "#%%\n"
    }
   },
   "outputs": [],
   "source": [
    "# Assert \n",
    "assert is_multiple_of(100,10) == True\n",
    "assert is_multiple_of(14,3) == False\n",
    "print (\"Passed\")"
   ]
  },
  {
   "cell_type": "markdown",
   "id": "1ece0bcc",
   "metadata": {
    "pycharm": {
     "name": "#%% md\n"
    }
   },
   "source": [
    "## Problem 3:"
   ]
  },
  {
   "cell_type": "code",
   "execution_count": null,
   "id": "f3d861ef",
   "metadata": {
    "pycharm": {
     "name": "#%%\n"
    }
   },
   "outputs": [],
   "source": [
    "#  Write code for a function that returns the largest of three integers.\n",
    "#  Do not use the logical and operator\n",
    "# Your code should handle the case when 2 or 3 are the same max value\n",
    "\n",
    "def largest(a, b, c):\n",
    "    pass\n",
    "   \n",
    "        "
   ]
  },
  {
   "cell_type": "code",
   "execution_count": null,
   "id": "fc6b5ee0",
   "metadata": {
    "pycharm": {
     "name": "#%%\n"
    }
   },
   "outputs": [],
   "source": [
    "assert largest(1,2,3) == 3\n",
    "assert largest(10, 99, 12) == 99\n",
    "assert largest(100, 99, 11) == 100\n",
    "assert largest(99, 99, 2) == 99\n",
    "assert largest(99, 2, 99) == 99\n",
    "assert largest(2, 2, 2) == 2\n",
    "print (\"Passed\")"
   ]
  },
  {
   "cell_type": "markdown",
   "id": "158fe370",
   "metadata": {
    "pycharm": {
     "name": "#%% md\n"
    }
   },
   "source": [
    "## Problem 4\n",
    "#### Given two integer numbers return their product only if the product is equal to or lower than 1000, else return their sum."
   ]
  },
  {
   "cell_type": "code",
   "execution_count": null,
   "id": "281c645c",
   "metadata": {
    "pycharm": {
     "name": "#%%\n"
    }
   },
   "outputs": [],
   "source": [
    "def sum_or_product(a,b):\n",
    "    pass\n",
    "\n",
    "\n"
   ]
  },
  {
   "cell_type": "code",
   "execution_count": null,
   "id": "f1a9d45f",
   "metadata": {
    "pycharm": {
     "name": "#%%\n"
    }
   },
   "outputs": [],
   "source": [
    "assert sum_or_product(5,5) == 25\n",
    "assert sum_or_product(5,1000) == 1005\n",
    "print (\"Passed\")"
   ]
  },
  {
   "cell_type": "markdown",
   "id": "09823800",
   "metadata": {
    "pycharm": {
     "name": "#%% md\n"
    }
   },
   "source": [
    "## Problem 5: \n",
    "### write a function convert(parm) such that:\n",
    "- if parm is an integer, return the integer\n",
    "- if parm is a float, return the floor value of the float\n",
    "- if parm is a string of all integers, return the integer value\n",
    "-- note: for this assignment, only strings of integers will be tested\n",
    "- if none of the above, return None\n"
   ]
  },
  {
   "cell_type": "code",
   "execution_count": null,
   "id": "b96247da",
   "metadata": {
    "pycharm": {
     "name": "#%%\n"
    }
   },
   "outputs": [],
   "source": [
    "def convert(parm):\n",
    "    pass"
   ]
  },
  {
   "cell_type": "code",
   "execution_count": null,
   "id": "faaa5d59",
   "metadata": {
    "pycharm": {
     "name": "#%%\n"
    }
   },
   "outputs": [],
   "source": [
    "# asserts for convert(parm)\n",
    "assert convert(22)      == 22\n",
    "assert convert(19.76)   == 19\n",
    "assert convert(\"12345\") == 12345\n",
    "print (\"Passed\")"
   ]
  },
  {
   "cell_type": "markdown",
   "id": "1125ee68",
   "metadata": {
    "pycharm": {
     "name": "#%%\n"
    }
   },
   "source": [
    "## Problem 6:\n",
    "### Write a function loop(max, stop) that:\n",
    "- creates a for loop that iterates over numbers 0 .. max using the range function.\n",
    "- the function should add each nunber to a variable called sum\n",
    "- when the for statement executes and comes across the 'stop' number, the function should immediately add this value to sum and return the sum\n",
    "- if stop is NOT encountered during the for loop, add the value of stop to the sum of all the numbers\n",
    "\n",
    "\n"
   ]
  },
  {
   "cell_type": "code",
   "execution_count": null,
   "id": "e47cbc18",
   "metadata": {
    "pycharm": {
     "name": "#%%\n"
    }
   },
   "outputs": [],
   "source": [
    "# function definition\n",
    "def loop(max, stop):\n",
    "    pass\n"
   ]
  },
  {
   "cell_type": "code",
   "execution_count": null,
   "id": "a412fafd",
   "metadata": {
    "pycharm": {
     "name": "#%%\n"
    }
   },
   "outputs": [],
   "source": [
    "#asserts for loop(max, stop)\n",
    "assert loop(10, 4) == 10\n",
    "assert loop(5, 5) == 15\n",
    "print (\"Passed\")\n"
   ]
  },
  {
   "cell_type": "markdown",
   "id": "b228b8b8",
   "metadata": {
    "pycharm": {
     "name": "#%% md\n"
    }
   },
   "source": [
    "## Problem 7:\n",
    "### Write a function number_of_coins(price) that:\n",
    "- returns the minimum number of coins someone will receive when making change for $1\n",
    "- for example, if the price is 27 cents, the amount of change will be 73 cents\n",
    "- 2 quarters, 2 dimes, 3 pennies = 7 coins change\n",
    "- assume only quarters, dimes, nickels and pennies as your coins"
   ]
  },
  {
   "cell_type": "code",
   "execution_count": null,
   "id": "4326b1ac",
   "metadata": {
    "pycharm": {
     "name": "#%%\n"
    }
   },
   "outputs": [],
   "source": [
    "# function definition\n",
    "def number_of_coins(price):\n",
    "    pass"
   ]
  },
  {
   "cell_type": "code",
   "execution_count": null,
   "id": "d7cdb469",
   "metadata": {
    "pycharm": {
     "name": "#%%\n"
    }
   },
   "outputs": [],
   "source": [
    "# asserts for number_of_coins\n",
    "assert number_of_coins(27) == 7\n",
    "assert number_of_coins(99) == 1\n",
    "assert number_of_coins(100) == 0\n",
    "print (\"Passed\")\n"
   ]
  },
  {
   "cell_type": "markdown",
   "id": "b97ec732",
   "metadata": {
    "pycharm": {
     "name": "#%% md\n"
    }
   },
   "source": [
    "## Problem 8:\n",
    "### Write a function is_pythagorean_triple(s1, s2, s3)  \n",
    "- return true if the three sides of a right triangle are valid Pythagorean triples\n",
    "- to be a Pythagorean triple the three sides must satisfy the relationship that the sum of the squares of two sides is equal to the square of the hypotenuse. "
   ]
  },
  {
   "cell_type": "code",
   "execution_count": null,
   "id": "b3f803ed",
   "metadata": {
    "pycharm": {
     "name": "#%%\n"
    }
   },
   "outputs": [],
   "source": [
    "#function definition\n",
    "def is_pythagorean_triple(s1, s2, s3):\n",
    "    pass\n"
   ]
  },
  {
   "cell_type": "code",
   "execution_count": null,
   "id": "43bc02f9",
   "metadata": {
    "pycharm": {
     "name": "#%%\n"
    }
   },
   "outputs": [],
   "source": [
    "#asserts for is_pythagorean_triple\n",
    "assert is_pythagorean_triple(3,4,5) == True\n",
    "assert is_pythagorean_triple(13,4,8) == False\n",
    "assert is_pythagorean_triple(15,9,12) == True\n",
    "print (\"Passed\")"
   ]
  },
  {
   "cell_type": "markdown",
   "id": "ad2cbbad",
   "metadata": {
    "pycharm": {
     "name": "#%% md\n"
    }
   },
   "source": [
    "## Problem 9:\n",
    "### Write a function compute_grade(score) based on:\n",
    "- if the score is greater than or equal to 150, return 'A'\n",
    "- if the score is between 100 - 149, return 'B'\n",
    "- if the score is less than 100 return 'F'"
   ]
  },
  {
   "cell_type": "code",
   "execution_count": null,
   "id": "84704a9f",
   "metadata": {
    "pycharm": {
     "name": "#%%\n"
    }
   },
   "outputs": [],
   "source": [
    "# function definition\n",
    "def compute_grade(score):\n",
    "    pass"
   ]
  },
  {
   "cell_type": "code",
   "execution_count": null,
   "id": "542c6396",
   "metadata": {
    "pycharm": {
     "name": "#%%\n"
    }
   },
   "outputs": [],
   "source": [
    "#asserts for compute_grade()\n",
    "assert compute_grade(199) == 'A'\n",
    "assert compute_grade(125) == 'B'\n",
    "assert compute_grade(10) == 'F'\n",
    "print (\"Passed\")"
   ]
  },
  {
   "cell_type": "markdown",
   "id": "2e3be89b",
   "metadata": {
    "pycharm": {
     "name": "#%% md\n"
    }
   },
   "source": [
    "## Problem 10:\n",
    "### Write a function my_mean(my_list) that computes the mean of a list of values using the statistics module"
   ]
  },
  {
   "cell_type": "code",
   "execution_count": null,
   "id": "fb28ade5",
   "metadata": {
    "pycharm": {
     "name": "#%%\n"
    }
   },
   "outputs": [],
   "source": [
    "# function definition\n",
    "def my_mean(my_list):\n",
    "    pass\n"
   ]
  },
  {
   "cell_type": "code",
   "execution_count": null,
   "id": "10274713",
   "metadata": {
    "pycharm": {
     "name": "#%%\n"
    }
   },
   "outputs": [],
   "source": [
    "#asserts for my_mean\n",
    "assert my_mean([2,3,4,5]) == 3.5\n",
    "assert my_mean( [99,122,765,9876]) == 2715.5\n",
    "print (\"Passed\")"
   ]
  },
  {
   "cell_type": "code",
   "execution_count": null,
   "id": "b7b46933",
   "metadata": {},
   "outputs": [],
   "source": [
    "# function definition\n",
    "def my_mean(my_list):\n",
    "    pass\n"
   ]
  },
  {
   "cell_type": "code",
   "execution_count": null,
   "id": "da569f41",
   "metadata": {},
   "outputs": [],
   "source": [
    "#asserts for my_mean\n",
    "assert my_mean([2,3,4,5]) == 3.5\n",
    "assert my_mean( [99,122,765,9876]) == 2715.5\n",
    "print (\"Passed\")"
   ]
  }
 ],
 "metadata": {
  "kernelspec": {
   "display_name": "Python 3 (ipykernel)",
   "language": "python",
   "name": "python3"
  },
  "language_info": {
   "codemirror_mode": {
    "name": "ipython",
    "version": 3
   },
   "file_extension": ".py",
   "mimetype": "text/x-python",
   "name": "python",
   "nbconvert_exporter": "python",
   "pygments_lexer": "ipython3",
   "version": "3.9.13"
  }
 },
 "nbformat": 4,
 "nbformat_minor": 5
}
