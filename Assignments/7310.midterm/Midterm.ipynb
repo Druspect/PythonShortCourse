{
 "cells": [
  {
   "cell_type": "markdown",
   "id": "08c5c802",
   "metadata": {},
   "source": [
    "## CS 7310 Midterm Exam"
   ]
  },
  {
   "cell_type": "markdown",
   "id": "d896b370",
   "metadata": {},
   "source": [
    "- Name: \n",
    "- ID: "
   ]
  },
  {
   "cell_type": "markdown",
   "id": "bd365f38",
   "metadata": {},
   "source": [
    "# Question 1"
   ]
  },
  {
   "cell_type": "markdown",
   "id": "994b7aa5",
   "metadata": {},
   "source": [
    "# 1a.\tNumPy Measurement\n",
    "- Compare the performance of the built-in function sum() that sums all the values in a 2D NumPy array vs. using two loops to visit all the cells of the array and iteratively adding the values.\n",
    "Steps:\n",
    "-\tUse the numpy arange ( ) function to create a 1D numpy array (call it arr1d) of 100 million floating point numbers. The array will contain the sequence 0., 1., 2., ... 100_000_000\n",
    "- \tConvert the 1D array to a 2D array with 10 columns using:\n",
    "--\tncols = 10\n",
    "--\tarr2d = np.reshape(arr1d, (-1, ncols))\n",
    "-\tUse the timing technique shown in the NumPy module to measure the time it takes NumPy to compute the sum of all values in arr2d"
   ]
  },
  {
   "cell_type": "code",
   "execution_count": null,
   "id": "1b0d6202",
   "metadata": {},
   "outputs": [],
   "source": [
    "# code here"
   ]
  },
  {
   "cell_type": "markdown",
   "id": "62dc46ca",
   "metadata": {},
   "source": [
    "# 1b. Measure Iteration\n",
    "-\tWrite a function called compute_sum(arr) that takes a numpy 2d array as parameter and uses two loop to iterate over all the values in the rows and columns and compute the sum and return the sum\n",
    "-\tHint: use the shape property of numpy arrays to determine the number of rows and columns\n",
    "-\tHint: use NumPy’s    arr[row, col] to get the value in cells of the array and compute the sum\n",
    "-\tUse the timing technique to measure the time it takes to compute the sum iteratively\n",
    "-\tBe sure to check that the sum is the same for both methods"
   ]
  },
  {
   "cell_type": "code",
   "execution_count": null,
   "id": "84ff67de",
   "metadata": {},
   "outputs": [],
   "source": [
    "# code here"
   ]
  },
  {
   "cell_type": "markdown",
   "id": "c8e1c25f",
   "metadata": {},
   "source": [
    "# 1c. Display\n",
    "-\tHow many times faster (or slower) is the built in sum() function vs computing the sum with loops\n",
    "-\tUse matplotlib to display a bar chart that shows the 2 time values. If one value is significantly greater than the other, use the log display feature of matplotlib to get a better visualization of the difference."
   ]
  },
  {
   "cell_type": "code",
   "execution_count": null,
   "id": "dfb2a26b",
   "metadata": {},
   "outputs": [],
   "source": [
    "# results here\n"
   ]
  },
  {
   "cell_type": "markdown",
   "id": "be763b4c",
   "metadata": {},
   "source": [
    "# Question 2"
   ]
  },
  {
   "cell_type": "markdown",
   "id": "f3084a5f",
   "metadata": {},
   "source": [
    "# 2a. CSV Data Set Processing\n",
    "Tip: review the section in the Deitel book section 9.12.3 Reading the Titanic Disaster Dataset\n",
    "-\tLoad the Titanic CSV dataset into a pandas DataFrame. See the Midterm zipfile for titanic.csv\n",
    "-\tDetermine the number of individuals who died vs. those that survived\n",
    "-\tPlot these values with  a Histogram using pyplot\n"
   ]
  },
  {
   "cell_type": "code",
   "execution_count": null,
   "id": "f579f70b",
   "metadata": {},
   "outputs": [],
   "source": [
    "# code here"
   ]
  },
  {
   "cell_type": "markdown",
   "id": "69a9a4f1",
   "metadata": {},
   "source": [
    "# 2b. Survivor Age\n",
    "-\tFor all survivors, use pyplot to create a bar chart that shows the number of survivors in each age category using the following categories:\n",
    "- 0-10, 11-20, 21-30, 31-40, 41-50, 51-60, 60-100\n",
    "- display values with a Histogram using pyplot\n",
    "- Determine the average age of all survivors vs. those who died\n",
    "\n"
   ]
  },
  {
   "cell_type": "code",
   "execution_count": null,
   "id": "5f51a979",
   "metadata": {},
   "outputs": [],
   "source": [
    "# Code here\n"
   ]
  },
  {
   "cell_type": "markdown",
   "id": "93942380",
   "metadata": {},
   "source": [
    "# Question 3 Debugging"
   ]
  },
  {
   "cell_type": "markdown",
   "id": "aaaad629",
   "metadata": {},
   "source": [
    "## Copy the code below and use a debugger (e.g. in Pycharm) to answer the following questions.\n",
    "- What is the value of the sum when idx = 99 but BEFORE sum gets incremented? ____\n",
    "- Use the debugger STEP function to step thru the loop,  what is  the value of sum AFTER sum gets incremented?  _____-\n"
   ]
  },
  {
   "cell_type": "code",
   "execution_count": null,
   "id": "4dfbdf05",
   "metadata": {},
   "outputs": [],
   "source": [
    "# Rollo's code:\n",
    "def foo(n):\n",
    "    sum = 0\n",
    "    for idx in range(n):\n",
    "        sum = sum + 0.01 * idx\n",
    "    return sum\n",
    "\n",
    "sum = foo(2000)\n",
    "\n",
    "print(sum)\n"
   ]
  },
  {
   "cell_type": "markdown",
   "id": "eb172ac8",
   "metadata": {},
   "source": [
    "## Take screen shots of your work in the debugger and add to the zip file when you submit your assignment"
   ]
  },
  {
   "cell_type": "code",
   "execution_count": null,
   "id": "80ffc05c",
   "metadata": {},
   "outputs": [],
   "source": []
  }
 ],
 "metadata": {
  "kernelspec": {
   "display_name": "Python 3",
   "language": "python",
   "name": "python3"
  },
  "language_info": {
   "codemirror_mode": {
    "name": "ipython",
    "version": 3
   },
   "file_extension": ".py",
   "mimetype": "text/x-python",
   "name": "python",
   "nbconvert_exporter": "python",
   "pygments_lexer": "ipython3",
   "version": "3.8.3"
  }
 },
 "nbformat": 4,
 "nbformat_minor": 5
}
