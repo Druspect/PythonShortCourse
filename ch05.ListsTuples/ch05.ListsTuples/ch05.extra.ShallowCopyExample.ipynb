{
 "cells": [
  {
   "cell_type": "markdown",
   "id": "bc45b8ce",
   "metadata": {},
   "source": [
    "## Shallow Copy will copy only top level elements\n",
    "### for single values that means copy the value\n",
    "### for sequences, that means copying the reference to the sequence object"
   ]
  },
  {
   "cell_type": "code",
   "execution_count": 1,
   "id": "cc5e776b",
   "metadata": {},
   "outputs": [
    {
     "name": "stdout",
     "output_type": "stream",
     "text": [
      "2129775661568 2129775661120\n"
     ]
    }
   ],
   "source": [
    "a = [1,2,3, [6,7,8], 10]\n",
    "b = a[:]\n",
    "print ( id(a), id(b))"
   ]
  },
  {
   "cell_type": "code",
   "execution_count": 2,
   "id": "814b2e6c",
   "metadata": {},
   "outputs": [
    {
     "name": "stdout",
     "output_type": "stream",
     "text": [
      "[99, 2, 3, [6, 7, 8], 10] \n",
      " [1, 2, 3, [6, 7, 8], 10]\n"
     ]
    }
   ],
   "source": [
    "a[0] = 99\n",
    "print(a, '\\n', b)"
   ]
  },
  {
   "cell_type": "code",
   "execution_count": 3,
   "id": "5c336121",
   "metadata": {},
   "outputs": [
    {
     "name": "stdout",
     "output_type": "stream",
     "text": [
      "[99, 2, 3, [88, 7, 8], 10] \n",
      " [1, 2, 3, [88, 7, 8], 10]\n"
     ]
    }
   ],
   "source": [
    "a[3][0] = 88\n",
    "print(a, '\\n', b)"
   ]
  },
  {
   "cell_type": "markdown",
   "id": "69cabd0e",
   "metadata": {},
   "source": [
    "## Deep Copy - copies all levels - recursively\n"
   ]
  },
  {
   "cell_type": "code",
   "execution_count": 4,
   "id": "76b1995d",
   "metadata": {},
   "outputs": [],
   "source": [
    "import copy\n",
    "a = [1,2,3, [6,7,8], 10]\n",
    "b = copy.deepcopy(a)\n"
   ]
  },
  {
   "cell_type": "code",
   "execution_count": 5,
   "id": "77d399d4",
   "metadata": {},
   "outputs": [
    {
     "name": "stdout",
     "output_type": "stream",
     "text": [
      "[1, 2, 3, [88, 7, 8], 10] \n",
      " [1, 2, 3, [6, 7, 8], 10]\n"
     ]
    }
   ],
   "source": [
    "a[3][0] = 88\n",
    "print(a, '\\n', b)"
   ]
  },
  {
   "cell_type": "code",
   "execution_count": 9,
   "id": "182fdf7f",
   "metadata": {},
   "outputs": [
    {
     "data": {
      "text/plain": [
       "[1, 2, 3, 4, 5, 6]"
      ]
     },
     "execution_count": 9,
     "metadata": {},
     "output_type": "execute_result"
    }
   ],
   "source": []
  },
  {
   "cell_type": "code",
   "execution_count": null,
   "id": "e8b88cfc",
   "metadata": {},
   "outputs": [],
   "source": []
  }
 ],
 "metadata": {
  "kernelspec": {
   "display_name": "Python 3",
   "language": "python",
   "name": "python3"
  },
  "language_info": {
   "codemirror_mode": {
    "name": "ipython",
    "version": 3
   },
   "file_extension": ".py",
   "mimetype": "text/x-python",
   "name": "python",
   "nbconvert_exporter": "python",
   "pygments_lexer": "ipython3",
   "version": "3.8.3"
  }
 },
 "nbformat": 4,
 "nbformat_minor": 5
}
