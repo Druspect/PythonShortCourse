{
 "cells": [
  {
   "cell_type": "markdown",
   "id": "5cccb6e1",
   "metadata": {
    "slideshow": {
     "slide_type": "slide"
    }
   },
   "source": [
    "# 5. Sequences: Lists and Tuples"
   ]
  },
  {
   "cell_type": "markdown",
   "id": "d1b3926f",
   "metadata": {
    "slideshow": {
     "slide_type": "slide"
    }
   },
   "source": [
    "### Objectives \n",
    "In this chapter, you’ll:\n",
    "* Create and initialize lists and tuples.\n",
    "* Refer to elements of lists, tuples and strings.\n",
    "* Sort and search lists, and search tuples. \n",
    "* Pass lists and tuples to functions and methods."
   ]
  },
  {
   "cell_type": "markdown",
   "id": "98a52cae",
   "metadata": {
    "slideshow": {
     "slide_type": "slide"
    }
   },
   "source": [
    "### Objectives (cont.)\n",
    "* Use list methods to perform common manipulations, such as searching for items, sorting a list, inserting items and removing items.\n",
    "* Use additional Python functional-style programming capabilities, including lambdas and the operations filter, map and reduce."
   ]
  },
  {
   "cell_type": "markdown",
   "id": "c9e510cc",
   "metadata": {
    "slideshow": {
     "slide_type": "slide"
    }
   },
   "source": [
    "### Objectives (cont.)\n",
    "* Use functional-style list comprehensions to create lists quickly and easily, and use generator expressions to generate values on demand.\n",
    "* Use two-dimensional lists.\n",
    "* Enhance your analysis and presentation skills with the Seaborn and Matplotlib visualization libraries. "
   ]
  },
  {
   "cell_type": "markdown",
   "id": "8b64e35e",
   "metadata": {},
   "source": [
    "# 5.1 Introduction\n",
    "* **Collections** are prepackaged data structures consisting of related data items. \n",
    "* Examples of collections:\n",
    "    * Favorite songs on your smartphone\n",
    "    * Contacts list\n",
    "    * A library’s books\n",
    "    * Cards in a card game\n",
    "    * Favorite sports team’s players\n",
    "    * Stocks in an investment portfolio\n",
    "    * Patients in a cancer study \n",
    "    * Shopping list. \n",
    "* Lists (which are modifiable) and tuples (which are not) have many common capabilities. \n",
    "* Each can hold items of the same or different types. \n",
    "* Lists can **dynamically resize** as necessary.\n",
    "* The Intro to Data Science section uses the visualization libraries Seaborn and Matplotlib to interactively develop static bar charts containing the die frequencies. "
   ]
  },
  {
   "cell_type": "markdown",
   "id": "dab59b57",
   "metadata": {},
   "source": [
    "# 5.2 Lists\n",
    "* Many of the capabilities shown in this section apply to all sequence types. "
   ]
  },
  {
   "cell_type": "markdown",
   "id": "31bc655c",
   "metadata": {},
   "source": [
    "### Creating a List\n",
    "* **Lists** typically store **homogeneous data**, but may store **heterogeneous data**."
   ]
  },
  {
   "cell_type": "code",
   "execution_count": null,
   "id": "1fdf8f9f",
   "metadata": {},
   "outputs": [],
   "source": [
    "c = [-45, 6, 0, 72, 1543]"
   ]
  },
  {
   "cell_type": "code",
   "execution_count": null,
   "id": "be319c84",
   "metadata": {},
   "outputs": [],
   "source": [
    "c"
   ]
  },
  {
   "cell_type": "markdown",
   "id": "017d45aa",
   "metadata": {},
   "source": [
    "### Accessing Elements of a List\n",
    "* Reference a list element by writing the list’s name followed by the element’s **index** enclosed in `[]` (the **subscription operator**). "
   ]
  },
  {
   "cell_type": "markdown",
   "id": "e640e796",
   "metadata": {},
   "source": [
    "![Diagram of a list named c labeled with its element names](ch05images/AAEMYRO0.png \"Diagram of a list named c labeled with its element names\")"
   ]
  },
  {
   "cell_type": "code",
   "execution_count": null,
   "id": "5f2af597",
   "metadata": {},
   "outputs": [],
   "source": [
    "c[0]"
   ]
  },
  {
   "cell_type": "code",
   "execution_count": null,
   "id": "20a8ca50",
   "metadata": {},
   "outputs": [],
   "source": [
    "c[4]"
   ]
  },
  {
   "cell_type": "markdown",
   "id": "c5b34da5",
   "metadata": {},
   "source": [
    "### Determining a List’s Length "
   ]
  },
  {
   "cell_type": "code",
   "execution_count": null,
   "id": "80a6508f",
   "metadata": {},
   "outputs": [],
   "source": [
    "len(c)"
   ]
  },
  {
   "cell_type": "markdown",
   "id": "016da826",
   "metadata": {},
   "source": [
    "### Accessing Elements from the End of the List with Negative Indices\n",
    "* Lists can be accessed from the end by using _negative indices_:\n",
    "![Diagram of the list c labeled with its negative indices](ch05images/AAEMYRO0_2.png \"Diagram of the list c labeled with its negative indices\")"
   ]
  },
  {
   "cell_type": "code",
   "execution_count": null,
   "id": "116eefe4",
   "metadata": {},
   "outputs": [],
   "source": [
    "c[-1]"
   ]
  },
  {
   "cell_type": "code",
   "execution_count": null,
   "id": "2664b99f",
   "metadata": {},
   "outputs": [],
   "source": [
    "c[-5]"
   ]
  },
  {
   "cell_type": "markdown",
   "id": "ff3b06f6",
   "metadata": {},
   "source": [
    "### Indices Must Be Integers or Integer Expressions"
   ]
  },
  {
   "cell_type": "code",
   "execution_count": null,
   "id": "3b98ee4b",
   "metadata": {},
   "outputs": [],
   "source": [
    "a = 1"
   ]
  },
  {
   "cell_type": "code",
   "execution_count": null,
   "id": "630e61c9",
   "metadata": {},
   "outputs": [],
   "source": [
    "b = 2"
   ]
  },
  {
   "cell_type": "code",
   "execution_count": null,
   "id": "77f69fc6",
   "metadata": {},
   "outputs": [],
   "source": [
    "c[a + b]"
   ]
  },
  {
   "cell_type": "markdown",
   "id": "58f158e9",
   "metadata": {},
   "source": [
    "### Lists Are Mutable"
   ]
  },
  {
   "cell_type": "code",
   "execution_count": null,
   "id": "2f586857",
   "metadata": {},
   "outputs": [],
   "source": [
    "c[4] = 17"
   ]
  },
  {
   "cell_type": "code",
   "execution_count": null,
   "id": "5c6805fa",
   "metadata": {},
   "outputs": [],
   "source": [
    "c"
   ]
  },
  {
   "cell_type": "markdown",
   "id": "7ebda3aa",
   "metadata": {},
   "source": [
    "### Some Sequences Are Immutable\n",
    "* Python’s string and tuple sequences are immutable. "
   ]
  },
  {
   "cell_type": "code",
   "execution_count": null,
   "id": "461266bc",
   "metadata": {},
   "outputs": [],
   "source": [
    "s = 'hello'"
   ]
  },
  {
   "cell_type": "code",
   "execution_count": null,
   "id": "1f449698",
   "metadata": {},
   "outputs": [],
   "source": [
    "s[0]"
   ]
  },
  {
   "cell_type": "code",
   "execution_count": null,
   "id": "02f328d5",
   "metadata": {},
   "outputs": [],
   "source": [
    "s[0] = 'H'"
   ]
  },
  {
   "cell_type": "markdown",
   "id": "35c62bf2",
   "metadata": {},
   "source": [
    "### Attempting to Access a Nonexistent Element\n",
    "* Index values must be in range."
   ]
  },
  {
   "cell_type": "code",
   "execution_count": null,
   "id": "a8d92e46",
   "metadata": {},
   "outputs": [],
   "source": [
    "c[100]"
   ]
  },
  {
   "cell_type": "markdown",
   "id": "aa19a4a1",
   "metadata": {},
   "source": [
    "### Using List Elements in Expressions"
   ]
  },
  {
   "cell_type": "code",
   "execution_count": null,
   "id": "16026b89",
   "metadata": {},
   "outputs": [],
   "source": [
    "c[0] + c[1] + c[2]"
   ]
  },
  {
   "cell_type": "markdown",
   "id": "94ac930a",
   "metadata": {},
   "source": [
    "### Appending to a List with +=\n",
    "* Lists can grow dynamically to accommodate new items."
   ]
  },
  {
   "cell_type": "code",
   "execution_count": null,
   "id": "23e597b8",
   "metadata": {},
   "outputs": [],
   "source": [
    "a_list = []"
   ]
  },
  {
   "cell_type": "code",
   "execution_count": null,
   "id": "d065d36e",
   "metadata": {},
   "outputs": [],
   "source": [
    "for number in range(1, 6):\n",
    "    a_list += [number]"
   ]
  },
  {
   "cell_type": "code",
   "execution_count": null,
   "id": "5671297f",
   "metadata": {},
   "outputs": [],
   "source": [
    "a_list"
   ]
  },
  {
   "cell_type": "markdown",
   "id": "8aa54710",
   "metadata": {},
   "source": [
    "* When the left operand of `+=` is a list, the right operand must be an _iterable_; otherwise, a `TypeError` occurs."
   ]
  },
  {
   "cell_type": "code",
   "execution_count": null,
   "id": "ec6cb4c6",
   "metadata": {},
   "outputs": [],
   "source": [
    "letters = []"
   ]
  },
  {
   "cell_type": "code",
   "execution_count": null,
   "id": "92d8645f",
   "metadata": {},
   "outputs": [],
   "source": [
    "letters += 'Python'"
   ]
  },
  {
   "cell_type": "code",
   "execution_count": null,
   "id": "a81c2472",
   "metadata": {},
   "outputs": [],
   "source": [
    "letters"
   ]
  },
  {
   "cell_type": "markdown",
   "id": "0b8eabf8",
   "metadata": {},
   "source": [
    "### Concatenating Lists with +\n",
    "* Can **concatenate** two lists, two tuples or two strings using `+` to create a _new_ sequence of the same type."
   ]
  },
  {
   "cell_type": "code",
   "execution_count": null,
   "id": "3f752d28",
   "metadata": {},
   "outputs": [],
   "source": [
    "list1 = [10, 20, 30]"
   ]
  },
  {
   "cell_type": "code",
   "execution_count": null,
   "id": "cadacaea",
   "metadata": {},
   "outputs": [],
   "source": [
    "list2 = [40, 50]"
   ]
  },
  {
   "cell_type": "code",
   "execution_count": null,
   "id": "7770674f",
   "metadata": {},
   "outputs": [],
   "source": [
    "concatenated_list = list1 + list2"
   ]
  },
  {
   "cell_type": "code",
   "execution_count": null,
   "id": "032f646a",
   "metadata": {},
   "outputs": [],
   "source": [
    "concatenated_list"
   ]
  },
  {
   "cell_type": "markdown",
   "id": "eed46dc6",
   "metadata": {},
   "source": [
    "### Using `for` and `range` to Access List Indices and Values"
   ]
  },
  {
   "cell_type": "code",
   "execution_count": null,
   "id": "9bfcdb36",
   "metadata": {},
   "outputs": [],
   "source": [
    "for i in range(len(concatenated_list)):  \n",
    "    print(f'{i}: {concatenated_list[i]}')"
   ]
  },
  {
   "cell_type": "markdown",
   "id": "f0cb0fc3",
   "metadata": {},
   "source": [
    "* We’ll show a safer way to access element indices and values using built-in function `enumerate`."
   ]
  },
  {
   "cell_type": "markdown",
   "id": "3a057ca4",
   "metadata": {},
   "source": [
    "### Comparison Operators\n",
    "* Can compare entire lists element-by-element."
   ]
  },
  {
   "cell_type": "code",
   "execution_count": null,
   "id": "231226f6",
   "metadata": {},
   "outputs": [],
   "source": [
    "a = [1, 2, 3]"
   ]
  },
  {
   "cell_type": "code",
   "execution_count": null,
   "id": "833772fa",
   "metadata": {},
   "outputs": [],
   "source": [
    "b = [1, 2, 3]"
   ]
  },
  {
   "cell_type": "code",
   "execution_count": null,
   "id": "c7d43c91",
   "metadata": {},
   "outputs": [],
   "source": [
    "c = [1, 2, 3, 4]"
   ]
  },
  {
   "cell_type": "code",
   "execution_count": null,
   "id": "c4821b36",
   "metadata": {},
   "outputs": [],
   "source": [
    "a == b"
   ]
  },
  {
   "cell_type": "code",
   "execution_count": null,
   "id": "a85016e8",
   "metadata": {},
   "outputs": [],
   "source": [
    "a == c"
   ]
  },
  {
   "cell_type": "code",
   "execution_count": null,
   "id": "9eeca208",
   "metadata": {},
   "outputs": [],
   "source": [
    "a < c"
   ]
  },
  {
   "cell_type": "code",
   "execution_count": null,
   "id": "4ccdf59d",
   "metadata": {},
   "outputs": [],
   "source": [
    "c >= b"
   ]
  },
  {
   "cell_type": "markdown",
   "id": "1918c607",
   "metadata": {},
   "source": [
    "# 5.3 Tuples"
   ]
  },
  {
   "cell_type": "markdown",
   "id": "1e05e820",
   "metadata": {},
   "source": [
    "### Creating Tuples\n",
    "* To create an empty tuple, use empty parentheses."
   ]
  },
  {
   "cell_type": "code",
   "execution_count": null,
   "id": "c538a6b4",
   "metadata": {},
   "outputs": [],
   "source": [
    "student_tuple = ()"
   ]
  },
  {
   "cell_type": "code",
   "execution_count": null,
   "id": "057645e1",
   "metadata": {},
   "outputs": [],
   "source": [
    "student_tuple"
   ]
  },
  {
   "cell_type": "code",
   "execution_count": null,
   "id": "79b30344",
   "metadata": {},
   "outputs": [],
   "source": [
    "len(student_tuple)"
   ]
  },
  {
   "cell_type": "markdown",
   "id": "f588253b",
   "metadata": {},
   "source": [
    "* Pack a tuple by separating its values with commas."
   ]
  },
  {
   "cell_type": "code",
   "execution_count": null,
   "id": "ed942ac7",
   "metadata": {},
   "outputs": [],
   "source": [
    "student_tuple = 'John', 'Green', 3.3"
   ]
  },
  {
   "cell_type": "code",
   "execution_count": null,
   "id": "7023a817",
   "metadata": {},
   "outputs": [],
   "source": [
    "student_tuple"
   ]
  },
  {
   "cell_type": "code",
   "execution_count": null,
   "id": "bb843827",
   "metadata": {},
   "outputs": [],
   "source": [
    "len(student_tuple)"
   ]
  },
  {
   "cell_type": "markdown",
   "id": "942e4f2f",
   "metadata": {},
   "source": [
    "* When you output a tuple, Python always displays its contents in parentheses.\n",
    "* Parentheses are optional when creating a tuple. "
   ]
  },
  {
   "cell_type": "code",
   "execution_count": null,
   "id": "1d06f91e",
   "metadata": {},
   "outputs": [],
   "source": [
    "another_student_tuple = ('Mary', 'Red', 3.3)"
   ]
  },
  {
   "cell_type": "code",
   "execution_count": null,
   "id": "4e5742cc",
   "metadata": {},
   "outputs": [],
   "source": [
    "another_student_tuple"
   ]
  },
  {
   "cell_type": "markdown",
   "id": "b8dda711",
   "metadata": {},
   "source": [
    "* A comma is required to create a one-element tuple."
   ]
  },
  {
   "cell_type": "code",
   "execution_count": null,
   "id": "dfa92936",
   "metadata": {},
   "outputs": [],
   "source": [
    "a_singleton_tuple = ('red',)  # note the comma"
   ]
  },
  {
   "cell_type": "code",
   "execution_count": null,
   "id": "e2f9303d",
   "metadata": {},
   "outputs": [],
   "source": [
    "a_singleton_tuple"
   ]
  },
  {
   "cell_type": "markdown",
   "id": "130b6c8d",
   "metadata": {},
   "source": [
    "### Accessing Tuple Elements\n",
    "* You generally access tuple elements directly rather than iterating over them."
   ]
  },
  {
   "cell_type": "code",
   "execution_count": null,
   "id": "62439a97",
   "metadata": {},
   "outputs": [],
   "source": [
    "time_tuple = (9, 16, 1)"
   ]
  },
  {
   "cell_type": "code",
   "execution_count": null,
   "id": "f2a469dc",
   "metadata": {},
   "outputs": [],
   "source": [
    "time_tuple"
   ]
  },
  {
   "cell_type": "code",
   "execution_count": null,
   "id": "541697fe",
   "metadata": {},
   "outputs": [],
   "source": [
    "time_tuple[0] * 3600 + time_tuple[1] * 60 + time_tuple[2]   "
   ]
  },
  {
   "cell_type": "markdown",
   "id": "edca6348",
   "metadata": {},
   "source": [
    "### Adding Items to a String or Tuple\n",
    "* `+=` can be used with strings and tuples, even though they’re _immutable_. \n",
    "* Creates new objects."
   ]
  },
  {
   "cell_type": "code",
   "execution_count": null,
   "id": "cdf4a7d1",
   "metadata": {},
   "outputs": [],
   "source": [
    "tuple1 = (10, 20, 30)"
   ]
  },
  {
   "cell_type": "code",
   "execution_count": null,
   "id": "bf9e822e",
   "metadata": {},
   "outputs": [],
   "source": [
    "tuple2 = tuple1"
   ]
  },
  {
   "cell_type": "code",
   "execution_count": null,
   "id": "197da5cc",
   "metadata": {},
   "outputs": [],
   "source": [
    "tuple2"
   ]
  },
  {
   "cell_type": "code",
   "execution_count": null,
   "id": "52e33522",
   "metadata": {},
   "outputs": [],
   "source": [
    "tuple1 += (40, 50)"
   ]
  },
  {
   "cell_type": "code",
   "execution_count": null,
   "id": "4934c795",
   "metadata": {},
   "outputs": [],
   "source": [
    "tuple1   "
   ]
  },
  {
   "cell_type": "code",
   "execution_count": null,
   "id": "ab519153",
   "metadata": {},
   "outputs": [],
   "source": [
    "tuple2  "
   ]
  },
  {
   "cell_type": "markdown",
   "id": "6a5ef723",
   "metadata": {},
   "source": [
    " \n",
    "\n",
    "### Appending Tuples to Lists"
   ]
  },
  {
   "cell_type": "code",
   "execution_count": null,
   "id": "3576b6bc",
   "metadata": {},
   "outputs": [],
   "source": [
    "numbers = [1, 2, 3, 4, 5]"
   ]
  },
  {
   "cell_type": "code",
   "execution_count": null,
   "id": "f3212fe3",
   "metadata": {},
   "outputs": [],
   "source": [
    "numbers += (6, 7)"
   ]
  },
  {
   "cell_type": "code",
   "execution_count": null,
   "id": "347fdd4a",
   "metadata": {},
   "outputs": [],
   "source": [
    "numbers"
   ]
  },
  {
   "cell_type": "markdown",
   "id": "23d626a2",
   "metadata": {},
   "source": [
    "   \n",
    "\n",
    "### Tuples May Contain Mutable Objects"
   ]
  },
  {
   "cell_type": "code",
   "execution_count": null,
   "id": "6e0c2615",
   "metadata": {},
   "outputs": [],
   "source": [
    "student_tuple = ('Amanda', 'Blue', [98, 75, 87])"
   ]
  },
  {
   "cell_type": "code",
   "execution_count": null,
   "id": "df451faa",
   "metadata": {},
   "outputs": [],
   "source": [
    "student_tuple[2][1] = 85"
   ]
  },
  {
   "cell_type": "code",
   "execution_count": null,
   "id": "7963eaa1",
   "metadata": {},
   "outputs": [],
   "source": [
    "student_tuple"
   ]
  },
  {
   "cell_type": "markdown",
   "id": "0200a7fa",
   "metadata": {},
   "source": [
    "# 5.4 Unpacking Sequences\n",
    "* Can unpack any sequence’s elements by assigning the sequence to a comma-separated list of variables (of the appropriate length)."
   ]
  },
  {
   "cell_type": "code",
   "execution_count": null,
   "id": "36d88c4e",
   "metadata": {},
   "outputs": [],
   "source": [
    "student_tuple = ('Amanda', [98, 85, 87])"
   ]
  },
  {
   "cell_type": "code",
   "execution_count": null,
   "id": "adb3d47a",
   "metadata": {},
   "outputs": [],
   "source": [
    "first_name, grades = student_tuple"
   ]
  },
  {
   "cell_type": "code",
   "execution_count": null,
   "id": "9251393b",
   "metadata": {},
   "outputs": [],
   "source": [
    "first_name"
   ]
  },
  {
   "cell_type": "code",
   "execution_count": null,
   "id": "cb411a30",
   "metadata": {},
   "outputs": [],
   "source": [
    "grades"
   ]
  },
  {
   "cell_type": "code",
   "execution_count": null,
   "id": "78a725ea",
   "metadata": {},
   "outputs": [],
   "source": [
    "first, second = 'hi'"
   ]
  },
  {
   "cell_type": "code",
   "execution_count": null,
   "id": "caf5d2d5",
   "metadata": {},
   "outputs": [],
   "source": [
    "print(f'{first}  {second}')"
   ]
  },
  {
   "cell_type": "code",
   "execution_count": null,
   "id": "1411bbde",
   "metadata": {},
   "outputs": [],
   "source": [
    "number1, number2, number3 = [2, 3, 5]"
   ]
  },
  {
   "cell_type": "code",
   "execution_count": null,
   "id": "d0764927",
   "metadata": {},
   "outputs": [],
   "source": [
    "print(f'{number1}  {number2}  {number3}')"
   ]
  },
  {
   "cell_type": "code",
   "execution_count": null,
   "id": "42c94270",
   "metadata": {},
   "outputs": [],
   "source": [
    "number1, number2, number3 = range(10, 40, 10)"
   ]
  },
  {
   "cell_type": "code",
   "execution_count": null,
   "id": "ebca2958",
   "metadata": {},
   "outputs": [],
   "source": [
    "print(f'{number1}  {number2}  {number3}')"
   ]
  },
  {
   "cell_type": "markdown",
   "id": "97cd6dd4",
   "metadata": {},
   "source": [
    "### Swapping Values Via Packing and Unpacking"
   ]
  },
  {
   "cell_type": "code",
   "execution_count": null,
   "id": "f86ebea9",
   "metadata": {},
   "outputs": [],
   "source": [
    "number1 = 99"
   ]
  },
  {
   "cell_type": "code",
   "execution_count": null,
   "id": "e0cf1ae8",
   "metadata": {},
   "outputs": [],
   "source": [
    "number2 = 22"
   ]
  },
  {
   "cell_type": "code",
   "execution_count": null,
   "id": "bbb594ea",
   "metadata": {},
   "outputs": [],
   "source": [
    "number1, number2 = (number2, number1)"
   ]
  },
  {
   "cell_type": "code",
   "execution_count": null,
   "id": "5565a8a8",
   "metadata": {},
   "outputs": [],
   "source": [
    "print(f'number1 = {number1}; number2 = {number2}')"
   ]
  },
  {
   "cell_type": "markdown",
   "id": "0a6472f6",
   "metadata": {},
   "source": [
    "### Accessing Indices and Values Safely with Built-in Function enumerate\n",
    "* Preferred way to access an element’s index _and_ value is the built-in function **`enumerate`**. \n",
    "* Receives an iterable and creates an iterator that, for each element, returns a tuple containing the element’s index and value.\n",
    "* Built-in function **`list`** creates a list from a sequence."
   ]
  },
  {
   "cell_type": "code",
   "execution_count": null,
   "id": "0b7ff77d",
   "metadata": {},
   "outputs": [],
   "source": [
    "colors = ['red', 'orange', 'yellow']"
   ]
  },
  {
   "cell_type": "code",
   "execution_count": null,
   "id": "41da2a37",
   "metadata": {},
   "outputs": [],
   "source": [
    "list(enumerate(colors))"
   ]
  },
  {
   "cell_type": "markdown",
   "id": "1b9859c2",
   "metadata": {},
   "source": [
    "* Built-in function **`tuple`** creates a tuple from a sequence."
   ]
  },
  {
   "cell_type": "code",
   "execution_count": null,
   "id": "f38e07fd",
   "metadata": {},
   "outputs": [],
   "source": [
    "tuple(enumerate(colors))"
   ]
  },
  {
   "cell_type": "code",
   "execution_count": null,
   "id": "ccef914e",
   "metadata": {},
   "outputs": [],
   "source": [
    "for index, value in enumerate(colors):\n",
    "    print(f'{index}: {value}')"
   ]
  },
  {
   "cell_type": "markdown",
   "id": "a0209bc0",
   "metadata": {},
   "source": [
    "### Creating a Primitive Bar Chart"
   ]
  },
  {
   "cell_type": "markdown",
   "id": "a416804b",
   "metadata": {},
   "source": [
    "```python\n",
    "# fig05_01.py\n",
    "\"\"\"Displaying a bar chart\"\"\"\n",
    "numbers = [19, 3, 15, 7, 11]\n",
    "\n",
    "print('\\nCreating a bar chart from numbers:')\n",
    "print(f'Index{\"Value\":>8}   Bar')\n",
    "\n",
    "for index, value in enumerate(numbers):\n",
    "    print(f'{index:>5}{value:>8}   {\"*\" * value}')\n",
    "```"
   ]
  },
  {
   "cell_type": "code",
   "execution_count": null,
   "id": "2ac6bc8d",
   "metadata": {},
   "outputs": [],
   "source": [
    "run fig05_01.py"
   ]
  },
  {
   "cell_type": "markdown",
   "id": "438351fe",
   "metadata": {},
   "source": [
    "* The expression ```python\n",
    "\"*\" * value\n",
    "```\n",
    "creates a string consisting of `value` asterisks. \n",
    "* When used with a sequence, the multiplication operator (`*`) _repeats_ the sequence."
   ]
  },
  {
   "cell_type": "markdown",
   "id": "7ff9a99b",
   "metadata": {},
   "source": [
    "# 5.5 Sequence Slicing\n",
    "* Can **slice** sequences to create new sequences of the same type containing _subsets_ of the original elements. \n",
    "* Slice operations that do _not_ modify a sequence work identically for lists, tuples and strings."
   ]
  },
  {
   "cell_type": "markdown",
   "id": "4b85164a",
   "metadata": {},
   "source": [
    "### Specifying a Slice with Starting and Ending Indices"
   ]
  },
  {
   "cell_type": "code",
   "execution_count": null,
   "id": "2780aa0c",
   "metadata": {},
   "outputs": [],
   "source": [
    "numbers = [2, 3, 5, 7, 11, 13, 17, 19]"
   ]
  },
  {
   "cell_type": "code",
   "execution_count": null,
   "id": "b3eece63",
   "metadata": {},
   "outputs": [],
   "source": [
    "numbers[2:6]"
   ]
  },
  {
   "cell_type": "markdown",
   "id": "3b1f41f8",
   "metadata": {},
   "source": [
    "### Specifying a Slice with Only an Ending Index\n",
    "* Starting index `0` is assumed."
   ]
  },
  {
   "cell_type": "code",
   "execution_count": null,
   "id": "c28c0e77",
   "metadata": {},
   "outputs": [],
   "source": [
    "numbers[:6]"
   ]
  },
  {
   "cell_type": "code",
   "execution_count": null,
   "id": "67bd54ec",
   "metadata": {},
   "outputs": [],
   "source": [
    "numbers[0:6]"
   ]
  },
  {
   "cell_type": "markdown",
   "id": "9b59dc25",
   "metadata": {},
   "source": [
    "### Specifying a Slice with Only a Starting Index\n",
    "* Assumes the sequence's length as the ending index."
   ]
  },
  {
   "cell_type": "code",
   "execution_count": null,
   "id": "52e11906",
   "metadata": {},
   "outputs": [],
   "source": [
    "numbers[6:]"
   ]
  },
  {
   "cell_type": "code",
   "execution_count": null,
   "id": "de253870",
   "metadata": {},
   "outputs": [],
   "source": [
    "numbers[6:len(numbers)]"
   ]
  },
  {
   "cell_type": "markdown",
   "id": "a5ec362e",
   "metadata": {},
   "source": [
    "### Specifying a Slice with No Indices"
   ]
  },
  {
   "cell_type": "code",
   "execution_count": null,
   "id": "0047c088",
   "metadata": {},
   "outputs": [],
   "source": [
    "numbers[:]"
   ]
  },
  {
   "cell_type": "markdown",
   "id": "1d765b00",
   "metadata": {},
   "source": [
    "* Though slices create new objects, slices make **shallow copies** of the elements.\n",
    "* In the snippet above, the new list’s elements refer to the _same objects_ as the original list’s elements."
   ]
  },
  {
   "cell_type": "markdown",
   "id": "a2dd50a2",
   "metadata": {},
   "source": [
    "### Slicing with Steps"
   ]
  },
  {
   "cell_type": "code",
   "execution_count": null,
   "id": "bcd4a80b",
   "metadata": {},
   "outputs": [],
   "source": [
    "numbers[::2]"
   ]
  },
  {
   "cell_type": "markdown",
   "id": "2cffde04",
   "metadata": {},
   "source": [
    "### Slicing with Negative Indices and Steps"
   ]
  },
  {
   "cell_type": "code",
   "execution_count": null,
   "id": "9a2eade3",
   "metadata": {},
   "outputs": [],
   "source": [
    "numbers[::-1]"
   ]
  },
  {
   "cell_type": "code",
   "execution_count": null,
   "id": "09703992",
   "metadata": {},
   "outputs": [],
   "source": [
    "numbers[-1:-9:-1]"
   ]
  },
  {
   "cell_type": "markdown",
   "id": "69db9334",
   "metadata": {},
   "source": [
    "### Modifying Lists Via Slices\n",
    "* Can modify a list by assigning to a slice."
   ]
  },
  {
   "cell_type": "code",
   "execution_count": null,
   "id": "bdcd46d2",
   "metadata": {},
   "outputs": [],
   "source": [
    "numbers[0:3] = ['two', 'three', 'five']"
   ]
  },
  {
   "cell_type": "code",
   "execution_count": null,
   "id": "71cc11c0",
   "metadata": {},
   "outputs": [],
   "source": [
    "numbers"
   ]
  },
  {
   "cell_type": "code",
   "execution_count": null,
   "id": "29c2582e",
   "metadata": {},
   "outputs": [],
   "source": [
    "numbers[0:3] = []"
   ]
  },
  {
   "cell_type": "code",
   "execution_count": null,
   "id": "0868e512",
   "metadata": {},
   "outputs": [],
   "source": [
    "numbers"
   ]
  },
  {
   "cell_type": "code",
   "execution_count": null,
   "id": "d3106a03",
   "metadata": {},
   "outputs": [],
   "source": [
    "numbers = [2, 3, 5, 7, 11, 13, 17, 19]"
   ]
  },
  {
   "cell_type": "code",
   "execution_count": null,
   "id": "074ccb09",
   "metadata": {},
   "outputs": [],
   "source": [
    "numbers[::2] = [100, 100, 100, 100]"
   ]
  },
  {
   "cell_type": "code",
   "execution_count": null,
   "id": "30a928d0",
   "metadata": {},
   "outputs": [],
   "source": [
    "numbers"
   ]
  },
  {
   "cell_type": "code",
   "execution_count": null,
   "id": "5fcfcc0a",
   "metadata": {},
   "outputs": [],
   "source": [
    "id(numbers)"
   ]
  },
  {
   "cell_type": "code",
   "execution_count": null,
   "id": "c55d8d60",
   "metadata": {},
   "outputs": [],
   "source": [
    "numbers[:] = []"
   ]
  },
  {
   "cell_type": "code",
   "execution_count": null,
   "id": "49f71379",
   "metadata": {},
   "outputs": [],
   "source": [
    "numbers"
   ]
  },
  {
   "cell_type": "code",
   "execution_count": null,
   "id": "228f5a58",
   "metadata": {},
   "outputs": [],
   "source": [
    "id(numbers)"
   ]
  },
  {
   "cell_type": "markdown",
   "id": "97cd44e1",
   "metadata": {},
   "source": [
    "* Deleting `numbers`’ contents is different from assigning `numbers` a _new_ empty list `[]`. \n",
    "* Identities are different, so they represent separate objects in memory."
   ]
  },
  {
   "cell_type": "code",
   "execution_count": null,
   "id": "f733bc88",
   "metadata": {},
   "outputs": [],
   "source": [
    "numbers = []"
   ]
  },
  {
   "cell_type": "code",
   "execution_count": null,
   "id": "c47ae322",
   "metadata": {},
   "outputs": [],
   "source": [
    "numbers"
   ]
  },
  {
   "cell_type": "code",
   "execution_count": null,
   "id": "bf3d01bb",
   "metadata": {},
   "outputs": [],
   "source": [
    "id(numbers)"
   ]
  },
  {
   "cell_type": "markdown",
   "id": "ae8e3351",
   "metadata": {},
   "source": [
    "* When you assign a new object to a variable, the original object will be **garbage collected** if no other variables refer to it."
   ]
  },
  {
   "cell_type": "markdown",
   "id": "7deac72b",
   "metadata": {},
   "source": [
    "# 5.6 del Statement"
   ]
  },
  {
   "cell_type": "markdown",
   "id": "e0839639",
   "metadata": {},
   "source": [
    "### Deleting the Element at a Specific List Index"
   ]
  },
  {
   "cell_type": "code",
   "execution_count": null,
   "id": "e3877614",
   "metadata": {},
   "outputs": [],
   "source": [
    "numbers = list(range(0, 10))"
   ]
  },
  {
   "cell_type": "code",
   "execution_count": null,
   "id": "27169911",
   "metadata": {},
   "outputs": [],
   "source": [
    "numbers"
   ]
  },
  {
   "cell_type": "code",
   "execution_count": null,
   "id": "702789f0",
   "metadata": {},
   "outputs": [],
   "source": [
    "del numbers[-1]"
   ]
  },
  {
   "cell_type": "code",
   "execution_count": null,
   "id": "7f04c06d",
   "metadata": {},
   "outputs": [],
   "source": [
    "numbers"
   ]
  },
  {
   "cell_type": "markdown",
   "id": "4286b869",
   "metadata": {},
   "source": [
    "### Deleting a Slice from a List"
   ]
  },
  {
   "cell_type": "code",
   "execution_count": null,
   "id": "92ec3568",
   "metadata": {},
   "outputs": [],
   "source": [
    "del numbers[0:2]"
   ]
  },
  {
   "cell_type": "code",
   "execution_count": null,
   "id": "4d172e52",
   "metadata": {},
   "outputs": [],
   "source": [
    "numbers"
   ]
  },
  {
   "cell_type": "code",
   "execution_count": null,
   "id": "826c67b9",
   "metadata": {},
   "outputs": [],
   "source": [
    "del numbers[::2]"
   ]
  },
  {
   "cell_type": "code",
   "execution_count": null,
   "id": "996a6c79",
   "metadata": {},
   "outputs": [],
   "source": [
    "numbers"
   ]
  },
  {
   "cell_type": "markdown",
   "id": "ea9fc61b",
   "metadata": {},
   "source": [
    "### Deleting a Slice Representing the Entire List"
   ]
  },
  {
   "cell_type": "code",
   "execution_count": null,
   "id": "8564e0ae",
   "metadata": {},
   "outputs": [],
   "source": [
    "del numbers[:]"
   ]
  },
  {
   "cell_type": "code",
   "execution_count": null,
   "id": "9b198349",
   "metadata": {},
   "outputs": [],
   "source": [
    "numbers"
   ]
  },
  {
   "cell_type": "markdown",
   "id": "7f16190e",
   "metadata": {},
   "source": [
    "### Deleting a Variable from the Current Session"
   ]
  },
  {
   "cell_type": "code",
   "execution_count": null,
   "id": "4b5292cd",
   "metadata": {},
   "outputs": [],
   "source": [
    "del numbers"
   ]
  },
  {
   "cell_type": "code",
   "execution_count": null,
   "id": "4417d5e5",
   "metadata": {},
   "outputs": [],
   "source": [
    "numbers"
   ]
  },
  {
   "cell_type": "markdown",
   "id": "96c80430",
   "metadata": {},
   "source": [
    "# 5.7 Passing Lists to Functions"
   ]
  },
  {
   "cell_type": "markdown",
   "id": "37732324",
   "metadata": {},
   "source": [
    "### Passing an Entire List to a Function"
   ]
  },
  {
   "cell_type": "code",
   "execution_count": null,
   "id": "2425cf7e",
   "metadata": {},
   "outputs": [],
   "source": [
    "def modify_elements(items):\n",
    "    \"\"\"\"Multiplies all element values in items by 2.\"\"\"\n",
    "    for i in range(len(items)):\n",
    "        items[i] *= 2"
   ]
  },
  {
   "cell_type": "code",
   "execution_count": null,
   "id": "aafe8e23",
   "metadata": {},
   "outputs": [],
   "source": [
    "numbers = [10, 3, 7, 1, 9]"
   ]
  },
  {
   "cell_type": "code",
   "execution_count": null,
   "id": "d5071ea5",
   "metadata": {},
   "outputs": [],
   "source": [
    "modify_elements(numbers)"
   ]
  },
  {
   "cell_type": "code",
   "execution_count": null,
   "id": "dd0e8c8b",
   "metadata": {},
   "outputs": [],
   "source": [
    "numbers"
   ]
  },
  {
   "cell_type": "markdown",
   "id": "aa161d56",
   "metadata": {},
   "source": [
    "### Passing a Tuple to a Function\n",
    "* When you pass a tuple to a function, attempting to modify the tuple’s immutable elements results in a `TypeError`."
   ]
  },
  {
   "cell_type": "code",
   "execution_count": null,
   "id": "7d2896cd",
   "metadata": {},
   "outputs": [],
   "source": [
    "numbers_tuple = (10, 20, 30)"
   ]
  },
  {
   "cell_type": "code",
   "execution_count": null,
   "id": "7ee07b9f",
   "metadata": {},
   "outputs": [],
   "source": [
    "numbers_tuple"
   ]
  },
  {
   "cell_type": "code",
   "execution_count": null,
   "id": "cc50cc67",
   "metadata": {},
   "outputs": [],
   "source": [
    "modify_elements(numbers_tuple)"
   ]
  },
  {
   "cell_type": "markdown",
   "id": "53845575",
   "metadata": {},
   "source": [
    "### A Note Regarding Tracebacks\n",
    "* A traceback shows code that led to an exception.\n",
    "* When an exception occurs in a single-line snippet, it’s always preceded by `----> 1`, indicating that line 1 (the snippet’s only line) caused the exception. \n",
    "* Multiline snippets like a function definition show consecutive line numbers starting at 1. \n",
    "* The last line of code shown with `---->` caused the exception."
   ]
  },
  {
   "cell_type": "markdown",
   "id": "5bea0db3",
   "metadata": {},
   "source": [
    "# 5.8 Sorting Lists"
   ]
  },
  {
   "cell_type": "markdown",
   "id": "5e7c8059",
   "metadata": {},
   "source": [
    "### Sorting a List in Ascending Order\n",
    "* List method `sort` _modifies_ a list."
   ]
  },
  {
   "cell_type": "code",
   "execution_count": null,
   "id": "c5573e32",
   "metadata": {},
   "outputs": [],
   "source": [
    "numbers = [10, 3, 7, 1, 9, 4, 2, 8, 5, 6]"
   ]
  },
  {
   "cell_type": "code",
   "execution_count": null,
   "id": "7dd46f8d",
   "metadata": {},
   "outputs": [],
   "source": [
    "numbers.sort()"
   ]
  },
  {
   "cell_type": "code",
   "execution_count": null,
   "id": "188abe8a",
   "metadata": {},
   "outputs": [],
   "source": [
    "numbers"
   ]
  },
  {
   "cell_type": "markdown",
   "id": "657fd354",
   "metadata": {},
   "source": [
    "### Sorting a List in Descending Order"
   ]
  },
  {
   "cell_type": "code",
   "execution_count": null,
   "id": "ba6375c9",
   "metadata": {},
   "outputs": [],
   "source": [
    "numbers.sort(reverse=True)"
   ]
  },
  {
   "cell_type": "code",
   "execution_count": null,
   "id": "6c576484",
   "metadata": {},
   "outputs": [],
   "source": [
    "numbers"
   ]
  },
  {
   "cell_type": "markdown",
   "id": "c2a43c4b",
   "metadata": {},
   "source": [
    "### Built-In Function `sorted`\n",
    "* Built-in function **`sorted`** _returns a new list_ containing the sorted elements of its argument _sequence_—the original sequence is _unmodified_. "
   ]
  },
  {
   "cell_type": "code",
   "execution_count": null,
   "id": "bbd6f7a6",
   "metadata": {},
   "outputs": [],
   "source": [
    "numbers = [10, 3, 7, 1, 9, 4, 2, 8, 5, 6]"
   ]
  },
  {
   "cell_type": "code",
   "execution_count": null,
   "id": "6c8eac98",
   "metadata": {},
   "outputs": [],
   "source": [
    "ascending_numbers = sorted(numbers)"
   ]
  },
  {
   "cell_type": "code",
   "execution_count": null,
   "id": "e1328f9c",
   "metadata": {},
   "outputs": [],
   "source": [
    "ascending_numbers"
   ]
  },
  {
   "cell_type": "code",
   "execution_count": null,
   "id": "227d2cbf",
   "metadata": {},
   "outputs": [],
   "source": [
    "numbers"
   ]
  },
  {
   "cell_type": "code",
   "execution_count": null,
   "id": "d0512f19",
   "metadata": {},
   "outputs": [],
   "source": [
    "letters = 'fadgchjebi'"
   ]
  },
  {
   "cell_type": "code",
   "execution_count": null,
   "id": "9f109537",
   "metadata": {},
   "outputs": [],
   "source": [
    "ascending_letters = sorted(letters)"
   ]
  },
  {
   "cell_type": "code",
   "execution_count": null,
   "id": "1ebe74ea",
   "metadata": {},
   "outputs": [],
   "source": [
    "ascending_letters"
   ]
  },
  {
   "cell_type": "code",
   "execution_count": null,
   "id": "414ea16c",
   "metadata": {},
   "outputs": [],
   "source": [
    "letters"
   ]
  },
  {
   "cell_type": "code",
   "execution_count": null,
   "id": "2acdfcfb",
   "metadata": {},
   "outputs": [],
   "source": [
    "colors = ('red', 'orange', 'yellow', 'green', 'blue')"
   ]
  },
  {
   "cell_type": "code",
   "execution_count": null,
   "id": "05468852",
   "metadata": {},
   "outputs": [],
   "source": [
    "ascending_colors = sorted(colors)"
   ]
  },
  {
   "cell_type": "code",
   "execution_count": null,
   "id": "b63f772a",
   "metadata": {},
   "outputs": [],
   "source": [
    "ascending_colors"
   ]
  },
  {
   "cell_type": "code",
   "execution_count": null,
   "id": "83867120",
   "metadata": {},
   "outputs": [],
   "source": [
    "colors"
   ]
  },
  {
   "cell_type": "markdown",
   "id": "05bcf651",
   "metadata": {},
   "source": [
    "# 5.9 Searching Sequences\n",
    "* **Searching** is the process of locating a particular **key** value. "
   ]
  },
  {
   "cell_type": "markdown",
   "id": "9cfbca38",
   "metadata": {},
   "source": [
    "### List Method index\n",
    "* Searches through a list from index 0 and returns the index of the _first_ element that matches the search key.\n",
    "* `ValueError` if the value is not in the list."
   ]
  },
  {
   "cell_type": "code",
   "execution_count": null,
   "id": "48e929ff",
   "metadata": {},
   "outputs": [],
   "source": [
    "numbers = [3, 7, 1, 4, 2, 8, 5, 6]"
   ]
  },
  {
   "cell_type": "code",
   "execution_count": null,
   "id": "e5126ac2",
   "metadata": {},
   "outputs": [],
   "source": [
    "numbers.index(5)"
   ]
  },
  {
   "cell_type": "markdown",
   "id": "2c067609",
   "metadata": {},
   "source": [
    "### Specifying the Starting Index of a Search"
   ]
  },
  {
   "cell_type": "code",
   "execution_count": null,
   "id": "622ebb7a",
   "metadata": {},
   "outputs": [],
   "source": [
    "numbers *= 2"
   ]
  },
  {
   "cell_type": "code",
   "execution_count": null,
   "id": "9676b485",
   "metadata": {},
   "outputs": [],
   "source": [
    "numbers"
   ]
  },
  {
   "cell_type": "code",
   "execution_count": null,
   "id": "91f3a3e9",
   "metadata": {},
   "outputs": [],
   "source": [
    "numbers.index(5, 7)"
   ]
  },
  {
   "cell_type": "markdown",
   "id": "9930c3ac",
   "metadata": {},
   "source": [
    "### Specifying the Starting and Ending Indices of a Search\n",
    "* Look for the value `7` in the range of elements with indices `0` through `3`."
   ]
  },
  {
   "cell_type": "code",
   "execution_count": null,
   "id": "108a5f0e",
   "metadata": {},
   "outputs": [],
   "source": [
    "numbers.index(7, 0, 4)"
   ]
  },
  {
   "cell_type": "markdown",
   "id": "4d456f18",
   "metadata": {},
   "source": [
    "### Operators `in` and `not in`\n",
    "* Operator `in` tests whether its right operand’s iterable contains the left operand’s value."
   ]
  },
  {
   "cell_type": "code",
   "execution_count": null,
   "id": "a90a2bc5",
   "metadata": {},
   "outputs": [],
   "source": [
    "1000 in numbers"
   ]
  },
  {
   "cell_type": "code",
   "execution_count": null,
   "id": "284f65be",
   "metadata": {},
   "outputs": [],
   "source": [
    "5 in numbers"
   ]
  },
  {
   "cell_type": "markdown",
   "id": "d9d6490a",
   "metadata": {},
   "source": [
    "* Operator `not in` tests whether its right operand’s iterable does _not_ contain the left operand’s value."
   ]
  },
  {
   "cell_type": "code",
   "execution_count": null,
   "id": "920a23ac",
   "metadata": {},
   "outputs": [],
   "source": [
    "1000 not in numbers"
   ]
  },
  {
   "cell_type": "code",
   "execution_count": null,
   "id": "3e761a0a",
   "metadata": {},
   "outputs": [],
   "source": [
    "5 not in numbers"
   ]
  },
  {
   "cell_type": "markdown",
   "id": "a92ff30a",
   "metadata": {},
   "source": [
    "### Using Operator `in` to Prevent a `ValueError`"
   ]
  },
  {
   "cell_type": "code",
   "execution_count": null,
   "id": "819b9f88",
   "metadata": {},
   "outputs": [],
   "source": [
    "key = 1000"
   ]
  },
  {
   "cell_type": "code",
   "execution_count": null,
   "id": "89351473",
   "metadata": {},
   "outputs": [],
   "source": [
    "if key in numbers:\n",
    "    print(f'found {key} at index {numbers.index(search_key)}')\n",
    "else:\n",
    "    print(f'{key} not found')"
   ]
  },
  {
   "cell_type": "code",
   "execution_count": null,
   "id": "2e1fa94b",
   "metadata": {},
   "outputs": [],
   "source": []
  },
  {
   "cell_type": "markdown",
   "id": "4bc392ed",
   "metadata": {},
   "source": [
    "### Built-In Functions `any` and `all` \n",
    "* Built-in function **`any`** returns `True` if any item in its iterable argument is `True`. \n",
    "* Built-in function **`all`** returns `True` if all items in its iterable argument are `True`. \n",
    "* Nonzero values are `True` and 0 is `False`. \n",
    "* Non-empty iterable objects also evaluate to `True`, whereas any empty iterable evaluates to `False`.\n",
    "* Note: When used on a dictionary, the any() function checks if any of the keys are true, not the values.\n"
   ]
  },
  {
   "cell_type": "code",
   "execution_count": null,
   "id": "7d9f5803",
   "metadata": {},
   "outputs": [],
   "source": [
    "mylist = [1,2,0,9,100]\n",
    "any(mylist)"
   ]
  },
  {
   "cell_type": "code",
   "execution_count": null,
   "id": "0de1957e",
   "metadata": {},
   "outputs": [],
   "source": [
    "all(mylist)"
   ]
  },
  {
   "cell_type": "code",
   "execution_count": null,
   "id": "ad3f3ced",
   "metadata": {},
   "outputs": [],
   "source": []
  },
  {
   "cell_type": "markdown",
   "id": "fc4bcf82",
   "metadata": {},
   "source": [
    "# 5.10 Other List Methods "
   ]
  },
  {
   "cell_type": "code",
   "execution_count": null,
   "id": "77c90498",
   "metadata": {},
   "outputs": [],
   "source": [
    "color_names = ['orange', 'yellow', 'green']"
   ]
  },
  {
   "cell_type": "markdown",
   "id": "7f43dc60",
   "metadata": {},
   "source": [
    "### Inserting an Element at a Specific List Index"
   ]
  },
  {
   "cell_type": "code",
   "execution_count": null,
   "id": "0e7edf4e",
   "metadata": {},
   "outputs": [],
   "source": [
    "color_names.insert(0, 'red')"
   ]
  },
  {
   "cell_type": "code",
   "execution_count": null,
   "id": "532a68db",
   "metadata": {},
   "outputs": [],
   "source": [
    "color_names"
   ]
  },
  {
   "cell_type": "markdown",
   "id": "4a198108",
   "metadata": {},
   "source": [
    "### Adding an Element to the End of a List"
   ]
  },
  {
   "cell_type": "code",
   "execution_count": null,
   "id": "e0a7f72c",
   "metadata": {},
   "outputs": [],
   "source": [
    "color_names.append('blue')"
   ]
  },
  {
   "cell_type": "code",
   "execution_count": null,
   "id": "ab4b8e6b",
   "metadata": {},
   "outputs": [],
   "source": [
    "color_names"
   ]
  },
  {
   "cell_type": "markdown",
   "id": "b2245fcc",
   "metadata": {},
   "source": [
    "### Adding All the Elements of a Sequence to the End of a List\n",
    "* Equivalent to `+=`."
   ]
  },
  {
   "cell_type": "code",
   "execution_count": null,
   "id": "3fd0a144",
   "metadata": {},
   "outputs": [],
   "source": [
    "color_names.extend(['indigo', 'violet'])"
   ]
  },
  {
   "cell_type": "code",
   "execution_count": null,
   "id": "94c79224",
   "metadata": {},
   "outputs": [],
   "source": [
    "color_names"
   ]
  },
  {
   "cell_type": "code",
   "execution_count": null,
   "id": "a86bcdcb",
   "metadata": {},
   "outputs": [],
   "source": [
    "sample_list = []"
   ]
  },
  {
   "cell_type": "code",
   "execution_count": null,
   "id": "052707d5",
   "metadata": {},
   "outputs": [],
   "source": [
    "s = 'abc'"
   ]
  },
  {
   "cell_type": "code",
   "execution_count": null,
   "id": "f9e73fdf",
   "metadata": {},
   "outputs": [],
   "source": [
    "sample_list.extend(s)"
   ]
  },
  {
   "cell_type": "code",
   "execution_count": null,
   "id": "446f6983",
   "metadata": {},
   "outputs": [],
   "source": [
    "sample_list"
   ]
  },
  {
   "cell_type": "code",
   "execution_count": null,
   "id": "539875f9",
   "metadata": {},
   "outputs": [],
   "source": [
    "t = (1, 2, 3)"
   ]
  },
  {
   "cell_type": "code",
   "execution_count": null,
   "id": "da9710fd",
   "metadata": {},
   "outputs": [],
   "source": [
    "sample_list.extend(t)"
   ]
  },
  {
   "cell_type": "code",
   "execution_count": null,
   "id": "a502506c",
   "metadata": {},
   "outputs": [],
   "source": [
    "sample_list"
   ]
  },
  {
   "cell_type": "markdown",
   "id": "3e1a8eec",
   "metadata": {},
   "source": [
    "* Parentheses are required for the tuple argument below, because `extend` expects **one iterable argument**."
   ]
  },
  {
   "cell_type": "code",
   "execution_count": null,
   "id": "070e87d2",
   "metadata": {},
   "outputs": [],
   "source": [
    "sample_list.extend((4, 5, 6))  # note the extra parentheses"
   ]
  },
  {
   "cell_type": "code",
   "execution_count": null,
   "id": "17b9ba17",
   "metadata": {},
   "outputs": [],
   "source": [
    "sample_list"
   ]
  },
  {
   "cell_type": "markdown",
   "id": "510c6808",
   "metadata": {},
   "source": [
    "### Removing the First Occurrence of an Element in a List \n",
    "* `ValueError` occurs if `remove`’s argument is not in the list."
   ]
  },
  {
   "cell_type": "code",
   "execution_count": null,
   "id": "fc526dbc",
   "metadata": {},
   "outputs": [],
   "source": [
    "color_names.remove('green')"
   ]
  },
  {
   "cell_type": "code",
   "execution_count": null,
   "id": "782d006a",
   "metadata": {},
   "outputs": [],
   "source": [
    "color_names"
   ]
  },
  {
   "cell_type": "markdown",
   "id": "be7ebad5",
   "metadata": {},
   "source": [
    "### Emptying a List"
   ]
  },
  {
   "cell_type": "code",
   "execution_count": null,
   "id": "5300a192",
   "metadata": {},
   "outputs": [],
   "source": [
    "color_names.clear()"
   ]
  },
  {
   "cell_type": "code",
   "execution_count": null,
   "id": "39e78891",
   "metadata": {},
   "outputs": [],
   "source": [
    "color_names"
   ]
  },
  {
   "cell_type": "markdown",
   "id": "a1417151",
   "metadata": {},
   "source": [
    "### Counting the Number of Occurrences of an Item"
   ]
  },
  {
   "cell_type": "code",
   "execution_count": null,
   "id": "137b8135",
   "metadata": {},
   "outputs": [],
   "source": [
    "responses = [1, 2, 5, 4, 3, 5, 2, 1, 3, 3, \n",
    "             1, 4, 3, 3, 3, 2, 3, 3, 2, 2]"
   ]
  },
  {
   "cell_type": "code",
   "execution_count": null,
   "id": "f585f1fb",
   "metadata": {},
   "outputs": [],
   "source": [
    "for i in range(1, 6):\n",
    "    print(f'{i} appears {responses.count(i)} times in responses')"
   ]
  },
  {
   "cell_type": "markdown",
   "id": "6090f2f4",
   "metadata": {},
   "source": [
    "### Reversing a List’s Elements\n",
    "* Method **`reverse`** reverses the contents of a list in place."
   ]
  },
  {
   "cell_type": "code",
   "execution_count": null,
   "id": "10410051",
   "metadata": {},
   "outputs": [],
   "source": [
    "color_names = ['red', 'orange', 'yellow', 'green', 'blue']"
   ]
  },
  {
   "cell_type": "code",
   "execution_count": null,
   "id": "8cf5c4fe",
   "metadata": {},
   "outputs": [],
   "source": [
    "color_names.reverse()"
   ]
  },
  {
   "cell_type": "code",
   "execution_count": null,
   "id": "0e35e7b3",
   "metadata": {},
   "outputs": [],
   "source": [
    "color_names"
   ]
  },
  {
   "cell_type": "markdown",
   "id": "09156f38",
   "metadata": {},
   "source": [
    "### Copying a List\n",
    "* Method `copy` returns a _new_ list containing a _shallow_ copy."
   ]
  },
  {
   "cell_type": "code",
   "execution_count": null,
   "id": "5d1d27c8",
   "metadata": {},
   "outputs": [],
   "source": [
    "copied_list = color_names.copy()"
   ]
  },
  {
   "cell_type": "code",
   "execution_count": null,
   "id": "96647840",
   "metadata": {},
   "outputs": [],
   "source": [
    "copied_list"
   ]
  },
  {
   "cell_type": "markdown",
   "id": "a634a509",
   "metadata": {},
   "source": [
    "# 5.11 Simulating Stacks with Lists \n",
    "* Python does not have a built-in stack type.\n",
    "* Can think of a stack as a constrained list. \n",
    "* _Push_ using list method `append`. \n",
    "* _Pop_ using list method **`pop`** with no arguments to get items in last-in, first-out (LIFO) order."
   ]
  },
  {
   "cell_type": "code",
   "execution_count": null,
   "id": "23263e96",
   "metadata": {},
   "outputs": [],
   "source": [
    "stack = []"
   ]
  },
  {
   "cell_type": "code",
   "execution_count": null,
   "id": "b65afef9",
   "metadata": {},
   "outputs": [],
   "source": [
    "stack.append('red')"
   ]
  },
  {
   "cell_type": "code",
   "execution_count": null,
   "id": "ad472936",
   "metadata": {},
   "outputs": [],
   "source": [
    "stack"
   ]
  },
  {
   "cell_type": "code",
   "execution_count": null,
   "id": "b1513afc",
   "metadata": {},
   "outputs": [],
   "source": [
    "stack.append('green')"
   ]
  },
  {
   "cell_type": "code",
   "execution_count": null,
   "id": "a474fe46",
   "metadata": {},
   "outputs": [],
   "source": [
    "stack"
   ]
  },
  {
   "cell_type": "code",
   "execution_count": null,
   "id": "d85a06b8",
   "metadata": {},
   "outputs": [],
   "source": [
    "stack.pop()"
   ]
  },
  {
   "cell_type": "code",
   "execution_count": null,
   "id": "bf0fc28b",
   "metadata": {},
   "outputs": [],
   "source": [
    "stack"
   ]
  },
  {
   "cell_type": "code",
   "execution_count": null,
   "id": "2df39374",
   "metadata": {},
   "outputs": [],
   "source": [
    "stack.pop()"
   ]
  },
  {
   "cell_type": "code",
   "execution_count": null,
   "id": "a80cf9fb",
   "metadata": {},
   "outputs": [],
   "source": [
    "stack"
   ]
  },
  {
   "cell_type": "code",
   "execution_count": null,
   "id": "498fe4a6",
   "metadata": {},
   "outputs": [],
   "source": [
    "stack.pop()"
   ]
  },
  {
   "cell_type": "markdown",
   "id": "8966d4e0",
   "metadata": {},
   "source": [
    "* Also can use a list to simulate a **queue**.\n",
    "* Items are retrieved from queues in **first-in, first-out (FIFO) order**."
   ]
  },
  {
   "cell_type": "markdown",
   "id": "e138faea",
   "metadata": {},
   "source": [
    "# 5.12 List Comprehensions\n",
    "* Concise way to create new lists. \n",
    "* Replaces using `for` to iterate over a sequence and create a list."
   ]
  },
  {
   "cell_type": "code",
   "execution_count": null,
   "id": "1458b857",
   "metadata": {},
   "outputs": [],
   "source": [
    "list1 = []"
   ]
  },
  {
   "cell_type": "code",
   "execution_count": null,
   "id": "a6fce0fc",
   "metadata": {},
   "outputs": [],
   "source": [
    "for item in range(1, 6):\n",
    "    list1.append(item)"
   ]
  },
  {
   "cell_type": "code",
   "execution_count": null,
   "id": "f91f5173",
   "metadata": {},
   "outputs": [],
   "source": [
    "list1"
   ]
  },
  {
   "cell_type": "markdown",
   "id": "5f6237ad",
   "metadata": {},
   "source": [
    "### Using a List Comprehension to Create a List of Integers"
   ]
  },
  {
   "cell_type": "code",
   "execution_count": null,
   "id": "42560f97",
   "metadata": {},
   "outputs": [],
   "source": [
    "list2 = [item for item in range(1, 6)]"
   ]
  },
  {
   "cell_type": "code",
   "execution_count": null,
   "id": "11187200",
   "metadata": {},
   "outputs": [],
   "source": [
    "list2"
   ]
  },
  {
   "cell_type": "markdown",
   "id": "b54096d5",
   "metadata": {},
   "source": [
    "* **`for` clause** iterates over the sequence produced by `range(1, 6)`. \n",
    "* For each `item`, the list comprehension evaluates the expression to the left of the `for` clause and places the expression’s value in the new list. "
   ]
  },
  {
   "cell_type": "markdown",
   "id": "9e419d46",
   "metadata": {},
   "source": [
    "### Mapping: Performing Operations in a List Comprehension’s Expression\n",
    "* Mapping is a common functional-style programming operation that produces a result with the _same_ number of elements as the original data being mapped."
   ]
  },
  {
   "cell_type": "code",
   "execution_count": null,
   "id": "ce463e41",
   "metadata": {},
   "outputs": [],
   "source": [
    "list3 = [item ** 3 for item in range(1, 6)]"
   ]
  },
  {
   "cell_type": "code",
   "execution_count": null,
   "id": "5ee695d2",
   "metadata": {},
   "outputs": [],
   "source": [
    "list3"
   ]
  },
  {
   "cell_type": "markdown",
   "id": "9de7005e",
   "metadata": {},
   "source": [
    "### Filtering: List Comprehensions with `if` Clauses \n",
    "* Another common functional-style programming operation is **filtering** elements to select only those that match a condition. \n",
    "* Typically produces a list with _fewer_ elements than the data being filtered. "
   ]
  },
  {
   "cell_type": "code",
   "execution_count": null,
   "id": "e3c3d1a6",
   "metadata": {},
   "outputs": [],
   "source": [
    "list4 = [item for item in range(1, 11) if item % 2 == 0]"
   ]
  },
  {
   "cell_type": "code",
   "execution_count": null,
   "id": "c1d70bfa",
   "metadata": {},
   "outputs": [],
   "source": [
    "list4"
   ]
  },
  {
   "cell_type": "markdown",
   "id": "84ff320f",
   "metadata": {},
   "source": [
    "### List Comprehension That Processes Another List’s Elements \n",
    "* The `for` clause can process any iterable."
   ]
  },
  {
   "cell_type": "code",
   "execution_count": null,
   "id": "6b92e75a",
   "metadata": {},
   "outputs": [],
   "source": [
    "colors = ['red', 'orange', 'yellow', 'green', 'blue']"
   ]
  },
  {
   "cell_type": "code",
   "execution_count": null,
   "id": "30a20115",
   "metadata": {},
   "outputs": [],
   "source": [
    "colors2 = [item.upper() for item in colors]"
   ]
  },
  {
   "cell_type": "code",
   "execution_count": null,
   "id": "695477ee",
   "metadata": {},
   "outputs": [],
   "source": [
    "colors2"
   ]
  },
  {
   "cell_type": "code",
   "execution_count": null,
   "id": "951a7253",
   "metadata": {},
   "outputs": [],
   "source": [
    "colors"
   ]
  },
  {
   "cell_type": "markdown",
   "id": "243c2d8b",
   "metadata": {},
   "source": [
    "# 5.13 Generator Expressions\n",
    "* Like list comprehensions, but create iterable **generator objects** that produce values **on demand**. \n",
    "* Known as **lazy evaluation**. \n",
    "* For large numbers of items, creating lists can take substantial memory and time. \n",
    "* **Generator expressions** can reduce memory consumption and improve performance if the whole list is not needed at once. "
   ]
  },
  {
   "cell_type": "code",
   "execution_count": null,
   "id": "1e3f91a1",
   "metadata": {},
   "outputs": [],
   "source": [
    "numbers = [10, 3, 7, 1, 9, 4, 2, 8, 5, 6]"
   ]
  },
  {
   "cell_type": "code",
   "execution_count": null,
   "id": "dc360179",
   "metadata": {},
   "outputs": [],
   "source": [
    "for value in (x ** 2 for x in numbers if x % 2 != 0):\n",
    "    print(value, end='  ')"
   ]
  },
  {
   "cell_type": "code",
   "execution_count": null,
   "id": "bcfa86c7",
   "metadata": {},
   "outputs": [],
   "source": [
    "squares_of_odds = (x ** 2 for x in numbers if x % 2 != 0)"
   ]
  },
  {
   "cell_type": "code",
   "execution_count": null,
   "id": "f804fc4b",
   "metadata": {},
   "outputs": [],
   "source": [
    "squares_of_odds "
   ]
  },
  {
   "cell_type": "markdown",
   "id": "6f1deb80",
   "metadata": {},
   "source": [
    "* Output indicates that `square_of_odds` is a **generator object** that was created from a **generator expression (`<genexpr>`)**.\n",
    "* **Built-in function `next`** receives a generator or iterator and returns the next item."
   ]
  },
  {
   "cell_type": "code",
   "execution_count": null,
   "id": "597f7fc5",
   "metadata": {},
   "outputs": [],
   "source": [
    "#execute this cell multiple times .. see what happens!\n",
    "next(squares_of_odds)"
   ]
  },
  {
   "cell_type": "code",
   "execution_count": null,
   "id": "ee36eca6",
   "metadata": {},
   "outputs": [],
   "source": [
    "def is_prime(num):\n",
    "    assert num > 1  # technically 1 is not prime\n",
    "\n",
    "    for i in range(2, int(num/2)+1):\n",
    "        # If num is divisible by any number between\n",
    "        # 2 and n / 2, it is not prime\n",
    "        if (num % i) == 0:\n",
    "            return False\n",
    "    return True\n"
   ]
  },
  {
   "cell_type": "code",
   "execution_count": null,
   "id": "ce3b25fb",
   "metadata": {},
   "outputs": [],
   "source": [
    "is_prime(57)"
   ]
  },
  {
   "cell_type": "code",
   "execution_count": null,
   "id": "b771a821",
   "metadata": {},
   "outputs": [],
   "source": [
    "# function to generate a list of primes\n",
    "\n",
    "def gen_list_of_primes(max):\n",
    "    \n",
    "    prime_list = []\n",
    "    \n",
    "    for num in range(2,max):\n",
    "        if is_prime(num):\n",
    "            prime_list.append(num)\n",
    "        \n",
    "    return prime_list    "
   ]
  },
  {
   "cell_type": "code",
   "execution_count": null,
   "id": "d4a78523",
   "metadata": {
    "scrolled": false
   },
   "outputs": [],
   "source": [
    "# let's do some timing\n",
    "import time\n",
    "num = 100000\n",
    "\n",
    "tic = time.perf_counter()\n",
    "\n",
    "p_list = gen_list_of_primes(num)\n",
    "\n",
    "toc = time.perf_counter()\n",
    "\n",
    "print(f\"Primes to {num} computed in  {toc - tic:0.4f} seconds\")\n",
    "#print (p_list)\n"
   ]
  },
  {
   "cell_type": "markdown",
   "id": "ddf3ae55",
   "metadata": {},
   "source": [
    "# Let's see how fast a Generator can do it\n"
   ]
  },
  {
   "cell_type": "code",
   "execution_count": null,
   "id": "2e2d4743",
   "metadata": {},
   "outputs": [],
   "source": [
    "tic = time.perf_counter()\n",
    "p_list2 = (x for x in range(2,num) if is_prime(x))\n",
    "toc = time.perf_counter()\n",
    "\n",
    "print(f\"Primes to {num} computed by GENERATOR in  {toc - tic:0.4f} seconds\")"
   ]
  },
  {
   "cell_type": "code",
   "execution_count": null,
   "id": "6bdd2d58",
   "metadata": {},
   "outputs": [],
   "source": [
    "for n in p_list2:\n",
    "    print (next(p_list2))\n",
    "    if n > 100:\n",
    "        break"
   ]
  },
  {
   "cell_type": "code",
   "execution_count": null,
   "id": "a95d77c7",
   "metadata": {},
   "outputs": [],
   "source": []
  },
  {
   "cell_type": "markdown",
   "id": "aedf4cdd",
   "metadata": {},
   "source": [
    "# 5.14 Filter, Map and Reduce \n",
    "* Built-in `filter` and `map` functions also perform filtering and mapping."
   ]
  },
  {
   "cell_type": "markdown",
   "id": "2438f357",
   "metadata": {},
   "source": [
    "### Filtering a Sequence’s Values with the Built-In `filter` Function\n"
   ]
  },
  {
   "cell_type": "code",
   "execution_count": null,
   "id": "1d7ca00c",
   "metadata": {},
   "outputs": [],
   "source": [
    "numbers = [10, 3, 7, 1, 9, 4, 2, 8, 5, 6]"
   ]
  },
  {
   "cell_type": "code",
   "execution_count": null,
   "id": "0ca672d8",
   "metadata": {},
   "outputs": [],
   "source": [
    "def is_odd(x):\n",
    "    \"\"\"Returns True only if x is odd.\"\"\"\n",
    "    return x % 2 != 0"
   ]
  },
  {
   "cell_type": "code",
   "execution_count": null,
   "id": "5699fd2b",
   "metadata": {},
   "outputs": [],
   "source": [
    "list(filter(is_odd, numbers))"
   ]
  },
  {
   "cell_type": "markdown",
   "id": "ce642a52",
   "metadata": {},
   "source": [
    "* Functions are objects that you can assign to variables, pass to other functions and return from functions. \n",
    "* Functions that receive other functions as arguments are a functional-style capability called **higher-order functions**. \n",
    "* `filter`’s first argument must be a function that receives one argument and returns `True` if the value should be included in the result. \n",
    "* Higher-order functions may also return a function as a result.\n",
    "* `filter` returns an iterator, so `filter`’s results are not produced until you iterate through them&mdash;lazy evaluation. "
   ]
  },
  {
   "cell_type": "code",
   "execution_count": null,
   "id": "9a3a836f",
   "metadata": {},
   "outputs": [],
   "source": [
    "[item for item in numbers if is_odd(item)]"
   ]
  },
  {
   "cell_type": "markdown",
   "id": "27843d6e",
   "metadata": {},
   "source": [
    "### Using a `lambda` Rather than a Function \n",
    "* For simple functions like `is_odd` that `return` only a _single expression’s value_, you can use a **lambda expression** (or simply a **lambda**) to define the function inline. "
   ]
  },
  {
   "cell_type": "code",
   "execution_count": null,
   "id": "8a50211c",
   "metadata": {},
   "outputs": [],
   "source": [
    "list(filter(lambda x: x % 2 != 0, numbers))"
   ]
  },
  {
   "cell_type": "markdown",
   "id": "1daa22d8",
   "metadata": {},
   "source": [
    "* A lambda expression is an _anonymous function\n",
    "* Begins with the **`lambda`** keyword followed by a comma-separated parameter list, a colon (`:`) and an expression. \n",
    "* A `lambda` _implicitly_ returns its expression’s value. "
   ]
  },
  {
   "cell_type": "markdown",
   "id": "970a8a32",
   "metadata": {},
   "source": [
    "### Mapping a Sequence’s Values to New Values"
   ]
  },
  {
   "cell_type": "code",
   "execution_count": null,
   "id": "de42a053",
   "metadata": {},
   "outputs": [],
   "source": [
    "numbers"
   ]
  },
  {
   "cell_type": "code",
   "execution_count": null,
   "id": "6db2337e",
   "metadata": {},
   "outputs": [],
   "source": [
    "list(map(lambda x: x ** 2, numbers))"
   ]
  },
  {
   "cell_type": "markdown",
   "id": "b8041e78",
   "metadata": {},
   "source": [
    "* Function `map`’s first argument is a function that receives one value and returns a new value.\n",
    "* equivalent list comprehension:"
   ]
  },
  {
   "cell_type": "code",
   "execution_count": null,
   "id": "bb985fe5",
   "metadata": {},
   "outputs": [],
   "source": [
    "[item ** 2 for item in numbers]"
   ]
  },
  {
   "cell_type": "markdown",
   "id": "a8809c87",
   "metadata": {},
   "source": [
    "### Combining `filter` and `map`"
   ]
  },
  {
   "cell_type": "code",
   "execution_count": null,
   "id": "88179fa5",
   "metadata": {},
   "outputs": [],
   "source": [
    "list(map(lambda x: x ** 2, \n",
    "         filter(lambda x: x % 2 != 0, numbers)))"
   ]
  },
  {
   "cell_type": "markdown",
   "id": "97c9b4e4",
   "metadata": {},
   "source": [
    "* Equivalent list comprehension:"
   ]
  },
  {
   "cell_type": "code",
   "execution_count": null,
   "id": "18c7f4c3",
   "metadata": {},
   "outputs": [],
   "source": [
    "[x ** 2 for x in numbers if x % 2 != 0]"
   ]
  },
  {
   "cell_type": "markdown",
   "id": "20fe25b9",
   "metadata": {},
   "source": [
    "### Reduction: Totaling the Elements of a Sequence with `sum` \n",
    "* Reductions process a sequence’s elements into a single value. \n",
    "    * E.g., `len`, `sum`, `min` and `max`. \n",
    "* Can create custom reductions using the [`functools` module](https://docs.python.org/3/library/functools.html)’s `reduce` function. "
   ]
  },
  {
   "cell_type": "markdown",
   "id": "ad1b9920",
   "metadata": {},
   "source": [
    "# 5.15 Other Sequence Processing Functions "
   ]
  },
  {
   "cell_type": "markdown",
   "id": "a2347761",
   "metadata": {},
   "source": [
    "### Finding the Minimum and Maximum Values Using a Key Function"
   ]
  },
  {
   "cell_type": "code",
   "execution_count": null,
   "id": "1b5b7c4d",
   "metadata": {},
   "outputs": [],
   "source": [
    "'Red' < 'orange'"
   ]
  },
  {
   "cell_type": "markdown",
   "id": "5c17c63b",
   "metadata": {},
   "source": [
    "* `'R'` “comes after” `'o'` in the alphabet, so you might expect `'Red'` to be less than `'orange'` and the condition above to be `False`. \n",
    "* Strings are compared by their characters’ underlying _numerical values_, and lowercase letters have _higher_ numerical values than uppercase letters. \n",
    "* Confirm with built-in function **`ord`**:"
   ]
  },
  {
   "cell_type": "code",
   "execution_count": null,
   "id": "2cf50b55",
   "metadata": {},
   "outputs": [],
   "source": [
    "ord('R')"
   ]
  },
  {
   "cell_type": "code",
   "execution_count": null,
   "id": "53e6b743",
   "metadata": {},
   "outputs": [],
   "source": [
    "ord('o')"
   ]
  },
  {
   "cell_type": "code",
   "execution_count": null,
   "id": "860f9987",
   "metadata": {},
   "outputs": [],
   "source": [
    "colors = ['Red', 'orange', 'Yellow', 'green', 'Blue']"
   ]
  },
  {
   "cell_type": "markdown",
   "id": "b9d760f4",
   "metadata": {},
   "source": [
    "* Assume that we’d like to determine the minimum and maximum strings using _alphabetical_ order.\n",
    "* Can specify sort order with the `key` argument."
   ]
  },
  {
   "cell_type": "code",
   "execution_count": null,
   "id": "2d2441ee",
   "metadata": {},
   "outputs": [],
   "source": [
    "min(colors, key=lambda s: s.lower())"
   ]
  },
  {
   "cell_type": "code",
   "execution_count": null,
   "id": "95b5a9d5",
   "metadata": {},
   "outputs": [],
   "source": [
    "max(colors, key=lambda s: s.lower())"
   ]
  },
  {
   "cell_type": "markdown",
   "id": "daf7a7ce",
   "metadata": {},
   "source": [
    "### Iterating Backwards Through a Sequence"
   ]
  },
  {
   "cell_type": "code",
   "execution_count": null,
   "id": "19b4b84d",
   "metadata": {},
   "outputs": [],
   "source": [
    "numbers = [10, 3, 7, 1, 9, 4, 2, 8, 5, 6]"
   ]
  },
  {
   "cell_type": "code",
   "execution_count": null,
   "id": "dbc46e32",
   "metadata": {},
   "outputs": [],
   "source": [
    "reversed_numbers = [item ** 2 for item in reversed(numbers)]"
   ]
  },
  {
   "cell_type": "code",
   "execution_count": null,
   "id": "44e05552",
   "metadata": {},
   "outputs": [],
   "source": [
    "reversed_numbers"
   ]
  },
  {
   "cell_type": "markdown",
   "id": "77a7f958",
   "metadata": {},
   "source": [
    "### Combining Iterables into Tuples of Corresponding Elements\n",
    "* Built-in function **`zip`** enables you to iterate over _multiple_ iterables of data at the _same_ time. \n",
    "* Receives any number of iterables and returns an iterator that produces tuples containing the elements at the same index in each. "
   ]
  },
  {
   "cell_type": "code",
   "execution_count": null,
   "id": "737111a2",
   "metadata": {},
   "outputs": [],
   "source": [
    "names = ['Bob', 'Sue', 'Amanda']"
   ]
  },
  {
   "cell_type": "code",
   "execution_count": null,
   "id": "5b064563",
   "metadata": {},
   "outputs": [],
   "source": [
    "grade_point_averages = [3.5, 4.0, 3.75] "
   ]
  },
  {
   "cell_type": "code",
   "execution_count": null,
   "id": "4f8c6984",
   "metadata": {},
   "outputs": [],
   "source": [
    "for name, gpa in zip(names, grade_point_averages):\n",
    "    print(f'Name={name}; GPA={gpa}')\n"
   ]
  },
  {
   "cell_type": "markdown",
   "id": "b26093b5",
   "metadata": {},
   "source": [
    "* Shortest argument determines the number of tuples produced. "
   ]
  },
  {
   "cell_type": "markdown",
   "id": "4fb3e5eb",
   "metadata": {},
   "source": [
    "# 5.16 Two-Dimensional Lists\n",
    "* Lists can contain other lists as elements. \n",
    "* Typical use is to represent **tables** of values consisting of information arranged in **rows** and **columns**. \n",
    "* To identify a particular table element, we specify _two_ indices—the first identifies the element’s row, the second the element’s column."
   ]
  },
  {
   "cell_type": "markdown",
   "id": "1e33df1b",
   "metadata": {},
   "source": [
    "### Creating a Two-Dimensional List"
   ]
  },
  {
   "cell_type": "code",
   "execution_count": null,
   "id": "363e0699",
   "metadata": {},
   "outputs": [],
   "source": [
    "a = [[77, 68, 86, 73], [96, 87, 89, 81], [70, 90, 86, 81]]"
   ]
  },
  {
   "cell_type": "markdown",
   "id": "702c3969",
   "metadata": {},
   "source": [
    "Writing the list as follows makes its row and column tabular structure clearer:\n",
    "\n",
    "```python\n",
    "a = [[77, 68, 86, 73],  # first student's grades\n",
    "     [96, 87, 89, 81],  # second student's grades \n",
    "     [70, 90, 86, 81]]  # third student's grades\n",
    "```"
   ]
  },
  {
   "cell_type": "markdown",
   "id": "f95e983a",
   "metadata": {},
   "source": [
    "### Illustrating a Two-Dimensional List\n",
    "\n",
    "![The two-dimensional list 'a' with its rows and columns of exam grade values](ch05images/AAHBDOV0_2.png \"The two-dimensional list 'a' with its rows and columns of exam grade values\")"
   ]
  },
  {
   "cell_type": "markdown",
   "id": "89aa4ff3",
   "metadata": {},
   "source": [
    "### Identifying the Elements in a Two-Dimensional List\n",
    "\n",
    "![The two-dimensional list 'a' labeled with the names of its elements](ch05images/AAHBDOV0.png \"The two-dimensional list 'a' labeled with the names of its elements\")"
   ]
  },
  {
   "cell_type": "markdown",
   "id": "960d500f",
   "metadata": {},
   "source": [
    "* Output the rows of the preceding two-dimensional list."
   ]
  },
  {
   "cell_type": "code",
   "execution_count": null,
   "id": "a611e464",
   "metadata": {},
   "outputs": [],
   "source": [
    "for row in a:\n",
    "    for item in row:\n",
    "        print(item, end=' ')\n",
    "    print()\n",
    "        "
   ]
  },
  {
   "cell_type": "markdown",
   "id": "ecb6969f",
   "metadata": {},
   "source": [
    "### How the Nested Loops Execute"
   ]
  },
  {
   "cell_type": "code",
   "execution_count": null,
   "id": "9591eb68",
   "metadata": {},
   "outputs": [],
   "source": [
    "for i, row in enumerate(a):\n",
    "    for j, item in enumerate(row):\n",
    "        print(f'a[{i}][{j}]={item} ', end=' ')\n",
    "    print()"
   ]
  },
  {
   "cell_type": "markdown",
   "id": "58f2e1a4",
   "metadata": {},
   "source": [
    "* Outer `for` statement iterates over the  list’s ows one row at a time. \n",
    "* During each iteration of the outer `for` statement, the inner `for` statement iterates over _each_ column in the current row."
   ]
  }
 ],
 "metadata": {
  "celltoolbar": "Slideshow",
  "kernelspec": {
   "display_name": "Python 3",
   "language": "python",
   "name": "python3"
  },
  "language_info": {
   "codemirror_mode": {
    "name": "ipython",
    "version": 3
   },
   "file_extension": ".py",
   "mimetype": "text/x-python",
   "name": "python",
   "nbconvert_exporter": "python",
   "pygments_lexer": "ipython3",
   "version": "3.8.3"
  }
 },
 "nbformat": 4,
 "nbformat_minor": 5
}
