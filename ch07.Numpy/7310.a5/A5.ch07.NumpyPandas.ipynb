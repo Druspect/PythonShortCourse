{
 "cells": [
  {
   "cell_type": "markdown",
   "id": "82541546",
   "metadata": {},
   "source": [
    "## A5  ch07  NumPy and Pandas"
   ]
  },
  {
   "cell_type": "markdown",
   "id": "d8c3a3bb",
   "metadata": {},
   "source": [
    "Name:\n",
    "ID:"
   ]
  },
  {
   "cell_type": "code",
   "execution_count": null,
   "id": "de5d4442",
   "metadata": {},
   "outputs": [],
   "source": []
  },
  {
   "cell_type": "markdown",
   "id": "747f3da6",
   "metadata": {},
   "source": [
    "## 1 NumPy 1\n",
    "- write a function get_rol_col_value(arr1, row, col):\n",
    "- that returns the value in the corresponding row and col in numpy arr1"
   ]
  },
  {
   "cell_type": "code",
   "execution_count": null,
   "id": "7439d97c",
   "metadata": {},
   "outputs": [],
   "source": [
    "def get_rol_col_value(arr1, row, col):\n",
    "    pass\n",
    "    "
   ]
  },
  {
   "cell_type": "code",
   "execution_count": null,
   "id": "e5029831",
   "metadata": {},
   "outputs": [],
   "source": [
    "# assert\n",
    "arr1 = np.arange(1,21).reshape(4,5)\n",
    "assert get_rol_col_value(arr1, 1, 1) == 7\n",
    "print (\"#1 Passed\")\n"
   ]
  },
  {
   "cell_type": "markdown",
   "id": "5ab68ddb",
   "metadata": {},
   "source": [
    "## 2 NumPy 2\n",
    "- write a function gen_numpy1(list1, list2):\n",
    "- that returns a 2x5 numpy array from the 2 lists "
   ]
  },
  {
   "cell_type": "code",
   "execution_count": null,
   "id": "42287d57",
   "metadata": {},
   "outputs": [],
   "source": [
    "# code\n",
    "import numpy as np\n",
    "def gen_numpy1(list1, list2):\n",
    "    pass"
   ]
  },
  {
   "cell_type": "code",
   "execution_count": null,
   "id": "1da75c8c",
   "metadata": {},
   "outputs": [],
   "source": [
    "# assert\n",
    "list1 = [2,4,6,8,10]\n",
    "list2 = [3,6,9,12,15]\n",
    "assert list(gen_numpy1(list1, list2)[1]) == [3, 6, 9, 12, 15]\n",
    "print (\"#2 Passed\")"
   ]
  },
  {
   "cell_type": "markdown",
   "id": "506252c1",
   "metadata": {},
   "source": [
    "## 3 Numpy 3\n",
    "- write a function get_row_sum(nparr, row_number):\n",
    "- return the sum of row 'row_number' in the numpy array 'nparr'"
   ]
  },
  {
   "cell_type": "code",
   "execution_count": null,
   "id": "ef6dafd5",
   "metadata": {},
   "outputs": [],
   "source": [
    "def get_row_sum(nparr, row_number):\n",
    "    pass\n"
   ]
  },
  {
   "cell_type": "code",
   "execution_count": null,
   "id": "a53d8988",
   "metadata": {},
   "outputs": [],
   "source": [
    "# assert\n",
    "arr1 = np.arange(1,21).reshape(4,5)\n",
    "\n",
    "assert get_row_sum(arr1, 1) == 40\n",
    "print (\"#3 Passed\")"
   ]
  },
  {
   "cell_type": "markdown",
   "id": "02f5a05d",
   "metadata": {},
   "source": [
    "## 4 Numpy 4\n",
    "- write a function get_col_sum(nparr, col_number):\n",
    "- return the sum of col 'col_number' in the numpy array 'nparr'"
   ]
  },
  {
   "cell_type": "code",
   "execution_count": null,
   "id": "e30037b5",
   "metadata": {},
   "outputs": [],
   "source": [
    "#code\n",
    "def get_col_sum(nparr, col_number):\n",
    "    pass"
   ]
  },
  {
   "cell_type": "code",
   "execution_count": null,
   "id": "22db8308",
   "metadata": {},
   "outputs": [],
   "source": [
    "# assert\n",
    "arr1 = np.arange(1,21).reshape(4,5)\n",
    "col_number = 1\n",
    "\n",
    "assert get_col_sum(arr1, col_number) == 38\n",
    "print (\"#4 Passed\")"
   ]
  },
  {
   "cell_type": "markdown",
   "id": "d14b8f44",
   "metadata": {},
   "source": [
    "## 5 Panda 1 Series\n",
    "- write a function get_series_mean_std(series1):\n",
    "- that returns a tuple with the mean and standard deviation of the series data as integers using the floor function"
   ]
  },
  {
   "cell_type": "code",
   "execution_count": null,
   "id": "d10a3ddc",
   "metadata": {},
   "outputs": [],
   "source": [
    "# code\n",
    "import pandas as pd\n",
    "import math\n",
    "\n",
    "def get_series_mean_std(series1):\n",
    "    pass"
   ]
  },
  {
   "cell_type": "code",
   "execution_count": null,
   "id": "05fed49d",
   "metadata": {},
   "outputs": [],
   "source": [
    "# assert\n",
    "s1 = pd.Series(range(20,30))\n",
    "\n",
    "# call function  - get tuple\n",
    "tup = get_series_mean_std(s1)\n",
    "\n",
    "assert tup[0] == 29\n",
    "assert tup[1] == 5\n",
    "print (\"#5 Passed\")"
   ]
  },
  {
   "cell_type": "markdown",
   "id": "8083bc53",
   "metadata": {},
   "source": [
    "## 6 Panda 2 DataFrame\n",
    "- write a function add_temp_centigrade(filename) that:\n",
    "- creates a dataframe from the csv file\n",
    "- the dataframe contains a column 'temp_f' that shows temperature in farenheit\n",
    "- create a new column in the dataframe called  'temp_c' that is the centigrade conversion from column 'temp_f'\n",
    "- Display the dataframe with new column\n",
    "- to convert farenheit to centigrade use your earlier function or write code directly (up to you)\n",
    "\n",
    "\n",
    "\n",
    "###  NOTE: there is no assert for this question\n",
    "#### the function add_temp_centigrade should simply DISPLAY the dataframe - \n"
   ]
  },
  {
   "cell_type": "code",
   "execution_count": null,
   "id": "0c203319",
   "metadata": {},
   "outputs": [],
   "source": [
    "#code\n",
    "# feel free to define a temp conversion function for use\n",
    "\n",
    "import pandas as pd\n",
    "def add_temp_centigrade(filename):\n",
    "    pass\n",
    "\n",
    "   \n",
    "# use this file and display the dataframe with new column    \n",
    "filename = 'a5q6.csv'\n",
    "add_temp_centigrade(filename)\n",
    "    "
   ]
  },
  {
   "cell_type": "markdown",
   "id": "1ddd9dbd",
   "metadata": {},
   "source": [
    "## 7 Panda 3 DataFrame\n",
    "- write a function add_new_col(filename):\n",
    "- reads the csv file (a5q7.csv) passed as parameter\n",
    "- if the name of the file is not a5q7.csv, return None\n",
    "- add column 'D' to the dataframe that is the sum of columns A, B and C\n",
    "- return the sum of the new column D"
   ]
  },
  {
   "cell_type": "code",
   "execution_count": null,
   "id": "38274dac",
   "metadata": {},
   "outputs": [],
   "source": [
    "# code\n",
    "def add_new_col(filename):\n",
    "    pass\n",
    "\n"
   ]
  },
  {
   "cell_type": "code",
   "execution_count": null,
   "id": "5d5985f2",
   "metadata": {},
   "outputs": [],
   "source": [
    "# assert\n",
    "assert add_new_col('aaa.csv') == None\n",
    "assert add_new_col('a5q7.csv') == 861\n",
    "print (\"#7 Passed\")"
   ]
  },
  {
   "cell_type": "markdown",
   "id": "f38643c0",
   "metadata": {},
   "source": [
    "## 8 Panda 4 DataFrame\n",
    "- write a function top_world_cup_winner(filename):\n",
    "- reads the csv file worldcup.csv into a dataframe\n",
    "- if filename is not worldcup.csv return None\n",
    "- the dataframe contains a column 'first' for winners of the world cup\n",
    "- write code that returns the country with the most first place wins\n"
   ]
  },
  {
   "cell_type": "code",
   "execution_count": null,
   "id": "aee28e87",
   "metadata": {},
   "outputs": [],
   "source": [
    "#code\n",
    "def top_world_cup_winner(filename):\n",
    "    pass\n",
    "\n",
    "    "
   ]
  },
  {
   "cell_type": "code",
   "execution_count": null,
   "id": "9488bad9",
   "metadata": {},
   "outputs": [],
   "source": [
    "# assert\n",
    "\n",
    "assert top_world_cup_winner('zzz.csv') == None\n",
    "assert top_world_cup_winner('worldcup.csv') == 'Brazil'\n",
    "print (\"#8 Passed\")"
   ]
  },
  {
   "cell_type": "markdown",
   "id": "eb5db46f",
   "metadata": {},
   "source": [
    "## 9 Panda 5 DataFrame\n",
    "- add a row to the wordcup dataframe with the following data:\n",
    "- year: 2022 attendance=2,650,000 first=Argentina second=France third=Croatia fourth=Morocco\n",
    "- location: Qatar\n",
    "- if you have other info add it otherwise use 'None' for unknown\n",
    "\n",
    "### Display a bar graph for the world cup data showing attendance by year including 2022\n",
    "- there is no assert. simply display the bar graph"
   ]
  },
  {
   "cell_type": "code",
   "execution_count": null,
   "id": "449efc3e",
   "metadata": {},
   "outputs": [],
   "source": []
  }
 ],
 "metadata": {
  "kernelspec": {
   "display_name": "Python 3",
   "language": "python",
   "name": "python3"
  },
  "language_info": {
   "codemirror_mode": {
    "name": "ipython",
    "version": 3
   },
   "file_extension": ".py",
   "mimetype": "text/x-python",
   "name": "python",
   "nbconvert_exporter": "python",
   "pygments_lexer": "ipython3",
   "version": "3.8.3"
  }
 },
 "nbformat": 4,
 "nbformat_minor": 5
}
