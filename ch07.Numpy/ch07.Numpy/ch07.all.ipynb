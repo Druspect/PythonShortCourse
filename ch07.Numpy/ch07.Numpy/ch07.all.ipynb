{
 "cells": [
  {
   "cell_type": "markdown",
   "id": "a94c6d46",
   "metadata": {
    "slideshow": {
     "slide_type": "slide"
    }
   },
   "source": [
    "# 7. Array-Oriented Programming with NumPy"
   ]
  },
  {
   "cell_type": "markdown",
   "id": "71e05639",
   "metadata": {
    "slideshow": {
     "slide_type": "slide"
    }
   },
   "source": [
    "### Objectives \n",
    "In this chapter, you’ll:\n",
    "* Learn what arrays are and how\n",
    "they differ from lists.\n",
    "* Use the numpy module’s highperformance\n",
    "ndarrays.\n",
    "* Compare list and ndarray\n",
    "performance with the IPython\n",
    "%timeit magic.\n",
    "* Use ndarrays to store and\n",
    "retrieve data efficiently.\n",
    "* Create and initialize\n",
    "ndarrays."
   ]
  },
  {
   "cell_type": "markdown",
   "id": "e53b115a",
   "metadata": {
    "slideshow": {
     "slide_type": "slide"
    }
   },
   "source": [
    "### Objectives (cont.)\n",
    "* Refer to individual ndarray\n",
    "elements.\n",
    "* Iterate through ndarrays.\n",
    "* Create and manipulate\n",
    "multidimensional ndarrays.\n",
    "* Perform common ndarray\n",
    "manipulations.\n",
    "* Create and manipulate\n",
    "pandas one-dimensional\n",
    "Series and two-dimensional\n",
    "DataFrames."
   ]
  },
  {
   "cell_type": "markdown",
   "id": "dd926460",
   "metadata": {
    "slideshow": {
     "slide_type": "slide"
    }
   },
   "source": [
    "### Objectives (cont.)\n",
    "* Customize Series and\n",
    "DataFrame indices.\n",
    "* Calculate basic descriptive\n",
    "statistics for data in a Series\n",
    "and a DataFrame.\n",
    "* Customize floating-point\n",
    "number precision in pandas\n",
    "output formatting."
   ]
  },
  {
   "cell_type": "markdown",
   "id": "44ea9de5",
   "metadata": {},
   "source": [
    "# 7.1 Introduction"
   ]
  },
  {
   "cell_type": "markdown",
   "id": "bddea67f",
   "metadata": {},
   "source": [
    "### **NumPy** (**Numerical Python**) Library\n",
    "* First appeared in 2006 and is the **preferred Python array implementation**.\n",
    "* High-performance, richly functional **_n_-dimensional array** type called **`ndarray`**. \n",
    "* **Written in C** and **up to 100 times faster than lists**.\n",
    "* Critical in big-data processing, AI applications and much more. \n",
    "* According to `libraries.io`, **over 450 Python libraries depend on NumPy**. \n",
    "* Many popular data science libraries such as Pandas, SciPy (Scientific Python) and Keras (for deep learning) are built on or depend on NumPy. "
   ]
  },
  {
   "cell_type": "markdown",
   "id": "985d5914",
   "metadata": {},
   "source": [
    "### Array-Oriented Programming\n",
    "* **Functional-style programming** with **internal iteration** makes array-oriented manipulations concise and straightforward, and reduces the possibility of error."
   ]
  },
  {
   "cell_type": "markdown",
   "id": "719f5448",
   "metadata": {},
   "source": [
    "# 7.2 Creating `array`s from Existing Data \n",
    "* Creating an array with the **`array`** function \n",
    "* Argument is an `array` or other iterable\n",
    "* Returns a new `array` containing the argument’s elements"
   ]
  },
  {
   "cell_type": "code",
   "execution_count": 1,
   "id": "a5b74a1c",
   "metadata": {},
   "outputs": [],
   "source": [
    "import numpy as np\n"
   ]
  },
  {
   "cell_type": "code",
   "execution_count": 2,
   "id": "763c65f9",
   "metadata": {},
   "outputs": [],
   "source": [
    "numbers = np.array([2, 3, 5, 7, 11])"
   ]
  },
  {
   "cell_type": "code",
   "execution_count": 3,
   "id": "c58d7aba",
   "metadata": {},
   "outputs": [
    {
     "data": {
      "text/plain": [
       "numpy.ndarray"
      ]
     },
     "execution_count": 3,
     "metadata": {},
     "output_type": "execute_result"
    }
   ],
   "source": [
    "type(numbers)"
   ]
  },
  {
   "cell_type": "code",
   "execution_count": 4,
   "id": "e2c9cd62",
   "metadata": {},
   "outputs": [
    {
     "data": {
      "text/plain": [
       "array([ 2,  3,  5,  7, 11])"
      ]
     },
     "execution_count": 4,
     "metadata": {},
     "output_type": "execute_result"
    }
   ],
   "source": [
    "numbers"
   ]
  },
  {
   "cell_type": "markdown",
   "id": "c020b4b5",
   "metadata": {},
   "source": [
    "### Multidimensional Arguments"
   ]
  },
  {
   "cell_type": "code",
   "execution_count": 5,
   "id": "69b97a2a",
   "metadata": {},
   "outputs": [
    {
     "data": {
      "text/plain": [
       "array([[1, 2, 3],\n",
       "       [4, 5, 6]])"
      ]
     },
     "execution_count": 5,
     "metadata": {},
     "output_type": "execute_result"
    }
   ],
   "source": [
    "np.array([[1, 2, 3], [4, 5, 6]])"
   ]
  },
  {
   "cell_type": "markdown",
   "id": "6d58ec0d",
   "metadata": {},
   "source": [
    "# 7.3 `array` Attributes \n",
    "* **attributes**  enable you to discover information about its structure and contents"
   ]
  },
  {
   "cell_type": "code",
   "execution_count": 1,
   "id": "83dbe133",
   "metadata": {},
   "outputs": [],
   "source": [
    "import numpy as np\n"
   ]
  },
  {
   "cell_type": "code",
   "execution_count": 2,
   "id": "7fe100b2",
   "metadata": {},
   "outputs": [],
   "source": [
    "integers = np.array([[1, 2, 3], [4, 5, 6]])"
   ]
  },
  {
   "cell_type": "code",
   "execution_count": 3,
   "id": "e650c86f",
   "metadata": {},
   "outputs": [
    {
     "data": {
      "text/plain": [
       "array([[1, 2, 3],\n",
       "       [4, 5, 6]])"
      ]
     },
     "execution_count": 3,
     "metadata": {},
     "output_type": "execute_result"
    }
   ],
   "source": [
    "integers"
   ]
  },
  {
   "cell_type": "code",
   "execution_count": 5,
   "id": "e84a70a6",
   "metadata": {},
   "outputs": [
    {
     "data": {
      "text/plain": [
       "array([1, 2, 3])"
      ]
     },
     "execution_count": 5,
     "metadata": {},
     "output_type": "execute_result"
    }
   ],
   "source": [
    "floats = np.array([0.0, 0.1, 0.2, 0.3, 0.4])\n",
    "np.array([1,2,3])"
   ]
  },
  {
   "cell_type": "code",
   "execution_count": null,
   "id": "d4d9045f",
   "metadata": {},
   "outputs": [],
   "source": [
    "floats"
   ]
  },
  {
   "cell_type": "markdown",
   "id": "e5a726f6",
   "metadata": {},
   "source": [
    "* NumPy does not display trailing 0s"
   ]
  },
  {
   "cell_type": "markdown",
   "id": "f3bfa783",
   "metadata": {},
   "source": [
    "### Determining an `array`’s Element Type"
   ]
  },
  {
   "cell_type": "code",
   "execution_count": null,
   "id": "a84f5090",
   "metadata": {},
   "outputs": [],
   "source": [
    "integers.dtype"
   ]
  },
  {
   "cell_type": "code",
   "execution_count": null,
   "id": "e8667abc",
   "metadata": {},
   "outputs": [],
   "source": [
    "floats.dtype"
   ]
  },
  {
   "cell_type": "markdown",
   "id": "04aa2b6c",
   "metadata": {},
   "source": [
    "* For performance reasons, NumPy is written in the C programming language and uses C’s data types\n",
    "* [Other NumPy types](https://docs.scipy.org/doc/numpy/user/basics.types.html)"
   ]
  },
  {
   "cell_type": "markdown",
   "id": "162c9e33",
   "metadata": {},
   "source": [
    "### Determining an `array`’s Dimensions\n",
    "* **`ndim`** contains an `array`’s number of dimensions \n",
    "* **`shape`** contains a _tuple_ specifying an `array`’s dimensions"
   ]
  },
  {
   "cell_type": "code",
   "execution_count": null,
   "id": "2025b4b7",
   "metadata": {},
   "outputs": [],
   "source": [
    "integers.ndim"
   ]
  },
  {
   "cell_type": "code",
   "execution_count": null,
   "id": "32a1cc10",
   "metadata": {},
   "outputs": [],
   "source": [
    "floats.ndim"
   ]
  },
  {
   "cell_type": "code",
   "execution_count": null,
   "id": "e5e9c96e",
   "metadata": {},
   "outputs": [],
   "source": [
    "integers.shape"
   ]
  },
  {
   "cell_type": "code",
   "execution_count": null,
   "id": "5bf933d1",
   "metadata": {},
   "outputs": [],
   "source": [
    "floats.shape"
   ]
  },
  {
   "cell_type": "markdown",
   "id": "32ce4029",
   "metadata": {},
   "source": [
    "### Determining an `array`’s Number of Elements and Element Size\n",
    "* view an `array`’s total number of elements with **`size`** \n",
    "* view number of bytes required to store each element with **`itemsize`**"
   ]
  },
  {
   "cell_type": "code",
   "execution_count": null,
   "id": "26db4b1a",
   "metadata": {},
   "outputs": [],
   "source": [
    "integers.size"
   ]
  },
  {
   "cell_type": "code",
   "execution_count": null,
   "id": "4807a64f",
   "metadata": {},
   "outputs": [],
   "source": [
    "integers.itemsize"
   ]
  },
  {
   "cell_type": "code",
   "execution_count": null,
   "id": "dd879fb5",
   "metadata": {},
   "outputs": [],
   "source": [
    "floats.size"
   ]
  },
  {
   "cell_type": "code",
   "execution_count": null,
   "id": "e7204930",
   "metadata": {},
   "outputs": [],
   "source": [
    "floats.itemsize"
   ]
  },
  {
   "cell_type": "markdown",
   "id": "55ca74b0",
   "metadata": {},
   "source": [
    "### Iterating through a Multidimensional `array`’s Elements\n"
   ]
  },
  {
   "cell_type": "code",
   "execution_count": 7,
   "id": "2d9461c8",
   "metadata": {},
   "outputs": [
    {
     "name": "stdout",
     "output_type": "stream",
     "text": [
      "row is [1 2 3]\n",
      "1  2  3  \n",
      "row is [4 5 6]\n",
      "4  5  6  \n"
     ]
    }
   ],
   "source": [
    "for row in integers:\n",
    "    print(f\"row is {row}\")\n",
    "    for column in row:\n",
    "        print(column, end='  ')\n",
    "    print() "
   ]
  },
  {
   "cell_type": "markdown",
   "id": "eca6d006",
   "metadata": {},
   "source": [
    "* Iterate through a multidimensional `array` as if it were one-dimensional by using **`flat`**"
   ]
  },
  {
   "cell_type": "code",
   "execution_count": null,
   "id": "4972b5ff",
   "metadata": {},
   "outputs": [],
   "source": [
    "for i in integers.flat:\n",
    "    print(i, end='  ')"
   ]
  },
  {
   "cell_type": "markdown",
   "id": "71a47c6c",
   "metadata": {},
   "source": [
    "# 7.4 Filling `array`s with Specific Values\n",
    "* Functions **`zeros`**, **`ones`** and **`full`** create `array`s containing  `0`s, `1`s or a specified value, respectively"
   ]
  },
  {
   "cell_type": "code",
   "execution_count": 1,
   "id": "f16ec594",
   "metadata": {},
   "outputs": [],
   "source": [
    "import numpy as np"
   ]
  },
  {
   "cell_type": "code",
   "execution_count": 7,
   "id": "5ca6487c",
   "metadata": {},
   "outputs": [
    {
     "ename": "TypeError",
     "evalue": "'numpy.float64' object does not support item assignment",
     "output_type": "error",
     "traceback": [
      "\u001b[1;31m---------------------------------------------------------------------------\u001b[0m",
      "\u001b[1;31mTypeError\u001b[0m                                 Traceback (most recent call last)",
      "\u001b[1;32m<ipython-input-7-7e91dd5a9346>\u001b[0m in \u001b[0;36m<module>\u001b[1;34m\u001b[0m\n\u001b[0;32m      2\u001b[0m \u001b[0ma\u001b[0m\u001b[1;33m\u001b[0m\u001b[1;33m\u001b[0m\u001b[0m\n\u001b[0;32m      3\u001b[0m \u001b[0mb\u001b[0m \u001b[1;33m=\u001b[0m \u001b[0ma\u001b[0m\u001b[1;33m\u001b[0m\u001b[1;33m\u001b[0m\u001b[0m\n\u001b[1;32m----> 4\u001b[1;33m \u001b[0mb\u001b[0m\u001b[1;33m[\u001b[0m\u001b[1;36m0\u001b[0m\u001b[1;33m]\u001b[0m\u001b[1;33m[\u001b[0m\u001b[1;36m1\u001b[0m\u001b[1;33m]\u001b[0m\u001b[1;33m=\u001b[0m \u001b[1;36m1.2\u001b[0m\u001b[1;33m\u001b[0m\u001b[1;33m\u001b[0m\u001b[0m\n\u001b[0m\u001b[0;32m      5\u001b[0m \u001b[0mb\u001b[0m\u001b[1;33m\u001b[0m\u001b[1;33m\u001b[0m\u001b[0m\n\u001b[0;32m      6\u001b[0m \u001b[1;33m\u001b[0m\u001b[0m\n",
      "\u001b[1;31mTypeError\u001b[0m: 'numpy.float64' object does not support item assignment"
     ]
    }
   ],
   "source": [
    "a =np.zeros(5)\n",
    "a\n",
    "b = a\n",
    "\n",
    "\n",
    "\n"
   ]
  },
  {
   "cell_type": "markdown",
   "id": "a5f83279",
   "metadata": {},
   "source": [
    "* For a tuple of integers, these functions return a multidimensional `array` with the specified dimensions"
   ]
  },
  {
   "cell_type": "code",
   "execution_count": 3,
   "id": "466ced82",
   "metadata": {},
   "outputs": [
    {
     "data": {
      "text/plain": [
       "array([[1, 1, 1, 1],\n",
       "       [1, 1, 1, 1]])"
      ]
     },
     "execution_count": 3,
     "metadata": {},
     "output_type": "execute_result"
    }
   ],
   "source": [
    "np.ones((2, 4), dtype=int)"
   ]
  },
  {
   "cell_type": "code",
   "execution_count": 4,
   "id": "ff266296",
   "metadata": {},
   "outputs": [
    {
     "data": {
      "text/plain": [
       "array([[13, 13, 13, 13, 13],\n",
       "       [13, 13, 13, 13, 13],\n",
       "       [13, 13, 13, 13, 13]])"
      ]
     },
     "execution_count": 4,
     "metadata": {},
     "output_type": "execute_result"
    }
   ],
   "source": [
    "np.full((3, 5), 13)"
   ]
  },
  {
   "cell_type": "markdown",
   "id": "0bae1080",
   "metadata": {},
   "source": [
    "# 7.5 Creating `array`s from Ranges \n",
    "* NumPy provides optimized functions for creating `array`s from ranges"
   ]
  },
  {
   "cell_type": "markdown",
   "id": "14ffeba0",
   "metadata": {},
   "source": [
    "### Creating Integer Ranges with `arange`"
   ]
  },
  {
   "cell_type": "code",
   "execution_count": null,
   "id": "3ab0ce88",
   "metadata": {},
   "outputs": [],
   "source": [
    "import numpy as np"
   ]
  },
  {
   "cell_type": "code",
   "execution_count": null,
   "id": "568ecb27",
   "metadata": {},
   "outputs": [],
   "source": [
    "np.arange(5)"
   ]
  },
  {
   "cell_type": "code",
   "execution_count": null,
   "id": "8be14081",
   "metadata": {},
   "outputs": [],
   "source": [
    "np.arange(5, 10)"
   ]
  },
  {
   "cell_type": "code",
   "execution_count": null,
   "id": "d4b12d84",
   "metadata": {},
   "outputs": [],
   "source": [
    "np.arange(10, 1, -2)"
   ]
  },
  {
   "cell_type": "markdown",
   "id": "0fc269a5",
   "metadata": {},
   "source": [
    "### Creating Floating-Point Ranges with `linspace` \n",
    "* Produce evenly spaced floating-point ranges with NumPy’s **`linspace`** function\n",
    "* Ending value **is included** in the `array`"
   ]
  },
  {
   "cell_type": "code",
   "execution_count": null,
   "id": "5c4446c3",
   "metadata": {},
   "outputs": [],
   "source": [
    "np.linspace(0.0, 1.0, num=5)"
   ]
  },
  {
   "cell_type": "markdown",
   "id": "e98d283d",
   "metadata": {},
   "source": [
    "### Reshaping an `array` \n",
    "* `array` method **`reshape`** transforms an array into different number of dimensions\n",
    "* New shape must have the **same** number of elements as the original"
   ]
  },
  {
   "cell_type": "code",
   "execution_count": null,
   "id": "8ddba99b",
   "metadata": {},
   "outputs": [],
   "source": [
    "np.arange(1, 21).reshape(4, 5)"
   ]
  },
  {
   "cell_type": "markdown",
   "id": "3815f9ae",
   "metadata": {},
   "source": [
    "### Displaying Large `array`s \n",
    "* When displaying an `array`, if there are 1000 items or more, NumPy drops the middle rows, columns or both from the output"
   ]
  },
  {
   "cell_type": "code",
   "execution_count": null,
   "id": "7a83b13d",
   "metadata": {},
   "outputs": [],
   "source": [
    "np.arange(1, 100001).reshape(4, 25000)"
   ]
  },
  {
   "cell_type": "code",
   "execution_count": null,
   "id": "efa7dd02",
   "metadata": {},
   "outputs": [],
   "source": [
    "np.arange(1, 100001).reshape(100, 1000)"
   ]
  },
  {
   "cell_type": "markdown",
   "id": "fcf18c93",
   "metadata": {},
   "source": [
    "# 7.6 List vs. `array` Performance: Introducing `%timeit` \n",
    "* Most `array` operations execute **significantly** faster than corresponding list operations\n",
    "* IPython **`%timeit` magic** command times the **average** duration of operations"
   ]
  },
  {
   "cell_type": "markdown",
   "id": "2aba69df",
   "metadata": {},
   "source": [
    "### Timing the Creation of a List Containing Results of 6,000,000 Die Rolls "
   ]
  },
  {
   "cell_type": "code",
   "execution_count": null,
   "id": "c47ed88e",
   "metadata": {},
   "outputs": [],
   "source": [
    "import random"
   ]
  },
  {
   "cell_type": "code",
   "execution_count": null,
   "id": "3b2ccf31",
   "metadata": {},
   "outputs": [],
   "source": [
    "%timeit rolls_list = \\\n",
    "   [random.randrange(1, 7) for i in range(0, 6_000_000)]"
   ]
  },
  {
   "cell_type": "markdown",
   "id": "41e11117",
   "metadata": {},
   "source": [
    "* By default, `%timeit` executes a statement in a loop, and it runs the loop _seven_ times\n",
    "* If you do not indicate the number of loops, `%timeit` chooses an appropriate value\n",
    "* After executing the statement, `%timeit` displays the statement’s _average_ execution time, as well as the standard deviation of all the executions"
   ]
  },
  {
   "cell_type": "markdown",
   "id": "64c55f66",
   "metadata": {},
   "source": [
    "### Timing the Creation of an `array` Containing Results of 6,000,000 Die Rolls  "
   ]
  },
  {
   "cell_type": "code",
   "execution_count": null,
   "id": "c100ca10",
   "metadata": {},
   "outputs": [],
   "source": [
    "import numpy as np"
   ]
  },
  {
   "cell_type": "code",
   "execution_count": null,
   "id": "0eb318c9",
   "metadata": {},
   "outputs": [],
   "source": [
    "%timeit rolls_array = np.random.randint(1, 7, 6_000_000)"
   ]
  },
  {
   "cell_type": "markdown",
   "id": "4fc81269",
   "metadata": {},
   "source": [
    "### 60,000,000 and 600,000,000 Die Rolls  "
   ]
  },
  {
   "cell_type": "code",
   "execution_count": null,
   "id": "df48451f",
   "metadata": {},
   "outputs": [],
   "source": [
    "%timeit rolls_array = np.random.randint(1, 7, 60_000_000)"
   ]
  },
  {
   "cell_type": "code",
   "execution_count": null,
   "id": "3716597a",
   "metadata": {},
   "outputs": [],
   "source": [
    "%timeit rolls_array = np.random.randint(1, 7, 600_000_000)"
   ]
  },
  {
   "cell_type": "markdown",
   "id": "0b8e40de",
   "metadata": {},
   "source": [
    "### Other IPython Magics\n",
    "IPython provides dozens of magics for a variety of tasks—for a complete list, see the IPython magics documentation. Here are a few helpful ones:\n",
    "* **`%load`** to read code into IPython from a local file or URL.\n",
    "* **`%save`** to save snippets to a file.\n",
    "* **`%run`** to execute a .py file from IPython.\n",
    "* **`%precision`** to change the default floating-point precision for IPython outputs.\n",
    "* **`%cd`** to change directories without having to exit IPython first.\n",
    "* **`%edit`** to launch an external editor—handy if you need to modify more complex snippets. \n",
    "* **`%history`** to view a list of all snippets and commands you’ve executed in the current IPython session.\n",
    "* **`%ls`** list directory\n",
    "* **`%pwd`** print working directory"
   ]
  },
  {
   "cell_type": "code",
   "execution_count": null,
   "id": "b8029f13",
   "metadata": {},
   "outputs": [],
   "source": []
  },
  {
   "cell_type": "markdown",
   "id": "405878b5",
   "metadata": {},
   "source": [
    "### Arithmetic Operations with `array`s and Individual Numeric Values"
   ]
  },
  {
   "cell_type": "markdown",
   "id": "2ab17e54",
   "metadata": {},
   "source": [
    "# 7.7 `array` Operators\n",
    "* `array` operators perform operations on **entire `array`s**. \n",
    "* Can perform arithmetic **between `array`s and scalar numeric values**, and **between `array`s of the same shape**."
   ]
  },
  {
   "cell_type": "code",
   "execution_count": null,
   "id": "1083e8ed",
   "metadata": {},
   "outputs": [],
   "source": [
    "import numpy as np"
   ]
  },
  {
   "cell_type": "code",
   "execution_count": null,
   "id": "a364ebf7",
   "metadata": {},
   "outputs": [],
   "source": [
    "numbers = np.arange(1, 6)"
   ]
  },
  {
   "cell_type": "code",
   "execution_count": null,
   "id": "bb32c06a",
   "metadata": {},
   "outputs": [],
   "source": [
    "numbers"
   ]
  },
  {
   "cell_type": "code",
   "execution_count": null,
   "id": "8b83173e",
   "metadata": {},
   "outputs": [],
   "source": [
    "numbers * 2"
   ]
  },
  {
   "cell_type": "code",
   "execution_count": null,
   "id": "3cad161e",
   "metadata": {},
   "outputs": [],
   "source": [
    "numbers ** 3"
   ]
  },
  {
   "cell_type": "code",
   "execution_count": null,
   "id": "94a4260a",
   "metadata": {},
   "outputs": [],
   "source": [
    "numbers  # numbers is unchanged by the arithmetic operators"
   ]
  },
  {
   "cell_type": "code",
   "execution_count": null,
   "id": "cbd1327d",
   "metadata": {},
   "outputs": [],
   "source": [
    "numbers += 10"
   ]
  },
  {
   "cell_type": "code",
   "execution_count": null,
   "id": "e24f7bc2",
   "metadata": {},
   "outputs": [],
   "source": [
    "numbers"
   ]
  },
  {
   "cell_type": "markdown",
   "id": "17df6f91",
   "metadata": {},
   "source": [
    "### Broadcasting \n",
    "* Arithmetic operations require as operands two `array`s of the **same size and shape**. \n",
    "* **`numbers * 2`** is equivalent to **`numbers * [2, 2, 2, 2, 2]`** for a 5-element array.\n",
    "* Applying the operation to every element is called **broadcasting**. \n",
    "* Also can be applied between `array`s of different sizes and shapes, enabling some concise and powerful manipulations."
   ]
  },
  {
   "cell_type": "markdown",
   "id": "d6e4be6c",
   "metadata": {},
   "source": [
    "### Arithmetic Operations Between `array`s \n",
    "* Can perform arithmetic operations and augmented assignments between `array`s of the _same_ shape"
   ]
  },
  {
   "cell_type": "code",
   "execution_count": null,
   "id": "b64c41e2",
   "metadata": {},
   "outputs": [],
   "source": [
    "numbers2 = np.linspace(1.1, 5.5, 5)"
   ]
  },
  {
   "cell_type": "code",
   "execution_count": null,
   "id": "8cea2f22",
   "metadata": {},
   "outputs": [],
   "source": [
    "numbers2"
   ]
  },
  {
   "cell_type": "code",
   "execution_count": null,
   "id": "98913562",
   "metadata": {},
   "outputs": [],
   "source": [
    "numbers * numbers2"
   ]
  },
  {
   "cell_type": "markdown",
   "id": "bab9be43",
   "metadata": {},
   "source": [
    "### Comparing `array`s\n",
    "* Can compare `array`s with individual values and with other `array`s\n",
    "* Comparisons performed **element-wise**\n",
    "* Produce `array`s of Boolean values in which each element’s `True` or `False` value indicates the comparison result"
   ]
  },
  {
   "cell_type": "code",
   "execution_count": null,
   "id": "1137af55",
   "metadata": {},
   "outputs": [],
   "source": [
    "numbers"
   ]
  },
  {
   "cell_type": "code",
   "execution_count": null,
   "id": "02d1d95c",
   "metadata": {},
   "outputs": [],
   "source": [
    "numbers >= 13"
   ]
  },
  {
   "cell_type": "code",
   "execution_count": null,
   "id": "2bb43d66",
   "metadata": {},
   "outputs": [],
   "source": [
    "numbers2"
   ]
  },
  {
   "cell_type": "code",
   "execution_count": null,
   "id": "82571b53",
   "metadata": {},
   "outputs": [],
   "source": [
    "numbers2 < numbers"
   ]
  },
  {
   "cell_type": "code",
   "execution_count": null,
   "id": "c6b65b7d",
   "metadata": {},
   "outputs": [],
   "source": [
    "numbers == numbers2"
   ]
  },
  {
   "cell_type": "code",
   "execution_count": null,
   "id": "47f7e42a",
   "metadata": {},
   "outputs": [],
   "source": [
    "numbers == numbers"
   ]
  },
  {
   "cell_type": "markdown",
   "id": "d3bd99ae",
   "metadata": {},
   "source": [
    "# 7.8 NumPy Calculation Methods\n",
    "* These methods **ignore the `array`’s shape** and **use all the elements in the calculations**. \n",
    "* Consider an `array` representing four students’ grades on three exams:"
   ]
  },
  {
   "cell_type": "code",
   "execution_count": null,
   "id": "2d9bee27",
   "metadata": {},
   "outputs": [],
   "source": [
    "import numpy as np"
   ]
  },
  {
   "cell_type": "code",
   "execution_count": null,
   "id": "c01cddc6",
   "metadata": {},
   "outputs": [],
   "source": [
    "grades = np.array([[87, 96, 70], [100, 87, 90],\n",
    "                   [94, 77, 90], [100, 81, 82]])"
   ]
  },
  {
   "cell_type": "code",
   "execution_count": null,
   "id": "9c9ac253",
   "metadata": {},
   "outputs": [],
   "source": [
    "grades"
   ]
  },
  {
   "cell_type": "markdown",
   "id": "7241ee41",
   "metadata": {},
   "source": [
    "* Can use methods to calculate **`sum`**, **`min`**, **`max`**, **`mean`**, **`std`** (standard deviation) and **`var`** (variance)\n",
    "* Each is a functional-style programming **reduction**"
   ]
  },
  {
   "cell_type": "code",
   "execution_count": null,
   "id": "7be2e065",
   "metadata": {},
   "outputs": [],
   "source": [
    "grades.sum()"
   ]
  },
  {
   "cell_type": "code",
   "execution_count": null,
   "id": "90faaf14",
   "metadata": {},
   "outputs": [],
   "source": [
    "grades.min()"
   ]
  },
  {
   "cell_type": "code",
   "execution_count": null,
   "id": "836b1dcd",
   "metadata": {},
   "outputs": [],
   "source": [
    "grades.max()"
   ]
  },
  {
   "cell_type": "code",
   "execution_count": null,
   "id": "3abb4fcb",
   "metadata": {},
   "outputs": [],
   "source": [
    "grades.mean()"
   ]
  },
  {
   "cell_type": "code",
   "execution_count": null,
   "id": "44386279",
   "metadata": {},
   "outputs": [],
   "source": [
    "grades.std()"
   ]
  },
  {
   "cell_type": "code",
   "execution_count": null,
   "id": "29cb0ee4",
   "metadata": {},
   "outputs": [],
   "source": [
    "grades.var()"
   ]
  },
  {
   "cell_type": "markdown",
   "id": "a40a0c60",
   "metadata": {},
   "source": [
    "### Calculations by Row or Column"
   ]
  },
  {
   "cell_type": "markdown",
   "id": "7d9a5148",
   "metadata": {},
   "source": [
    "* You can perform calculations by column or row (or other dimensions in arrays with more than two dimensions)\n",
    "* Each 2D+ array has [**one axis per dimension**](https://docs.scipy.org/doc/numpy-1.16.0/glossary.html)\n",
    "* In a 2D array, **`axis=0`** indicates calculations should be **column-by-column**"
   ]
  },
  {
   "cell_type": "code",
   "execution_count": null,
   "id": "25e0fb00",
   "metadata": {},
   "outputs": [],
   "source": [
    "grades.mean(axis=0)"
   ]
  },
  {
   "cell_type": "markdown",
   "id": "b6229464",
   "metadata": {},
   "source": [
    "*  In a 2D array, **`axis=1`** indicates calculations should be **row-by-row**"
   ]
  },
  {
   "cell_type": "code",
   "execution_count": null,
   "id": "05e276e1",
   "metadata": {},
   "outputs": [],
   "source": [
    "grades.mean(axis=1)"
   ]
  },
  {
   "cell_type": "markdown",
   "id": "ff884044",
   "metadata": {},
   "source": [
    "* [Other Numpy `array` Calculation Methods](https://docs.scipy.org/doc/numpy/reference/arrays.ndarray.html)"
   ]
  },
  {
   "cell_type": "markdown",
   "id": "f4ba443a",
   "metadata": {},
   "source": [
    "# 7.9 Universal Functions\n",
    "* Standalone [**universal functions** (**ufuncs**)](https://docs.scipy.org/doc/numpy/reference/ufuncs.html) perform **element-wise operations** using one or two `array` or array-like arguments (like lists)\n",
    "* Each returns a **new `array`** containing the results\n",
    "* Some ufuncs are called when you use `array` operators like `+` and `*`"
   ]
  },
  {
   "cell_type": "markdown",
   "id": "39cfaa05",
   "metadata": {},
   "source": [
    "* Create an `array` and calculate the square root of its values, using the **`sqrt` universal function**"
   ]
  },
  {
   "cell_type": "code",
   "execution_count": null,
   "id": "1be232b2",
   "metadata": {},
   "outputs": [],
   "source": [
    "import numpy as np"
   ]
  },
  {
   "cell_type": "code",
   "execution_count": null,
   "id": "d38b00e4",
   "metadata": {},
   "outputs": [],
   "source": [
    "numbers = np.array([1, 4, 9, 16, 25, 36])"
   ]
  },
  {
   "cell_type": "code",
   "execution_count": null,
   "id": "5eeb6b57",
   "metadata": {},
   "outputs": [],
   "source": [
    "np.sqrt(numbers)"
   ]
  },
  {
   "cell_type": "markdown",
   "id": "e4f1fbdf",
   "metadata": {},
   "source": [
    "* Add two `array`s with the same shape, using the **`add` universal function**\n",
    "* Equivalent to:\n",
    "```python\n",
    "numbers + numbers2\n",
    "```"
   ]
  },
  {
   "cell_type": "code",
   "execution_count": null,
   "id": "627fa1b4",
   "metadata": {},
   "outputs": [],
   "source": [
    "numbers2 = np.arange(1, 7) * 10"
   ]
  },
  {
   "cell_type": "code",
   "execution_count": null,
   "id": "a16a581f",
   "metadata": {},
   "outputs": [],
   "source": [
    "numbers2"
   ]
  },
  {
   "cell_type": "code",
   "execution_count": null,
   "id": "1d5430e7",
   "metadata": {},
   "outputs": [],
   "source": [
    "np.add(numbers, numbers2)"
   ]
  },
  {
   "cell_type": "markdown",
   "id": "5be982a3",
   "metadata": {},
   "source": [
    "### Broadcasting with Universal Functions\n",
    "* Universal functions can use broadcasting, just like NumPy `array` operators"
   ]
  },
  {
   "cell_type": "code",
   "execution_count": null,
   "id": "ea0eb412",
   "metadata": {},
   "outputs": [],
   "source": [
    "np.multiply(numbers2, 5)"
   ]
  },
  {
   "cell_type": "code",
   "execution_count": null,
   "id": "ced160e8",
   "metadata": {},
   "outputs": [],
   "source": [
    "numbers3 = numbers2.reshape(2, 3)"
   ]
  },
  {
   "cell_type": "code",
   "execution_count": null,
   "id": "ee71aa2a",
   "metadata": {},
   "outputs": [],
   "source": [
    "numbers3"
   ]
  },
  {
   "cell_type": "code",
   "execution_count": null,
   "id": "d385fb67",
   "metadata": {},
   "outputs": [],
   "source": [
    "numbers4 = np.array([2, 4, 6])"
   ]
  },
  {
   "cell_type": "code",
   "execution_count": null,
   "id": "50f57777",
   "metadata": {},
   "outputs": [],
   "source": [
    "np.multiply(numbers3, numbers4)"
   ]
  },
  {
   "cell_type": "markdown",
   "id": "41d84aba",
   "metadata": {},
   "source": [
    "### Other Universal Functions\n",
    "\n",
    "| NumPy universal functions\n",
    "| ----------\n",
    "| **_Math_** — `add`, `subtract`, `multiply`, `divide`, `remainder`, `exp`, `log`, `sqrt`, `power`, and more.\n",
    "| **_Trigonometry_** —`sin`, `cos`, `tan`, `hypot`, `arcsin`, `arccos`, `arctan`, and more.\n",
    "| **_Bit manipulation_** —`bitwise_and`, `bitwise_or`, `bitwise_xor`, `invert`, `left_shift` and `right_shift`.\n",
    "| **_Comparison_** —`greater`, `greater_equal`, `less`, `less_equal`, `equal`, `not_equal`, `logical_and`, `logical_or`, `logical_xor`, `logical_not`, `minimum`, `maximum`, and more.\n",
    "| **_Floating point_** —`floor`, `ceil`, `isinf`, `isnan`, `fabs`, `trunc`, and more."
   ]
  },
  {
   "cell_type": "markdown",
   "id": "331d1e62",
   "metadata": {},
   "source": [
    "# 7.10 Indexing and Slicing \n",
    "* One-dimensional `array`s can be **indexed** and **sliced** like lists. "
   ]
  },
  {
   "cell_type": "markdown",
   "id": "aca89d9a",
   "metadata": {},
   "source": [
    "### Indexing with Two-Dimensional `array`s\n",
    "* To select an element in a two-dimensional `array`, specify a tuple containing the element’s row and column indices in square brackets"
   ]
  },
  {
   "cell_type": "code",
   "execution_count": null,
   "id": "856577bf",
   "metadata": {},
   "outputs": [],
   "source": [
    "import numpy as np"
   ]
  },
  {
   "cell_type": "code",
   "execution_count": null,
   "id": "bbda1ae4",
   "metadata": {},
   "outputs": [],
   "source": [
    "grades = np.array([[87, 96, 70], [100, 87, 90],\n",
    "                   [94, 77, 90], [100, 81, 82]])"
   ]
  },
  {
   "cell_type": "code",
   "execution_count": null,
   "id": "1fe1e376",
   "metadata": {},
   "outputs": [],
   "source": [
    "grades"
   ]
  },
  {
   "cell_type": "code",
   "execution_count": null,
   "id": "d838a679",
   "metadata": {},
   "outputs": [],
   "source": [
    "grades[0, 1]  # row 0, column 1"
   ]
  },
  {
   "cell_type": "markdown",
   "id": "9292c254",
   "metadata": {},
   "source": [
    "### Selecting a Subset of a Two-Dimensional `array`’s Rows\n",
    "* To select a single row, specify only one index in square brackets"
   ]
  },
  {
   "cell_type": "code",
   "execution_count": null,
   "id": "81513f69",
   "metadata": {},
   "outputs": [],
   "source": [
    "grades[1]"
   ]
  },
  {
   "cell_type": "markdown",
   "id": "c42d5d80",
   "metadata": {},
   "source": [
    "* Select multiple sequential rows with slice notation"
   ]
  },
  {
   "cell_type": "code",
   "execution_count": null,
   "id": "21ea9088",
   "metadata": {},
   "outputs": [],
   "source": [
    "grades[0:2]"
   ]
  },
  {
   "cell_type": "markdown",
   "id": "d0938665",
   "metadata": {},
   "source": [
    "* Select multiple non-sequential rows with a list of row indices"
   ]
  },
  {
   "cell_type": "code",
   "execution_count": null,
   "id": "db329aaa",
   "metadata": {},
   "outputs": [],
   "source": [
    "grades[[1, 3]]"
   ]
  },
  {
   "cell_type": "markdown",
   "id": "46947dcb",
   "metadata": {},
   "source": [
    "### Selecting a Subset of a Two-Dimensional `array`’s Columns\n",
    "* The **column index** also can be a specific **index**, a **slice** or a **list** "
   ]
  },
  {
   "cell_type": "code",
   "execution_count": null,
   "id": "2c10dc0a",
   "metadata": {},
   "outputs": [],
   "source": [
    "grades[:, 0]"
   ]
  },
  {
   "cell_type": "code",
   "execution_count": null,
   "id": "6ee2c9e4",
   "metadata": {},
   "outputs": [],
   "source": [
    "grades[:, 1:3]"
   ]
  },
  {
   "cell_type": "code",
   "execution_count": null,
   "id": "4c67695f",
   "metadata": {},
   "outputs": [],
   "source": [
    "grades[:, [0, 2]]"
   ]
  },
  {
   "cell_type": "markdown",
   "id": "422fd687",
   "metadata": {},
   "source": [
    "# 7.11 Views: Shallow Copies\n",
    "* Views “see” the data in other objects, rather than having their own copies of the data\n",
    "* Views are shallow copies\n",
    "*`array` method **`view`** returns a **new** array object with a **view** of the original `array` object’s data"
   ]
  },
  {
   "cell_type": "code",
   "execution_count": null,
   "id": "c687934e",
   "metadata": {},
   "outputs": [],
   "source": [
    "import numpy as np"
   ]
  },
  {
   "cell_type": "code",
   "execution_count": null,
   "id": "60a6646e",
   "metadata": {},
   "outputs": [],
   "source": [
    "numbers = np.arange(1, 6)"
   ]
  },
  {
   "cell_type": "code",
   "execution_count": null,
   "id": "32d7bf56",
   "metadata": {},
   "outputs": [],
   "source": [
    "numbers"
   ]
  },
  {
   "cell_type": "code",
   "execution_count": null,
   "id": "7a392d93",
   "metadata": {},
   "outputs": [],
   "source": [
    "numbers2 = numbers.view()"
   ]
  },
  {
   "cell_type": "code",
   "execution_count": null,
   "id": "28c41ac7",
   "metadata": {},
   "outputs": [],
   "source": [
    "numbers2"
   ]
  },
  {
   "cell_type": "markdown",
   "id": "06a94f49",
   "metadata": {},
   "source": [
    "* Use built-in `id` function to see that `numbers` and `numbers2` are **different** objects"
   ]
  },
  {
   "cell_type": "code",
   "execution_count": null,
   "id": "b4744b46",
   "metadata": {},
   "outputs": [],
   "source": [
    "id(numbers)"
   ]
  },
  {
   "cell_type": "code",
   "execution_count": null,
   "id": "ab41656b",
   "metadata": {},
   "outputs": [],
   "source": [
    "id(numbers2)"
   ]
  },
  {
   "cell_type": "markdown",
   "id": "cbb634d3",
   "metadata": {},
   "source": [
    "* Modifying an element in the original `array`, also modifies the view and vice versa"
   ]
  },
  {
   "cell_type": "code",
   "execution_count": null,
   "id": "756aeab7",
   "metadata": {},
   "outputs": [],
   "source": [
    "numbers[1] *= 10"
   ]
  },
  {
   "cell_type": "code",
   "execution_count": null,
   "id": "d6303493",
   "metadata": {},
   "outputs": [],
   "source": [
    "numbers2"
   ]
  },
  {
   "cell_type": "code",
   "execution_count": null,
   "id": "0bb46257",
   "metadata": {},
   "outputs": [],
   "source": [
    "numbers"
   ]
  },
  {
   "cell_type": "code",
   "execution_count": null,
   "id": "58ec3678",
   "metadata": {},
   "outputs": [],
   "source": [
    "numbers2[1] /= 10"
   ]
  },
  {
   "cell_type": "code",
   "execution_count": null,
   "id": "0789f278",
   "metadata": {},
   "outputs": [],
   "source": [
    "numbers"
   ]
  },
  {
   "cell_type": "code",
   "execution_count": null,
   "id": "31baeafd",
   "metadata": {},
   "outputs": [],
   "source": [
    "numbers2"
   ]
  },
  {
   "cell_type": "markdown",
   "id": "425f7a25",
   "metadata": {},
   "source": [
    "### Slice Views\n",
    "* Slices also create views"
   ]
  },
  {
   "cell_type": "code",
   "execution_count": null,
   "id": "a325ed7f",
   "metadata": {},
   "outputs": [],
   "source": [
    "numbers2 = numbers[0:3]"
   ]
  },
  {
   "cell_type": "code",
   "execution_count": null,
   "id": "c51f5d50",
   "metadata": {},
   "outputs": [],
   "source": [
    "numbers2"
   ]
  },
  {
   "cell_type": "code",
   "execution_count": null,
   "id": "57338a9b",
   "metadata": {},
   "outputs": [],
   "source": [
    "id(numbers)"
   ]
  },
  {
   "cell_type": "code",
   "execution_count": null,
   "id": "79ab93db",
   "metadata": {},
   "outputs": [],
   "source": [
    "id(numbers2)"
   ]
  },
  {
   "cell_type": "markdown",
   "id": "b3005f38",
   "metadata": {},
   "source": [
    "* Confirm that `numbers2` is a view of only first three `numbers` elements"
   ]
  },
  {
   "cell_type": "code",
   "execution_count": null,
   "id": "27ef5f6b",
   "metadata": {},
   "outputs": [],
   "source": [
    "numbers2[3]"
   ]
  },
  {
   "cell_type": "markdown",
   "id": "331af2a1",
   "metadata": {},
   "source": [
    "* Modify an element both `array`s share to show both are updated"
   ]
  },
  {
   "cell_type": "code",
   "execution_count": null,
   "id": "2f8f726e",
   "metadata": {},
   "outputs": [],
   "source": [
    "numbers[1] *= 20"
   ]
  },
  {
   "cell_type": "code",
   "execution_count": null,
   "id": "8f25c577",
   "metadata": {},
   "outputs": [],
   "source": [
    "numbers"
   ]
  },
  {
   "cell_type": "code",
   "execution_count": null,
   "id": "bb18bc8e",
   "metadata": {},
   "outputs": [],
   "source": [
    "numbers2"
   ]
  },
  {
   "cell_type": "markdown",
   "id": "e2e50f2a",
   "metadata": {},
   "source": [
    "# 7.12 Deep Copies\n",
    "* When sharing **mutable** values, sometimes it’s necessary to create a **deep copy** of the original data\n",
    "* Especially important in multi-core programming, where separate parts of your program could attempt to modify your data at the same time, possibly corrupting it"
   ]
  },
  {
   "cell_type": "markdown",
   "id": "0e02cbcf",
   "metadata": {},
   "source": [
    "* **`array` method `copy`** returns a new array object with an independent copy of the original array's data"
   ]
  },
  {
   "cell_type": "code",
   "execution_count": null,
   "id": "4aaa50b8",
   "metadata": {},
   "outputs": [],
   "source": [
    "import numpy as np"
   ]
  },
  {
   "cell_type": "code",
   "execution_count": null,
   "id": "6b87580f",
   "metadata": {},
   "outputs": [],
   "source": [
    "numbers = np.arange(1, 6)"
   ]
  },
  {
   "cell_type": "code",
   "execution_count": null,
   "id": "3de7a1fe",
   "metadata": {},
   "outputs": [],
   "source": [
    "numbers"
   ]
  },
  {
   "cell_type": "code",
   "execution_count": null,
   "id": "1ed34d72",
   "metadata": {},
   "outputs": [],
   "source": [
    "numbers2 = numbers.copy()"
   ]
  },
  {
   "cell_type": "code",
   "execution_count": null,
   "id": "f596ab2b",
   "metadata": {},
   "outputs": [],
   "source": [
    "numbers2"
   ]
  },
  {
   "cell_type": "code",
   "execution_count": null,
   "id": "fc1abd09",
   "metadata": {},
   "outputs": [],
   "source": [
    "numbers[1] *= 10"
   ]
  },
  {
   "cell_type": "code",
   "execution_count": null,
   "id": "e6d96279",
   "metadata": {},
   "outputs": [],
   "source": [
    "numbers"
   ]
  },
  {
   "cell_type": "code",
   "execution_count": null,
   "id": "9883a295",
   "metadata": {},
   "outputs": [],
   "source": [
    "numbers2"
   ]
  },
  {
   "cell_type": "markdown",
   "id": "eb377f72",
   "metadata": {},
   "source": [
    "### Module `copy`—Shallow vs. Deep Copies for Other Types of Python Objects"
   ]
  },
  {
   "cell_type": "markdown",
   "id": "801aa6f6",
   "metadata": {},
   "source": [
    "# 7.13 Reshaping and Transposing "
   ]
  },
  {
   "cell_type": "markdown",
   "id": "9e866c1b",
   "metadata": {},
   "source": [
    "### `reshape` vs. `resize` \n",
    "* Method `reshape` returns a _view_ (shallow copy) of the original `array` with new dimensions\n",
    "* Does _not_ modify the original `array`"
   ]
  },
  {
   "cell_type": "code",
   "execution_count": null,
   "id": "80b1fedf",
   "metadata": {},
   "outputs": [],
   "source": [
    "import numpy as np"
   ]
  },
  {
   "cell_type": "code",
   "execution_count": null,
   "id": "b62a4f5b",
   "metadata": {},
   "outputs": [],
   "source": [
    "grades = np.array([[87, 96, 70], [100, 87, 90]])"
   ]
  },
  {
   "cell_type": "code",
   "execution_count": null,
   "id": "25630e88",
   "metadata": {},
   "outputs": [],
   "source": [
    "grades"
   ]
  },
  {
   "cell_type": "code",
   "execution_count": null,
   "id": "82784478",
   "metadata": {},
   "outputs": [],
   "source": [
    "grades.reshape(1, 6)"
   ]
  },
  {
   "cell_type": "code",
   "execution_count": null,
   "id": "512a3d0b",
   "metadata": {},
   "outputs": [],
   "source": [
    "grades"
   ]
  },
  {
   "cell_type": "markdown",
   "id": "412bf746",
   "metadata": {},
   "source": [
    "* Method `resize` modifies the original `array`’s shape"
   ]
  },
  {
   "cell_type": "code",
   "execution_count": null,
   "id": "fa9cac2b",
   "metadata": {},
   "outputs": [],
   "source": [
    "grades.resize(1, 6)"
   ]
  },
  {
   "cell_type": "code",
   "execution_count": null,
   "id": "70e4ed81",
   "metadata": {},
   "outputs": [],
   "source": [
    "grades"
   ]
  },
  {
   "cell_type": "markdown",
   "id": "7451f8da",
   "metadata": {},
   "source": [
    "### `flatten` vs. `ravel` \n",
    "* Can flatten a multi-dimensonal array into a single dimension with methods **`flatten`** and **`ravel`**\n",
    "* `flatten` _deep copies_ the original array’s data"
   ]
  },
  {
   "cell_type": "code",
   "execution_count": null,
   "id": "bf0340af",
   "metadata": {},
   "outputs": [],
   "source": [
    "grades = np.array([[87, 96, 70], [100, 87, 90]])"
   ]
  },
  {
   "cell_type": "code",
   "execution_count": null,
   "id": "16d9003b",
   "metadata": {},
   "outputs": [],
   "source": [
    "grades"
   ]
  },
  {
   "cell_type": "code",
   "execution_count": null,
   "id": "2f6ed028",
   "metadata": {},
   "outputs": [],
   "source": [
    "flattened = grades.flatten()"
   ]
  },
  {
   "cell_type": "code",
   "execution_count": null,
   "id": "1adb23e0",
   "metadata": {},
   "outputs": [],
   "source": [
    "flattened"
   ]
  },
  {
   "cell_type": "code",
   "execution_count": null,
   "id": "d3123716",
   "metadata": {},
   "outputs": [],
   "source": [
    "grades"
   ]
  },
  {
   "cell_type": "code",
   "execution_count": null,
   "id": "59fec0fd",
   "metadata": {},
   "outputs": [],
   "source": [
    "flattened[0] = 100"
   ]
  },
  {
   "cell_type": "code",
   "execution_count": null,
   "id": "4dbe5a05",
   "metadata": {},
   "outputs": [],
   "source": [
    "flattened"
   ]
  },
  {
   "cell_type": "code",
   "execution_count": null,
   "id": "3a169d27",
   "metadata": {},
   "outputs": [],
   "source": [
    "grades"
   ]
  },
  {
   "cell_type": "markdown",
   "id": "e04ee9dd",
   "metadata": {},
   "source": [
    "* Method `ravel` produces a _view_ of the original `array`, which _shares_ the `grades` `array`’s data"
   ]
  },
  {
   "cell_type": "code",
   "execution_count": null,
   "id": "d6291d38",
   "metadata": {},
   "outputs": [],
   "source": [
    "raveled = grades.ravel()"
   ]
  },
  {
   "cell_type": "code",
   "execution_count": null,
   "id": "99fd1caa",
   "metadata": {},
   "outputs": [],
   "source": [
    "raveled"
   ]
  },
  {
   "cell_type": "code",
   "execution_count": null,
   "id": "70151b5b",
   "metadata": {},
   "outputs": [],
   "source": [
    "grades"
   ]
  },
  {
   "cell_type": "code",
   "execution_count": null,
   "id": "13022274",
   "metadata": {},
   "outputs": [],
   "source": [
    "raveled[0] = 100"
   ]
  },
  {
   "cell_type": "code",
   "execution_count": null,
   "id": "6171020a",
   "metadata": {},
   "outputs": [],
   "source": [
    "raveled"
   ]
  },
  {
   "cell_type": "code",
   "execution_count": null,
   "id": "74d2408f",
   "metadata": {},
   "outputs": [],
   "source": [
    "grades"
   ]
  },
  {
   "cell_type": "markdown",
   "id": "ead87cf9",
   "metadata": {},
   "source": [
    "### Transposing Rows and Columns\n",
    "* Can quickly **transpose** an `array`’s rows and columns\n",
    "    * “flips” the `array`, so the rows become the columns and the columns become the rows\n",
    "* **`T` attribute** returns a transposed _view_ (shallow copy) of the `array`"
   ]
  },
  {
   "cell_type": "code",
   "execution_count": null,
   "id": "73c82e9c",
   "metadata": {},
   "outputs": [],
   "source": [
    "grades.T"
   ]
  },
  {
   "cell_type": "code",
   "execution_count": null,
   "id": "96a2c916",
   "metadata": {},
   "outputs": [],
   "source": [
    "grades"
   ]
  },
  {
   "cell_type": "markdown",
   "id": "3db9aa09",
   "metadata": {},
   "source": [
    "### Horizontal and Vertical Stacking\n",
    "* Can combine arrays by adding more columns or more rows—known as _horizontal stacking_ and _vertical stacking_"
   ]
  },
  {
   "cell_type": "code",
   "execution_count": null,
   "id": "a7d44249",
   "metadata": {},
   "outputs": [],
   "source": [
    "grades2 = np.array([[94, 77, 90], [100, 81, 82]])"
   ]
  },
  {
   "cell_type": "markdown",
   "id": "618013cd",
   "metadata": {},
   "source": [
    "* Combine `grades` and `grades2` with NumPy’s **`hstack` (horizontal stack) function** by passing a tuple containing the arrays to combine\n",
    "* The extra parentheses are required because `hstack` expects one argument\n",
    "* Adds more columns"
   ]
  },
  {
   "cell_type": "code",
   "execution_count": null,
   "id": "0a1efd83",
   "metadata": {},
   "outputs": [],
   "source": [
    "np.hstack((grades, grades2))"
   ]
  },
  {
   "cell_type": "markdown",
   "id": "42c062cf",
   "metadata": {},
   "source": [
    "* Combine `grades` and `grades2` with NumPy’s **`vstack` (vertical stack) function**\n",
    "* Adds more rows"
   ]
  },
  {
   "cell_type": "code",
   "execution_count": null,
   "id": "9e2d8d40",
   "metadata": {},
   "outputs": [],
   "source": [
    "np.vstack((grades, grades2))"
   ]
  },
  {
   "cell_type": "markdown",
   "id": "138621cd",
   "metadata": {},
   "source": [
    "## 7.14.1 pandas `Series` \n",
    "* An enhanced one-dimensional `array`\n",
    "* Supports custom indexing, including even non-integer indices like strings\n",
    "* Offers additional capabilities that make them more convenient for many data-science oriented tasks\n",
    "    * `Series` may have missing data\n",
    "    * Many `Series` operations ignore missing data by default"
   ]
  },
  {
   "cell_type": "markdown",
   "id": "cdd3850b",
   "metadata": {},
   "source": [
    "### Creating a `Series` with Default Indices\n",
    "* By default, a `Series` has integer indices numbered sequentially from 0"
   ]
  },
  {
   "cell_type": "code",
   "execution_count": 1,
   "id": "cdc05ee0",
   "metadata": {},
   "outputs": [],
   "source": [
    "import pandas as pd"
   ]
  },
  {
   "cell_type": "code",
   "execution_count": 2,
   "id": "810bd762",
   "metadata": {},
   "outputs": [],
   "source": [
    "grades = pd.Series([87, 100, 94])"
   ]
  },
  {
   "cell_type": "markdown",
   "id": "ff1a70b1",
   "metadata": {},
   "source": [
    "### Creating a `Series` with All Elements Having the Same Value\n",
    "* Second argument is a one-dimensional iterable object (such as a list, an `array` or a `range`) containing the `Series`’ indices\n",
    "* Number of indices determines the number of elements"
   ]
  },
  {
   "cell_type": "code",
   "execution_count": 149,
   "id": "c1359bb4",
   "metadata": {},
   "outputs": [
    {
     "data": {
      "text/plain": [
       "0    98.6\n",
       "1    98.6\n",
       "2    98.6\n",
       "dtype: float64"
      ]
     },
     "execution_count": 149,
     "metadata": {},
     "output_type": "execute_result"
    }
   ],
   "source": [
    "pd.Series(98.6, range(3))"
   ]
  },
  {
   "cell_type": "markdown",
   "id": "d9b546e6",
   "metadata": {},
   "source": [
    "### Accessing a `Series`’ Elements"
   ]
  },
  {
   "cell_type": "code",
   "execution_count": 150,
   "id": "d785af9f",
   "metadata": {},
   "outputs": [
    {
     "data": {
      "text/plain": [
       "87"
      ]
     },
     "execution_count": 150,
     "metadata": {},
     "output_type": "execute_result"
    }
   ],
   "source": [
    "grades[0]"
   ]
  },
  {
   "cell_type": "markdown",
   "id": "a5d8a259",
   "metadata": {},
   "source": [
    "### Producing Descriptive Statistics for a Series\n",
    "* `Series` provides many methods for common tasks including producing various descriptive statistics\n",
    "* Each of these is a functional-style reduction"
   ]
  },
  {
   "cell_type": "code",
   "execution_count": 151,
   "id": "154401f4",
   "metadata": {},
   "outputs": [
    {
     "data": {
      "text/plain": [
       "3"
      ]
     },
     "execution_count": 151,
     "metadata": {},
     "output_type": "execute_result"
    }
   ],
   "source": [
    "grades.count()"
   ]
  },
  {
   "cell_type": "code",
   "execution_count": 152,
   "id": "0f5aeab6",
   "metadata": {},
   "outputs": [
    {
     "data": {
      "text/plain": [
       "93.66666666666667"
      ]
     },
     "execution_count": 152,
     "metadata": {},
     "output_type": "execute_result"
    }
   ],
   "source": [
    "grades.mean()"
   ]
  },
  {
   "cell_type": "code",
   "execution_count": 153,
   "id": "856e96b4",
   "metadata": {},
   "outputs": [
    {
     "data": {
      "text/plain": [
       "87"
      ]
     },
     "execution_count": 153,
     "metadata": {},
     "output_type": "execute_result"
    }
   ],
   "source": [
    "grades.min()"
   ]
  },
  {
   "cell_type": "code",
   "execution_count": 154,
   "id": "9adf0195",
   "metadata": {},
   "outputs": [
    {
     "data": {
      "text/plain": [
       "100"
      ]
     },
     "execution_count": 154,
     "metadata": {},
     "output_type": "execute_result"
    }
   ],
   "source": [
    "grades.max()"
   ]
  },
  {
   "cell_type": "code",
   "execution_count": 155,
   "id": "a21e11ec",
   "metadata": {},
   "outputs": [
    {
     "data": {
      "text/plain": [
       "6.506407098647712"
      ]
     },
     "execution_count": 155,
     "metadata": {},
     "output_type": "execute_result"
    }
   ],
   "source": [
    "grades.std()"
   ]
  },
  {
   "cell_type": "markdown",
   "id": "12cd81fc",
   "metadata": {},
   "source": [
    "* `Series` method **`describe`** produces all these stats and more\n",
    "* The `25%`, `50%` and `75%` are **quartiles**:\n",
    "    * `50%` represents the median of the sorted values.\n",
    "    * `25%` represents the median of the first half of the sorted values.\n",
    "    * `75%` represents the median of the second half of the sorted values.\n",
    "* For the quartiles, if there are two middle elements, then their average is that quartile’s median"
   ]
  },
  {
   "cell_type": "code",
   "execution_count": 156,
   "id": "d9370fce",
   "metadata": {},
   "outputs": [
    {
     "data": {
      "text/plain": [
       "count      3.000000\n",
       "mean      93.666667\n",
       "std        6.506407\n",
       "min       87.000000\n",
       "25%       90.500000\n",
       "50%       94.000000\n",
       "75%       97.000000\n",
       "max      100.000000\n",
       "dtype: float64"
      ]
     },
     "execution_count": 156,
     "metadata": {},
     "output_type": "execute_result"
    }
   ],
   "source": [
    "grades.describe()"
   ]
  },
  {
   "cell_type": "markdown",
   "id": "78d2ac10",
   "metadata": {},
   "source": [
    "### Creating a `Series` with Custom Indices\n",
    "Can specify custom indices with the `index` keyword argument"
   ]
  },
  {
   "cell_type": "code",
   "execution_count": 157,
   "id": "6dda0e67",
   "metadata": {},
   "outputs": [],
   "source": [
    "grades = pd.Series([87, 100, 94], index=['Wally', 'Eva', 'Sam'])"
   ]
  },
  {
   "cell_type": "code",
   "execution_count": 158,
   "id": "bfd1a80f",
   "metadata": {},
   "outputs": [
    {
     "data": {
      "text/plain": [
       "Wally     87\n",
       "Eva      100\n",
       "Sam       94\n",
       "dtype: int64"
      ]
     },
     "execution_count": 158,
     "metadata": {},
     "output_type": "execute_result"
    }
   ],
   "source": [
    "grades"
   ]
  },
  {
   "cell_type": "markdown",
   "id": "50dc73de",
   "metadata": {},
   "source": [
    "### Dictionary Initializers\n",
    "* If you initialize a `Series` with a dictionary, its keys are the indices, and its values become the `Series`’ element values"
   ]
  },
  {
   "cell_type": "code",
   "execution_count": 159,
   "id": "8cb66382",
   "metadata": {},
   "outputs": [],
   "source": [
    "grades = pd.Series({'Wally': 87, 'Eva': 100, 'Sam': 94})"
   ]
  },
  {
   "cell_type": "code",
   "execution_count": 160,
   "id": "0edfa44d",
   "metadata": {},
   "outputs": [
    {
     "data": {
      "text/plain": [
       "Wally     87\n",
       "Eva      100\n",
       "Sam       94\n",
       "dtype: int64"
      ]
     },
     "execution_count": 160,
     "metadata": {},
     "output_type": "execute_result"
    }
   ],
   "source": [
    "grades"
   ]
  },
  {
   "cell_type": "markdown",
   "id": "ab07f3b5",
   "metadata": {},
   "source": [
    "### Accessing Elements of a `Series` Via Custom Indices\n",
    "* Can access individual elements via square brackets containing a custom index value"
   ]
  },
  {
   "cell_type": "code",
   "execution_count": 161,
   "id": "fea60db3",
   "metadata": {},
   "outputs": [
    {
     "data": {
      "text/plain": [
       "100"
      ]
     },
     "execution_count": 161,
     "metadata": {},
     "output_type": "execute_result"
    }
   ],
   "source": [
    "grades['Eva']"
   ]
  },
  {
   "cell_type": "markdown",
   "id": "10ec037d",
   "metadata": {},
   "source": [
    "* If custom indices are strings that could represent valid Python identifiers, pandas automatically adds them to the `Series` as attributes"
   ]
  },
  {
   "cell_type": "code",
   "execution_count": 162,
   "id": "de81470d",
   "metadata": {},
   "outputs": [
    {
     "data": {
      "text/plain": [
       "87"
      ]
     },
     "execution_count": 162,
     "metadata": {},
     "output_type": "execute_result"
    }
   ],
   "source": [
    "grades.Wally"
   ]
  },
  {
   "cell_type": "markdown",
   "id": "3334611e",
   "metadata": {},
   "source": [
    "* **`dtype` attribute** returns the underlying `array`’s element type"
   ]
  },
  {
   "cell_type": "code",
   "execution_count": 163,
   "id": "75fd0bfb",
   "metadata": {},
   "outputs": [
    {
     "data": {
      "text/plain": [
       "dtype('int64')"
      ]
     },
     "execution_count": 163,
     "metadata": {},
     "output_type": "execute_result"
    }
   ],
   "source": [
    "grades.dtype"
   ]
  },
  {
   "cell_type": "markdown",
   "id": "56d47dd1",
   "metadata": {},
   "source": [
    "* **`values` attribute** returns the underlying `array`"
   ]
  },
  {
   "cell_type": "code",
   "execution_count": 164,
   "id": "f828ee68",
   "metadata": {},
   "outputs": [
    {
     "data": {
      "text/plain": [
       "array([ 87, 100,  94])"
      ]
     },
     "execution_count": 164,
     "metadata": {},
     "output_type": "execute_result"
    }
   ],
   "source": [
    "grades.values"
   ]
  },
  {
   "cell_type": "markdown",
   "id": "743f64c4",
   "metadata": {},
   "source": [
    "### Creating a Series of Strings \n",
    "* In a `Series` of strings, you can use **`str` attribute** to call string methods on the elements"
   ]
  },
  {
   "cell_type": "code",
   "execution_count": 165,
   "id": "631bae02",
   "metadata": {},
   "outputs": [],
   "source": [
    "hardware = pd.Series(['Hammer', 'Saw', 'Wrench'])"
   ]
  },
  {
   "cell_type": "code",
   "execution_count": 166,
   "id": "04e777f2",
   "metadata": {},
   "outputs": [
    {
     "data": {
      "text/plain": [
       "0    Hammer\n",
       "1       Saw\n",
       "2    Wrench\n",
       "dtype: object"
      ]
     },
     "execution_count": 166,
     "metadata": {},
     "output_type": "execute_result"
    }
   ],
   "source": [
    "hardware"
   ]
  },
  {
   "cell_type": "markdown",
   "id": "bb825e83",
   "metadata": {},
   "source": [
    "* Call string method `contains` on each element\n",
    "* Returns a `Series` containing `bool` values indicating the `contains` method’s result for each element\n",
    "* The `str` attribute provides many string-processing methods that are similar to those in Python’s string type\n",
    "    * https://pandas.pydata.org/pandas-docs/stable/api.html#string-handling"
   ]
  },
  {
   "cell_type": "code",
   "execution_count": 167,
   "id": "98046159",
   "metadata": {},
   "outputs": [
    {
     "data": {
      "text/plain": [
       "0     True\n",
       "1     True\n",
       "2    False\n",
       "dtype: bool"
      ]
     },
     "execution_count": 167,
     "metadata": {},
     "output_type": "execute_result"
    }
   ],
   "source": [
    "hardware.str.contains('a')"
   ]
  },
  {
   "cell_type": "markdown",
   "id": "2c45e186",
   "metadata": {},
   "source": [
    "* Use string method `upper` to produce a _new_ `Series` containing the uppercase versions of each element in `hardware`"
   ]
  },
  {
   "cell_type": "code",
   "execution_count": 168,
   "id": "53ef2db2",
   "metadata": {},
   "outputs": [
    {
     "data": {
      "text/plain": [
       "0    HAMMER\n",
       "1       SAW\n",
       "2    WRENCH\n",
       "dtype: object"
      ]
     },
     "execution_count": 168,
     "metadata": {},
     "output_type": "execute_result"
    }
   ],
   "source": [
    "hardware.str.upper()"
   ]
  },
  {
   "cell_type": "markdown",
   "id": "c42d6ebf",
   "metadata": {},
   "source": [
    "## 7.14.2 `DataFrames` \n",
    "* Enhanced two-dimensional `array`\n",
    "* Can have custom row and column indices\n",
    "* Offers additional operations and capabilities that make them more convenient for many data-science oriented tasks\n",
    "* Support missing data\n",
    "* Each column in a `DataFrame` is a `Series`"
   ]
  },
  {
   "cell_type": "markdown",
   "id": "a25fccff",
   "metadata": {},
   "source": [
    "### Creating a `DataFrame` from a Dictionary\n",
    "* Create a `DataFrame` from a dictionary that represents student grades on three exams"
   ]
  },
  {
   "cell_type": "code",
   "execution_count": 1,
   "id": "51396333",
   "metadata": {},
   "outputs": [],
   "source": [
    "import pandas as pd"
   ]
  },
  {
   "cell_type": "code",
   "execution_count": 2,
   "id": "edd2c63d",
   "metadata": {},
   "outputs": [],
   "source": [
    "grades_dict = {'Wally': [87, 96, 70], 'Eva': [100, 87, 90],\n",
    "               'Sam': [94, 77, 90], 'Katie': [100, 81, 82],\n",
    "               'Bob': [83, 65, 85]}"
   ]
  },
  {
   "cell_type": "code",
   "execution_count": 3,
   "id": "e23b70b9",
   "metadata": {},
   "outputs": [],
   "source": [
    "grades = pd.DataFrame(grades_dict)"
   ]
  },
  {
   "cell_type": "markdown",
   "id": "03b13718",
   "metadata": {},
   "source": [
    "* Pandas displays `DataFrame`s in tabular format with indices _left aligned_ in the index column and the remaining columns’ values _right aligned_"
   ]
  },
  {
   "cell_type": "code",
   "execution_count": 4,
   "id": "5d0c391f",
   "metadata": {},
   "outputs": [
    {
     "data": {
      "text/html": [
       "<div>\n",
       "<style scoped>\n",
       "    .dataframe tbody tr th:only-of-type {\n",
       "        vertical-align: middle;\n",
       "    }\n",
       "\n",
       "    .dataframe tbody tr th {\n",
       "        vertical-align: top;\n",
       "    }\n",
       "\n",
       "    .dataframe thead th {\n",
       "        text-align: right;\n",
       "    }\n",
       "</style>\n",
       "<table border=\"1\" class=\"dataframe\">\n",
       "  <thead>\n",
       "    <tr style=\"text-align: right;\">\n",
       "      <th></th>\n",
       "      <th>Wally</th>\n",
       "      <th>Eva</th>\n",
       "      <th>Sam</th>\n",
       "      <th>Katie</th>\n",
       "      <th>Bob</th>\n",
       "    </tr>\n",
       "  </thead>\n",
       "  <tbody>\n",
       "    <tr>\n",
       "      <th>0</th>\n",
       "      <td>87</td>\n",
       "      <td>100</td>\n",
       "      <td>94</td>\n",
       "      <td>100</td>\n",
       "      <td>83</td>\n",
       "    </tr>\n",
       "    <tr>\n",
       "      <th>1</th>\n",
       "      <td>96</td>\n",
       "      <td>87</td>\n",
       "      <td>77</td>\n",
       "      <td>81</td>\n",
       "      <td>65</td>\n",
       "    </tr>\n",
       "    <tr>\n",
       "      <th>2</th>\n",
       "      <td>70</td>\n",
       "      <td>90</td>\n",
       "      <td>90</td>\n",
       "      <td>82</td>\n",
       "      <td>85</td>\n",
       "    </tr>\n",
       "  </tbody>\n",
       "</table>\n",
       "</div>"
      ],
      "text/plain": [
       "   Wally  Eva  Sam  Katie  Bob\n",
       "0     87  100   94    100   83\n",
       "1     96   87   77     81   65\n",
       "2     70   90   90     82   85"
      ]
     },
     "execution_count": 4,
     "metadata": {},
     "output_type": "execute_result"
    }
   ],
   "source": [
    "grades"
   ]
  },
  {
   "cell_type": "markdown",
   "id": "cbaf25b1",
   "metadata": {},
   "source": [
    "### Customizing a `DataFrame`’s Indices with the `index` Attribute \n",
    "* Can use the **`index` attribute** to change the `DataFrame`’s indices from sequential integers to labels\n",
    "* Must provide a one-dimensional collection that has the same number of elements as there are _rows_ in the `DataFrame`"
   ]
  },
  {
   "cell_type": "code",
   "execution_count": 5,
   "id": "1d51c73b",
   "metadata": {},
   "outputs": [],
   "source": [
    "grades.index = ['Test1', 'Test2', 'Test3']"
   ]
  },
  {
   "cell_type": "code",
   "execution_count": 6,
   "id": "0990b981",
   "metadata": {},
   "outputs": [
    {
     "data": {
      "text/html": [
       "<div>\n",
       "<style scoped>\n",
       "    .dataframe tbody tr th:only-of-type {\n",
       "        vertical-align: middle;\n",
       "    }\n",
       "\n",
       "    .dataframe tbody tr th {\n",
       "        vertical-align: top;\n",
       "    }\n",
       "\n",
       "    .dataframe thead th {\n",
       "        text-align: right;\n",
       "    }\n",
       "</style>\n",
       "<table border=\"1\" class=\"dataframe\">\n",
       "  <thead>\n",
       "    <tr style=\"text-align: right;\">\n",
       "      <th></th>\n",
       "      <th>Wally</th>\n",
       "      <th>Eva</th>\n",
       "      <th>Sam</th>\n",
       "      <th>Katie</th>\n",
       "      <th>Bob</th>\n",
       "    </tr>\n",
       "  </thead>\n",
       "  <tbody>\n",
       "    <tr>\n",
       "      <th>Test1</th>\n",
       "      <td>87</td>\n",
       "      <td>100</td>\n",
       "      <td>94</td>\n",
       "      <td>100</td>\n",
       "      <td>83</td>\n",
       "    </tr>\n",
       "    <tr>\n",
       "      <th>Test2</th>\n",
       "      <td>96</td>\n",
       "      <td>87</td>\n",
       "      <td>77</td>\n",
       "      <td>81</td>\n",
       "      <td>65</td>\n",
       "    </tr>\n",
       "    <tr>\n",
       "      <th>Test3</th>\n",
       "      <td>70</td>\n",
       "      <td>90</td>\n",
       "      <td>90</td>\n",
       "      <td>82</td>\n",
       "      <td>85</td>\n",
       "    </tr>\n",
       "  </tbody>\n",
       "</table>\n",
       "</div>"
      ],
      "text/plain": [
       "       Wally  Eva  Sam  Katie  Bob\n",
       "Test1     87  100   94    100   83\n",
       "Test2     96   87   77     81   65\n",
       "Test3     70   90   90     82   85"
      ]
     },
     "execution_count": 6,
     "metadata": {},
     "output_type": "execute_result"
    }
   ],
   "source": [
    "grades"
   ]
  },
  {
   "cell_type": "markdown",
   "id": "39a12db7",
   "metadata": {},
   "source": [
    "### Accessing a `DataFrame`’s Columns \n",
    "* Can quickly and conveniently look at your data in many different ways, including selecting portions of the data\n",
    "* Get `Eva`’s grades by name\n",
    "* Displays her column as a `Series`"
   ]
  },
  {
   "cell_type": "code",
   "execution_count": 7,
   "id": "3c07d15d",
   "metadata": {},
   "outputs": [
    {
     "data": {
      "text/plain": [
       "Test1    100\n",
       "Test2     87\n",
       "Test3     90\n",
       "Name: Eva, dtype: int64"
      ]
     },
     "execution_count": 7,
     "metadata": {},
     "output_type": "execute_result"
    }
   ],
   "source": [
    "grades['Eva']"
   ]
  },
  {
   "cell_type": "markdown",
   "id": "3e6f0c03",
   "metadata": {},
   "source": [
    "* If a `DataFrame`’s column-name strings are valid Python identifiers, you can use them as attributes"
   ]
  },
  {
   "cell_type": "code",
   "execution_count": 8,
   "id": "1a25cfd1",
   "metadata": {},
   "outputs": [
    {
     "data": {
      "text/plain": [
       "Test1    94\n",
       "Test2    77\n",
       "Test3    90\n",
       "Name: Sam, dtype: int64"
      ]
     },
     "execution_count": 8,
     "metadata": {},
     "output_type": "execute_result"
    }
   ],
   "source": [
    "grades.Sam"
   ]
  },
  {
   "cell_type": "markdown",
   "id": "4a58b943",
   "metadata": {},
   "source": [
    "### Selecting Rows via the `loc` and `iloc` Attributes\n",
    "* `DataFrame`s support indexing capabilities with `[]`, but pandas documentation recommends using the attributes `loc`, `iloc`, `at` and `iat`\n",
    "    * Optimized to access `DataFrame`s and also provide additional capabilities \n",
    "* Access a row by its label via the `DataFrame`’s **`loc` attribute**"
   ]
  },
  {
   "cell_type": "code",
   "execution_count": 9,
   "id": "ede0827f",
   "metadata": {},
   "outputs": [
    {
     "data": {
      "text/plain": [
       "Wally     87\n",
       "Eva      100\n",
       "Sam       94\n",
       "Katie    100\n",
       "Bob       83\n",
       "Name: Test1, dtype: int64"
      ]
     },
     "execution_count": 9,
     "metadata": {},
     "output_type": "execute_result"
    }
   ],
   "source": [
    "grades.loc['Test1']"
   ]
  },
  {
   "cell_type": "markdown",
   "id": "f744b1b7",
   "metadata": {},
   "source": [
    "* Access rows by integer zero-based indices using the **`iloc` attribute** (the `i` in `iloc` means that it’s used with integer indices)"
   ]
  },
  {
   "cell_type": "code",
   "execution_count": 10,
   "id": "fa30af43",
   "metadata": {},
   "outputs": [
    {
     "data": {
      "text/plain": [
       "Wally    96\n",
       "Eva      87\n",
       "Sam      77\n",
       "Katie    81\n",
       "Bob      65\n",
       "Name: Test2, dtype: int64"
      ]
     },
     "execution_count": 10,
     "metadata": {},
     "output_type": "execute_result"
    }
   ],
   "source": [
    "grades.iloc[1]"
   ]
  },
  {
   "cell_type": "markdown",
   "id": "fb733824",
   "metadata": {},
   "source": [
    "### Selecting Rows via Slices and Lists with the `loc` and `iloc` Attributes\n",
    "* Index can be a _slice_\n",
    "* When using slices containing **labels** with `loc`, the range specified **includes** the high index (`'Test3'`):"
   ]
  },
  {
   "cell_type": "code",
   "execution_count": 11,
   "id": "c2d62bc8",
   "metadata": {},
   "outputs": [
    {
     "data": {
      "text/html": [
       "<div>\n",
       "<style scoped>\n",
       "    .dataframe tbody tr th:only-of-type {\n",
       "        vertical-align: middle;\n",
       "    }\n",
       "\n",
       "    .dataframe tbody tr th {\n",
       "        vertical-align: top;\n",
       "    }\n",
       "\n",
       "    .dataframe thead th {\n",
       "        text-align: right;\n",
       "    }\n",
       "</style>\n",
       "<table border=\"1\" class=\"dataframe\">\n",
       "  <thead>\n",
       "    <tr style=\"text-align: right;\">\n",
       "      <th></th>\n",
       "      <th>Wally</th>\n",
       "      <th>Eva</th>\n",
       "      <th>Sam</th>\n",
       "      <th>Katie</th>\n",
       "      <th>Bob</th>\n",
       "    </tr>\n",
       "  </thead>\n",
       "  <tbody>\n",
       "    <tr>\n",
       "      <th>Test1</th>\n",
       "      <td>87</td>\n",
       "      <td>100</td>\n",
       "      <td>94</td>\n",
       "      <td>100</td>\n",
       "      <td>83</td>\n",
       "    </tr>\n",
       "    <tr>\n",
       "      <th>Test2</th>\n",
       "      <td>96</td>\n",
       "      <td>87</td>\n",
       "      <td>77</td>\n",
       "      <td>81</td>\n",
       "      <td>65</td>\n",
       "    </tr>\n",
       "    <tr>\n",
       "      <th>Test3</th>\n",
       "      <td>70</td>\n",
       "      <td>90</td>\n",
       "      <td>90</td>\n",
       "      <td>82</td>\n",
       "      <td>85</td>\n",
       "    </tr>\n",
       "  </tbody>\n",
       "</table>\n",
       "</div>"
      ],
      "text/plain": [
       "       Wally  Eva  Sam  Katie  Bob\n",
       "Test1     87  100   94    100   83\n",
       "Test2     96   87   77     81   65\n",
       "Test3     70   90   90     82   85"
      ]
     },
     "execution_count": 11,
     "metadata": {},
     "output_type": "execute_result"
    }
   ],
   "source": [
    "grades.loc['Test1':'Test3']"
   ]
  },
  {
   "cell_type": "markdown",
   "id": "a5bde9eb",
   "metadata": {},
   "source": [
    "* When using slices containing **integer indices** with `iloc`, the range you specify **excludes** the high index (`2`):"
   ]
  },
  {
   "cell_type": "code",
   "execution_count": 12,
   "id": "66e5816b",
   "metadata": {},
   "outputs": [
    {
     "data": {
      "text/html": [
       "<div>\n",
       "<style scoped>\n",
       "    .dataframe tbody tr th:only-of-type {\n",
       "        vertical-align: middle;\n",
       "    }\n",
       "\n",
       "    .dataframe tbody tr th {\n",
       "        vertical-align: top;\n",
       "    }\n",
       "\n",
       "    .dataframe thead th {\n",
       "        text-align: right;\n",
       "    }\n",
       "</style>\n",
       "<table border=\"1\" class=\"dataframe\">\n",
       "  <thead>\n",
       "    <tr style=\"text-align: right;\">\n",
       "      <th></th>\n",
       "      <th>Wally</th>\n",
       "      <th>Eva</th>\n",
       "      <th>Sam</th>\n",
       "      <th>Katie</th>\n",
       "      <th>Bob</th>\n",
       "    </tr>\n",
       "  </thead>\n",
       "  <tbody>\n",
       "    <tr>\n",
       "      <th>Test1</th>\n",
       "      <td>87</td>\n",
       "      <td>100</td>\n",
       "      <td>94</td>\n",
       "      <td>100</td>\n",
       "      <td>83</td>\n",
       "    </tr>\n",
       "    <tr>\n",
       "      <th>Test2</th>\n",
       "      <td>96</td>\n",
       "      <td>87</td>\n",
       "      <td>77</td>\n",
       "      <td>81</td>\n",
       "      <td>65</td>\n",
       "    </tr>\n",
       "  </tbody>\n",
       "</table>\n",
       "</div>"
      ],
      "text/plain": [
       "       Wally  Eva  Sam  Katie  Bob\n",
       "Test1     87  100   94    100   83\n",
       "Test2     96   87   77     81   65"
      ]
     },
     "execution_count": 12,
     "metadata": {},
     "output_type": "execute_result"
    }
   ],
   "source": [
    "grades.iloc[0:2]"
   ]
  },
  {
   "cell_type": "markdown",
   "id": "91369018",
   "metadata": {},
   "source": [
    "* Select _specific rows_ with a _list_ "
   ]
  },
  {
   "cell_type": "code",
   "execution_count": 13,
   "id": "7a7fe4e0",
   "metadata": {},
   "outputs": [
    {
     "data": {
      "text/html": [
       "<div>\n",
       "<style scoped>\n",
       "    .dataframe tbody tr th:only-of-type {\n",
       "        vertical-align: middle;\n",
       "    }\n",
       "\n",
       "    .dataframe tbody tr th {\n",
       "        vertical-align: top;\n",
       "    }\n",
       "\n",
       "    .dataframe thead th {\n",
       "        text-align: right;\n",
       "    }\n",
       "</style>\n",
       "<table border=\"1\" class=\"dataframe\">\n",
       "  <thead>\n",
       "    <tr style=\"text-align: right;\">\n",
       "      <th></th>\n",
       "      <th>Wally</th>\n",
       "      <th>Eva</th>\n",
       "      <th>Sam</th>\n",
       "      <th>Katie</th>\n",
       "      <th>Bob</th>\n",
       "    </tr>\n",
       "  </thead>\n",
       "  <tbody>\n",
       "    <tr>\n",
       "      <th>Test1</th>\n",
       "      <td>87</td>\n",
       "      <td>100</td>\n",
       "      <td>94</td>\n",
       "      <td>100</td>\n",
       "      <td>83</td>\n",
       "    </tr>\n",
       "    <tr>\n",
       "      <th>Test3</th>\n",
       "      <td>70</td>\n",
       "      <td>90</td>\n",
       "      <td>90</td>\n",
       "      <td>82</td>\n",
       "      <td>85</td>\n",
       "    </tr>\n",
       "  </tbody>\n",
       "</table>\n",
       "</div>"
      ],
      "text/plain": [
       "       Wally  Eva  Sam  Katie  Bob\n",
       "Test1     87  100   94    100   83\n",
       "Test3     70   90   90     82   85"
      ]
     },
     "execution_count": 13,
     "metadata": {},
     "output_type": "execute_result"
    }
   ],
   "source": [
    "grades.loc[['Test1', 'Test3']]"
   ]
  },
  {
   "cell_type": "code",
   "execution_count": 14,
   "id": "0629522d",
   "metadata": {},
   "outputs": [
    {
     "data": {
      "text/html": [
       "<div>\n",
       "<style scoped>\n",
       "    .dataframe tbody tr th:only-of-type {\n",
       "        vertical-align: middle;\n",
       "    }\n",
       "\n",
       "    .dataframe tbody tr th {\n",
       "        vertical-align: top;\n",
       "    }\n",
       "\n",
       "    .dataframe thead th {\n",
       "        text-align: right;\n",
       "    }\n",
       "</style>\n",
       "<table border=\"1\" class=\"dataframe\">\n",
       "  <thead>\n",
       "    <tr style=\"text-align: right;\">\n",
       "      <th></th>\n",
       "      <th>Wally</th>\n",
       "      <th>Eva</th>\n",
       "      <th>Sam</th>\n",
       "      <th>Katie</th>\n",
       "      <th>Bob</th>\n",
       "    </tr>\n",
       "  </thead>\n",
       "  <tbody>\n",
       "    <tr>\n",
       "      <th>Test1</th>\n",
       "      <td>87</td>\n",
       "      <td>100</td>\n",
       "      <td>94</td>\n",
       "      <td>100</td>\n",
       "      <td>83</td>\n",
       "    </tr>\n",
       "    <tr>\n",
       "      <th>Test3</th>\n",
       "      <td>70</td>\n",
       "      <td>90</td>\n",
       "      <td>90</td>\n",
       "      <td>82</td>\n",
       "      <td>85</td>\n",
       "    </tr>\n",
       "  </tbody>\n",
       "</table>\n",
       "</div>"
      ],
      "text/plain": [
       "       Wally  Eva  Sam  Katie  Bob\n",
       "Test1     87  100   94    100   83\n",
       "Test3     70   90   90     82   85"
      ]
     },
     "execution_count": 14,
     "metadata": {},
     "output_type": "execute_result"
    }
   ],
   "source": [
    "grades.iloc[[0, 2]]"
   ]
  },
  {
   "cell_type": "markdown",
   "id": "7aa09676",
   "metadata": {},
   "source": [
    "### Selecting Subsets of the Rows and Columns \n",
    "* View only `Eva`’s and `Katie`’s grades on `Test1` and `Test2`"
   ]
  },
  {
   "cell_type": "code",
   "execution_count": 15,
   "id": "c40b17a4",
   "metadata": {},
   "outputs": [
    {
     "data": {
      "text/html": [
       "<div>\n",
       "<style scoped>\n",
       "    .dataframe tbody tr th:only-of-type {\n",
       "        vertical-align: middle;\n",
       "    }\n",
       "\n",
       "    .dataframe tbody tr th {\n",
       "        vertical-align: top;\n",
       "    }\n",
       "\n",
       "    .dataframe thead th {\n",
       "        text-align: right;\n",
       "    }\n",
       "</style>\n",
       "<table border=\"1\" class=\"dataframe\">\n",
       "  <thead>\n",
       "    <tr style=\"text-align: right;\">\n",
       "      <th></th>\n",
       "      <th>Eva</th>\n",
       "      <th>Katie</th>\n",
       "    </tr>\n",
       "  </thead>\n",
       "  <tbody>\n",
       "    <tr>\n",
       "      <th>Test1</th>\n",
       "      <td>100</td>\n",
       "      <td>100</td>\n",
       "    </tr>\n",
       "    <tr>\n",
       "      <th>Test2</th>\n",
       "      <td>87</td>\n",
       "      <td>81</td>\n",
       "    </tr>\n",
       "  </tbody>\n",
       "</table>\n",
       "</div>"
      ],
      "text/plain": [
       "       Eva  Katie\n",
       "Test1  100    100\n",
       "Test2   87     81"
      ]
     },
     "execution_count": 15,
     "metadata": {},
     "output_type": "execute_result"
    }
   ],
   "source": [
    "grades.loc['Test1':'Test2', ['Eva', 'Katie']]"
   ]
  },
  {
   "cell_type": "markdown",
   "id": "1df15672",
   "metadata": {},
   "source": [
    "* Use `iloc` with a list and a slice to select the first and third tests and the first three columns for those tests"
   ]
  },
  {
   "cell_type": "code",
   "execution_count": 16,
   "id": "50d15f74",
   "metadata": {},
   "outputs": [
    {
     "data": {
      "text/html": [
       "<div>\n",
       "<style scoped>\n",
       "    .dataframe tbody tr th:only-of-type {\n",
       "        vertical-align: middle;\n",
       "    }\n",
       "\n",
       "    .dataframe tbody tr th {\n",
       "        vertical-align: top;\n",
       "    }\n",
       "\n",
       "    .dataframe thead th {\n",
       "        text-align: right;\n",
       "    }\n",
       "</style>\n",
       "<table border=\"1\" class=\"dataframe\">\n",
       "  <thead>\n",
       "    <tr style=\"text-align: right;\">\n",
       "      <th></th>\n",
       "      <th>Wally</th>\n",
       "      <th>Eva</th>\n",
       "      <th>Sam</th>\n",
       "    </tr>\n",
       "  </thead>\n",
       "  <tbody>\n",
       "    <tr>\n",
       "      <th>Test1</th>\n",
       "      <td>87</td>\n",
       "      <td>100</td>\n",
       "      <td>94</td>\n",
       "    </tr>\n",
       "    <tr>\n",
       "      <th>Test3</th>\n",
       "      <td>70</td>\n",
       "      <td>90</td>\n",
       "      <td>90</td>\n",
       "    </tr>\n",
       "  </tbody>\n",
       "</table>\n",
       "</div>"
      ],
      "text/plain": [
       "       Wally  Eva  Sam\n",
       "Test1     87  100   94\n",
       "Test3     70   90   90"
      ]
     },
     "execution_count": 16,
     "metadata": {},
     "output_type": "execute_result"
    }
   ],
   "source": [
    "grades.iloc[[0, 2], 0:3]"
   ]
  },
  {
   "cell_type": "markdown",
   "id": "a5345d78",
   "metadata": {},
   "source": [
    "### Boolean Indexing\n",
    "* One of pandas’ more powerful selection capabilities is **Boolean indexing**\n",
    "* Select all the A grades—that is, those that are greater than or equal to 90:\n",
    "    * Pandas checks every grade to determine whether its value is greater than or equal to 90 and, if so, includes it in the new `DataFrame`.\n",
    "    * Grades for which the condition is `False` are represented as **`NaN` (not a number)** in the new `DataFrame\n",
    "    * `NaN` is pandas’ notation for missing values"
   ]
  },
  {
   "cell_type": "code",
   "execution_count": 17,
   "id": "212ccb52",
   "metadata": {},
   "outputs": [
    {
     "data": {
      "text/html": [
       "<div>\n",
       "<style scoped>\n",
       "    .dataframe tbody tr th:only-of-type {\n",
       "        vertical-align: middle;\n",
       "    }\n",
       "\n",
       "    .dataframe tbody tr th {\n",
       "        vertical-align: top;\n",
       "    }\n",
       "\n",
       "    .dataframe thead th {\n",
       "        text-align: right;\n",
       "    }\n",
       "</style>\n",
       "<table border=\"1\" class=\"dataframe\">\n",
       "  <thead>\n",
       "    <tr style=\"text-align: right;\">\n",
       "      <th></th>\n",
       "      <th>Wally</th>\n",
       "      <th>Eva</th>\n",
       "      <th>Sam</th>\n",
       "      <th>Katie</th>\n",
       "      <th>Bob</th>\n",
       "    </tr>\n",
       "  </thead>\n",
       "  <tbody>\n",
       "    <tr>\n",
       "      <th>Test1</th>\n",
       "      <td>NaN</td>\n",
       "      <td>100.0</td>\n",
       "      <td>94.0</td>\n",
       "      <td>100.0</td>\n",
       "      <td>NaN</td>\n",
       "    </tr>\n",
       "    <tr>\n",
       "      <th>Test2</th>\n",
       "      <td>96.0</td>\n",
       "      <td>NaN</td>\n",
       "      <td>NaN</td>\n",
       "      <td>NaN</td>\n",
       "      <td>NaN</td>\n",
       "    </tr>\n",
       "    <tr>\n",
       "      <th>Test3</th>\n",
       "      <td>NaN</td>\n",
       "      <td>90.0</td>\n",
       "      <td>90.0</td>\n",
       "      <td>NaN</td>\n",
       "      <td>NaN</td>\n",
       "    </tr>\n",
       "  </tbody>\n",
       "</table>\n",
       "</div>"
      ],
      "text/plain": [
       "       Wally    Eva   Sam  Katie  Bob\n",
       "Test1    NaN  100.0  94.0  100.0  NaN\n",
       "Test2   96.0    NaN   NaN    NaN  NaN\n",
       "Test3    NaN   90.0  90.0    NaN  NaN"
      ]
     },
     "execution_count": 17,
     "metadata": {},
     "output_type": "execute_result"
    }
   ],
   "source": [
    "grades[grades >= 90]"
   ]
  },
  {
   "cell_type": "markdown",
   "id": "bf223c22",
   "metadata": {},
   "source": [
    "* Select all the B grades in the range 80–89"
   ]
  },
  {
   "cell_type": "code",
   "execution_count": 18,
   "id": "b0881ec1",
   "metadata": {},
   "outputs": [
    {
     "data": {
      "text/html": [
       "<div>\n",
       "<style scoped>\n",
       "    .dataframe tbody tr th:only-of-type {\n",
       "        vertical-align: middle;\n",
       "    }\n",
       "\n",
       "    .dataframe tbody tr th {\n",
       "        vertical-align: top;\n",
       "    }\n",
       "\n",
       "    .dataframe thead th {\n",
       "        text-align: right;\n",
       "    }\n",
       "</style>\n",
       "<table border=\"1\" class=\"dataframe\">\n",
       "  <thead>\n",
       "    <tr style=\"text-align: right;\">\n",
       "      <th></th>\n",
       "      <th>Wally</th>\n",
       "      <th>Eva</th>\n",
       "      <th>Sam</th>\n",
       "      <th>Katie</th>\n",
       "      <th>Bob</th>\n",
       "    </tr>\n",
       "  </thead>\n",
       "  <tbody>\n",
       "    <tr>\n",
       "      <th>Test1</th>\n",
       "      <td>87.0</td>\n",
       "      <td>NaN</td>\n",
       "      <td>NaN</td>\n",
       "      <td>NaN</td>\n",
       "      <td>83.0</td>\n",
       "    </tr>\n",
       "    <tr>\n",
       "      <th>Test2</th>\n",
       "      <td>NaN</td>\n",
       "      <td>87.0</td>\n",
       "      <td>NaN</td>\n",
       "      <td>81.0</td>\n",
       "      <td>NaN</td>\n",
       "    </tr>\n",
       "    <tr>\n",
       "      <th>Test3</th>\n",
       "      <td>NaN</td>\n",
       "      <td>NaN</td>\n",
       "      <td>NaN</td>\n",
       "      <td>82.0</td>\n",
       "      <td>85.0</td>\n",
       "    </tr>\n",
       "  </tbody>\n",
       "</table>\n",
       "</div>"
      ],
      "text/plain": [
       "       Wally   Eva  Sam  Katie   Bob\n",
       "Test1   87.0   NaN  NaN    NaN  83.0\n",
       "Test2    NaN  87.0  NaN   81.0   NaN\n",
       "Test3    NaN   NaN  NaN   82.0  85.0"
      ]
     },
     "execution_count": 18,
     "metadata": {},
     "output_type": "execute_result"
    }
   ],
   "source": [
    "grades[(grades >= 80) & (grades < 90)]"
   ]
  },
  {
   "cell_type": "markdown",
   "id": "a6736168",
   "metadata": {},
   "source": [
    "* Pandas Boolean indices combine multiple conditions with the Python operator `&` (bitwise AND), _not_ the `and` Boolean operator\n",
    "* For `or` conditions, use `|` (bitwise OR)\n",
    "* NumPy also supports Boolean indexing for `array`s, but always returns a one-dimensional array containing only the values that satisfy the condition"
   ]
  },
  {
   "cell_type": "markdown",
   "id": "620a672b",
   "metadata": {},
   "source": [
    "### Accessing a Specific `DataFrame` Cell by Row and Column\n",
    "* `DataFrame` method **`at`** and **`iat`** attributes get a single value from a `DataFrame`"
   ]
  },
  {
   "cell_type": "code",
   "execution_count": 19,
   "id": "43ca7f90",
   "metadata": {},
   "outputs": [
    {
     "data": {
      "text/plain": [
       "87"
      ]
     },
     "execution_count": 19,
     "metadata": {},
     "output_type": "execute_result"
    }
   ],
   "source": [
    "grades.at['Test2', 'Eva']"
   ]
  },
  {
   "cell_type": "code",
   "execution_count": 20,
   "id": "c593cde2",
   "metadata": {},
   "outputs": [
    {
     "data": {
      "text/plain": [
       "70"
      ]
     },
     "execution_count": 20,
     "metadata": {},
     "output_type": "execute_result"
    }
   ],
   "source": [
    "grades.iat[2, 0]"
   ]
  },
  {
   "cell_type": "markdown",
   "id": "1bd621ad",
   "metadata": {},
   "source": [
    "* Can assign new values to specific elements"
   ]
  },
  {
   "cell_type": "code",
   "execution_count": 21,
   "id": "acf0f512",
   "metadata": {},
   "outputs": [],
   "source": [
    "grades.at['Test2', 'Eva'] = 100"
   ]
  },
  {
   "cell_type": "code",
   "execution_count": 22,
   "id": "9917068f",
   "metadata": {},
   "outputs": [
    {
     "data": {
      "text/plain": [
       "100"
      ]
     },
     "execution_count": 22,
     "metadata": {},
     "output_type": "execute_result"
    }
   ],
   "source": [
    "grades.at['Test2', 'Eva']"
   ]
  },
  {
   "cell_type": "code",
   "execution_count": 23,
   "id": "a60e8ce3",
   "metadata": {},
   "outputs": [],
   "source": [
    "grades.iat[1, 2] = 87"
   ]
  },
  {
   "cell_type": "code",
   "execution_count": 24,
   "id": "5eb417f0",
   "metadata": {},
   "outputs": [
    {
     "data": {
      "text/plain": [
       "87"
      ]
     },
     "execution_count": 24,
     "metadata": {},
     "output_type": "execute_result"
    }
   ],
   "source": [
    "grades.iat[1, 2]"
   ]
  },
  {
   "cell_type": "markdown",
   "id": "c1b18dc9",
   "metadata": {},
   "source": [
    "### Descriptive Statistics\n",
    "* `DataFrame`s **`describe` method** calculates basic descriptive statistics for the data and returns them as a `DataFrame`\n",
    "* Statistics are calculated by column "
   ]
  },
  {
   "cell_type": "code",
   "execution_count": 25,
   "id": "3790491b",
   "metadata": {},
   "outputs": [
    {
     "data": {
      "text/html": [
       "<div>\n",
       "<style scoped>\n",
       "    .dataframe tbody tr th:only-of-type {\n",
       "        vertical-align: middle;\n",
       "    }\n",
       "\n",
       "    .dataframe tbody tr th {\n",
       "        vertical-align: top;\n",
       "    }\n",
       "\n",
       "    .dataframe thead th {\n",
       "        text-align: right;\n",
       "    }\n",
       "</style>\n",
       "<table border=\"1\" class=\"dataframe\">\n",
       "  <thead>\n",
       "    <tr style=\"text-align: right;\">\n",
       "      <th></th>\n",
       "      <th>Wally</th>\n",
       "      <th>Eva</th>\n",
       "      <th>Sam</th>\n",
       "      <th>Katie</th>\n",
       "      <th>Bob</th>\n",
       "    </tr>\n",
       "  </thead>\n",
       "  <tbody>\n",
       "    <tr>\n",
       "      <th>count</th>\n",
       "      <td>3.000000</td>\n",
       "      <td>3.000000</td>\n",
       "      <td>3.000000</td>\n",
       "      <td>3.000000</td>\n",
       "      <td>3.000000</td>\n",
       "    </tr>\n",
       "    <tr>\n",
       "      <th>mean</th>\n",
       "      <td>84.333333</td>\n",
       "      <td>96.666667</td>\n",
       "      <td>90.333333</td>\n",
       "      <td>87.666667</td>\n",
       "      <td>77.666667</td>\n",
       "    </tr>\n",
       "    <tr>\n",
       "      <th>std</th>\n",
       "      <td>13.203535</td>\n",
       "      <td>5.773503</td>\n",
       "      <td>3.511885</td>\n",
       "      <td>10.692677</td>\n",
       "      <td>11.015141</td>\n",
       "    </tr>\n",
       "    <tr>\n",
       "      <th>min</th>\n",
       "      <td>70.000000</td>\n",
       "      <td>90.000000</td>\n",
       "      <td>87.000000</td>\n",
       "      <td>81.000000</td>\n",
       "      <td>65.000000</td>\n",
       "    </tr>\n",
       "    <tr>\n",
       "      <th>25%</th>\n",
       "      <td>78.500000</td>\n",
       "      <td>95.000000</td>\n",
       "      <td>88.500000</td>\n",
       "      <td>81.500000</td>\n",
       "      <td>74.000000</td>\n",
       "    </tr>\n",
       "    <tr>\n",
       "      <th>50%</th>\n",
       "      <td>87.000000</td>\n",
       "      <td>100.000000</td>\n",
       "      <td>90.000000</td>\n",
       "      <td>82.000000</td>\n",
       "      <td>83.000000</td>\n",
       "    </tr>\n",
       "    <tr>\n",
       "      <th>75%</th>\n",
       "      <td>91.500000</td>\n",
       "      <td>100.000000</td>\n",
       "      <td>92.000000</td>\n",
       "      <td>91.000000</td>\n",
       "      <td>84.000000</td>\n",
       "    </tr>\n",
       "    <tr>\n",
       "      <th>max</th>\n",
       "      <td>96.000000</td>\n",
       "      <td>100.000000</td>\n",
       "      <td>94.000000</td>\n",
       "      <td>100.000000</td>\n",
       "      <td>85.000000</td>\n",
       "    </tr>\n",
       "  </tbody>\n",
       "</table>\n",
       "</div>"
      ],
      "text/plain": [
       "           Wally         Eva        Sam       Katie        Bob\n",
       "count   3.000000    3.000000   3.000000    3.000000   3.000000\n",
       "mean   84.333333   96.666667  90.333333   87.666667  77.666667\n",
       "std    13.203535    5.773503   3.511885   10.692677  11.015141\n",
       "min    70.000000   90.000000  87.000000   81.000000  65.000000\n",
       "25%    78.500000   95.000000  88.500000   81.500000  74.000000\n",
       "50%    87.000000  100.000000  90.000000   82.000000  83.000000\n",
       "75%    91.500000  100.000000  92.000000   91.000000  84.000000\n",
       "max    96.000000  100.000000  94.000000  100.000000  85.000000"
      ]
     },
     "execution_count": 25,
     "metadata": {},
     "output_type": "execute_result"
    }
   ],
   "source": [
    "grades.describe()"
   ]
  },
  {
   "cell_type": "markdown",
   "id": "a069d888",
   "metadata": {},
   "source": [
    "* Quick way to summarize your data\n",
    "* Nicely demonstrates the power of array-oriented programming with a clean, concise functional-style call\n",
    "* Can control the precision and other default settings with pandas’ **`set_option` function**"
   ]
  },
  {
   "cell_type": "code",
   "execution_count": 26,
   "id": "d3b2325c",
   "metadata": {},
   "outputs": [],
   "source": [
    "pd.set_option('precision', 2)"
   ]
  },
  {
   "cell_type": "code",
   "execution_count": 27,
   "id": "9adc3867",
   "metadata": {},
   "outputs": [
    {
     "data": {
      "text/html": [
       "<div>\n",
       "<style scoped>\n",
       "    .dataframe tbody tr th:only-of-type {\n",
       "        vertical-align: middle;\n",
       "    }\n",
       "\n",
       "    .dataframe tbody tr th {\n",
       "        vertical-align: top;\n",
       "    }\n",
       "\n",
       "    .dataframe thead th {\n",
       "        text-align: right;\n",
       "    }\n",
       "</style>\n",
       "<table border=\"1\" class=\"dataframe\">\n",
       "  <thead>\n",
       "    <tr style=\"text-align: right;\">\n",
       "      <th></th>\n",
       "      <th>Wally</th>\n",
       "      <th>Eva</th>\n",
       "      <th>Sam</th>\n",
       "      <th>Katie</th>\n",
       "      <th>Bob</th>\n",
       "    </tr>\n",
       "  </thead>\n",
       "  <tbody>\n",
       "    <tr>\n",
       "      <th>count</th>\n",
       "      <td>3.00</td>\n",
       "      <td>3.00</td>\n",
       "      <td>3.00</td>\n",
       "      <td>3.00</td>\n",
       "      <td>3.00</td>\n",
       "    </tr>\n",
       "    <tr>\n",
       "      <th>mean</th>\n",
       "      <td>84.33</td>\n",
       "      <td>96.67</td>\n",
       "      <td>90.33</td>\n",
       "      <td>87.67</td>\n",
       "      <td>77.67</td>\n",
       "    </tr>\n",
       "    <tr>\n",
       "      <th>std</th>\n",
       "      <td>13.20</td>\n",
       "      <td>5.77</td>\n",
       "      <td>3.51</td>\n",
       "      <td>10.69</td>\n",
       "      <td>11.02</td>\n",
       "    </tr>\n",
       "    <tr>\n",
       "      <th>min</th>\n",
       "      <td>70.00</td>\n",
       "      <td>90.00</td>\n",
       "      <td>87.00</td>\n",
       "      <td>81.00</td>\n",
       "      <td>65.00</td>\n",
       "    </tr>\n",
       "    <tr>\n",
       "      <th>25%</th>\n",
       "      <td>78.50</td>\n",
       "      <td>95.00</td>\n",
       "      <td>88.50</td>\n",
       "      <td>81.50</td>\n",
       "      <td>74.00</td>\n",
       "    </tr>\n",
       "    <tr>\n",
       "      <th>50%</th>\n",
       "      <td>87.00</td>\n",
       "      <td>100.00</td>\n",
       "      <td>90.00</td>\n",
       "      <td>82.00</td>\n",
       "      <td>83.00</td>\n",
       "    </tr>\n",
       "    <tr>\n",
       "      <th>75%</th>\n",
       "      <td>91.50</td>\n",
       "      <td>100.00</td>\n",
       "      <td>92.00</td>\n",
       "      <td>91.00</td>\n",
       "      <td>84.00</td>\n",
       "    </tr>\n",
       "    <tr>\n",
       "      <th>max</th>\n",
       "      <td>96.00</td>\n",
       "      <td>100.00</td>\n",
       "      <td>94.00</td>\n",
       "      <td>100.00</td>\n",
       "      <td>85.00</td>\n",
       "    </tr>\n",
       "  </tbody>\n",
       "</table>\n",
       "</div>"
      ],
      "text/plain": [
       "       Wally     Eva    Sam   Katie    Bob\n",
       "count   3.00    3.00   3.00    3.00   3.00\n",
       "mean   84.33   96.67  90.33   87.67  77.67\n",
       "std    13.20    5.77   3.51   10.69  11.02\n",
       "min    70.00   90.00  87.00   81.00  65.00\n",
       "25%    78.50   95.00  88.50   81.50  74.00\n",
       "50%    87.00  100.00  90.00   82.00  83.00\n",
       "75%    91.50  100.00  92.00   91.00  84.00\n",
       "max    96.00  100.00  94.00  100.00  85.00"
      ]
     },
     "execution_count": 27,
     "metadata": {},
     "output_type": "execute_result"
    }
   ],
   "source": [
    "grades.describe()"
   ]
  },
  {
   "cell_type": "markdown",
   "id": "26f8db22",
   "metadata": {},
   "source": [
    "* For student grades, the most important of these statistics is probably the mean\n",
    "* Can calculate that for each student simply by calling `mean` on the `DataFrame`"
   ]
  },
  {
   "cell_type": "code",
   "execution_count": 28,
   "id": "83dbd539",
   "metadata": {},
   "outputs": [
    {
     "data": {
      "text/plain": [
       "Wally    84.33\n",
       "Eva      96.67\n",
       "Sam      90.33\n",
       "Katie    87.67\n",
       "Bob      77.67\n",
       "dtype: float64"
      ]
     },
     "execution_count": 28,
     "metadata": {},
     "output_type": "execute_result"
    }
   ],
   "source": [
    "grades.mean()"
   ]
  },
  {
   "cell_type": "markdown",
   "id": "39575cfc",
   "metadata": {},
   "source": [
    "### Transposing the `DataFrame` with the `T` Attribute\n",
    "* Can quickly **transpose** rows and columns—so the rows become the columns, and the columns become the rows—by using the **`T` attribute** to get a view"
   ]
  },
  {
   "cell_type": "code",
   "execution_count": 29,
   "id": "c118208c",
   "metadata": {},
   "outputs": [
    {
     "data": {
      "text/html": [
       "<div>\n",
       "<style scoped>\n",
       "    .dataframe tbody tr th:only-of-type {\n",
       "        vertical-align: middle;\n",
       "    }\n",
       "\n",
       "    .dataframe tbody tr th {\n",
       "        vertical-align: top;\n",
       "    }\n",
       "\n",
       "    .dataframe thead th {\n",
       "        text-align: right;\n",
       "    }\n",
       "</style>\n",
       "<table border=\"1\" class=\"dataframe\">\n",
       "  <thead>\n",
       "    <tr style=\"text-align: right;\">\n",
       "      <th></th>\n",
       "      <th>Test1</th>\n",
       "      <th>Test2</th>\n",
       "      <th>Test3</th>\n",
       "    </tr>\n",
       "  </thead>\n",
       "  <tbody>\n",
       "    <tr>\n",
       "      <th>Wally</th>\n",
       "      <td>87</td>\n",
       "      <td>96</td>\n",
       "      <td>70</td>\n",
       "    </tr>\n",
       "    <tr>\n",
       "      <th>Eva</th>\n",
       "      <td>100</td>\n",
       "      <td>100</td>\n",
       "      <td>90</td>\n",
       "    </tr>\n",
       "    <tr>\n",
       "      <th>Sam</th>\n",
       "      <td>94</td>\n",
       "      <td>87</td>\n",
       "      <td>90</td>\n",
       "    </tr>\n",
       "    <tr>\n",
       "      <th>Katie</th>\n",
       "      <td>100</td>\n",
       "      <td>81</td>\n",
       "      <td>82</td>\n",
       "    </tr>\n",
       "    <tr>\n",
       "      <th>Bob</th>\n",
       "      <td>83</td>\n",
       "      <td>65</td>\n",
       "      <td>85</td>\n",
       "    </tr>\n",
       "  </tbody>\n",
       "</table>\n",
       "</div>"
      ],
      "text/plain": [
       "       Test1  Test2  Test3\n",
       "Wally     87     96     70\n",
       "Eva      100    100     90\n",
       "Sam       94     87     90\n",
       "Katie    100     81     82\n",
       "Bob       83     65     85"
      ]
     },
     "execution_count": 29,
     "metadata": {},
     "output_type": "execute_result"
    }
   ],
   "source": [
    "grades.T"
   ]
  },
  {
   "cell_type": "markdown",
   "id": "51fb453f",
   "metadata": {},
   "source": [
    "* Assume that rather than getting the summary statistics by student, you want to get them by test\n",
    "* Call `describe` on `grades.T`"
   ]
  },
  {
   "cell_type": "code",
   "execution_count": 30,
   "id": "e5580938",
   "metadata": {},
   "outputs": [
    {
     "data": {
      "text/html": [
       "<div>\n",
       "<style scoped>\n",
       "    .dataframe tbody tr th:only-of-type {\n",
       "        vertical-align: middle;\n",
       "    }\n",
       "\n",
       "    .dataframe tbody tr th {\n",
       "        vertical-align: top;\n",
       "    }\n",
       "\n",
       "    .dataframe thead th {\n",
       "        text-align: right;\n",
       "    }\n",
       "</style>\n",
       "<table border=\"1\" class=\"dataframe\">\n",
       "  <thead>\n",
       "    <tr style=\"text-align: right;\">\n",
       "      <th></th>\n",
       "      <th>Test1</th>\n",
       "      <th>Test2</th>\n",
       "      <th>Test3</th>\n",
       "    </tr>\n",
       "  </thead>\n",
       "  <tbody>\n",
       "    <tr>\n",
       "      <th>count</th>\n",
       "      <td>5.00</td>\n",
       "      <td>5.00</td>\n",
       "      <td>5.00</td>\n",
       "    </tr>\n",
       "    <tr>\n",
       "      <th>mean</th>\n",
       "      <td>92.80</td>\n",
       "      <td>85.80</td>\n",
       "      <td>83.40</td>\n",
       "    </tr>\n",
       "    <tr>\n",
       "      <th>std</th>\n",
       "      <td>7.66</td>\n",
       "      <td>13.81</td>\n",
       "      <td>8.23</td>\n",
       "    </tr>\n",
       "    <tr>\n",
       "      <th>min</th>\n",
       "      <td>83.00</td>\n",
       "      <td>65.00</td>\n",
       "      <td>70.00</td>\n",
       "    </tr>\n",
       "    <tr>\n",
       "      <th>25%</th>\n",
       "      <td>87.00</td>\n",
       "      <td>81.00</td>\n",
       "      <td>82.00</td>\n",
       "    </tr>\n",
       "    <tr>\n",
       "      <th>50%</th>\n",
       "      <td>94.00</td>\n",
       "      <td>87.00</td>\n",
       "      <td>85.00</td>\n",
       "    </tr>\n",
       "    <tr>\n",
       "      <th>75%</th>\n",
       "      <td>100.00</td>\n",
       "      <td>96.00</td>\n",
       "      <td>90.00</td>\n",
       "    </tr>\n",
       "    <tr>\n",
       "      <th>max</th>\n",
       "      <td>100.00</td>\n",
       "      <td>100.00</td>\n",
       "      <td>90.00</td>\n",
       "    </tr>\n",
       "  </tbody>\n",
       "</table>\n",
       "</div>"
      ],
      "text/plain": [
       "        Test1   Test2  Test3\n",
       "count    5.00    5.00   5.00\n",
       "mean    92.80   85.80  83.40\n",
       "std      7.66   13.81   8.23\n",
       "min     83.00   65.00  70.00\n",
       "25%     87.00   81.00  82.00\n",
       "50%     94.00   87.00  85.00\n",
       "75%    100.00   96.00  90.00\n",
       "max    100.00  100.00  90.00"
      ]
     },
     "execution_count": 30,
     "metadata": {},
     "output_type": "execute_result"
    }
   ],
   "source": [
    "grades.T.describe()"
   ]
  },
  {
   "cell_type": "markdown",
   "id": "43a823b9",
   "metadata": {},
   "source": [
    "* Get average of all the students’ grades on each test"
   ]
  },
  {
   "cell_type": "code",
   "execution_count": 31,
   "id": "5e90179d",
   "metadata": {},
   "outputs": [
    {
     "data": {
      "text/plain": [
       "Test1    92.8\n",
       "Test2    85.8\n",
       "Test3    83.4\n",
       "dtype: float64"
      ]
     },
     "execution_count": 31,
     "metadata": {},
     "output_type": "execute_result"
    }
   ],
   "source": [
    "grades.T.mean()"
   ]
  },
  {
   "cell_type": "markdown",
   "id": "a8d70b1d",
   "metadata": {},
   "source": [
    "### Sorting by Rows by Their Indices\n",
    "* Can sort a `DataFrame` by its rows or columns, based on their indices or values\n",
    "* Sort the rows by their _indices_ in _descending_ order using **`sort_index`** and its keyword argument `ascending=False` "
   ]
  },
  {
   "cell_type": "code",
   "execution_count": 32,
   "id": "3920be78",
   "metadata": {},
   "outputs": [
    {
     "data": {
      "text/html": [
       "<div>\n",
       "<style scoped>\n",
       "    .dataframe tbody tr th:only-of-type {\n",
       "        vertical-align: middle;\n",
       "    }\n",
       "\n",
       "    .dataframe tbody tr th {\n",
       "        vertical-align: top;\n",
       "    }\n",
       "\n",
       "    .dataframe thead th {\n",
       "        text-align: right;\n",
       "    }\n",
       "</style>\n",
       "<table border=\"1\" class=\"dataframe\">\n",
       "  <thead>\n",
       "    <tr style=\"text-align: right;\">\n",
       "      <th></th>\n",
       "      <th>Wally</th>\n",
       "      <th>Eva</th>\n",
       "      <th>Sam</th>\n",
       "      <th>Katie</th>\n",
       "      <th>Bob</th>\n",
       "    </tr>\n",
       "  </thead>\n",
       "  <tbody>\n",
       "    <tr>\n",
       "      <th>Test3</th>\n",
       "      <td>70</td>\n",
       "      <td>90</td>\n",
       "      <td>90</td>\n",
       "      <td>82</td>\n",
       "      <td>85</td>\n",
       "    </tr>\n",
       "    <tr>\n",
       "      <th>Test2</th>\n",
       "      <td>96</td>\n",
       "      <td>100</td>\n",
       "      <td>87</td>\n",
       "      <td>81</td>\n",
       "      <td>65</td>\n",
       "    </tr>\n",
       "    <tr>\n",
       "      <th>Test1</th>\n",
       "      <td>87</td>\n",
       "      <td>100</td>\n",
       "      <td>94</td>\n",
       "      <td>100</td>\n",
       "      <td>83</td>\n",
       "    </tr>\n",
       "  </tbody>\n",
       "</table>\n",
       "</div>"
      ],
      "text/plain": [
       "       Wally  Eva  Sam  Katie  Bob\n",
       "Test3     70   90   90     82   85\n",
       "Test2     96  100   87     81   65\n",
       "Test1     87  100   94    100   83"
      ]
     },
     "execution_count": 32,
     "metadata": {},
     "output_type": "execute_result"
    }
   ],
   "source": [
    "grades.sort_index(ascending=False)"
   ]
  },
  {
   "cell_type": "markdown",
   "id": "3a3bd213",
   "metadata": {},
   "source": [
    "### Sorting by Column Indices\n",
    "* Sort columns into ascending order (left-to-right) by their column names\n",
    "* **`axis=1` keyword argument** indicates that we wish to sort the _column_ indices, rather than the row indices\n",
    "    * `axis=0` (the default) sorts the _row_ indices"
   ]
  },
  {
   "cell_type": "code",
   "execution_count": 33,
   "id": "a188e153",
   "metadata": {},
   "outputs": [
    {
     "data": {
      "text/html": [
       "<div>\n",
       "<style scoped>\n",
       "    .dataframe tbody tr th:only-of-type {\n",
       "        vertical-align: middle;\n",
       "    }\n",
       "\n",
       "    .dataframe tbody tr th {\n",
       "        vertical-align: top;\n",
       "    }\n",
       "\n",
       "    .dataframe thead th {\n",
       "        text-align: right;\n",
       "    }\n",
       "</style>\n",
       "<table border=\"1\" class=\"dataframe\">\n",
       "  <thead>\n",
       "    <tr style=\"text-align: right;\">\n",
       "      <th></th>\n",
       "      <th>Bob</th>\n",
       "      <th>Eva</th>\n",
       "      <th>Katie</th>\n",
       "      <th>Sam</th>\n",
       "      <th>Wally</th>\n",
       "    </tr>\n",
       "  </thead>\n",
       "  <tbody>\n",
       "    <tr>\n",
       "      <th>Test1</th>\n",
       "      <td>83</td>\n",
       "      <td>100</td>\n",
       "      <td>100</td>\n",
       "      <td>94</td>\n",
       "      <td>87</td>\n",
       "    </tr>\n",
       "    <tr>\n",
       "      <th>Test2</th>\n",
       "      <td>65</td>\n",
       "      <td>100</td>\n",
       "      <td>81</td>\n",
       "      <td>87</td>\n",
       "      <td>96</td>\n",
       "    </tr>\n",
       "    <tr>\n",
       "      <th>Test3</th>\n",
       "      <td>85</td>\n",
       "      <td>90</td>\n",
       "      <td>82</td>\n",
       "      <td>90</td>\n",
       "      <td>70</td>\n",
       "    </tr>\n",
       "  </tbody>\n",
       "</table>\n",
       "</div>"
      ],
      "text/plain": [
       "       Bob  Eva  Katie  Sam  Wally\n",
       "Test1   83  100    100   94     87\n",
       "Test2   65  100     81   87     96\n",
       "Test3   85   90     82   90     70"
      ]
     },
     "execution_count": 33,
     "metadata": {},
     "output_type": "execute_result"
    }
   ],
   "source": [
    "grades.sort_index(axis=1)"
   ]
  },
  {
   "cell_type": "markdown",
   "id": "57670ac0",
   "metadata": {},
   "source": [
    "### Sorting by Column Values\n",
    "* To view `Test1`’s grades in descending order so we can see the students’ names in highest-to-lowest grade order, call method **`sort_values`**\n",
    "* `by` and `axis` arguments work together to determine which values will be sorted\n",
    "    * In this case, we sort based on the column values (`axis=1`) for `Test1`"
   ]
  },
  {
   "cell_type": "code",
   "execution_count": 34,
   "id": "8ab7f272",
   "metadata": {},
   "outputs": [
    {
     "data": {
      "text/html": [
       "<div>\n",
       "<style scoped>\n",
       "    .dataframe tbody tr th:only-of-type {\n",
       "        vertical-align: middle;\n",
       "    }\n",
       "\n",
       "    .dataframe tbody tr th {\n",
       "        vertical-align: top;\n",
       "    }\n",
       "\n",
       "    .dataframe thead th {\n",
       "        text-align: right;\n",
       "    }\n",
       "</style>\n",
       "<table border=\"1\" class=\"dataframe\">\n",
       "  <thead>\n",
       "    <tr style=\"text-align: right;\">\n",
       "      <th></th>\n",
       "      <th>Eva</th>\n",
       "      <th>Katie</th>\n",
       "      <th>Sam</th>\n",
       "      <th>Wally</th>\n",
       "      <th>Bob</th>\n",
       "    </tr>\n",
       "  </thead>\n",
       "  <tbody>\n",
       "    <tr>\n",
       "      <th>Test1</th>\n",
       "      <td>100</td>\n",
       "      <td>100</td>\n",
       "      <td>94</td>\n",
       "      <td>87</td>\n",
       "      <td>83</td>\n",
       "    </tr>\n",
       "    <tr>\n",
       "      <th>Test2</th>\n",
       "      <td>100</td>\n",
       "      <td>81</td>\n",
       "      <td>87</td>\n",
       "      <td>96</td>\n",
       "      <td>65</td>\n",
       "    </tr>\n",
       "    <tr>\n",
       "      <th>Test3</th>\n",
       "      <td>90</td>\n",
       "      <td>82</td>\n",
       "      <td>90</td>\n",
       "      <td>70</td>\n",
       "      <td>85</td>\n",
       "    </tr>\n",
       "  </tbody>\n",
       "</table>\n",
       "</div>"
      ],
      "text/plain": [
       "       Eva  Katie  Sam  Wally  Bob\n",
       "Test1  100    100   94     87   83\n",
       "Test2  100     81   87     96   65\n",
       "Test3   90     82   90     70   85"
      ]
     },
     "execution_count": 34,
     "metadata": {},
     "output_type": "execute_result"
    }
   ],
   "source": [
    "grades.sort_values(by='Test1', axis=1, ascending=False)"
   ]
  },
  {
   "cell_type": "markdown",
   "id": "f450719d",
   "metadata": {},
   "source": [
    "* Might be easier to read the grades and names if they were in a column\n",
    "* Sort the transposed `DataFrame` instead"
   ]
  },
  {
   "cell_type": "code",
   "execution_count": 35,
   "id": "cf5c933d",
   "metadata": {},
   "outputs": [
    {
     "data": {
      "text/html": [
       "<div>\n",
       "<style scoped>\n",
       "    .dataframe tbody tr th:only-of-type {\n",
       "        vertical-align: middle;\n",
       "    }\n",
       "\n",
       "    .dataframe tbody tr th {\n",
       "        vertical-align: top;\n",
       "    }\n",
       "\n",
       "    .dataframe thead th {\n",
       "        text-align: right;\n",
       "    }\n",
       "</style>\n",
       "<table border=\"1\" class=\"dataframe\">\n",
       "  <thead>\n",
       "    <tr style=\"text-align: right;\">\n",
       "      <th></th>\n",
       "      <th>Test1</th>\n",
       "      <th>Test2</th>\n",
       "      <th>Test3</th>\n",
       "    </tr>\n",
       "  </thead>\n",
       "  <tbody>\n",
       "    <tr>\n",
       "      <th>Eva</th>\n",
       "      <td>100</td>\n",
       "      <td>100</td>\n",
       "      <td>90</td>\n",
       "    </tr>\n",
       "    <tr>\n",
       "      <th>Katie</th>\n",
       "      <td>100</td>\n",
       "      <td>81</td>\n",
       "      <td>82</td>\n",
       "    </tr>\n",
       "    <tr>\n",
       "      <th>Sam</th>\n",
       "      <td>94</td>\n",
       "      <td>87</td>\n",
       "      <td>90</td>\n",
       "    </tr>\n",
       "    <tr>\n",
       "      <th>Wally</th>\n",
       "      <td>87</td>\n",
       "      <td>96</td>\n",
       "      <td>70</td>\n",
       "    </tr>\n",
       "    <tr>\n",
       "      <th>Bob</th>\n",
       "      <td>83</td>\n",
       "      <td>65</td>\n",
       "      <td>85</td>\n",
       "    </tr>\n",
       "  </tbody>\n",
       "</table>\n",
       "</div>"
      ],
      "text/plain": [
       "       Test1  Test2  Test3\n",
       "Eva      100    100     90\n",
       "Katie    100     81     82\n",
       "Sam       94     87     90\n",
       "Wally     87     96     70\n",
       "Bob       83     65     85"
      ]
     },
     "execution_count": 35,
     "metadata": {},
     "output_type": "execute_result"
    }
   ],
   "source": [
    "grades.T.sort_values(by='Test1', ascending=False)"
   ]
  },
  {
   "cell_type": "markdown",
   "id": "273df5a7",
   "metadata": {},
   "source": [
    "* Since we’re sorting only `Test1`’s grades, we might not want to see the other tests at all\n",
    "* Combine selection with sorting"
   ]
  },
  {
   "cell_type": "code",
   "execution_count": 36,
   "id": "9f28ed99",
   "metadata": {},
   "outputs": [
    {
     "data": {
      "text/plain": [
       "Katie    100\n",
       "Eva      100\n",
       "Sam       94\n",
       "Wally     87\n",
       "Bob       83\n",
       "Name: Test1, dtype: int64"
      ]
     },
     "execution_count": 36,
     "metadata": {},
     "output_type": "execute_result"
    }
   ],
   "source": [
    "grades.loc['Test1'].sort_values(ascending=False)"
   ]
  },
  {
   "cell_type": "markdown",
   "id": "93aaea0f",
   "metadata": {},
   "source": [
    "### Copy vs. In-Place Sorting\n",
    "* `sort_index` and `sort_values` return a _copy_ of the original `DataFrame`\n",
    "* Could require substantial memory in a big data application\n",
    "* Can sort _in place_ by passing the keyword argument `inplace=True` "
   ]
  },
  {
   "cell_type": "markdown",
   "id": "ada3a24f",
   "metadata": {},
   "source": [
    "# 7.17 Intro to Data Science: `pandas` Series and `DataFrames`\n",
    "* NumPy’s `array` is optimized for homogeneous numeric data that’s accessed via integer indices\n",
    "* Big data applications must support mixed data types, customized indexing, missing data, data that’s not structured consistently and data that needs to be manipulated into forms appropriate for the databases and data analysis packages you use\n",
    "* **Pandas** is the most popular library for dealing with such data\n",
    "* Two key collections \n",
    "    * **`Series`** for one-dimensional collections \n",
    "    * **`DataFrames`** for two-dimensional collections\n",
    "* NumPy and pandas are intimately related\n",
    "    * `Series` and `DataFrame`s use `array`s “under the hood” \n",
    "    * `Series` and `DataFrame`s are valid arguments to many NumPy operations\n",
    "    * `array`s are valid arguments to many `Series` and `DataFrame` operations"
   ]
  }
 ],
 "metadata": {
  "celltoolbar": "Slideshow",
  "kernelspec": {
   "display_name": "Python 3",
   "language": "python",
   "name": "python3"
  },
  "language_info": {
   "codemirror_mode": {
    "name": "ipython",
    "version": 3
   },
   "file_extension": ".py",
   "mimetype": "text/x-python",
   "name": "python",
   "nbconvert_exporter": "python",
   "pygments_lexer": "ipython3",
   "version": "3.8.3"
  }
 },
 "nbformat": 4,
 "nbformat_minor": 5
}
